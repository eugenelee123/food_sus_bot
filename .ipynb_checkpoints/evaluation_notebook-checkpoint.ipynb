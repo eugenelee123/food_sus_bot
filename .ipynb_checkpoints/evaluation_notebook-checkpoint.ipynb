{
 "cells": [
  {
   "cell_type": "markdown",
   "metadata": {},
   "source": [
    "## Evaluation Notebook"
   ]
  },
  {
   "cell_type": "code",
   "execution_count": 5,
   "metadata": {},
   "outputs": [
    {
     "name": "stdout",
     "output_type": "stream",
     "text": [
      "Requirement already satisfied: xlrd in /home/brandon/.local/lib/python3.8/site-packages (2.0.1)\r\n"
     ]
    }
   ],
   "source": [
    "!pip install xlrd\n"
   ]
  },
  {
   "cell_type": "code",
   "execution_count": 10,
   "metadata": {
    "scrolled": true
   },
   "outputs": [
    {
     "name": "stdout",
     "output_type": "stream",
     "text": [
      "['tok2vec', 'ner']\n"
     ]
    }
   ],
   "source": [
    "import pandas as pd\n",
    "from tqdm import tqdm\n",
    "import spacy\n",
    "from spacy.tokens import DocBin\n",
    "import re\n",
    "import os\n",
    "from spacy import displacy\n",
    "from sklearn import metrics\n",
    "from sklearn.metrics import plot_confusion_matrix\n",
    "\n",
    "\n",
    "\n",
    "FOODKEEPER_PATH = \"datasets/FoodKeeper-Data.xls\"\n",
    "TRAINING_DATA_PATH = \"datasets/data.csv\"\n",
    "MODEL_PATH = \"output/model-last\"\n",
    "TEST_DATA_PATH = \"datasets/test_data.csv\"\n",
    "\n",
    "#STARTING_KEYWORD_COUNT = 10\n",
    "#TRAINING_LOOP_ITERATIONS = 3\n",
    "#REQUIRED_KEYWORDS = 3\n",
    "\n",
    "pd.options.mode.chained_assignment = None\n",
    "\n",
    "nlp = spacy.load(MODEL_PATH)\n",
    "food_data = pd.read_excel(FOODKEEPER_PATH, sheet_name = \"Product\")\n",
    "training_data = pd.read_csv(TRAINING_DATA_PATH,index_col = False, header = None)\n",
    "test_data = pd.read_csv(TEST_DATA_PATH)\n",
    "\n",
    "#write a method to find the top x keywords in the dataset\n",
    "#loop through and count the specific entities\n",
    "keywords = [] #'chicken', 'milk', 'butter', 'cheese'\n",
    "sampleData = []\n",
    "\n",
    "\n",
    "    \n",
    "#update rank tweet to take the counter as a parameter and condense both rankings\n",
    "def rankTweet(tweet):\n",
    "    tweetKeywords = []\n",
    "    doc = nlp(tweet)\n",
    "    return len(doc.ents)\n",
    "       \n",
    "        \n",
    "    print(tweetKeywords)\n",
    "    \n",
    "def findNewKeywords(tweet, keywords):\n",
    "    foodkeeperKeys = foodKeeperInfo()\n",
    "    x = tweet.split()\n",
    "    word = \"\"\n",
    "    i = 0\n",
    "    while i < len(x):\n",
    "    #for i in range(len(x)):\n",
    "        z = 1\n",
    "        if x[i] in foodkeeperKeys:\n",
    "            word = x[i]\n",
    "        try:\n",
    "            foundBiWord = x[i] + \" \" + x[i+1]\n",
    "            if foundBiWord in keywords:\n",
    "                word = foundBiWord\n",
    "                z = 2\n",
    "        except:\n",
    "            pass\n",
    "        \n",
    "        try:\n",
    "            foundTriWord = x[i] + \" \" + x[i+1] + \" \" + x[i+2]\n",
    "            if foundTriWord in keywords:\n",
    "                word = foundTriWord\n",
    "                z = 3\n",
    "        except:\n",
    "            pass\n",
    "        i += z\n",
    "        \n",
    "        if word not in keywords and word != \"\":\n",
    "            keywords.append(word)\n",
    "    #print(keywords)\n",
    "    \n",
    "#def findInitialKeywords(data):\n",
    "\n",
    "\n",
    "    \n",
    "    \n",
    "    \n",
    "keywordRanker = {}   \n",
    "\n",
    "def convertToTrainingFormat(tweet, keywords):\n",
    "    \n",
    "    \n",
    "    x = tweet.split()\n",
    "    myEnts = {'entities':[]}\n",
    "    found = False\n",
    "    i = 0\n",
    "    while i < len(x):\n",
    "        z = 1\n",
    "        newWord = \"\"\n",
    "        if x[i] in keywords:\n",
    "            pos = tweet.find(x[i])\n",
    "            y = (pos, pos + len(x[i]), 'FOOD')\n",
    "            found = True\n",
    "        if x[i] in foodKeeperKeywordsTest:\n",
    "            newWord = x[i]\n",
    "            \n",
    "        try:\n",
    "            foundBiWord = x[i] + \" \" + x[i+1]\n",
    "            if foundBiWord in keywords:\n",
    "                pos = tweet.find(x[i])\n",
    "                y = (pos, pos + len(x[i])+len(x[i+1]) + 1, 'FOOD')\n",
    "                found = True\n",
    "                z = 2\n",
    "            if foundBiWord in foodKeeperKeywordsTest:\n",
    "                newWord = foundBiWord\n",
    "        except:\n",
    "            pass\n",
    "        try:\n",
    "            foundTriWord = x[i] + \" \" + x[i+1] + \" \" + x[i+2]\n",
    "            if foundTriWord in keywords:\n",
    "                pos = tweet.find(x[i])\n",
    "                y = (pos, pos + len(x[i])+len(x[i+1])+len(x[i+2]) + 2, 'FOOD')\n",
    "                found = True\n",
    "                z = 3\n",
    "            if foundTriWord in foodKeeperKeywordsTest:\n",
    "                newWord = foundTriWord\n",
    "        except:\n",
    "            pass\n",
    "        try:\n",
    "            if y not in myEnts['entities']:\n",
    "                myEnts['entities'].append(y) \n",
    "        except:\n",
    "            pass\n",
    "        \n",
    "        \n",
    "        if newWord != \"\" and newWord not in keywordRanker:\n",
    "            keywordRanker[newWord] = 1\n",
    "        elif newWord != \"\" and newWord in keywordRanker:\n",
    "            keywordRanker[newWord] += 1\n",
    "        #print(z)\n",
    "        i += z\n",
    "        #print(i)\n",
    "        \n",
    "        \n",
    "    formatted = (tweet, myEnts)\n",
    "    #print(formatted)\n",
    "    if found:\n",
    "        return formatted\n",
    "    else: return ()\n",
    "   \n",
    "    \n",
    "\n",
    "#print(convertToTrainingFormat('I like chicken and salsa', keywords))\n",
    "\n",
    "#print(food_data['Keywords'])\n",
    "\n",
    "def foodKeeperInfo():              \n",
    "    keywords = []\n",
    "    for word in food_data['Name']:\n",
    "        word = word.lstrip()\n",
    "        word = word.rstrip()\n",
    "\n",
    "        if word.lower() not in keywords: \n",
    "            keywords.append(word.lower())\n",
    "\n",
    "    #print(\"Total foodkeeper food names: \" + str(len(keywords)))        \n",
    "    #for element in sorted(keywords):\n",
    "        #print(element)\n",
    "        \n",
    "    return keywords\n",
    "\n",
    "foodKeeperKeywordsTest = foodKeeperInfo()\n",
    "\n",
    "\n",
    "def preProcess(tweet):\n",
    "    #Converts a tweet to lowercase, replaces anyusername w/ <USERNAME> and URLS with <URL>\n",
    "    tweet = tweet.lower()\n",
    "    tweet = re.sub('@[a-zA-z0-9]*', '<USERNAME>', tweet)\n",
    "    tweet = re.sub('https[a-zA-z0-9./:]*', '<URL>', tweet)\n",
    "    tweet = re.sub('[.,-]*', '', tweet)\n",
    "    \n",
    "    return tweet\n",
    "\n",
    "\n",
    "noEntity= []\n",
    "               \n",
    "           \n",
    "def trainModel(data):\n",
    "    \n",
    "    oldKeywords = []\n",
    "    newKeywords = []\n",
    "    \n",
    "    counter = 0\n",
    "    while counter < 5:\n",
    "        print(\"~~~~~~~~~~~~~~~~~\"+str(counter)+\"~~~~~~~~~~~~~~~~~\")\n",
    "        nlp = spacy.blank(\"en\") # load a new spacy model\n",
    "        db = DocBin() # create a DocBin object\n",
    "\n",
    "        myTweets = []\n",
    "        #Loop through all the tweets\n",
    "        #print(keywordRanker)\n",
    "        for i in range(len(data[0])):\n",
    "            \n",
    "            if counter == 1:\n",
    "                x = convertToTrainingFormat(preProcess(data[0][i]), keywords)\n",
    "                if x!= ():\n",
    "                    if len(x[1]['entities']) > 3:\n",
    "                        #print(\"Found tweet\", x[0])\n",
    "                        \n",
    "                        myTweets.append(x)  \n",
    "        \n",
    "            else:\n",
    "                #convert each tweet into spacy training format\n",
    "                x = convertToTrainingFormat(preProcess(data[0][i]), keywords)\n",
    "                if x != ():\n",
    "                    #print(len(x[1]['entities'])\n",
    "                    #check the ranking of the tweet\n",
    "                    if rankTweet(x[0]) > 3:\n",
    "                        #print(\"Checking rank...\")\n",
    "                        myTweets.append(x)\n",
    "\n",
    "                        \n",
    "        #Initialize the keywords\n",
    "        #print(\"\\n\\n\\nKeyword Ranker\\n\")\n",
    "        sortedKeywords =  sorted(keywordRanker, key=keywordRanker.get, reverse=True)\n",
    "        \n",
    "        #Chooses first 10 keywords to be used as basis for Snowball\n",
    "        if counter == 0: \n",
    "            for i in range(15):\n",
    "                keywords.append(sortedKeywords[i])\n",
    "            #print(sortedKeywords[i], keywordRanker[sortedKeywords[i]])\n",
    "                \n",
    "        if counter > 0:\n",
    "            for text, annot in tqdm(myTweets): # data in previous format\n",
    "                doc = nlp.make_doc(text) # create doc object from text\n",
    "                ents = []\n",
    "                for start, end, label in annot[\"entities\"]: # add character indexes\n",
    "                    span = doc.char_span(start, end, label=label, alignment_mode=\"contract\")\n",
    "                    if span is None:\n",
    "                        print(\"Skipping entity\")\n",
    "                    else:\n",
    "                        ents.append(span)\n",
    "                doc.ents = ents # label the text with the ents\n",
    "                db.add(doc)\n",
    "\n",
    "                db.to_disk(\"./train.spacy\") # save the docbin object\n",
    "\n",
    "            stream = os.popen('python3 -m spacy train config.cfg --output ./output --paths.train ./train.spacy --paths.dev ./train.spacy')\n",
    "            print(stream.read())\n",
    "            print(\"Total keywords: \", str(len(keywords)))\n",
    "            print(\"List of Keywords:\\n\\n\",keywords,\"\\n\\n\")\n",
    "            for element in myTweets:\n",
    "                findNewKeywords(element[0], keywords)\n",
    "\n",
    "            eval_model()\n",
    "            \n",
    "        \n",
    "\n",
    "        #for element in myTweets:\n",
    "            #findNewKeywords(element[0], keywords)\n",
    "\n",
    "        print(\"Total keywords: \", str(len(keywords)))\n",
    "        print(\"List of Keywords:\\n\\n\",keywords,\"\\n\\n\")\n",
    "        counter += 1\n",
    "        \n",
    "        \n",
    "        \n",
    "        \n",
    "        \n",
    "\n",
    "def information(data):\n",
    "    myData = {}\n",
    "    totalEnt=0\n",
    "    \n",
    "    for i in range(len(data[0])):\n",
    "        doc = nlp(preProcess(data[0][i]))\n",
    "        if len(doc.ents) == 0:\n",
    "            noEntity.append(preProcess(data[0][i]))\n",
    "            \n",
    "        #print(len(doc.ents))\n",
    "        if(len(doc.ents) == 4):\n",
    "            print(doc)\n",
    "            \n",
    "        for entity in doc.ents: \n",
    "        #print(entity.label_)\n",
    "            totalEnt+=1\n",
    "            if(entity.label_ == 'FOOD'):\n",
    "                if entity.text in myData:\n",
    "                    myData[entity.text] += 1\n",
    "                else:\n",
    "                    myData[entity.text] = 1\n",
    "                    \n",
    "    print(\"Number of entities found: \" + str(len(myData)))\n",
    "    print(totalEnt)\n",
    "    for i in sorted(myData, key = myData.get):\n",
    "        print(\"Entity: \" + i, \"Count: \" + str(myData[i]), \"Density: \" + str(format(myData[i]/totalEnt, '.2f')), end = \"\\n\")\n",
    "    \n",
    "    \n",
    "    return myData\n",
    "\n",
    "\n",
    "\n",
    "\n",
    "for i in range(len(test_data['tweet'])):\n",
    "    test_data['tweet'][i] = preProcess(test_data['tweet'][i])\n",
    "\n",
    "\n",
    "\n",
    "y = test_data['food'].tolist()\n",
    "print(nlp.pipe_names)\n",
    "    \n",
    "def ent_recognize(text):\n",
    "    doc = nlp(text)\n",
    "    displacy.render(doc,style = \"ent\")\n",
    "    \n",
    "def predict(tweet):\n",
    "    doc = nlp(str(tweet))\n",
    "    if doc.ents:\n",
    "        displacy.render(doc,style = \"ent\")\n",
    "\n",
    "def returnPrediction(tweet):\n",
    "    nlp = spacy.load(MODEL_PATH)\n",
    "    doc = nlp(str(tweet))\n",
    "    if doc.ents:\n",
    "        return 1\n",
    "    else:\n",
    "        return 0\n",
    "    \n",
    "def get_predictions():\n",
    "    predictions = []\n",
    "    for tweet in test_data['tweet'].tolist():\n",
    "        predictions.append(returnPrediction(tweet))\n",
    "    return predictions\n",
    "    \n",
    "def eval_model():\n",
    "    nlp = spacy.load(MODEL_PATH)\n",
    "    predictions = get_predictions()\n",
    "    print(metrics.confusion_matrix(y,predictions, labels = [1,0]))\n",
    "    print(metrics.classification_report(y,predictions, labels = [1,0]))\n",
    "    \n",
    "def show_tp():\n",
    "    counter = 0\n",
    "    tweets = test_data['tweet'].tolist()\n",
    "    predictions = get_predictions()\n",
    "    for i in range(len(y)):\n",
    "        if predictions[i] == 1 and y[i] == 1:\n",
    "            print(\"True positives:\", tweets[i], \"\\n\")\n",
    "            counter += 1\n",
    "    print(counter)\n",
    "    \n",
    "def show_tn():\n",
    "    counter = 0\n",
    "    predictions = get_predictions()\n",
    "    tweets = test_data['tweet'].tolist()\n",
    "    for i in range(len(y)):\n",
    "        if predictions[i] == 0 and y[i] == 0:\n",
    "            print(\"True Negative:\", tweets[i], \"\\n\")\n",
    "            counter += 1\n",
    "    print(counter)\n",
    "    \n",
    "def show_fn():\n",
    "    predictions = get_predictions()\n",
    "    tweets = test_data['tweet']\n",
    "    counter = 0\n",
    "    for i in range(len(y)):\n",
    "        if predictions[i] == 0 and y[i] == 1:\n",
    "            print(\"False Negative:\", tweets[i], \"\\n\")\n",
    "            counter += 1\n",
    "    print(counter)\n",
    "    \n",
    "def show_fp():\n",
    "    predictions = get_predictions()\n",
    "    tweets = test_data['tweet'].tolist()\n",
    "    for i in range(len(y)):\n",
    "        if predictions[i] == 1 and y[i] == 0:\n",
    "            print(\"False Positive:\")\n",
    "            doc = nlp(str(tweets[i]))\n",
    "            if doc.ents:\n",
    "                displacy.render(doc,style = \"ent\")"
   ]
  },
  {
   "cell_type": "markdown",
   "metadata": {},
   "source": [
    "## Use the function below to check individual sentences"
   ]
  },
  {
   "cell_type": "code",
   "execution_count": 3,
   "metadata": {},
   "outputs": [
    {
     "data": {
      "text/html": [
       "<span class=\"tex2jax_ignore\"><div class=\"entities\" style=\"line-height: 2.5; direction: ltr\">My \n",
       "<mark class=\"entity\" style=\"background: #ddd; padding: 0.45em 0.6em; margin: 0 0.25em; line-height: 1; border-radius: 0.35em;\">\n",
       "    chicken\n",
       "    <span style=\"font-size: 0.8em; font-weight: bold; line-height: 1; border-radius: 0.35em; vertical-align: middle; margin-left: 0.5rem\">FOOD</span>\n",
       "</mark>\n",
       " is tasty</div></span>"
      ],
      "text/plain": [
       "<IPython.core.display.HTML object>"
      ]
     },
     "metadata": {},
     "output_type": "display_data"
    }
   ],
   "source": [
    "ent_recognize(\"My chicken is tasty\")"
   ]
  },
  {
   "cell_type": "markdown",
   "metadata": {},
   "source": [
    "## Use the function below to check model performance on the entire test set"
   ]
  },
  {
   "cell_type": "code",
   "execution_count": 25,
   "metadata": {
    "scrolled": true
   },
   "outputs": [
    {
     "name": "stdout",
     "output_type": "stream",
     "text": [
      "[[ 0 44]\n",
      " [ 0 39]]\n",
      "              precision    recall  f1-score   support\n",
      "\n",
      "           1       0.00      0.00      0.00        44\n",
      "           0       0.47      1.00      0.64        39\n",
      "\n",
      "    accuracy                           0.47        83\n",
      "   macro avg       0.23      0.50      0.32        83\n",
      "weighted avg       0.22      0.47      0.30        83\n",
      "\n"
     ]
    },
    {
     "name": "stderr",
     "output_type": "stream",
     "text": [
      "/home/brandon/.local/lib/python3.8/site-packages/sklearn/metrics/_classification.py:1248: UndefinedMetricWarning: Precision and F-score are ill-defined and being set to 0.0 in labels with no predicted samples. Use `zero_division` parameter to control this behavior.\n",
      "  _warn_prf(average, modifier, msg_start, len(result))\n",
      "/home/brandon/.local/lib/python3.8/site-packages/sklearn/metrics/_classification.py:1248: UndefinedMetricWarning: Precision and F-score are ill-defined and being set to 0.0 in labels with no predicted samples. Use `zero_division` parameter to control this behavior.\n",
      "  _warn_prf(average, modifier, msg_start, len(result))\n",
      "/home/brandon/.local/lib/python3.8/site-packages/sklearn/metrics/_classification.py:1248: UndefinedMetricWarning: Precision and F-score are ill-defined and being set to 0.0 in labels with no predicted samples. Use `zero_division` parameter to control this behavior.\n",
      "  _warn_prf(average, modifier, msg_start, len(result))\n"
     ]
    }
   ],
   "source": [
    "eval_model()"
   ]
  },
  {
   "cell_type": "markdown",
   "metadata": {},
   "source": [
    "## Use the functions below to see TP, TN, FP, FN respectively"
   ]
  },
  {
   "cell_type": "code",
   "execution_count": 2,
   "metadata": {},
   "outputs": [],
   "source": [
    "# show_tp()\n",
    "# show_tn()\n",
    "# show_fp()\n",
    "#show_fn()"
   ]
  },
  {
   "cell_type": "code",
   "execution_count": 3,
   "metadata": {},
   "outputs": [],
   "source": [
    "#training_data.info()"
   ]
  },
  {
   "cell_type": "code",
   "execution_count": 4,
   "metadata": {
    "scrolled": true
   },
   "outputs": [
    {
     "ename": "KeyboardInterrupt",
     "evalue": "",
     "output_type": "error",
     "traceback": [
      "\u001b[0;31m---------------------------------------------------------------------------\u001b[0m",
      "\u001b[0;31mKeyboardInterrupt\u001b[0m                         Traceback (most recent call last)",
      "\u001b[0;32m<ipython-input-4-2716a7f28add>\u001b[0m in \u001b[0;36m<module>\u001b[0;34m\u001b[0m\n\u001b[0;32m----> 1\u001b[0;31m \u001b[0mmyTrainingdata\u001b[0m \u001b[0;34m=\u001b[0m \u001b[0minformation\u001b[0m\u001b[0;34m(\u001b[0m\u001b[0mtraining_data\u001b[0m\u001b[0;34m)\u001b[0m\u001b[0;34m\u001b[0m\u001b[0;34m\u001b[0m\u001b[0m\n\u001b[0m",
      "\u001b[0;32m<ipython-input-3-0ce7d2b2f97b>\u001b[0m in \u001b[0;36minformation\u001b[0;34m(data)\u001b[0m\n\u001b[1;32m    197\u001b[0m \u001b[0;34m\u001b[0m\u001b[0m\n\u001b[1;32m    198\u001b[0m     \u001b[0;32mfor\u001b[0m \u001b[0mi\u001b[0m \u001b[0;32min\u001b[0m \u001b[0mrange\u001b[0m\u001b[0;34m(\u001b[0m\u001b[0mlen\u001b[0m\u001b[0;34m(\u001b[0m\u001b[0mdata\u001b[0m\u001b[0;34m[\u001b[0m\u001b[0;36m0\u001b[0m\u001b[0;34m]\u001b[0m\u001b[0;34m)\u001b[0m\u001b[0;34m)\u001b[0m\u001b[0;34m:\u001b[0m\u001b[0;34m\u001b[0m\u001b[0;34m\u001b[0m\u001b[0m\n\u001b[0;32m--> 199\u001b[0;31m         \u001b[0mdoc\u001b[0m \u001b[0;34m=\u001b[0m \u001b[0mnlp\u001b[0m\u001b[0;34m(\u001b[0m\u001b[0mpreProcess\u001b[0m\u001b[0;34m(\u001b[0m\u001b[0mdata\u001b[0m\u001b[0;34m[\u001b[0m\u001b[0;36m0\u001b[0m\u001b[0;34m]\u001b[0m\u001b[0;34m[\u001b[0m\u001b[0mi\u001b[0m\u001b[0;34m]\u001b[0m\u001b[0;34m)\u001b[0m\u001b[0;34m)\u001b[0m\u001b[0;34m\u001b[0m\u001b[0;34m\u001b[0m\u001b[0m\n\u001b[0m\u001b[1;32m    200\u001b[0m         \u001b[0;32mif\u001b[0m \u001b[0mlen\u001b[0m\u001b[0;34m(\u001b[0m\u001b[0mdoc\u001b[0m\u001b[0;34m.\u001b[0m\u001b[0ments\u001b[0m\u001b[0;34m)\u001b[0m \u001b[0;34m==\u001b[0m \u001b[0;36m0\u001b[0m\u001b[0;34m:\u001b[0m\u001b[0;34m\u001b[0m\u001b[0;34m\u001b[0m\u001b[0m\n\u001b[1;32m    201\u001b[0m             \u001b[0mnoEntity\u001b[0m\u001b[0;34m.\u001b[0m\u001b[0mappend\u001b[0m\u001b[0;34m(\u001b[0m\u001b[0mpreProcess\u001b[0m\u001b[0;34m(\u001b[0m\u001b[0mdata\u001b[0m\u001b[0;34m[\u001b[0m\u001b[0;36m0\u001b[0m\u001b[0;34m]\u001b[0m\u001b[0;34m[\u001b[0m\u001b[0mi\u001b[0m\u001b[0;34m]\u001b[0m\u001b[0;34m)\u001b[0m\u001b[0;34m)\u001b[0m\u001b[0;34m\u001b[0m\u001b[0;34m\u001b[0m\u001b[0m\n",
      "\u001b[0;32m~/.local/lib/python3.8/site-packages/spacy/language.py\u001b[0m in \u001b[0;36m__call__\u001b[0;34m(self, text, disable, component_cfg)\u001b[0m\n\u001b[1;32m    981\u001b[0m         \u001b[0mDOCS\u001b[0m\u001b[0;34m:\u001b[0m \u001b[0mhttps\u001b[0m\u001b[0;34m:\u001b[0m\u001b[0;34m//\u001b[0m\u001b[0mspacy\u001b[0m\u001b[0;34m.\u001b[0m\u001b[0mio\u001b[0m\u001b[0;34m/\u001b[0m\u001b[0mapi\u001b[0m\u001b[0;34m/\u001b[0m\u001b[0mlanguage\u001b[0m\u001b[0;31m#call\u001b[0m\u001b[0;34m\u001b[0m\u001b[0;34m\u001b[0m\u001b[0m\n\u001b[1;32m    982\u001b[0m         \"\"\"\n\u001b[0;32m--> 983\u001b[0;31m         \u001b[0mdoc\u001b[0m \u001b[0;34m=\u001b[0m \u001b[0mself\u001b[0m\u001b[0;34m.\u001b[0m\u001b[0mmake_doc\u001b[0m\u001b[0;34m(\u001b[0m\u001b[0mtext\u001b[0m\u001b[0;34m)\u001b[0m\u001b[0;34m\u001b[0m\u001b[0;34m\u001b[0m\u001b[0m\n\u001b[0m\u001b[1;32m    984\u001b[0m         \u001b[0;32mif\u001b[0m \u001b[0mcomponent_cfg\u001b[0m \u001b[0;32mis\u001b[0m \u001b[0;32mNone\u001b[0m\u001b[0;34m:\u001b[0m\u001b[0;34m\u001b[0m\u001b[0;34m\u001b[0m\u001b[0m\n\u001b[1;32m    985\u001b[0m             \u001b[0mcomponent_cfg\u001b[0m \u001b[0;34m=\u001b[0m \u001b[0;34m{\u001b[0m\u001b[0;34m}\u001b[0m\u001b[0;34m\u001b[0m\u001b[0;34m\u001b[0m\u001b[0m\n",
      "\u001b[0;32m~/.local/lib/python3.8/site-packages/spacy/language.py\u001b[0m in \u001b[0;36mmake_doc\u001b[0;34m(self, text)\u001b[0m\n\u001b[1;32m   1063\u001b[0m                 \u001b[0mErrors\u001b[0m\u001b[0;34m.\u001b[0m\u001b[0mE088\u001b[0m\u001b[0;34m.\u001b[0m\u001b[0mformat\u001b[0m\u001b[0;34m(\u001b[0m\u001b[0mlength\u001b[0m\u001b[0;34m=\u001b[0m\u001b[0mlen\u001b[0m\u001b[0;34m(\u001b[0m\u001b[0mtext\u001b[0m\u001b[0;34m)\u001b[0m\u001b[0;34m,\u001b[0m \u001b[0mmax_length\u001b[0m\u001b[0;34m=\u001b[0m\u001b[0mself\u001b[0m\u001b[0;34m.\u001b[0m\u001b[0mmax_length\u001b[0m\u001b[0;34m)\u001b[0m\u001b[0;34m\u001b[0m\u001b[0;34m\u001b[0m\u001b[0m\n\u001b[1;32m   1064\u001b[0m             )\n\u001b[0;32m-> 1065\u001b[0;31m         \u001b[0;32mreturn\u001b[0m \u001b[0mself\u001b[0m\u001b[0;34m.\u001b[0m\u001b[0mtokenizer\u001b[0m\u001b[0;34m(\u001b[0m\u001b[0mtext\u001b[0m\u001b[0;34m)\u001b[0m\u001b[0;34m\u001b[0m\u001b[0;34m\u001b[0m\u001b[0m\n\u001b[0m\u001b[1;32m   1066\u001b[0m \u001b[0;34m\u001b[0m\u001b[0m\n\u001b[1;32m   1067\u001b[0m     def update(\n",
      "\u001b[0;32m~/.local/lib/python3.8/site-packages/spacy/tokenizer.pyx\u001b[0m in \u001b[0;36mspacy.tokenizer.Tokenizer.__call__\u001b[0;34m()\u001b[0m\n",
      "\u001b[0;32m~/.local/lib/python3.8/site-packages/spacy/tokenizer.pyx\u001b[0m in \u001b[0;36mspacy.tokenizer.Tokenizer._tokenize_affixes\u001b[0;34m()\u001b[0m\n",
      "\u001b[0;32m~/.local/lib/python3.8/site-packages/spacy/tokenizer.pyx\u001b[0m in \u001b[0;36mspacy.tokenizer.Tokenizer._tokenize\u001b[0;34m()\u001b[0m\n",
      "\u001b[0;32m~/.local/lib/python3.8/site-packages/spacy/tokenizer.pyx\u001b[0m in \u001b[0;36mspacy.tokenizer.Tokenizer._attach_tokens\u001b[0;34m()\u001b[0m\n",
      "\u001b[0;32m~/.local/lib/python3.8/site-packages/spacy/vocab.pyx\u001b[0m in \u001b[0;36mspacy.vocab.Vocab.get\u001b[0;34m()\u001b[0m\n",
      "\u001b[0;32m~/.local/lib/python3.8/site-packages/spacy/vocab.pyx\u001b[0m in \u001b[0;36mspacy.vocab.Vocab._new_lexeme\u001b[0;34m()\u001b[0m\n",
      "\u001b[0;32m~/.local/lib/python3.8/site-packages/spacy/lang/lex_attrs.py\u001b[0m in \u001b[0;36mlower\u001b[0;34m(string)\u001b[0m\n\u001b[1;32m    140\u001b[0m \u001b[0;34m\u001b[0m\u001b[0m\n\u001b[1;32m    141\u001b[0m \u001b[0;34m\u001b[0m\u001b[0m\n\u001b[0;32m--> 142\u001b[0;31m \u001b[0;32mdef\u001b[0m \u001b[0mlower\u001b[0m\u001b[0;34m(\u001b[0m\u001b[0mstring\u001b[0m\u001b[0;34m:\u001b[0m \u001b[0mstr\u001b[0m\u001b[0;34m)\u001b[0m \u001b[0;34m->\u001b[0m \u001b[0mstr\u001b[0m\u001b[0;34m:\u001b[0m\u001b[0;34m\u001b[0m\u001b[0;34m\u001b[0m\u001b[0m\n\u001b[0m\u001b[1;32m    143\u001b[0m     \u001b[0;32mreturn\u001b[0m \u001b[0mstring\u001b[0m\u001b[0;34m.\u001b[0m\u001b[0mlower\u001b[0m\u001b[0;34m(\u001b[0m\u001b[0;34m)\u001b[0m\u001b[0;34m\u001b[0m\u001b[0;34m\u001b[0m\u001b[0m\n\u001b[1;32m    144\u001b[0m \u001b[0;34m\u001b[0m\u001b[0m\n",
      "\u001b[0;31mKeyboardInterrupt\u001b[0m: "
     ]
    }
   ],
   "source": [
    "myTrainingdata = information(training_data)"
   ]
  },
  {
   "cell_type": "code",
   "execution_count": 246,
   "metadata": {
    "scrolled": true
   },
   "outputs": [
    {
     "name": "stdout",
     "output_type": "stream",
     "text": [
      "Number of Tweets where no entities were found:  12716 \n",
      "\n",
      "<USERNAME> billie is butter?\n",
      "\"the anasa life coco smooth body butter is soooo amazing. i got the yuce scent, which is light and citrusy. the texture is so soft, and not too heavy or oily. it's absolutely perfect. if you love natural, quality body products, get this...\" - arielle b.\n",
      "dairy. all dairy products, like milk, butter, yogurt, and cheese, must come from a kosher animal.\n",
      "<USERNAME> bread , butter and sugar !!!\n",
      "i use body butter. but, yes after every bath/shower! it’s so important to moisturize! <URL>\n",
      "<USERNAME> billie is butter?\n",
      "as the brand &amp; content lead of <USERNAME>, buzzfeed's black culture vertical, <USERNAME> aims to \"push the culture forward.\"  \"life is so short, so while i'm here, i'm going to disrupt some things, shake the table, and make my presence known.\" <URL>\n",
      "<USERNAME> like. butter bread\n",
      "<USERNAME> <USERNAME> <USERNAME> love that video!!!!! so does peanut butter!!!!!!\n",
      "<USERNAME> <USERNAME> <USERNAME> a bit coin can buy over 3x as much milk, butter, gas, etc. as it could just a few years ago.  not so for the usd.  so the dollar is more stable.\n"
     ]
    }
   ],
   "source": [
    "#Tweets where no entities were found\n",
    "print(\"Number of Tweets where no entities were found: \", len(noEntity), '\\n')\n",
    "\n",
    "for i in range(10):\n",
    "    print(noEntity[i])\n",
    "    "
   ]
  },
  {
   "cell_type": "code",
   "execution_count": 250,
   "metadata": {
    "scrolled": true
   },
   "outputs": [
    {
     "name": "stdout",
     "output_type": "stream",
     "text": [
      "Total foodkeeper food names: 466\n",
      "\"genuine\" maple syrup\n",
      "aioli\n",
      "almond butter\n",
      "almond extract\n",
      "almond milk\n",
      "almond oil\n",
      "almonds\n",
      "amaranth\n",
      "anchovies\n",
      "apple cider\n",
      "apple cider vinegar\n",
      "apple juice\n",
      "apples\n",
      "applesauce\n",
      "apricots\n",
      "artichokes, whole\n",
      "arugula\n",
      "asparagus\n",
      "avocado oil\n",
      "avocados\n",
      "baby carrots\n",
      "bacon\n",
      "bacon bits\n",
      "bacon grease\n",
      "bagel\n",
      "bagged greens\n",
      "baking powder\n",
      "baking soda\n",
      "balsamic vinegar\n",
      "bamboo shoots\n",
      "bananas\n",
      "barbecue sauce\n",
      "barley\n",
      "base\n",
      "basil\n",
      "bean sprouts\n",
      "beans\n",
      "beans and peas\n",
      "beef\n",
      "beef broth/stock/consommé\n",
      "beets\n",
      "berries\n",
      "biscuit or pancake mix\n",
      "biscuits\n",
      "bison\n",
      "black bean sauce\n",
      "black pepper\n",
      "blueberries\n",
      "bok choy\n",
      "bratwurst\n",
      "bread\n",
      "breadcrumbs\n",
      "broccoli and broccoli raab (rapini)\n",
      "broth\n",
      "brussels sprouts\n",
      "buckwheat\n",
      "bulgur\n",
      "butter\n",
      "butter flavor\n",
      "buttermilk\n",
      "cabbage\n",
      "cajun seasoning blend\n",
      "cake, brownie, bread mixes\n",
      "canadian bacon\n",
      "canned chicken\n",
      "canned goods\n",
      "canola oil\n",
      "cantaloupe\n",
      "capers\n",
      "capon\n",
      "carrot juice\n",
      "carrots, parsnips\n",
      "cashew butter\n",
      "cashews\n",
      "casseroles\n",
      "cauliflower\n",
      "caviar\n",
      "celery\n",
      "celery root\n",
      "cereal\n",
      "cereal or granola bars\n",
      "cereal, dry mixes\n",
      "cheese\n",
      "cheese curds\n",
      "cheesecake\n",
      "cherimoya\n",
      "cherries\n",
      "cherry tomatoes\n",
      "chia seeds\n",
      "chicken\n",
      "chicken broth/stock/consommé\n",
      "chicken nuggets, patties\n",
      "chicken parts\n",
      "chicken salad\n",
      "chiffon pies\n",
      "chili powder\n",
      "chives\n",
      "chocolate\n",
      "chocolate hazlenut spread\n",
      "chocolate syrup\n",
      "chorizo\n",
      "chutney\n",
      "cilantro\n",
      "cinnamon\n",
      "cinnamon extract\n",
      "cinnamon rolls\n",
      "citrus fruit\n",
      "cocoa and cocoa mixes\n",
      "coconut\n",
      "coconut cream\n",
      "coconut flavor\n",
      "coconut flour\n",
      "coconut milk\n",
      "coconut oil\n",
      "coconut water\n",
      "coconuts\n",
      "coffee\n",
      "coffee creamer\n",
      "coleslaw\n",
      "commercial brand vacuum-packed dinners\n",
      "commercial bread products\n",
      "commercial cakes and muffins\n",
      "cooked fish\n",
      "cooked pasta\n",
      "cooked poultry dishes\n",
      "cooked rice\n",
      "cooked shellfish\n",
      "cookie dough\n",
      "cookies\n",
      "cooking wine\n",
      "corn on the cob\n",
      "corn syrup\n",
      "corned beef\n",
      "cornish hens\n",
      "cornmeal\n",
      "cornstarch\n",
      "cottage cheese\n",
      "crab legs\n",
      "crab meat\n",
      "crackers\n",
      "cranberries\n",
      "cranberry sauce\n",
      "cream\n",
      "cream cheese\n",
      "cream liquors\n",
      "cream pies\n",
      "cream sauces, milk solids\n",
      "croutons\n",
      "cucumbers\n",
      "cumin\n",
      "dairy filled eclairs\n",
      "dates\n",
      "diet powder mixes and drink mixes\n",
      "dinners\n",
      "dips\n",
      "dough\n",
      "doughnuts\n",
      "dry egg noodles\n",
      "dry gravy mixes\n",
      "dry stuffing mix\n",
      "duck fat\n",
      "duckling\n",
      "edamame\n",
      "egg dishes\n",
      "egg salad\n",
      "egg substitutes\n",
      "eggnog\n",
      "eggplant\n",
      "eggs\n",
      "farro\n",
      "fatty fish\n",
      "fish\n",
      "flavored or herb mixes\n",
      "flaxseed\n",
      "flour\n",
      "formula\n",
      "fresh clams, mussels, oysters\n",
      "fresh lobster tails\n",
      "fresh pasta\n",
      "fresh whole lobster\n",
      "fried chicken\n",
      "frosting or icing\n",
      "frozen entrees\n",
      "frozen potato products\n",
      "frozen pretzels\n",
      "fruit\n",
      "fruit cake\n",
      "fruit cocktail\n",
      "fruit juice in cartons, fruit drinks, punch\n",
      "fruit pies\n",
      "fruit, cut\n",
      "fruits\n",
      "fruits, dried\n",
      "frying oil\n",
      "garam masala\n",
      "garlic\n",
      "garlic powder\n",
      "gelatin\n",
      "ghee\n",
      "giblets\n",
      "ginger root\n",
      "goat\n",
      "goose\n",
      "graham cracker/animal cracker\n",
      "granola\n",
      "grapes\n",
      "grapeseed oil\n",
      "gravy\n",
      "greens\n",
      "grits\n",
      "ground turkey or chicken\n",
      "guacamole\n",
      "guava\n",
      "gummy (fruit) snacks\n",
      "ham\n",
      "ham salad\n",
      "hard liquors\n",
      "herbs\n",
      "herring\n",
      "hoisin sauce\n",
      "honey\n",
      "honeydew\n",
      "horseradish\n",
      "hot dogs\n",
      "hot peppers\n",
      "hot sauce\n",
      "hummus\n",
      "ice cream\n",
      "ice pops\n",
      "instant breakfast drinks\n",
      "jams, jellies, and preserves\n",
      "jars or pouches\n",
      "jerky\n",
      "jicama\n",
      "juice concentrates\n",
      "juice, boxes\n",
      "kale\n",
      "kefir\n",
      "ketchup, cocktail, or chili sauce\n",
      "kimchi\n",
      "kiwi fruit\n",
      "kohlrabi\n",
      "kugel\n",
      "kumquats\n",
      "lamb\n",
      "lean fish\n",
      "leeks\n",
      "leftovers\n",
      "lemon extract\n",
      "lemon juice\n",
      "lemongrass\n",
      "lentils\n",
      "lettuce\n",
      "lime juice\n",
      "liquid concentrate or ready-to-feed formula\n",
      "live clams, mussels, crab, and oysters\n",
      "lobster tails\n",
      "luncheon meat or poultry\n",
      "macadamias\n",
      "macaroons\n",
      "main dishes or meals\n",
      "margarine\n",
      "marinades\n",
      "marinated vegetables\n",
      "marshmallow crème\n",
      "marshmallows\n",
      "mayonnaise\n",
      "meat products\n",
      "meats\n",
      "melons\n",
      "milk\n",
      "millet\n",
      "mint\n",
      "miso\n",
      "molasses\n",
      "muffin\n",
      "mung bean\n",
      "mushrooms\n",
      "mustard\n",
      "nacho cheese\n",
      "nectar\n",
      "nut oils\n",
      "nutmeg\n",
      "nutrition supplement drinks\n",
      "nuts\n",
      "oats\n",
      "oils\n",
      "okra\n",
      "olives\n",
      "onion powder\n",
      "onions\n",
      "orange juice\n",
      "oregano\n",
      "oyster sauce\n",
      "pancakes, waffles\n",
      "papaya, mango, feijoa, passionfruit, casaha melon\n",
      "parsley\n",
      "pasta\n",
      "pasta salad\n",
      "pastrami\n",
      "pastries, danish\n",
      "pate\n",
      "peaches, nectarines, plums, pears, sapote\n",
      "peanut butter\n",
      "peanuts\n",
      "peas\n",
      "pecans\n",
      "pectin\n",
      "peppers\n",
      "pesto\n",
      "pheasant\n",
      "pickles\n",
      "pie crust\n",
      "pies\n",
      "pimento cheese\n",
      "pine nuts\n",
      "pineapple\n",
      "pistachios\n",
      "pitaya/dragon fruit\n",
      "pizza\n",
      "plantains\n",
      "polenta\n",
      "pomegranate\n",
      "popcorn\n",
      "pork\n",
      "pork rinds\n",
      "pork roll\n",
      "potato chips\n",
      "potato salad\n",
      "potatoes\n",
      "poultry pieces\n",
      "powdered milk\n",
      "pretzels\n",
      "prickly pear\n",
      "prosciutto\n",
      "pudding\n",
      "pudding mixes\n",
      "puff pastry\n",
      "pumpkin seeds\n",
      "pumpkins\n",
      "pure vanilla extract\n",
      "quail\n",
      "quark\n",
      "quiche\n",
      "quinoa\n",
      "rabbit\n",
      "radicchio\n",
      "radishes\n",
      "raspberries\n",
      "raw kabobs with vegetables\n",
      "re-hydrated textured soy protein\n",
      "ready-to-bake pie crust\n",
      "red wine\n",
      "refried beans\n",
      "relish\n",
      "retort pouches or boxes\n",
      "rhubarb\n",
      "rice\n",
      "rice milk\n",
      "ricotta\n",
      "roasted nuts (peanuts, cashews, almonds)\n",
      "roasted red peppers\n",
      "rosemary\n",
      "rotisserie chicken\n",
      "rutabagas\n",
      "rye\n",
      "salad dressing\n",
      "salad dressings\n",
      "salami\n",
      "salsa\n",
      "salt\n",
      "sauce mixes\n",
      "sausage\n",
      "sausages\n",
      "scallops\n",
      "seafood\n",
      "seafood salads\n",
      "seasoning blends\n",
      "sesame oil\n",
      "sesame seeds\n",
      "sherbet, sorbet\n",
      "shortening\n",
      "shrimp, crayfish\n",
      "shrimp, shellfish\n",
      "shucked clams, mussels, and oysters\n",
      "soda\n",
      "sorghum\n",
      "soup mixes\n",
      "soup, stews\n",
      "sour cream\n",
      "soy crumbles and hot dogs\n",
      "soy flour\n",
      "soy meat substitutes\n",
      "soy milk\n",
      "soy or rice beverage\n",
      "soy sauce or teriyaki sauce\n",
      "spaghetti sauce\n",
      "spaghetti squash\n",
      "spelt\n",
      "spice/spices\n",
      "squash\n",
      "squid\n",
      "star fruit\n",
      "strawberries\n",
      "string cheese\n",
      "stuffed, raw chicken breasts\n",
      "stuffed, raw pork chops\n",
      "sugar\n",
      "sugar substitutes\n",
      "sun dried tomatoes\n",
      "sunflower oil\n",
      "sunflower seeds\n",
      "surimi seafood\n",
      "swiss chard\n",
      "syrup\n",
      "tahini\n",
      "tamarind\n",
      "tamarind paste\n",
      "tapenade\n",
      "tapiocas\n",
      "taro\n",
      "tea\n",
      "teff\n",
      "tempeh\n",
      "textured soy protein\n",
      "thai red curry paste\n",
      "thyme\n",
      "toaster pastries\n",
      "tofu\n",
      "tomato paste\n",
      "tomato sauce\n",
      "tomatoes\n",
      "tortillas\n",
      "tube cans\n",
      "tuna\n",
      "turducken\n",
      "turkey\n",
      "turkey bacon\n",
      "turkey parts\n",
      "turnips\n",
      "variety meats\n",
      "veal\n",
      "vegan cheddar cheese\n",
      "vegetable juice\n",
      "vegetable oil sprays\n",
      "vegetable soup\n",
      "vegetable stock/broth\n",
      "vegetables\n",
      "venison\n",
      "vinegar\n",
      "walnuts\n",
      "water\n",
      "watermelon\n",
      "whipped cream\n",
      "whipped topping\n",
      "white wine\n",
      "whole wheat bread\n",
      "whole wheat flour\n",
      "worcestershire sauce\n",
      "yams/sweet potatoes\n",
      "yeast\n",
      "yogurt\n",
      "yuca/cassava\n",
      "yuzu\n",
      "yuzu juice\n",
      "zucchini\n"
     ]
    }
   ],
   "source": [
    "foodkeeper = foodKeeperInfo()"
   ]
  },
  {
   "cell_type": "code",
   "execution_count": 254,
   "metadata": {
    "scrolled": true
   },
   "outputs": [
    {
     "name": "stdout",
     "output_type": "stream",
     "text": [
      "Training data entities:  409\n",
      "Foodkeeper entities:  466\n",
      "Union between foodkeeper and training data: 223\n",
      "Unique training data entities:  186\n",
      "Unique foodkeeper data entities:  243 \n",
      "\n",
      "~~~~~~~~~~~~Only Training~~~~~~~~~~~~\n",
      "0.15\n",
      "2.they\n",
      "4.99\n",
      "699,615,065,551\n",
      "abstract\n",
      "acai\n",
      "acerola\n",
      "activation\n",
      "adored\n",
      "agitating\n",
      "ahora\n",
      "alejandro\n",
      "algae\n",
      "alvarrez\n",
      "approached\n",
      "aslan\n",
      "athletes\n",
      "attracted\n",
      "azul\n",
      "bffs\n",
      "blues\n",
      "bootcamps\n",
      "braves\n",
      "brazils\n",
      "bulborb\n",
      "cafe\n",
      "calamagrostis\n",
      "cameron\n",
      "capricorn\n",
      "capsaicin\n",
      "carafe\n",
      "carbseedling\n",
      "cested\n",
      "chickenbreast\n",
      "chunibyo\n",
      "citeh\n",
      "clashes\n",
      "coconutsㅋㅋㅋ\n",
      "collapse\n",
      "commodified\n",
      "corn‼️\n",
      "coupled\n",
      "creamery\n",
      "cuddling\n",
      "curbside\n",
      "d175\n",
      "dalmunach\n",
      "dani\n",
      "decadent!⁣\n",
      "delusional\n",
      "derwin\n",
      "dinnerly\n",
      "doggos\n",
      "drains\n",
      "dram\n",
      "dranks\n",
      "driveable\n",
      "enrolled\n",
      "erika\n",
      "european\n",
      "exporters\n",
      "extent\n",
      "firewild\n",
      "frickin\n",
      "fuckn\n",
      "gals\n",
      "gasc\n",
      "glenbrook\n",
      "goddddddd\n",
      "goldening\n",
      "grained\n",
      "grann\n",
      "griswald\n",
      "gulf\n",
      "hachinohe\n",
      "hamin\n",
      "hank\n",
      "hauck\n",
      "helga\n",
      "hibby\n",
      "hocking\n",
      "howd\n",
      "iffco\n",
      "indians\n",
      "insects\n",
      "karedok\n",
      "kiddush\n",
      "kiita\n",
      "kirkby\n",
      "knabe\n",
      "krogan\n",
      "latino\n",
      "libya\n",
      "lindsay\n",
      "lure\n",
      "mach\n",
      "malnourished\n",
      "marathi\n",
      "matos\n",
      "mcfarlane\n",
      "melville\n",
      "mercadona\n",
      "miyuki\n",
      "montgomery\n",
      "monuments\n",
      "morphological\n",
      "mothballs\n",
      "murderous\n",
      "murgor\n",
      "nairobi\n",
      "nazis\n",
      "nebraska\n",
      "nicca\n",
      "nintendo\n",
      "odor\n",
      "orridge\n",
      "outsource\n",
      "overlook\n",
      "overtake\n",
      "parlour\n",
      "patreon\n",
      "patron\n",
      "patterns\n",
      "petite\n",
      "pharmacist\n",
      "plateful\n",
      "plead\n",
      "pleeeease\n",
      "polishes\n",
      "pretended\n",
      "psychopaths\n",
      "quests\n",
      "radiance\n",
      "ramsey\n",
      "ras\n",
      "reconstituted\n",
      "relleno\n",
      "remastered\n",
      "resume\n",
      "risottos\n",
      "rockpalast\n",
      "ronni\n",
      "roobee\n",
      "saag\n",
      "sally\n",
      "screening\n",
      "sculpt\n",
      "shadiyon\n",
      "sheikh\n",
      "shelters\n",
      "showcases\n",
      "skinning\n",
      "skippy\n",
      "slammed\n",
      "snort\n",
      "snub\n",
      "solitude\n",
      "stanton\n",
      "striker\n",
      "stutzle\n",
      "subdued\n",
      "svelte\n",
      "syahleka\n",
      "throwback\n",
      "toledo\n",
      "tonnes\n",
      "torah\n",
      "tournament\n",
      "trimmings\n",
      "trop\n",
      "twewy\n",
      "ummmmmm\n",
      "undead\n",
      "unexpected\n",
      "urged\n",
      "vardy\n",
      "vibrate\n",
      "victoria\n",
      "wales\n",
      "welby\n",
      "whitewater\n",
      "wholly\n",
      "woolfardisworthy\n",
      "فوغا\n",
      "↪\n",
      "ㅋㅋㅋㅋmother\n",
      "~~~~~~~~~~~~Only Foodkeeper~~~~~~~~~~~~\n",
      "\"genuine\" maple syrup\n",
      "almond butter\n",
      "almond extract\n",
      "almond milk\n",
      "almond oil\n",
      "almonds\n",
      "apple cider\n",
      "apple cider vinegar\n",
      "apple juice\n",
      "artichokes, whole\n",
      "avocado oil\n",
      "baby carrots\n",
      "bacon bits\n",
      "bacon grease\n",
      "bagged greens\n",
      "baking powder\n",
      "baking soda\n",
      "balsamic vinegar\n",
      "bamboo shoots\n",
      "barbecue sauce\n",
      "bean sprouts\n",
      "beans and peas\n",
      "beef broth/stock/consommé\n",
      "biscuit or pancake mix\n",
      "black bean sauce\n",
      "black pepper\n",
      "bok choy\n",
      "broccoli and broccoli raab (rapini)\n",
      "brussels sprouts\n",
      "butter flavor\n",
      "cajun seasoning blend\n",
      "cake, brownie, bread mixes\n",
      "canadian bacon\n",
      "canned chicken\n",
      "canned goods\n",
      "canola oil\n",
      "carrot juice\n",
      "carrots, parsnips\n",
      "cashew butter\n",
      "celery root\n",
      "cereal or granola bars\n",
      "cereal, dry mixes\n",
      "cheese curds\n",
      "cherry tomatoes\n",
      "chia seeds\n",
      "chicken broth/stock/consommé\n",
      "chicken nuggets, patties\n",
      "chicken parts\n",
      "chicken salad\n",
      "chiffon pies\n",
      "chili powder\n",
      "chocolate hazlenut spread\n",
      "chocolate syrup\n",
      "cinnamon extract\n",
      "cinnamon rolls\n",
      "citrus fruit\n",
      "cocoa and cocoa mixes\n",
      "coconut cream\n",
      "coconut flavor\n",
      "coconut flour\n",
      "coconut milk\n",
      "coconut oil\n",
      "coconut water\n",
      "coffee creamer\n",
      "commercial brand vacuum-packed dinners\n",
      "commercial bread products\n",
      "commercial cakes and muffins\n",
      "cooked fish\n",
      "cooked pasta\n",
      "cooked poultry dishes\n",
      "cooked rice\n",
      "cooked shellfish\n",
      "cookie dough\n",
      "cooking wine\n",
      "corn on the cob\n",
      "corn syrup\n",
      "corned beef\n",
      "cornish hens\n",
      "cottage cheese\n",
      "crab legs\n",
      "crab meat\n",
      "cranberry sauce\n",
      "cream cheese\n",
      "cream liquors\n",
      "cream pies\n",
      "cream sauces, milk solids\n",
      "dairy filled eclairs\n",
      "diet powder mixes and drink mixes\n",
      "dry egg noodles\n",
      "dry gravy mixes\n",
      "dry stuffing mix\n",
      "duck fat\n",
      "egg dishes\n",
      "egg salad\n",
      "egg substitutes\n",
      "fatty fish\n",
      "flavored or herb mixes\n",
      "fresh clams, mussels, oysters\n",
      "fresh lobster tails\n",
      "fresh pasta\n",
      "fresh whole lobster\n",
      "fried chicken\n",
      "frosting or icing\n",
      "frozen entrees\n",
      "frozen potato products\n",
      "frozen pretzels\n",
      "fruit cake\n",
      "fruit cocktail\n",
      "fruit juice in cartons, fruit drinks, punch\n",
      "fruit pies\n",
      "fruit, cut\n",
      "fruits, dried\n",
      "frying oil\n",
      "garam masala\n",
      "garlic powder\n",
      "ginger root\n",
      "graham cracker/animal cracker\n",
      "grapeseed oil\n",
      "ground turkey or chicken\n",
      "gummy (fruit) snacks\n",
      "ham salad\n",
      "hard liquors\n",
      "hoisin sauce\n",
      "hot dogs\n",
      "hot peppers\n",
      "hot sauce\n",
      "ice cream\n",
      "ice pops\n",
      "instant breakfast drinks\n",
      "jams, jellies, and preserves\n",
      "jars or pouches\n",
      "juice concentrates\n",
      "juice, boxes\n",
      "ketchup, cocktail, or chili sauce\n",
      "kiwi fruit\n",
      "lean fish\n",
      "lemon extract\n",
      "lemon juice\n",
      "lime juice\n",
      "liquid concentrate or ready-to-feed formula\n",
      "live clams, mussels, crab, and oysters\n",
      "lobster tails\n",
      "luncheon meat or poultry\n",
      "main dishes or meals\n",
      "marinated vegetables\n",
      "marshmallow crème\n",
      "meat products\n",
      "mung bean\n",
      "nacho cheese\n",
      "nut oils\n",
      "nutrition supplement drinks\n",
      "onion powder\n",
      "orange juice\n",
      "oyster sauce\n",
      "pancakes, waffles\n",
      "papaya, mango, feijoa, passionfruit, casaha melon\n",
      "pasta salad\n",
      "pastries, danish\n",
      "peaches, nectarines, plums, pears, sapote\n",
      "peanut butter\n",
      "pie crust\n",
      "pimento cheese\n",
      "pine nuts\n",
      "pitaya/dragon fruit\n",
      "pork rinds\n",
      "pork roll\n",
      "potato chips\n",
      "potato salad\n",
      "poultry pieces\n",
      "powdered milk\n",
      "prickly pear\n",
      "pudding mixes\n",
      "puff pastry\n",
      "pumpkin seeds\n",
      "pure vanilla extract\n",
      "raw kabobs with vegetables\n",
      "re-hydrated textured soy protein\n",
      "ready-to-bake pie crust\n",
      "red wine\n",
      "refried beans\n",
      "retort pouches or boxes\n",
      "rice milk\n",
      "roasted nuts (peanuts, cashews, almonds)\n",
      "roasted red peppers\n",
      "rotisserie chicken\n",
      "salad dressing\n",
      "salad dressings\n",
      "salami\n",
      "sauce mixes\n",
      "seafood salads\n",
      "seasoning blends\n",
      "sesame oil\n",
      "sesame seeds\n",
      "sherbet, sorbet\n",
      "shrimp, crayfish\n",
      "shrimp, shellfish\n",
      "shucked clams, mussels, and oysters\n",
      "soup mixes\n",
      "soup, stews\n",
      "sour cream\n",
      "soy crumbles and hot dogs\n",
      "soy flour\n",
      "soy meat substitutes\n",
      "soy milk\n",
      "soy or rice beverage\n",
      "soy sauce or teriyaki sauce\n",
      "spaghetti sauce\n",
      "spaghetti squash\n",
      "spice/spices\n",
      "star fruit\n",
      "string cheese\n",
      "stuffed, raw chicken breasts\n",
      "stuffed, raw pork chops\n",
      "sugar substitutes\n",
      "sun dried tomatoes\n",
      "sunflower oil\n",
      "sunflower seeds\n",
      "surimi seafood\n",
      "swiss chard\n",
      "tamarind paste\n",
      "textured soy protein\n",
      "thai red curry paste\n",
      "toaster pastries\n",
      "tomato paste\n",
      "tomato sauce\n",
      "tube cans\n",
      "turkey bacon\n",
      "turkey parts\n",
      "variety meats\n",
      "vegan cheddar cheese\n",
      "vegetable juice\n",
      "vegetable oil sprays\n",
      "vegetable soup\n",
      "vegetable stock/broth\n",
      "whipped cream\n",
      "whipped topping\n",
      "white wine\n",
      "whole wheat bread\n",
      "whole wheat flour\n",
      "worcestershire sauce\n",
      "yams/sweet potatoes\n",
      "yuca/cassava\n",
      "yuzu juice\n"
     ]
    }
   ],
   "source": [
    "##     Information about the different datasets\n",
    "x = list(myTrainingdata)\n",
    "\n",
    "print(\"Training data entities: \",len(x))\n",
    "print(\"Foodkeeper entities: \", len(foodkeeper))\n",
    "\n",
    "\n",
    "diff = list(set(x) & set(foodkeeper))\n",
    "print(\"Union between foodkeeper and training data: \" + str(len(diff)))\n",
    "#for elem in sorted(diff):\n",
    "    #print(elem)\n",
    "\n",
    "onlyTraining = list(set(x) - set(foodkeeper))\n",
    "onlyFoodkeeper = list(set(foodkeeper) - set(x))\n",
    "\n",
    "        \n",
    "print(\"Unique training data entities: \", len(onlyTraining))\n",
    "print(\"Unique foodkeeper data entities: \",len(onlyFoodkeeper), '\\n')\n",
    "\n",
    "print(\"~~~~~~~~~~~~Only Training~~~~~~~~~~~~\")\n",
    "for element in sorted(onlyTraining):\n",
    "    print(element)\n",
    "\n",
    "print(\"~~~~~~~~~~~~Only Foodkeeper~~~~~~~~~~~~\")\n",
    "for element in sorted(onlyFoodkeeper):\n",
    "    print(element)"
   ]
  },
  {
   "cell_type": "code",
   "execution_count": 11,
   "metadata": {
    "scrolled": true
   },
   "outputs": [
    {
     "name": "stdout",
     "output_type": "stream",
     "text": [
      "~~~~~~~~~~~~~~~~~0~~~~~~~~~~~~~~~~~\n",
      "Total keywords:  15\n",
      "List of Keywords:\n",
      "\n",
      " ['cheese', 'chicken', 'milk', 'butter', 'cream', 'fruit', 'rice', 'water', 'garlic', 'bread', 'sugar', 'salt', 'chocolate', 'fish', 'beef'] \n",
      "\n",
      "\n",
      "~~~~~~~~~~~~~~~~~1~~~~~~~~~~~~~~~~~\n"
     ]
    },
    {
     "name": "stderr",
     "output_type": "stream",
     "text": [
      " 35%|███▌      | 68/194 [00:00<00:00, 246.94it/s]"
     ]
    },
    {
     "name": "stdout",
     "output_type": "stream",
     "text": [
      "Skipping entity\n"
     ]
    },
    {
     "name": "stderr",
     "output_type": "stream",
     "text": [
      "\r",
      " 49%|████▉     | 95/194 [00:00<00:00, 182.76it/s]"
     ]
    },
    {
     "name": "stdout",
     "output_type": "stream",
     "text": [
      "Skipping entity\n"
     ]
    },
    {
     "name": "stderr",
     "output_type": "stream",
     "text": [
      " 90%|█████████ | 175/194 [00:01<00:00, 112.51it/s]"
     ]
    },
    {
     "name": "stdout",
     "output_type": "stream",
     "text": [
      "Skipping entity\n"
     ]
    },
    {
     "name": "stderr",
     "output_type": "stream",
     "text": [
      "100%|██████████| 194/194 [00:01<00:00, 128.10it/s]\n"
     ]
    },
    {
     "name": "stdout",
     "output_type": "stream",
     "text": [
      "\u001b[38;5;4mℹ Using CPU\u001b[0m\n",
      "\u001b[1m\n",
      "=========================== Initializing pipeline ===========================\u001b[0m\n",
      "\u001b[38;5;2m✔ Initialized pipeline\u001b[0m\n",
      "\u001b[1m\n",
      "============================= Training pipeline =============================\u001b[0m\n",
      "\u001b[38;5;4mℹ Pipeline: ['tok2vec', 'ner']\u001b[0m\n",
      "\u001b[38;5;4mℹ Initial learn rate: 0.001\u001b[0m\n",
      "E    #       LOSS TOK2VEC  LOSS NER  ENTS_F  ENTS_P  ENTS_R  SCORE \n",
      "---  ------  ------------  --------  ------  ------  ------  ------\n",
      "  0       0          0.00     19.33    0.00    0.00    0.00    0.00\n",
      "  1     200         83.37   1100.07   98.00   96.30   99.75    0.98\n",
      "  4     400        176.57    167.81   98.96   97.94  100.00    0.99\n",
      "  7     600        147.17     95.72   99.69   99.75   99.63    1.00\n",
      " 11     800        100.94     39.50   99.94   99.88  100.00    1.00\n",
      " 16    1000         72.74     18.93   99.88  100.00   99.75    1.00\n",
      " 22    1200        151.79     29.61  100.00  100.00  100.00    1.00\n",
      " 30    1400         43.80      9.50  100.00  100.00  100.00    1.00\n",
      " 39    1600         95.59     16.86   99.94   99.88  100.00    1.00\n",
      " 51    1800         59.30     12.03  100.00  100.00  100.00    1.00\n",
      " 65    2000         60.26     10.13  100.00  100.00  100.00    1.00\n",
      " 82    2200        185.73     29.96  100.00  100.00  100.00    1.00\n",
      "104    2400        186.87     25.89  100.00  100.00  100.00    1.00\n",
      "126    2600         89.57      9.44  100.00  100.00  100.00    1.00\n",
      "148    2800          0.00      0.00  100.00  100.00  100.00    1.00\n",
      "\u001b[38;5;2m✔ Saved pipeline to output directory\u001b[0m\n",
      "output/model-last\n",
      "\n",
      "Total keywords:  15\n",
      "List of Keywords:\n",
      "\n",
      " ['cheese', 'chicken', 'milk', 'butter', 'cream', 'fruit', 'rice', 'water', 'garlic', 'bread', 'sugar', 'salt', 'chocolate', 'fish', 'beef'] \n",
      "\n",
      "\n",
      "[[16 28]\n",
      " [ 3 36]]\n",
      "              precision    recall  f1-score   support\n",
      "\n",
      "           1       0.84      0.36      0.51        44\n",
      "           0       0.56      0.92      0.70        39\n",
      "\n",
      "    accuracy                           0.63        83\n",
      "   macro avg       0.70      0.64      0.60        83\n",
      "weighted avg       0.71      0.63      0.60        83\n",
      "\n",
      "Total keywords:  124\n",
      "List of Keywords:\n",
      "\n",
      " ['cheese', 'chicken', 'milk', 'butter', 'cream', 'fruit', 'rice', 'water', 'garlic', 'bread', 'sugar', 'salt', 'chocolate', 'fish', 'beef', 'yogurt', 'greens', 'granola', 'nuts', 'onions', 'apples', 'squash', 'soda', 'flour', 'buttermilk', 'potatoes', 'turkey', 'beans', 'bagel', 'pretzels', 'celery', 'margarine', 'pineapple', 'plantains', 'veal', 'mustard', 'rye', 'gravy', 'tuna', 'vegetables', 'eggs', 'crackers', 'dips', 'meats', 'bacon', 'pasta', 'pizza', 'avocados', 'pork', 'lentils', 'cauliflower', 'asparagus', 'almonds', 'honey', 'kimchi', 'herbs', 'dates', 'scallops', 'yuzu', 'syrup', 'molasses', 'yeast', 'cornmeal', 'vinegar', 'parsley', 'mushrooms', 'broth', 'peppers', 'oats', 'guava', 'coconut', 'cheesecake', 'cinnamon', 'muffin', 'pies', 'pickles', 'goat', 'lamb', 'seafood', 'olives', 'raspberries', 'cornstarch', 'grits', 'chives', 'tamarind', 'tomatoes', 'cumin', 'nutmeg', 'peas', 'bananas', 'okra', 'cabbage', 'basil', 'fruits', 'horseradish', 'lettuce', 'pesto', 'peanuts', 'ham', 'chutney', 'sausage', 'coffee', 'cereal', 'grapes', 'cashews', 'tea', 'pudding', 'walnuts', 'dough', 'thyme', 'mayonnaise', 'oregano', 'leftovers', 'strawberries', 'berries', 'coleslaw', 'cilantro', 'guacamole', 'ghee', 'spelt', 'salsa', 'biscuits', 'caviar', 'quail'] \n",
      "\n",
      "\n",
      "~~~~~~~~~~~~~~~~~2~~~~~~~~~~~~~~~~~\n"
     ]
    },
    {
     "name": "stderr",
     "output_type": "stream",
     "text": [
      "  1%|          | 40/3278 [00:00<00:08, 390.73it/s]"
     ]
    },
    {
     "name": "stdout",
     "output_type": "stream",
     "text": [
      "Skipping entity\n",
      "Skipping entity\n",
      "Skipping entity\n"
     ]
    },
    {
     "name": "stderr",
     "output_type": "stream",
     "text": [
      "  3%|▎         | 109/3278 [00:00<00:14, 222.29it/s]"
     ]
    },
    {
     "name": "stdout",
     "output_type": "stream",
     "text": [
      "Skipping entity\n",
      "Skipping entity\n"
     ]
    },
    {
     "name": "stderr",
     "output_type": "stream",
     "text": [
      "  5%|▍         | 153/3278 [00:00<00:19, 160.00it/s]"
     ]
    },
    {
     "name": "stdout",
     "output_type": "stream",
     "text": [
      "Skipping entity\n",
      "Skipping entity\n"
     ]
    },
    {
     "name": "stderr",
     "output_type": "stream",
     "text": [
      " 10%|▉         | 322/3278 [00:03<00:57, 51.46it/s] "
     ]
    },
    {
     "name": "stdout",
     "output_type": "stream",
     "text": [
      "Skipping entity\n"
     ]
    },
    {
     "name": "stderr",
     "output_type": "stream",
     "text": [
      " 10%|█         | 338/3278 [00:03<01:01, 47.69it/s]"
     ]
    },
    {
     "name": "stdout",
     "output_type": "stream",
     "text": [
      "Skipping entity\n"
     ]
    },
    {
     "name": "stderr",
     "output_type": "stream",
     "text": [
      " 11%|█         | 358/3278 [00:04<01:05, 44.42it/s]"
     ]
    },
    {
     "name": "stdout",
     "output_type": "stream",
     "text": [
      "Skipping entity\n"
     ]
    },
    {
     "name": "stderr",
     "output_type": "stream",
     "text": [
      " 12%|█▏        | 383/3278 [00:04<01:09, 41.87it/s]"
     ]
    },
    {
     "name": "stdout",
     "output_type": "stream",
     "text": [
      "Skipping entity\n",
      "Skipping entity\n"
     ]
    },
    {
     "name": "stderr",
     "output_type": "stream",
     "text": [
      " 12%|█▏        | 398/3278 [00:05<01:11, 40.12it/s]"
     ]
    },
    {
     "name": "stdout",
     "output_type": "stream",
     "text": [
      "Skipping entity\n",
      "Skipping entity\n"
     ]
    },
    {
     "name": "stderr",
     "output_type": "stream",
     "text": [
      " 13%|█▎        | 415/3278 [00:05<01:14, 38.65it/s]"
     ]
    },
    {
     "name": "stdout",
     "output_type": "stream",
     "text": [
      "Skipping entity\n"
     ]
    },
    {
     "name": "stderr",
     "output_type": "stream",
     "text": [
      " 13%|█▎        | 427/3278 [00:05<01:17, 36.97it/s]"
     ]
    },
    {
     "name": "stdout",
     "output_type": "stream",
     "text": [
      "Skipping entity\n"
     ]
    },
    {
     "name": "stderr",
     "output_type": "stream",
     "text": [
      " 14%|█▍        | 475/3278 [00:07<01:20, 34.61it/s]"
     ]
    },
    {
     "name": "stdout",
     "output_type": "stream",
     "text": [
      "Skipping entity\n"
     ]
    },
    {
     "name": "stderr",
     "output_type": "stream",
     "text": [
      " 15%|█▍        | 487/3278 [00:07<01:24, 32.97it/s]"
     ]
    },
    {
     "name": "stdout",
     "output_type": "stream",
     "text": [
      "Skipping entity\n"
     ]
    },
    {
     "name": "stderr",
     "output_type": "stream",
     "text": [
      " 16%|█▌        | 515/3278 [00:08<01:24, 32.57it/s]"
     ]
    },
    {
     "name": "stdout",
     "output_type": "stream",
     "text": [
      "Skipping entity\n"
     ]
    },
    {
     "name": "stderr",
     "output_type": "stream",
     "text": [
      " 17%|█▋        | 570/3278 [00:10<01:35, 28.29it/s]"
     ]
    },
    {
     "name": "stdout",
     "output_type": "stream",
     "text": [
      "Skipping entity\n"
     ]
    },
    {
     "name": "stderr",
     "output_type": "stream",
     "text": [
      " 20%|█▉        | 654/3278 [00:13<01:44, 25.12it/s]"
     ]
    },
    {
     "name": "stdout",
     "output_type": "stream",
     "text": [
      "Skipping entity\n",
      "Skipping entity\n"
     ]
    },
    {
     "name": "stderr",
     "output_type": "stream",
     "text": [
      " 20%|██        | 663/3278 [00:14<01:45, 24.82it/s]"
     ]
    },
    {
     "name": "stdout",
     "output_type": "stream",
     "text": [
      "Skipping entity\n",
      "Skipping entity\n"
     ]
    },
    {
     "name": "stderr",
     "output_type": "stream",
     "text": [
      " 21%|██        | 696/3278 [00:15<01:47, 23.99it/s]"
     ]
    },
    {
     "name": "stdout",
     "output_type": "stream",
     "text": [
      "Skipping entity\n",
      "Skipping entity\n"
     ]
    },
    {
     "name": "stderr",
     "output_type": "stream",
     "text": [
      " 22%|██▏       | 705/3278 [00:15<01:52, 22.85it/s]"
     ]
    },
    {
     "name": "stdout",
     "output_type": "stream",
     "text": [
      "Skipping entity\n"
     ]
    },
    {
     "name": "stderr",
     "output_type": "stream",
     "text": [
      " 22%|██▏       | 720/3278 [00:16<01:50, 23.21it/s]"
     ]
    },
    {
     "name": "stdout",
     "output_type": "stream",
     "text": [
      "Skipping entity\n",
      "Skipping entity\n"
     ]
    },
    {
     "name": "stderr",
     "output_type": "stream",
     "text": [
      " 23%|██▎       | 744/3278 [00:17<01:56, 21.70it/s]"
     ]
    },
    {
     "name": "stdout",
     "output_type": "stream",
     "text": [
      "Skipping entity\n",
      "Skipping entity\n"
     ]
    },
    {
     "name": "stderr",
     "output_type": "stream",
     "text": [
      " 24%|██▎       | 771/3278 [00:18<01:53, 22.13it/s]"
     ]
    },
    {
     "name": "stdout",
     "output_type": "stream",
     "text": [
      "Skipping entity\n",
      "Skipping entity\n"
     ]
    },
    {
     "name": "stderr",
     "output_type": "stream",
     "text": [
      " 24%|██▍       | 786/3278 [00:19<01:53, 22.02it/s]"
     ]
    },
    {
     "name": "stdout",
     "output_type": "stream",
     "text": [
      "Skipping entity\n"
     ]
    },
    {
     "name": "stderr",
     "output_type": "stream",
     "text": [
      " 25%|██▍       | 804/3278 [00:20<01:55, 21.49it/s]"
     ]
    },
    {
     "name": "stdout",
     "output_type": "stream",
     "text": [
      "Skipping entity\n"
     ]
    },
    {
     "name": "stderr",
     "output_type": "stream",
     "text": [
      " 27%|██▋       | 888/3278 [00:24<01:53, 21.10it/s]"
     ]
    },
    {
     "name": "stdout",
     "output_type": "stream",
     "text": [
      "Skipping entity\n"
     ]
    },
    {
     "name": "stderr",
     "output_type": "stream",
     "text": [
      " 30%|██▉       | 972/3278 [00:28<02:11, 17.58it/s]"
     ]
    },
    {
     "name": "stdout",
     "output_type": "stream",
     "text": [
      "Skipping entity\n"
     ]
    },
    {
     "name": "stderr",
     "output_type": "stream",
     "text": [
      " 31%|███       | 1002/3278 [00:30<02:13, 17.04it/s]"
     ]
    },
    {
     "name": "stdout",
     "output_type": "stream",
     "text": [
      "Skipping entity\n",
      "Skipping entity\n"
     ]
    },
    {
     "name": "stderr",
     "output_type": "stream",
     "text": [
      " 32%|███▏      | 1036/3278 [00:32<02:17, 16.29it/s]"
     ]
    },
    {
     "name": "stdout",
     "output_type": "stream",
     "text": [
      "Skipping entity\n"
     ]
    },
    {
     "name": "stderr",
     "output_type": "stream",
     "text": [
      " 32%|███▏      | 1042/3278 [00:33<02:24, 15.53it/s]"
     ]
    },
    {
     "name": "stdout",
     "output_type": "stream",
     "text": [
      "Skipping entity\n"
     ]
    },
    {
     "name": "stderr",
     "output_type": "stream",
     "text": [
      " 33%|███▎      | 1096/3278 [00:36<02:11, 16.60it/s]"
     ]
    },
    {
     "name": "stdout",
     "output_type": "stream",
     "text": [
      "Skipping entity\n"
     ]
    },
    {
     "name": "stderr",
     "output_type": "stream",
     "text": [
      " 35%|███▍      | 1140/3278 [00:39<02:13, 15.98it/s]"
     ]
    },
    {
     "name": "stdout",
     "output_type": "stream",
     "text": [
      "Skipping entity\n",
      "Skipping entity\n"
     ]
    },
    {
     "name": "stderr",
     "output_type": "stream",
     "text": [
      " 35%|███▌      | 1148/3278 [00:39<02:16, 15.64it/s]"
     ]
    },
    {
     "name": "stdout",
     "output_type": "stream",
     "text": [
      "Skipping entity\n"
     ]
    },
    {
     "name": "stderr",
     "output_type": "stream",
     "text": [
      " 35%|███▌      | 1160/3278 [00:40<02:17, 15.36it/s]"
     ]
    },
    {
     "name": "stdout",
     "output_type": "stream",
     "text": [
      "Skipping entity\n",
      "Skipping entity\n"
     ]
    },
    {
     "name": "stderr",
     "output_type": "stream",
     "text": [
      " 36%|███▌      | 1168/3278 [00:41<02:31, 13.94it/s]"
     ]
    },
    {
     "name": "stdout",
     "output_type": "stream",
     "text": [
      "Skipping entity\n",
      "Skipping entity\n"
     ]
    },
    {
     "name": "stderr",
     "output_type": "stream",
     "text": [
      " 36%|███▌      | 1188/3278 [00:42<02:25, 14.38it/s]"
     ]
    },
    {
     "name": "stdout",
     "output_type": "stream",
     "text": [
      "Skipping entity\n"
     ]
    },
    {
     "name": "stderr",
     "output_type": "stream",
     "text": [
      " 39%|███▊      | 1264/3278 [00:47<02:18, 14.52it/s]"
     ]
    },
    {
     "name": "stdout",
     "output_type": "stream",
     "text": [
      "Skipping entity\n"
     ]
    },
    {
     "name": "stderr",
     "output_type": "stream",
     "text": [
      " 39%|███▉      | 1280/3278 [00:48<02:24, 13.85it/s]"
     ]
    },
    {
     "name": "stdout",
     "output_type": "stream",
     "text": [
      "Skipping entity\n"
     ]
    },
    {
     "name": "stderr",
     "output_type": "stream",
     "text": [
      " 39%|███▉      | 1284/3278 [00:49<02:26, 13.64it/s]"
     ]
    },
    {
     "name": "stdout",
     "output_type": "stream",
     "text": [
      "Skipping entity\n",
      "Skipping entity\n"
     ]
    },
    {
     "name": "stderr",
     "output_type": "stream",
     "text": [
      " 40%|████      | 1316/3278 [00:51<02:18, 14.16it/s]"
     ]
    },
    {
     "name": "stdout",
     "output_type": "stream",
     "text": [
      "Skipping entity\n"
     ]
    },
    {
     "name": "stderr",
     "output_type": "stream",
     "text": [
      " 43%|████▎     | 1412/3278 [00:58<02:19, 13.39it/s]"
     ]
    },
    {
     "name": "stdout",
     "output_type": "stream",
     "text": [
      "Skipping entity\n"
     ]
    },
    {
     "name": "stderr",
     "output_type": "stream",
     "text": [
      " 44%|████▍     | 1450/3278 [01:01<02:24, 12.67it/s]"
     ]
    },
    {
     "name": "stdout",
     "output_type": "stream",
     "text": [
      "Skipping entity\n"
     ]
    },
    {
     "name": "stderr",
     "output_type": "stream",
     "text": [
      " 45%|████▌     | 1480/3278 [01:04<02:27, 12.18it/s]"
     ]
    },
    {
     "name": "stdout",
     "output_type": "stream",
     "text": [
      "Skipping entity\n"
     ]
    },
    {
     "name": "stderr",
     "output_type": "stream",
     "text": [
      " 45%|████▌     | 1490/3278 [01:04<02:22, 12.57it/s]"
     ]
    },
    {
     "name": "stdout",
     "output_type": "stream",
     "text": [
      "Skipping entity\n"
     ]
    },
    {
     "name": "stderr",
     "output_type": "stream",
     "text": [
      " 47%|████▋     | 1526/3278 [01:07<02:20, 12.50it/s]"
     ]
    },
    {
     "name": "stdout",
     "output_type": "stream",
     "text": [
      "Skipping entity\n"
     ]
    },
    {
     "name": "stderr",
     "output_type": "stream",
     "text": [
      " 47%|████▋     | 1550/3278 [01:09<02:17, 12.57it/s]"
     ]
    },
    {
     "name": "stdout",
     "output_type": "stream",
     "text": [
      "Skipping entity\n"
     ]
    },
    {
     "name": "stderr",
     "output_type": "stream",
     "text": [
      " 51%|█████     | 1678/3278 [01:20<02:22, 11.25it/s]"
     ]
    },
    {
     "name": "stdout",
     "output_type": "stream",
     "text": [
      "Skipping entity\n"
     ]
    },
    {
     "name": "stderr",
     "output_type": "stream",
     "text": [
      " 51%|█████▏    | 1684/3278 [01:21<02:22, 11.19it/s]"
     ]
    },
    {
     "name": "stdout",
     "output_type": "stream",
     "text": [
      "Skipping entity\n"
     ]
    },
    {
     "name": "stderr",
     "output_type": "stream",
     "text": [
      " 52%|█████▏    | 1710/3278 [01:23<02:14, 11.67it/s]"
     ]
    },
    {
     "name": "stdout",
     "output_type": "stream",
     "text": [
      "Skipping entity\n",
      "Skipping entity\n"
     ]
    },
    {
     "name": "stderr",
     "output_type": "stream",
     "text": [
      " 52%|█████▏    | 1714/3278 [01:23<02:18, 11.26it/s]"
     ]
    },
    {
     "name": "stdout",
     "output_type": "stream",
     "text": [
      "Skipping entity\n"
     ]
    },
    {
     "name": "stderr",
     "output_type": "stream",
     "text": [
      " 56%|█████▌    | 1822/3278 [01:33<02:14, 10.86it/s]"
     ]
    },
    {
     "name": "stdout",
     "output_type": "stream",
     "text": [
      "Skipping entity\n"
     ]
    },
    {
     "name": "stderr",
     "output_type": "stream",
     "text": [
      " 57%|█████▋    | 1870/3278 [01:38<02:10, 10.83it/s]"
     ]
    },
    {
     "name": "stdout",
     "output_type": "stream",
     "text": [
      "Skipping entity\n"
     ]
    },
    {
     "name": "stderr",
     "output_type": "stream",
     "text": [
      " 57%|█████▋    | 1874/3278 [01:38<02:12, 10.61it/s]"
     ]
    },
    {
     "name": "stdout",
     "output_type": "stream",
     "text": [
      "Skipping entity\n"
     ]
    },
    {
     "name": "stderr",
     "output_type": "stream",
     "text": [
      " 58%|█████▊    | 1916/3278 [01:42<02:26,  9.29it/s]"
     ]
    },
    {
     "name": "stdout",
     "output_type": "stream",
     "text": [
      "Skipping entity\n"
     ]
    },
    {
     "name": "stderr",
     "output_type": "stream",
     "text": [
      " 60%|█████▉    | 1958/3278 [01:47<02:24,  9.13it/s]"
     ]
    },
    {
     "name": "stdout",
     "output_type": "stream",
     "text": [
      "Skipping entity\n",
      "Skipping entity\n"
     ]
    },
    {
     "name": "stderr",
     "output_type": "stream",
     "text": [
      " 61%|██████    | 1991/3278 [01:51<02:22,  9.01it/s]"
     ]
    },
    {
     "name": "stdout",
     "output_type": "stream",
     "text": [
      "Skipping entity\n"
     ]
    },
    {
     "name": "stderr",
     "output_type": "stream",
     "text": [
      " 61%|██████    | 1996/3278 [01:51<02:28,  8.61it/s]"
     ]
    },
    {
     "name": "stdout",
     "output_type": "stream",
     "text": [
      "Skipping entity\n"
     ]
    },
    {
     "name": "stderr",
     "output_type": "stream",
     "text": [
      " 61%|██████    | 1998/3278 [01:52<02:40,  7.96it/s]"
     ]
    },
    {
     "name": "stdout",
     "output_type": "stream",
     "text": [
      "Skipping entity\n"
     ]
    },
    {
     "name": "stderr",
     "output_type": "stream",
     "text": [
      " 61%|██████    | 2000/3278 [01:52<02:37,  8.10it/s]"
     ]
    },
    {
     "name": "stdout",
     "output_type": "stream",
     "text": [
      "Skipping entity\n",
      "Skipping entity\n"
     ]
    },
    {
     "name": "stderr",
     "output_type": "stream",
     "text": [
      " 62%|██████▏   | 2034/3278 [01:56<02:22,  8.73it/s]"
     ]
    },
    {
     "name": "stdout",
     "output_type": "stream",
     "text": [
      "Skipping entity\n"
     ]
    },
    {
     "name": "stderr",
     "output_type": "stream",
     "text": [
      " 64%|██████▍   | 2091/3278 [02:03<02:32,  7.80it/s]"
     ]
    },
    {
     "name": "stdout",
     "output_type": "stream",
     "text": [
      "Skipping entity\n"
     ]
    },
    {
     "name": "stderr",
     "output_type": "stream",
     "text": [
      " 66%|██████▌   | 2148/3278 [02:10<02:17,  8.24it/s]"
     ]
    },
    {
     "name": "stdout",
     "output_type": "stream",
     "text": [
      "Skipping entity\n"
     ]
    },
    {
     "name": "stderr",
     "output_type": "stream",
     "text": [
      " 69%|██████▉   | 2264/3278 [02:24<02:11,  7.72it/s]"
     ]
    },
    {
     "name": "stdout",
     "output_type": "stream",
     "text": [
      "Skipping entity\n"
     ]
    },
    {
     "name": "stderr",
     "output_type": "stream",
     "text": [
      " 69%|██████▉   | 2268/3278 [02:25<02:13,  7.58it/s]"
     ]
    },
    {
     "name": "stdout",
     "output_type": "stream",
     "text": [
      "Skipping entity\n"
     ]
    },
    {
     "name": "stderr",
     "output_type": "stream",
     "text": [
      " 69%|██████▉   | 2270/3278 [02:25<02:15,  7.45it/s]"
     ]
    },
    {
     "name": "stdout",
     "output_type": "stream",
     "text": [
      "Skipping entity\n"
     ]
    },
    {
     "name": "stderr",
     "output_type": "stream",
     "text": [
      " 71%|███████   | 2329/3278 [02:33<02:06,  7.52it/s]"
     ]
    },
    {
     "name": "stdout",
     "output_type": "stream",
     "text": [
      "Skipping entity\n"
     ]
    },
    {
     "name": "stderr",
     "output_type": "stream",
     "text": [
      " 74%|███████▍  | 2431/3278 [02:46<01:56,  7.25it/s]"
     ]
    },
    {
     "name": "stdout",
     "output_type": "stream",
     "text": [
      "Skipping entity\n"
     ]
    },
    {
     "name": "stderr",
     "output_type": "stream",
     "text": [
      " 74%|███████▍  | 2434/3278 [02:47<01:57,  7.15it/s]"
     ]
    },
    {
     "name": "stdout",
     "output_type": "stream",
     "text": [
      "Skipping entity\n"
     ]
    },
    {
     "name": "stderr",
     "output_type": "stream",
     "text": [
      " 75%|███████▍  | 2454/3278 [02:49<01:54,  7.17it/s]"
     ]
    },
    {
     "name": "stdout",
     "output_type": "stream",
     "text": [
      "Skipping entity\n"
     ]
    },
    {
     "name": "stderr",
     "output_type": "stream",
     "text": [
      " 76%|███████▌  | 2482/3278 [02:53<01:47,  7.37it/s]"
     ]
    },
    {
     "name": "stdout",
     "output_type": "stream",
     "text": [
      "Skipping entity\n"
     ]
    },
    {
     "name": "stderr",
     "output_type": "stream",
     "text": [
      " 79%|███████▉  | 2597/3278 [03:10<01:42,  6.65it/s]"
     ]
    },
    {
     "name": "stdout",
     "output_type": "stream",
     "text": [
      "Skipping entity\n"
     ]
    },
    {
     "name": "stderr",
     "output_type": "stream",
     "text": [
      " 80%|███████▉  | 2611/3278 [03:12<01:36,  6.93it/s]"
     ]
    },
    {
     "name": "stdout",
     "output_type": "stream",
     "text": [
      "Skipping entity\n"
     ]
    },
    {
     "name": "stderr",
     "output_type": "stream",
     "text": [
      " 82%|████████▏ | 2697/3278 [03:24<01:23,  6.93it/s]"
     ]
    },
    {
     "name": "stdout",
     "output_type": "stream",
     "text": [
      "Skipping entity\n"
     ]
    },
    {
     "name": "stderr",
     "output_type": "stream",
     "text": [
      " 83%|████████▎ | 2710/3278 [03:26<01:21,  6.97it/s]"
     ]
    },
    {
     "name": "stdout",
     "output_type": "stream",
     "text": [
      "Skipping entity\n"
     ]
    },
    {
     "name": "stderr",
     "output_type": "stream",
     "text": [
      " 83%|████████▎ | 2733/3278 [03:30<01:23,  6.55it/s]"
     ]
    },
    {
     "name": "stdout",
     "output_type": "stream",
     "text": [
      "Skipping entity\n"
     ]
    },
    {
     "name": "stderr",
     "output_type": "stream",
     "text": [
      " 84%|████████▍ | 2764/3278 [03:34<01:15,  6.83it/s]"
     ]
    },
    {
     "name": "stdout",
     "output_type": "stream",
     "text": [
      "Skipping entity\n"
     ]
    },
    {
     "name": "stderr",
     "output_type": "stream",
     "text": [
      " 85%|████████▍ | 2770/3278 [03:35<01:17,  6.52it/s]"
     ]
    },
    {
     "name": "stdout",
     "output_type": "stream",
     "text": [
      "Skipping entity\n"
     ]
    },
    {
     "name": "stderr",
     "output_type": "stream",
     "text": [
      " 87%|████████▋ | 2848/3278 [03:48<01:08,  6.29it/s]"
     ]
    },
    {
     "name": "stdout",
     "output_type": "stream",
     "text": [
      "Skipping entity\n"
     ]
    },
    {
     "name": "stderr",
     "output_type": "stream",
     "text": [
      " 88%|████████▊ | 2884/3278 [03:53<01:02,  6.35it/s]"
     ]
    },
    {
     "name": "stdout",
     "output_type": "stream",
     "text": [
      "Skipping entity\n"
     ]
    },
    {
     "name": "stderr",
     "output_type": "stream",
     "text": [
      " 89%|████████▉ | 2931/3278 [04:01<00:53,  6.50it/s]"
     ]
    },
    {
     "name": "stdout",
     "output_type": "stream",
     "text": [
      "Skipping entity\n"
     ]
    },
    {
     "name": "stderr",
     "output_type": "stream",
     "text": [
      " 90%|█████████ | 2960/3278 [04:05<00:49,  6.39it/s]"
     ]
    },
    {
     "name": "stdout",
     "output_type": "stream",
     "text": [
      "Skipping entity\n"
     ]
    },
    {
     "name": "stderr",
     "output_type": "stream",
     "text": [
      " 91%|█████████ | 2982/3278 [04:09<00:47,  6.22it/s]"
     ]
    },
    {
     "name": "stdout",
     "output_type": "stream",
     "text": [
      "Skipping entity\n"
     ]
    },
    {
     "name": "stderr",
     "output_type": "stream",
     "text": [
      " 92%|█████████▏| 3016/3278 [04:14<00:41,  6.26it/s]"
     ]
    },
    {
     "name": "stdout",
     "output_type": "stream",
     "text": [
      "Skipping entity\n"
     ]
    },
    {
     "name": "stderr",
     "output_type": "stream",
     "text": [
      " 92%|█████████▏| 3024/3278 [04:15<00:41,  6.06it/s]"
     ]
    },
    {
     "name": "stdout",
     "output_type": "stream",
     "text": [
      "Skipping entity\n"
     ]
    },
    {
     "name": "stderr",
     "output_type": "stream",
     "text": [
      " 93%|█████████▎| 3052/3278 [04:20<00:36,  6.11it/s]"
     ]
    },
    {
     "name": "stdout",
     "output_type": "stream",
     "text": [
      "Skipping entity\n"
     ]
    },
    {
     "name": "stderr",
     "output_type": "stream",
     "text": [
      " 97%|█████████▋| 3175/3278 [04:41<00:16,  6.08it/s]"
     ]
    },
    {
     "name": "stdout",
     "output_type": "stream",
     "text": [
      "Skipping entity\n"
     ]
    },
    {
     "name": "stderr",
     "output_type": "stream",
     "text": [
      " 98%|█████████▊| 3197/3278 [04:44<00:13,  6.02it/s]"
     ]
    },
    {
     "name": "stdout",
     "output_type": "stream",
     "text": [
      "Skipping entity\n"
     ]
    },
    {
     "name": "stderr",
     "output_type": "stream",
     "text": [
      " 98%|█████████▊| 3206/3278 [04:46<00:12,  5.90it/s]"
     ]
    },
    {
     "name": "stdout",
     "output_type": "stream",
     "text": [
      "Skipping entity\n"
     ]
    },
    {
     "name": "stderr",
     "output_type": "stream",
     "text": [
      " 98%|█████████▊| 3226/3278 [04:49<00:08,  6.08it/s]"
     ]
    },
    {
     "name": "stdout",
     "output_type": "stream",
     "text": [
      "Skipping entity\n"
     ]
    },
    {
     "name": "stderr",
     "output_type": "stream",
     "text": [
      " 99%|█████████▊| 3232/3278 [04:50<00:07,  5.99it/s]"
     ]
    },
    {
     "name": "stdout",
     "output_type": "stream",
     "text": [
      "Skipping entity\n"
     ]
    },
    {
     "name": "stderr",
     "output_type": "stream",
     "text": [
      " 99%|█████████▉| 3245/3278 [04:52<00:05,  6.05it/s]"
     ]
    },
    {
     "name": "stdout",
     "output_type": "stream",
     "text": [
      "Skipping entity\n"
     ]
    },
    {
     "name": "stderr",
     "output_type": "stream",
     "text": [
      " 99%|█████████▉| 3252/3278 [04:54<00:04,  6.05it/s]"
     ]
    },
    {
     "name": "stdout",
     "output_type": "stream",
     "text": [
      "Skipping entity\n"
     ]
    },
    {
     "name": "stderr",
     "output_type": "stream",
     "text": [
      " 99%|█████████▉| 3257/3278 [04:54<00:03,  5.91it/s]"
     ]
    },
    {
     "name": "stdout",
     "output_type": "stream",
     "text": [
      "Skipping entity\n"
     ]
    },
    {
     "name": "stderr",
     "output_type": "stream",
     "text": [
      "100%|█████████▉| 3268/3278 [04:56<00:01,  5.99it/s]"
     ]
    },
    {
     "name": "stdout",
     "output_type": "stream",
     "text": [
      "Skipping entity\n"
     ]
    },
    {
     "name": "stderr",
     "output_type": "stream",
     "text": [
      "100%|██████████| 3278/3278 [04:58<00:00, 10.98it/s]\n"
     ]
    },
    {
     "name": "stdout",
     "output_type": "stream",
     "text": [
      "\u001b[38;5;4mℹ Using CPU\u001b[0m\n",
      "\u001b[1m\n",
      "=========================== Initializing pipeline ===========================\u001b[0m\n",
      "\u001b[38;5;2m✔ Initialized pipeline\u001b[0m\n",
      "\u001b[1m\n",
      "============================= Training pipeline =============================\u001b[0m\n",
      "\u001b[38;5;4mℹ Pipeline: ['tok2vec', 'ner']\u001b[0m\n",
      "\u001b[38;5;4mℹ Initial learn rate: 0.001\u001b[0m\n",
      "E    #       LOSS TOK2VEC  LOSS NER  ENTS_F  ENTS_P  ENTS_R  SCORE \n",
      "---  ------  ------------  --------  ------  ------  ------  ------\n",
      "  0       0          0.00     33.33    0.00    0.00    0.00    0.00\n",
      "  0     200         63.78   1785.77   89.02   81.44   98.16    0.89\n",
      "  0     400         35.29    828.90   91.05   84.68   98.46    0.91\n",
      "  0     600         27.20    891.96   91.46   84.56   99.59    0.91\n",
      "  0     800         26.52   1112.65   91.53   89.44   93.72    0.92\n",
      "  1    1000         29.86   1162.02   92.41   91.09   93.78    0.92\n",
      "  1    1200         36.27   1242.11   93.98   89.55   98.88    0.94\n",
      "  1    1400         50.34   1485.02   94.86   91.34   98.66    0.95\n",
      "  2    1600         72.61   1431.16   96.31   95.09   97.55    0.96\n",
      "  3    1800         81.36   1419.67   97.23   95.96   98.53    0.97\n",
      "  4    2000        113.99   1460.30   98.01   97.61   98.41    0.98\n",
      "  5    2200        169.05   1333.88   98.56   97.94   99.20    0.99\n",
      "  6    2400        193.98   1205.60   98.99   98.68   99.29    0.99\n",
      "  8    2600        231.88    979.51   99.44   99.41   99.47    0.99\n",
      "  9    2800        269.94    753.54   99.39   98.97   99.81    0.99\n",
      " 11    3000        240.33    666.37   99.62   99.54   99.69    1.00\n",
      " 12    3200        290.15    523.69   99.61   99.47   99.75    1.00\n",
      " 13    3400        317.81    544.96   99.73   99.59   99.86    1.00\n",
      " 15    3600        300.71    446.17   99.79   99.66   99.91    1.00\n",
      " 16    3800        319.92    380.40   99.79   99.74   99.83    1.00\n",
      " 18    4000        371.52    370.68   99.83   99.80   99.85    1.00\n",
      " 19    4200        426.55    347.01   99.83   99.73   99.94    1.00\n",
      " 20    4400        398.91    340.02   99.87   99.86   99.87    1.00\n",
      " 22    4600        417.71    285.11   99.80   99.72   99.89    1.00\n",
      " 23    4800        481.13    302.25   99.82   99.98   99.66    1.00\n",
      " 25    5000        457.14    281.37   99.83   99.80   99.86    1.00\n",
      " 26    5200        518.36    286.25   99.90   99.86   99.94    1.00\n",
      " 27    5400        567.13    261.44   99.87   99.84   99.90    1.00\n",
      " 29    5600        481.30    249.27   99.81   99.67   99.95    1.00\n",
      " 30    5800        593.82    254.25   99.89   99.86   99.92    1.00\n",
      " 32    6000        506.08    226.51   99.86   99.82   99.90    1.00\n",
      " 33    6200        667.01    282.01   99.90   99.84   99.96    1.00\n",
      " 34    6400        615.78    180.42   99.93   99.97   99.89    1.00\n",
      " 36    6600        673.95    230.60   99.89   99.93   99.85    1.00\n",
      " 37    6800        658.53    203.21   99.85   99.77   99.92    1.00\n",
      " 39    7000        670.74    230.24   99.93   99.97   99.89    1.00\n",
      " 40    7200        613.81    198.59   99.90   99.86   99.94    1.00\n",
      " 42    7400        731.07    179.06   99.85   99.75   99.95    1.00\n",
      " 43    7600        730.60    201.24   99.88   99.80   99.95    1.00\n",
      " 44    7800        704.01    225.86   99.92   99.92   99.93    1.00\n",
      " 46    8000        645.53    148.32   99.85   99.75   99.95    1.00\n",
      "\u001b[38;5;2m✔ Saved pipeline to output directory\u001b[0m\n",
      "output/model-last\n",
      "\n",
      "Total keywords:  124\n",
      "List of Keywords:\n",
      "\n",
      " ['cheese', 'chicken', 'milk', 'butter', 'cream', 'fruit', 'rice', 'water', 'garlic', 'bread', 'sugar', 'salt', 'chocolate', 'fish', 'beef', 'yogurt', 'greens', 'granola', 'nuts', 'onions', 'apples', 'squash', 'soda', 'flour', 'buttermilk', 'potatoes', 'turkey', 'beans', 'bagel', 'pretzels', 'celery', 'margarine', 'pineapple', 'plantains', 'veal', 'mustard', 'rye', 'gravy', 'tuna', 'vegetables', 'eggs', 'crackers', 'dips', 'meats', 'bacon', 'pasta', 'pizza', 'avocados', 'pork', 'lentils', 'cauliflower', 'asparagus', 'almonds', 'honey', 'kimchi', 'herbs', 'dates', 'scallops', 'yuzu', 'syrup', 'molasses', 'yeast', 'cornmeal', 'vinegar', 'parsley', 'mushrooms', 'broth', 'peppers', 'oats', 'guava', 'coconut', 'cheesecake', 'cinnamon', 'muffin', 'pies', 'pickles', 'goat', 'lamb', 'seafood', 'olives', 'raspberries', 'cornstarch', 'grits', 'chives', 'tamarind', 'tomatoes', 'cumin', 'nutmeg', 'peas', 'bananas', 'okra', 'cabbage', 'basil', 'fruits', 'horseradish', 'lettuce', 'pesto', 'peanuts', 'ham', 'chutney', 'sausage', 'coffee', 'cereal', 'grapes', 'cashews', 'tea', 'pudding', 'walnuts', 'dough', 'thyme', 'mayonnaise', 'oregano', 'leftovers', 'strawberries', 'berries', 'coleslaw', 'cilantro', 'guacamole', 'ghee', 'spelt', 'salsa', 'biscuits', 'caviar', 'quail'] \n",
      "\n",
      "\n",
      "[[32 12]\n",
      " [ 3 36]]\n",
      "              precision    recall  f1-score   support\n",
      "\n",
      "           1       0.91      0.73      0.81        44\n",
      "           0       0.75      0.92      0.83        39\n",
      "\n",
      "    accuracy                           0.82        83\n",
      "   macro avg       0.83      0.83      0.82        83\n",
      "weighted avg       0.84      0.82      0.82        83\n",
      "\n",
      "Total keywords:  214\n",
      "List of Keywords:\n",
      "\n",
      " ['cheese', 'chicken', 'milk', 'butter', 'cream', 'fruit', 'rice', 'water', 'garlic', 'bread', 'sugar', 'salt', 'chocolate', 'fish', 'beef', 'yogurt', 'greens', 'granola', 'nuts', 'onions', 'apples', 'squash', 'soda', 'flour', 'buttermilk', 'potatoes', 'turkey', 'beans', 'bagel', 'pretzels', 'celery', 'margarine', 'pineapple', 'plantains', 'veal', 'mustard', 'rye', 'gravy', 'tuna', 'vegetables', 'eggs', 'crackers', 'dips', 'meats', 'bacon', 'pasta', 'pizza', 'avocados', 'pork', 'lentils', 'cauliflower', 'asparagus', 'almonds', 'honey', 'kimchi', 'herbs', 'dates', 'scallops', 'yuzu', 'syrup', 'molasses', 'yeast', 'cornmeal', 'vinegar', 'parsley', 'mushrooms', 'broth', 'peppers', 'oats', 'guava', 'coconut', 'cheesecake', 'cinnamon', 'muffin', 'pies', 'pickles', 'goat', 'lamb', 'seafood', 'olives', 'raspberries', 'cornstarch', 'grits', 'chives', 'tamarind', 'tomatoes', 'cumin', 'nutmeg', 'peas', 'bananas', 'okra', 'cabbage', 'basil', 'fruits', 'horseradish', 'lettuce', 'pesto', 'peanuts', 'ham', 'chutney', 'sausage', 'coffee', 'cereal', 'grapes', 'cashews', 'tea', 'pudding', 'walnuts', 'dough', 'thyme', 'mayonnaise', 'oregano', 'leftovers', 'strawberries', 'berries', 'coleslaw', 'cilantro', 'guacamole', 'ghee', 'spelt', 'salsa', 'biscuits', 'caviar', 'quail', 'oils', 'flaxseed', 'herring', 'quiche', 'chorizo', 'aioli', 'ricotta', 'capers', 'base', 'blueberries', 'kale', 'cookies', 'tofu', 'quinoa', 'kefir', 'tortillas', 'apricots', 'gelatin', 'marshmallows', 'mint', 'arugula', 'pistachios', 'beets', 'bratwurst', 'sausages', 'venison', 'leeks', 'pheasant', 'marinades', 'rabbit', 'pastrami', 'salami', 'jerky', 'dinners', 'goose', 'applesauce', 'watermelon', 'cranberries', 'capon', 'duckling', 'rosemary', 'cucumbers', 'eggplant', 'croutons', 'breadcrumbs', 'squid', 'zucchini', 'miso', 'tempeh', 'turnips', 'barley', 'popcorn', 'farro', 'anchovies', 'melons', 'edamame', 'hummus', 'pecans', 'pate', 'casseroles', 'cherries', 'polenta', 'buckwheat', 'pomegranate', 'pumpkins', 'cherimoya', 'cantaloupe', 'coconuts', 'honeydew', 'tapenade', 'millet', 'radishes', 'rhubarb', 'jicama', 'kohlrabi', 'relish', 'lemongrass', 'tahini', 'prosciutto', 'rutabagas', 'taro', 'nectar', 'formula', 'amaranth', 'macadamias', 'bison', 'radicchio', 'macaroons', 'bulgur', 'teff'] \n",
      "\n",
      "\n",
      "~~~~~~~~~~~~~~~~~3~~~~~~~~~~~~~~~~~\n"
     ]
    },
    {
     "name": "stderr",
     "output_type": "stream",
     "text": [
      "  1%|          | 37/3289 [00:00<00:08, 367.22it/s]"
     ]
    },
    {
     "name": "stdout",
     "output_type": "stream",
     "text": [
      "Skipping entity\n",
      "Skipping entity\n",
      "Skipping entity\n"
     ]
    },
    {
     "name": "stderr",
     "output_type": "stream",
     "text": [
      "  3%|▎         | 104/3289 [00:00<00:14, 223.34it/s]"
     ]
    },
    {
     "name": "stdout",
     "output_type": "stream",
     "text": [
      "Skipping entity\n",
      "Skipping entity\n"
     ]
    },
    {
     "name": "stderr",
     "output_type": "stream",
     "text": [
      "  4%|▍         | 148/3289 [00:00<00:20, 154.52it/s]"
     ]
    },
    {
     "name": "stdout",
     "output_type": "stream",
     "text": [
      "Skipping entity\n",
      "Skipping entity\n"
     ]
    },
    {
     "name": "stderr",
     "output_type": "stream",
     "text": [
      " 10%|▉         | 324/3289 [00:03<00:57, 51.84it/s] "
     ]
    },
    {
     "name": "stdout",
     "output_type": "stream",
     "text": [
      "Skipping entity\n"
     ]
    },
    {
     "name": "stderr",
     "output_type": "stream",
     "text": [
      " 10%|█         | 340/3289 [00:03<01:02, 47.29it/s]"
     ]
    },
    {
     "name": "stdout",
     "output_type": "stream",
     "text": [
      "Skipping entity\n"
     ]
    },
    {
     "name": "stderr",
     "output_type": "stream",
     "text": [
      " 11%|█         | 360/3289 [00:04<01:05, 44.60it/s]"
     ]
    },
    {
     "name": "stdout",
     "output_type": "stream",
     "text": [
      "Skipping entity\n"
     ]
    },
    {
     "name": "stderr",
     "output_type": "stream",
     "text": [
      " 12%|█▏        | 385/3289 [00:04<01:08, 42.24it/s]"
     ]
    },
    {
     "name": "stdout",
     "output_type": "stream",
     "text": [
      "Skipping entity\n",
      "Skipping entity\n"
     ]
    },
    {
     "name": "stderr",
     "output_type": "stream",
     "text": [
      " 12%|█▏        | 400/3289 [00:05<01:11, 40.69it/s]"
     ]
    },
    {
     "name": "stdout",
     "output_type": "stream",
     "text": [
      "Skipping entity\n",
      "Skipping entity\n"
     ]
    },
    {
     "name": "stderr",
     "output_type": "stream",
     "text": [
      " 13%|█▎        | 420/3289 [00:05<01:12, 39.61it/s]"
     ]
    },
    {
     "name": "stdout",
     "output_type": "stream",
     "text": [
      "Skipping entity\n"
     ]
    },
    {
     "name": "stderr",
     "output_type": "stream",
     "text": [
      " 13%|█▎        | 428/3289 [00:05<01:16, 37.23it/s]"
     ]
    },
    {
     "name": "stdout",
     "output_type": "stream",
     "text": [
      "Skipping entity\n"
     ]
    },
    {
     "name": "stderr",
     "output_type": "stream",
     "text": [
      " 15%|█▍        | 477/3289 [00:07<01:21, 34.33it/s]"
     ]
    },
    {
     "name": "stdout",
     "output_type": "stream",
     "text": [
      "Skipping entity\n"
     ]
    },
    {
     "name": "stderr",
     "output_type": "stream",
     "text": [
      " 15%|█▍        | 489/3289 [00:07<01:24, 33.00it/s]"
     ]
    },
    {
     "name": "stdout",
     "output_type": "stream",
     "text": [
      "Skipping entity\n"
     ]
    },
    {
     "name": "stderr",
     "output_type": "stream",
     "text": [
      " 16%|█▌        | 517/3289 [00:08<01:27, 31.78it/s]"
     ]
    },
    {
     "name": "stdout",
     "output_type": "stream",
     "text": [
      "Skipping entity\n"
     ]
    },
    {
     "name": "stderr",
     "output_type": "stream",
     "text": [
      " 17%|█▋        | 572/3289 [00:10<01:32, 29.24it/s]"
     ]
    },
    {
     "name": "stdout",
     "output_type": "stream",
     "text": [
      "Skipping entity\n"
     ]
    },
    {
     "name": "stderr",
     "output_type": "stream",
     "text": [
      " 20%|█▉        | 656/3289 [00:13<01:44, 25.24it/s]"
     ]
    },
    {
     "name": "stdout",
     "output_type": "stream",
     "text": [
      "Skipping entity\n",
      "Skipping entity\n"
     ]
    },
    {
     "name": "stderr",
     "output_type": "stream",
     "text": [
      " 20%|██        | 665/3289 [00:14<01:49, 23.90it/s]"
     ]
    },
    {
     "name": "stdout",
     "output_type": "stream",
     "text": [
      "Skipping entity\n",
      "Skipping entity\n"
     ]
    },
    {
     "name": "stderr",
     "output_type": "stream",
     "text": [
      " 21%|██        | 698/3289 [00:15<01:44, 24.79it/s]"
     ]
    },
    {
     "name": "stdout",
     "output_type": "stream",
     "text": [
      "Skipping entity\n",
      "Skipping entity\n"
     ]
    },
    {
     "name": "stderr",
     "output_type": "stream",
     "text": [
      " 21%|██▏       | 707/3289 [00:15<01:44, 24.65it/s]"
     ]
    },
    {
     "name": "stdout",
     "output_type": "stream",
     "text": [
      "Skipping entity\n"
     ]
    },
    {
     "name": "stderr",
     "output_type": "stream",
     "text": [
      " 22%|██▏       | 722/3289 [00:16<01:50, 23.26it/s]"
     ]
    },
    {
     "name": "stdout",
     "output_type": "stream",
     "text": [
      "Skipping entity\n",
      "Skipping entity\n"
     ]
    },
    {
     "name": "stderr",
     "output_type": "stream",
     "text": [
      " 23%|██▎       | 746/3289 [00:17<01:49, 23.16it/s]"
     ]
    },
    {
     "name": "stdout",
     "output_type": "stream",
     "text": [
      "Skipping entity\n",
      "Skipping entity\n"
     ]
    },
    {
     "name": "stderr",
     "output_type": "stream",
     "text": [
      " 24%|██▎       | 773/3289 [00:18<01:50, 22.82it/s]"
     ]
    },
    {
     "name": "stdout",
     "output_type": "stream",
     "text": [
      "Skipping entity\n",
      "Skipping entity\n"
     ]
    },
    {
     "name": "stderr",
     "output_type": "stream",
     "text": [
      " 24%|██▍       | 788/3289 [00:19<01:54, 21.82it/s]"
     ]
    },
    {
     "name": "stdout",
     "output_type": "stream",
     "text": [
      "Skipping entity\n"
     ]
    },
    {
     "name": "stderr",
     "output_type": "stream",
     "text": [
      " 25%|██▍       | 806/3289 [00:20<01:52, 22.15it/s]"
     ]
    },
    {
     "name": "stdout",
     "output_type": "stream",
     "text": [
      "Skipping entity\n"
     ]
    },
    {
     "name": "stderr",
     "output_type": "stream",
     "text": [
      " 27%|██▋       | 890/3289 [00:24<01:56, 20.59it/s]"
     ]
    },
    {
     "name": "stdout",
     "output_type": "stream",
     "text": [
      "Skipping entity\n"
     ]
    },
    {
     "name": "stderr",
     "output_type": "stream",
     "text": [
      " 30%|██▉       | 973/3289 [00:28<02:07, 18.19it/s]"
     ]
    },
    {
     "name": "stdout",
     "output_type": "stream",
     "text": [
      "Skipping entity\n"
     ]
    },
    {
     "name": "stderr",
     "output_type": "stream",
     "text": [
      " 31%|███       | 1005/3289 [00:30<02:09, 17.59it/s]"
     ]
    },
    {
     "name": "stdout",
     "output_type": "stream",
     "text": [
      "Skipping entity\n",
      "Skipping entity\n"
     ]
    },
    {
     "name": "stderr",
     "output_type": "stream",
     "text": [
      " 32%|███▏      | 1037/3289 [00:32<02:09, 17.43it/s]"
     ]
    },
    {
     "name": "stdout",
     "output_type": "stream",
     "text": [
      "Skipping entity\n"
     ]
    },
    {
     "name": "stderr",
     "output_type": "stream",
     "text": [
      " 32%|███▏      | 1045/3289 [00:32<02:14, 16.62it/s]"
     ]
    },
    {
     "name": "stdout",
     "output_type": "stream",
     "text": [
      "Skipping entity\n"
     ]
    },
    {
     "name": "stderr",
     "output_type": "stream",
     "text": [
      " 33%|███▎      | 1099/3289 [00:36<02:21, 15.51it/s]"
     ]
    },
    {
     "name": "stdout",
     "output_type": "stream",
     "text": [
      "Skipping entity\n"
     ]
    },
    {
     "name": "stderr",
     "output_type": "stream",
     "text": [
      " 35%|███▍      | 1143/3289 [00:38<02:20, 15.33it/s]"
     ]
    },
    {
     "name": "stdout",
     "output_type": "stream",
     "text": [
      "Skipping entity\n",
      "Skipping entity\n"
     ]
    },
    {
     "name": "stderr",
     "output_type": "stream",
     "text": [
      " 35%|███▍      | 1151/3289 [00:39<02:20, 15.21it/s]"
     ]
    },
    {
     "name": "stdout",
     "output_type": "stream",
     "text": [
      "Skipping entity\n"
     ]
    },
    {
     "name": "stderr",
     "output_type": "stream",
     "text": [
      " 35%|███▌      | 1163/3289 [00:40<02:21, 15.05it/s]"
     ]
    },
    {
     "name": "stdout",
     "output_type": "stream",
     "text": [
      "Skipping entity\n",
      "Skipping entity\n"
     ]
    },
    {
     "name": "stderr",
     "output_type": "stream",
     "text": [
      " 36%|███▌      | 1171/3289 [00:40<02:18, 15.33it/s]"
     ]
    },
    {
     "name": "stdout",
     "output_type": "stream",
     "text": [
      "Skipping entity\n",
      "Skipping entity\n"
     ]
    },
    {
     "name": "stderr",
     "output_type": "stream",
     "text": [
      " 36%|███▋      | 1193/3289 [00:42<02:15, 15.51it/s]"
     ]
    },
    {
     "name": "stdout",
     "output_type": "stream",
     "text": [
      "Skipping entity\n"
     ]
    },
    {
     "name": "stderr",
     "output_type": "stream",
     "text": [
      " 39%|███▊      | 1267/3289 [00:47<02:17, 14.75it/s]"
     ]
    },
    {
     "name": "stdout",
     "output_type": "stream",
     "text": [
      "Skipping entity\n"
     ]
    },
    {
     "name": "stderr",
     "output_type": "stream",
     "text": [
      " 39%|███▉      | 1285/3289 [00:48<02:17, 14.59it/s]"
     ]
    },
    {
     "name": "stdout",
     "output_type": "stream",
     "text": [
      "Skipping entity\n"
     ]
    },
    {
     "name": "stderr",
     "output_type": "stream",
     "text": [
      " 39%|███▉      | 1289/3289 [00:48<02:18, 14.42it/s]"
     ]
    },
    {
     "name": "stdout",
     "output_type": "stream",
     "text": [
      "Skipping entity\n",
      "Skipping entity\n"
     ]
    },
    {
     "name": "stderr",
     "output_type": "stream",
     "text": [
      " 40%|████      | 1321/3289 [00:51<02:19, 14.07it/s]"
     ]
    },
    {
     "name": "stdout",
     "output_type": "stream",
     "text": [
      "Skipping entity\n"
     ]
    },
    {
     "name": "stderr",
     "output_type": "stream",
     "text": [
      " 43%|████▎     | 1419/3289 [00:58<02:16, 13.70it/s]"
     ]
    },
    {
     "name": "stdout",
     "output_type": "stream",
     "text": [
      "Skipping entity\n"
     ]
    },
    {
     "name": "stderr",
     "output_type": "stream",
     "text": [
      " 44%|████▍     | 1455/3289 [01:00<02:19, 13.10it/s]"
     ]
    },
    {
     "name": "stdout",
     "output_type": "stream",
     "text": [
      "Skipping entity\n"
     ]
    },
    {
     "name": "stderr",
     "output_type": "stream",
     "text": [
      " 45%|████▌     | 1485/3289 [01:03<02:20, 12.83it/s]"
     ]
    },
    {
     "name": "stdout",
     "output_type": "stream",
     "text": [
      "Skipping entity\n"
     ]
    },
    {
     "name": "stderr",
     "output_type": "stream",
     "text": [
      " 45%|████▌     | 1495/3289 [01:04<02:22, 12.62it/s]"
     ]
    },
    {
     "name": "stdout",
     "output_type": "stream",
     "text": [
      "Skipping entity\n"
     ]
    },
    {
     "name": "stderr",
     "output_type": "stream",
     "text": [
      " 47%|████▋     | 1531/3289 [01:07<02:17, 12.75it/s]"
     ]
    },
    {
     "name": "stdout",
     "output_type": "stream",
     "text": [
      "Skipping entity\n"
     ]
    },
    {
     "name": "stderr",
     "output_type": "stream",
     "text": [
      " 47%|████▋     | 1555/3289 [01:08<02:18, 12.52it/s]"
     ]
    },
    {
     "name": "stdout",
     "output_type": "stream",
     "text": [
      "Skipping entity\n"
     ]
    },
    {
     "name": "stderr",
     "output_type": "stream",
     "text": [
      " 51%|█████     | 1685/3289 [01:19<02:14, 11.89it/s]"
     ]
    },
    {
     "name": "stdout",
     "output_type": "stream",
     "text": [
      "Skipping entity\n"
     ]
    },
    {
     "name": "stderr",
     "output_type": "stream",
     "text": [
      " 51%|█████▏    | 1691/3289 [01:20<02:18, 11.51it/s]"
     ]
    },
    {
     "name": "stdout",
     "output_type": "stream",
     "text": [
      "Skipping entity\n"
     ]
    },
    {
     "name": "stderr",
     "output_type": "stream",
     "text": [
      " 52%|█████▏    | 1717/3289 [01:22<02:17, 11.46it/s]"
     ]
    },
    {
     "name": "stdout",
     "output_type": "stream",
     "text": [
      "Skipping entity\n",
      "Skipping entity\n"
     ]
    },
    {
     "name": "stderr",
     "output_type": "stream",
     "text": [
      " 52%|█████▏    | 1721/3289 [01:23<02:21, 11.10it/s]"
     ]
    },
    {
     "name": "stdout",
     "output_type": "stream",
     "text": [
      "Skipping entity\n"
     ]
    },
    {
     "name": "stderr",
     "output_type": "stream",
     "text": [
      " 56%|█████▌    | 1827/3289 [01:32<02:15, 10.80it/s]"
     ]
    },
    {
     "name": "stdout",
     "output_type": "stream",
     "text": [
      "Skipping entity\n"
     ]
    },
    {
     "name": "stderr",
     "output_type": "stream",
     "text": [
      " 57%|█████▋    | 1877/3289 [01:37<02:10, 10.80it/s]"
     ]
    },
    {
     "name": "stdout",
     "output_type": "stream",
     "text": [
      "Skipping entity\n"
     ]
    },
    {
     "name": "stderr",
     "output_type": "stream",
     "text": [
      "\r",
      " 57%|█████▋    | 1879/3289 [01:37<02:15, 10.43it/s]"
     ]
    },
    {
     "name": "stdout",
     "output_type": "stream",
     "text": [
      "Skipping entity\n"
     ]
    },
    {
     "name": "stderr",
     "output_type": "stream",
     "text": [
      " 58%|█████▊    | 1923/3289 [01:41<02:11, 10.41it/s]"
     ]
    },
    {
     "name": "stdout",
     "output_type": "stream",
     "text": [
      "Skipping entity\n"
     ]
    },
    {
     "name": "stderr",
     "output_type": "stream",
     "text": [
      " 60%|█████▉    | 1964/3289 [01:46<02:25,  9.12it/s]"
     ]
    },
    {
     "name": "stdout",
     "output_type": "stream",
     "text": [
      "Skipping entity\n",
      "Skipping entity\n"
     ]
    },
    {
     "name": "stderr",
     "output_type": "stream",
     "text": [
      " 61%|██████    | 1997/3289 [01:49<02:22,  9.09it/s]"
     ]
    },
    {
     "name": "stdout",
     "output_type": "stream",
     "text": [
      "Skipping entity\n"
     ]
    },
    {
     "name": "stderr",
     "output_type": "stream",
     "text": [
      " 61%|██████    | 2002/3289 [01:50<02:26,  8.79it/s]"
     ]
    },
    {
     "name": "stdout",
     "output_type": "stream",
     "text": [
      "Skipping entity\n"
     ]
    },
    {
     "name": "stderr",
     "output_type": "stream",
     "text": [
      " 61%|██████    | 2004/3289 [01:50<02:28,  8.64it/s]"
     ]
    },
    {
     "name": "stdout",
     "output_type": "stream",
     "text": [
      "Skipping entity\n"
     ]
    },
    {
     "name": "stderr",
     "output_type": "stream",
     "text": [
      " 61%|██████    | 2006/3289 [01:50<02:30,  8.54it/s]"
     ]
    },
    {
     "name": "stdout",
     "output_type": "stream",
     "text": [
      "Skipping entity\n",
      "Skipping entity\n"
     ]
    },
    {
     "name": "stderr",
     "output_type": "stream",
     "text": [
      " 62%|██████▏   | 2040/3289 [01:54<02:24,  8.64it/s]"
     ]
    },
    {
     "name": "stdout",
     "output_type": "stream",
     "text": [
      "Skipping entity\n"
     ]
    },
    {
     "name": "stderr",
     "output_type": "stream",
     "text": [
      " 64%|██████▍   | 2098/3289 [02:01<02:39,  7.49it/s]"
     ]
    },
    {
     "name": "stdout",
     "output_type": "stream",
     "text": [
      "Skipping entity\n"
     ]
    },
    {
     "name": "stderr",
     "output_type": "stream",
     "text": [
      " 66%|██████▌   | 2155/3289 [02:08<02:18,  8.17it/s]"
     ]
    },
    {
     "name": "stdout",
     "output_type": "stream",
     "text": [
      "Skipping entity\n"
     ]
    },
    {
     "name": "stderr",
     "output_type": "stream",
     "text": [
      " 69%|██████▉   | 2272/3289 [02:22<02:08,  7.90it/s]"
     ]
    },
    {
     "name": "stdout",
     "output_type": "stream",
     "text": [
      "Skipping entity\n"
     ]
    },
    {
     "name": "stderr",
     "output_type": "stream",
     "text": [
      " 69%|██████▉   | 2276/3289 [02:23<02:06,  8.03it/s]"
     ]
    },
    {
     "name": "stdout",
     "output_type": "stream",
     "text": [
      "Skipping entity\n"
     ]
    },
    {
     "name": "stderr",
     "output_type": "stream",
     "text": [
      " 69%|██████▉   | 2278/3289 [02:23<02:13,  7.59it/s]"
     ]
    },
    {
     "name": "stdout",
     "output_type": "stream",
     "text": [
      "Skipping entity\n"
     ]
    },
    {
     "name": "stderr",
     "output_type": "stream",
     "text": [
      " 71%|███████   | 2337/3289 [02:30<02:01,  7.84it/s]"
     ]
    },
    {
     "name": "stdout",
     "output_type": "stream",
     "text": [
      "Skipping entity\n"
     ]
    },
    {
     "name": "stderr",
     "output_type": "stream",
     "text": [
      " 74%|███████▍  | 2439/3289 [02:43<01:58,  7.17it/s]"
     ]
    },
    {
     "name": "stdout",
     "output_type": "stream",
     "text": [
      "Skipping entity\n"
     ]
    },
    {
     "name": "stderr",
     "output_type": "stream",
     "text": [
      " 74%|███████▍  | 2442/3289 [02:44<01:56,  7.27it/s]"
     ]
    },
    {
     "name": "stdout",
     "output_type": "stream",
     "text": [
      "Skipping entity\n"
     ]
    },
    {
     "name": "stderr",
     "output_type": "stream",
     "text": [
      " 75%|███████▍  | 2462/3289 [02:47<01:47,  7.71it/s]"
     ]
    },
    {
     "name": "stdout",
     "output_type": "stream",
     "text": [
      "Skipping entity\n"
     ]
    },
    {
     "name": "stderr",
     "output_type": "stream",
     "text": [
      " 76%|███████▌  | 2490/3289 [02:50<01:45,  7.54it/s]"
     ]
    },
    {
     "name": "stdout",
     "output_type": "stream",
     "text": [
      "Skipping entity\n"
     ]
    },
    {
     "name": "stderr",
     "output_type": "stream",
     "text": [
      " 77%|███████▋  | 2548/3289 [02:58<01:42,  7.25it/s]"
     ]
    },
    {
     "name": "stdout",
     "output_type": "stream",
     "text": [
      "Skipping entity\n"
     ]
    },
    {
     "name": "stderr",
     "output_type": "stream",
     "text": [
      " 79%|███████▉  | 2606/3289 [03:06<01:32,  7.38it/s]"
     ]
    },
    {
     "name": "stdout",
     "output_type": "stream",
     "text": [
      "Skipping entity\n"
     ]
    },
    {
     "name": "stderr",
     "output_type": "stream",
     "text": [
      " 80%|███████▉  | 2620/3289 [03:08<01:35,  7.01it/s]"
     ]
    },
    {
     "name": "stdout",
     "output_type": "stream",
     "text": [
      "Skipping entity\n"
     ]
    },
    {
     "name": "stderr",
     "output_type": "stream",
     "text": [
      " 82%|████████▏ | 2706/3289 [03:21<01:28,  6.59it/s]"
     ]
    },
    {
     "name": "stdout",
     "output_type": "stream",
     "text": [
      "Skipping entity\n"
     ]
    },
    {
     "name": "stderr",
     "output_type": "stream",
     "text": [
      " 83%|████████▎ | 2719/3289 [03:23<01:28,  6.42it/s]"
     ]
    },
    {
     "name": "stdout",
     "output_type": "stream",
     "text": [
      "Skipping entity\n"
     ]
    },
    {
     "name": "stderr",
     "output_type": "stream",
     "text": [
      " 83%|████████▎ | 2742/3289 [03:27<01:27,  6.23it/s]"
     ]
    },
    {
     "name": "stdout",
     "output_type": "stream",
     "text": [
      "Skipping entity\n"
     ]
    },
    {
     "name": "stderr",
     "output_type": "stream",
     "text": [
      " 84%|████████▍ | 2773/3289 [03:32<01:18,  6.54it/s]"
     ]
    },
    {
     "name": "stdout",
     "output_type": "stream",
     "text": [
      "Skipping entity\n"
     ]
    },
    {
     "name": "stderr",
     "output_type": "stream",
     "text": [
      " 84%|████████▍ | 2779/3289 [03:33<01:18,  6.46it/s]"
     ]
    },
    {
     "name": "stdout",
     "output_type": "stream",
     "text": [
      "Skipping entity\n"
     ]
    },
    {
     "name": "stderr",
     "output_type": "stream",
     "text": [
      " 87%|████████▋ | 2857/3289 [03:45<01:08,  6.33it/s]"
     ]
    },
    {
     "name": "stdout",
     "output_type": "stream",
     "text": [
      "Skipping entity\n"
     ]
    },
    {
     "name": "stderr",
     "output_type": "stream",
     "text": [
      " 88%|████████▊ | 2893/3289 [03:51<01:03,  6.19it/s]"
     ]
    },
    {
     "name": "stdout",
     "output_type": "stream",
     "text": [
      "Skipping entity\n"
     ]
    },
    {
     "name": "stderr",
     "output_type": "stream",
     "text": [
      " 89%|████████▉ | 2940/3289 [03:58<00:56,  6.23it/s]"
     ]
    },
    {
     "name": "stdout",
     "output_type": "stream",
     "text": [
      "Skipping entity\n"
     ]
    },
    {
     "name": "stderr",
     "output_type": "stream",
     "text": [
      " 90%|█████████ | 2969/3289 [04:03<00:53,  5.96it/s]"
     ]
    },
    {
     "name": "stdout",
     "output_type": "stream",
     "text": [
      "Skipping entity\n"
     ]
    },
    {
     "name": "stderr",
     "output_type": "stream",
     "text": [
      " 91%|█████████ | 2992/3289 [04:07<00:51,  5.75it/s]"
     ]
    },
    {
     "name": "stdout",
     "output_type": "stream",
     "text": [
      "Skipping entity\n"
     ]
    },
    {
     "name": "stderr",
     "output_type": "stream",
     "text": [
      " 92%|█████████▏| 3026/3289 [04:13<00:43,  6.02it/s]"
     ]
    },
    {
     "name": "stdout",
     "output_type": "stream",
     "text": [
      "Skipping entity\n"
     ]
    },
    {
     "name": "stderr",
     "output_type": "stream",
     "text": [
      " 92%|█████████▏| 3034/3289 [04:14<00:44,  5.78it/s]"
     ]
    },
    {
     "name": "stdout",
     "output_type": "stream",
     "text": [
      "Skipping entity\n"
     ]
    },
    {
     "name": "stderr",
     "output_type": "stream",
     "text": [
      " 92%|█████████▏| 3038/3289 [04:15<00:42,  5.89it/s]"
     ]
    },
    {
     "name": "stdout",
     "output_type": "stream",
     "text": [
      "Skipping entity\n"
     ]
    },
    {
     "name": "stderr",
     "output_type": "stream",
     "text": [
      " 93%|█████████▎| 3062/3289 [04:19<00:40,  5.59it/s]"
     ]
    },
    {
     "name": "stdout",
     "output_type": "stream",
     "text": [
      "Skipping entity\n"
     ]
    },
    {
     "name": "stderr",
     "output_type": "stream",
     "text": [
      " 97%|█████████▋| 3185/3289 [04:41<00:18,  5.60it/s]"
     ]
    },
    {
     "name": "stdout",
     "output_type": "stream",
     "text": [
      "Skipping entity\n"
     ]
    },
    {
     "name": "stderr",
     "output_type": "stream",
     "text": [
      " 98%|█████████▊| 3207/3289 [04:45<00:14,  5.74it/s]"
     ]
    },
    {
     "name": "stdout",
     "output_type": "stream",
     "text": [
      "Skipping entity\n"
     ]
    },
    {
     "name": "stderr",
     "output_type": "stream",
     "text": [
      " 98%|█████████▊| 3216/3289 [04:46<00:12,  5.74it/s]"
     ]
    },
    {
     "name": "stdout",
     "output_type": "stream",
     "text": [
      "Skipping entity\n"
     ]
    },
    {
     "name": "stderr",
     "output_type": "stream",
     "text": [
      " 98%|█████████▊| 3236/3289 [04:50<00:09,  5.57it/s]"
     ]
    },
    {
     "name": "stdout",
     "output_type": "stream",
     "text": [
      "Skipping entity\n"
     ]
    },
    {
     "name": "stderr",
     "output_type": "stream",
     "text": [
      " 99%|█████████▊| 3242/3289 [04:51<00:08,  5.62it/s]"
     ]
    },
    {
     "name": "stdout",
     "output_type": "stream",
     "text": [
      "Skipping entity\n"
     ]
    },
    {
     "name": "stderr",
     "output_type": "stream",
     "text": [
      " 99%|█████████▉| 3255/3289 [04:53<00:06,  5.51it/s]"
     ]
    },
    {
     "name": "stdout",
     "output_type": "stream",
     "text": [
      "Skipping entity\n"
     ]
    },
    {
     "name": "stderr",
     "output_type": "stream",
     "text": [
      " 99%|█████████▉| 3262/3289 [04:55<00:04,  5.58it/s]"
     ]
    },
    {
     "name": "stdout",
     "output_type": "stream",
     "text": [
      "Skipping entity\n"
     ]
    },
    {
     "name": "stderr",
     "output_type": "stream",
     "text": [
      " 99%|█████████▉| 3267/3289 [04:56<00:04,  5.36it/s]"
     ]
    },
    {
     "name": "stdout",
     "output_type": "stream",
     "text": [
      "Skipping entity\n"
     ]
    },
    {
     "name": "stderr",
     "output_type": "stream",
     "text": [
      "100%|█████████▉| 3278/3289 [04:58<00:01,  5.65it/s]"
     ]
    },
    {
     "name": "stdout",
     "output_type": "stream",
     "text": [
      "Skipping entity\n"
     ]
    },
    {
     "name": "stderr",
     "output_type": "stream",
     "text": [
      "100%|██████████| 3289/3289 [05:00<00:00, 10.96it/s]\n"
     ]
    },
    {
     "name": "stdout",
     "output_type": "stream",
     "text": [
      "\u001b[38;5;4mℹ Using CPU\u001b[0m\n",
      "\u001b[1m\n",
      "=========================== Initializing pipeline ===========================\u001b[0m\n",
      "\u001b[38;5;2m✔ Initialized pipeline\u001b[0m\n",
      "\u001b[1m\n",
      "============================= Training pipeline =============================\u001b[0m\n",
      "\u001b[38;5;4mℹ Pipeline: ['tok2vec', 'ner']\u001b[0m\n",
      "\u001b[38;5;4mℹ Initial learn rate: 0.001\u001b[0m\n",
      "E    #       LOSS TOK2VEC  LOSS NER  ENTS_F  ENTS_P  ENTS_R  SCORE \n",
      "---  ------  ------------  --------  ------  ------  ------  ------\n",
      "  0       0          0.00     38.17    0.01    0.07    0.01    0.00\n",
      "  0     200         54.19   2067.64   86.58   84.30   88.98    0.87\n",
      "  0     400         24.48    931.05   89.13   87.43   90.91    0.89\n",
      "  0     600         20.57   1067.87   91.64   85.67   98.49    0.92\n",
      "  0     800         24.97   1058.94   92.58   88.13   97.50    0.93\n",
      "  1    1000         30.46   1360.38   93.31   87.99   99.31    0.93\n",
      "  1    1200         39.47   1368.36   94.07   89.74   98.83    0.94\n",
      "  1    1400         43.02   1661.28   94.94   91.25   98.94    0.95\n",
      "  2    1600         77.85   1568.19   96.20   93.51   99.06    0.96\n",
      "  3    1800         83.88   1569.25   97.23   95.69   98.82    0.97\n",
      "  4    2000        128.68   1610.73   98.01   97.30   98.72    0.98\n",
      "  5    2200        151.41   1467.42   98.38   97.20   99.59    0.98\n",
      "  6    2400        209.88   1336.89   98.93   99.23   98.63    0.99\n",
      "  8    2600        237.53   1042.81   99.42   99.46   99.39    0.99\n",
      "  9    2800        250.19    845.34   99.56   99.30   99.82    1.00\n",
      " 10    3000        259.85    764.92   99.56   99.25   99.86    1.00\n",
      " 12    3200        213.23    667.50   99.79   99.77   99.82    1.00\n",
      " 13    3400        245.72    555.79   99.75   99.73   99.78    1.00\n",
      " 15    3600        240.97    518.35   99.79   99.70   99.88    1.00\n",
      " 16    3800        355.13    485.91   99.81   99.83   99.79    1.00\n",
      " 17    4000        265.42    476.93   99.80   99.82   99.78    1.00\n",
      " 19    4200        314.09    415.97   99.83   99.83   99.84    1.00\n",
      " 20    4400        348.82    364.08   99.76   99.86   99.66    1.00\n",
      " 22    4600        373.20    370.81   99.84   99.80   99.87    1.00\n",
      " 23    4800        338.07    378.78   99.85   99.84   99.86    1.00\n",
      " 25    5000        370.21    331.86   99.81   99.71   99.91    1.00\n",
      " 26    5200        453.71    370.27   99.82   99.67   99.97    1.00\n",
      " 27    5400        384.43    330.35   99.88   99.88   99.87    1.00\n",
      " 29    5600        434.54    301.32   99.87   99.80   99.94    1.00\n",
      " 30    5800        413.49    290.15   99.84   99.76   99.92    1.00\n",
      " 32    6000        497.92    296.62   99.71   99.43   99.99    1.00\n",
      " 33    6200        397.64    291.98   99.89   99.87   99.91    1.00\n",
      " 34    6400        523.88    273.92   99.88   99.83   99.93    1.00\n",
      " 36    6600        459.88    235.20   99.86   99.78   99.93    1.00\n",
      " 37    6800        542.56    252.86   99.88   99.96   99.80    1.00\n",
      " 39    7000        522.04    239.77   99.91   99.90   99.91    1.00\n",
      " 40    7200        543.00    257.12   99.88   99.78   99.97    1.00\n",
      " 41    7400        732.30    240.63   99.92   99.88   99.96    1.00\n",
      " 43    7600        585.56    204.02   99.89   99.85   99.93    1.00\n",
      " 44    7800        656.98    220.10   99.87   99.76   99.99    1.00\n",
      " 46    8000        684.45    251.31   99.90   99.93   99.88    1.00\n",
      " 47    8200        566.71    179.59   99.91   99.88   99.93    1.00\n",
      " 48    8400        721.48    190.52   99.92   99.91   99.92    1.00\n",
      " 50    8600        738.44    184.39   99.91   99.88   99.95    1.00\n",
      " 51    8800        717.31    221.97   99.93   99.87   99.99    1.00\n",
      " 53    9000        677.92    229.96   99.92   99.89   99.95    1.00\n",
      " 54    9200        682.13    162.62   99.94   99.93   99.95    1.00\n",
      " 55    9400        888.41    155.84   99.90   99.84   99.97    1.00\n",
      " 57    9600        657.97    190.94   99.94   99.92   99.95    1.00\n",
      " 58    9800        968.51    214.64   99.93   99.93   99.92    1.00\n",
      " 60   10000        759.44    180.18   99.93   99.99   99.88    1.00\n",
      " 61   10200        685.90    185.69   99.91   99.89   99.93    1.00\n",
      " 62   10400        812.46    160.97   99.92   99.95   99.89    1.00\n",
      " 64   10600        821.24    172.59   99.91   99.93   99.89    1.00\n",
      " 65   10800        799.62    165.61   99.93   99.91   99.95    1.00\n",
      "\u001b[38;5;2m✔ Saved pipeline to output directory\u001b[0m\n",
      "output/model-last\n",
      "\n",
      "Total keywords:  214\n",
      "List of Keywords:\n",
      "\n",
      " ['cheese', 'chicken', 'milk', 'butter', 'cream', 'fruit', 'rice', 'water', 'garlic', 'bread', 'sugar', 'salt', 'chocolate', 'fish', 'beef', 'yogurt', 'greens', 'granola', 'nuts', 'onions', 'apples', 'squash', 'soda', 'flour', 'buttermilk', 'potatoes', 'turkey', 'beans', 'bagel', 'pretzels', 'celery', 'margarine', 'pineapple', 'plantains', 'veal', 'mustard', 'rye', 'gravy', 'tuna', 'vegetables', 'eggs', 'crackers', 'dips', 'meats', 'bacon', 'pasta', 'pizza', 'avocados', 'pork', 'lentils', 'cauliflower', 'asparagus', 'almonds', 'honey', 'kimchi', 'herbs', 'dates', 'scallops', 'yuzu', 'syrup', 'molasses', 'yeast', 'cornmeal', 'vinegar', 'parsley', 'mushrooms', 'broth', 'peppers', 'oats', 'guava', 'coconut', 'cheesecake', 'cinnamon', 'muffin', 'pies', 'pickles', 'goat', 'lamb', 'seafood', 'olives', 'raspberries', 'cornstarch', 'grits', 'chives', 'tamarind', 'tomatoes', 'cumin', 'nutmeg', 'peas', 'bananas', 'okra', 'cabbage', 'basil', 'fruits', 'horseradish', 'lettuce', 'pesto', 'peanuts', 'ham', 'chutney', 'sausage', 'coffee', 'cereal', 'grapes', 'cashews', 'tea', 'pudding', 'walnuts', 'dough', 'thyme', 'mayonnaise', 'oregano', 'leftovers', 'strawberries', 'berries', 'coleslaw', 'cilantro', 'guacamole', 'ghee', 'spelt', 'salsa', 'biscuits', 'caviar', 'quail', 'oils', 'flaxseed', 'herring', 'quiche', 'chorizo', 'aioli', 'ricotta', 'capers', 'base', 'blueberries', 'kale', 'cookies', 'tofu', 'quinoa', 'kefir', 'tortillas', 'apricots', 'gelatin', 'marshmallows', 'mint', 'arugula', 'pistachios', 'beets', 'bratwurst', 'sausages', 'venison', 'leeks', 'pheasant', 'marinades', 'rabbit', 'pastrami', 'salami', 'jerky', 'dinners', 'goose', 'applesauce', 'watermelon', 'cranberries', 'capon', 'duckling', 'rosemary', 'cucumbers', 'eggplant', 'croutons', 'breadcrumbs', 'squid', 'zucchini', 'miso', 'tempeh', 'turnips', 'barley', 'popcorn', 'farro', 'anchovies', 'melons', 'edamame', 'hummus', 'pecans', 'pate', 'casseroles', 'cherries', 'polenta', 'buckwheat', 'pomegranate', 'pumpkins', 'cherimoya', 'cantaloupe', 'coconuts', 'honeydew', 'tapenade', 'millet', 'radishes', 'rhubarb', 'jicama', 'kohlrabi', 'relish', 'lemongrass', 'tahini', 'prosciutto', 'rutabagas', 'taro', 'nectar', 'formula', 'amaranth', 'macadamias', 'bison', 'radicchio', 'macaroons', 'bulgur', 'teff'] \n",
      "\n",
      "\n",
      "[[31 13]\n",
      " [ 5 34]]\n",
      "              precision    recall  f1-score   support\n",
      "\n",
      "           1       0.86      0.70      0.78        44\n",
      "           0       0.72      0.87      0.79        39\n",
      "\n",
      "    accuracy                           0.78        83\n",
      "   macro avg       0.79      0.79      0.78        83\n",
      "weighted avg       0.80      0.78      0.78        83\n",
      "\n",
      "Total keywords:  215\n",
      "List of Keywords:\n",
      "\n",
      " ['cheese', 'chicken', 'milk', 'butter', 'cream', 'fruit', 'rice', 'water', 'garlic', 'bread', 'sugar', 'salt', 'chocolate', 'fish', 'beef', 'yogurt', 'greens', 'granola', 'nuts', 'onions', 'apples', 'squash', 'soda', 'flour', 'buttermilk', 'potatoes', 'turkey', 'beans', 'bagel', 'pretzels', 'celery', 'margarine', 'pineapple', 'plantains', 'veal', 'mustard', 'rye', 'gravy', 'tuna', 'vegetables', 'eggs', 'crackers', 'dips', 'meats', 'bacon', 'pasta', 'pizza', 'avocados', 'pork', 'lentils', 'cauliflower', 'asparagus', 'almonds', 'honey', 'kimchi', 'herbs', 'dates', 'scallops', 'yuzu', 'syrup', 'molasses', 'yeast', 'cornmeal', 'vinegar', 'parsley', 'mushrooms', 'broth', 'peppers', 'oats', 'guava', 'coconut', 'cheesecake', 'cinnamon', 'muffin', 'pies', 'pickles', 'goat', 'lamb', 'seafood', 'olives', 'raspberries', 'cornstarch', 'grits', 'chives', 'tamarind', 'tomatoes', 'cumin', 'nutmeg', 'peas', 'bananas', 'okra', 'cabbage', 'basil', 'fruits', 'horseradish', 'lettuce', 'pesto', 'peanuts', 'ham', 'chutney', 'sausage', 'coffee', 'cereal', 'grapes', 'cashews', 'tea', 'pudding', 'walnuts', 'dough', 'thyme', 'mayonnaise', 'oregano', 'leftovers', 'strawberries', 'berries', 'coleslaw', 'cilantro', 'guacamole', 'ghee', 'spelt', 'salsa', 'biscuits', 'caviar', 'quail', 'oils', 'flaxseed', 'herring', 'quiche', 'chorizo', 'aioli', 'ricotta', 'capers', 'base', 'blueberries', 'kale', 'cookies', 'tofu', 'quinoa', 'kefir', 'tortillas', 'apricots', 'gelatin', 'marshmallows', 'mint', 'arugula', 'pistachios', 'beets', 'bratwurst', 'sausages', 'venison', 'leeks', 'pheasant', 'marinades', 'rabbit', 'pastrami', 'salami', 'jerky', 'dinners', 'goose', 'applesauce', 'watermelon', 'cranberries', 'capon', 'duckling', 'rosemary', 'cucumbers', 'eggplant', 'croutons', 'breadcrumbs', 'squid', 'zucchini', 'miso', 'tempeh', 'turnips', 'barley', 'popcorn', 'farro', 'anchovies', 'melons', 'edamame', 'hummus', 'pecans', 'pate', 'casseroles', 'cherries', 'polenta', 'buckwheat', 'pomegranate', 'pumpkins', 'cherimoya', 'cantaloupe', 'coconuts', 'honeydew', 'tapenade', 'millet', 'radishes', 'rhubarb', 'jicama', 'kohlrabi', 'relish', 'lemongrass', 'tahini', 'prosciutto', 'rutabagas', 'taro', 'nectar', 'formula', 'amaranth', 'macadamias', 'bison', 'radicchio', 'macaroons', 'bulgur', 'teff', 'pectin'] \n",
      "\n",
      "\n",
      "~~~~~~~~~~~~~~~~~4~~~~~~~~~~~~~~~~~\n"
     ]
    },
    {
     "name": "stderr",
     "output_type": "stream",
     "text": [
      "  1%|          | 34/3289 [00:00<00:09, 335.54it/s]"
     ]
    },
    {
     "name": "stdout",
     "output_type": "stream",
     "text": [
      "Skipping entity\n",
      "Skipping entity\n",
      "Skipping entity\n"
     ]
    },
    {
     "name": "stderr",
     "output_type": "stream",
     "text": [
      "  4%|▎         | 116/3289 [00:00<00:18, 172.93it/s]"
     ]
    },
    {
     "name": "stdout",
     "output_type": "stream",
     "text": [
      "Skipping entity\n",
      "Skipping entity\n"
     ]
    },
    {
     "name": "stderr",
     "output_type": "stream",
     "text": [
      "  5%|▍         | 151/3289 [00:00<00:24, 128.95it/s]"
     ]
    },
    {
     "name": "stdout",
     "output_type": "stream",
     "text": [
      "Skipping entity\n",
      "Skipping entity\n"
     ]
    },
    {
     "name": "stderr",
     "output_type": "stream",
     "text": [
      " 10%|▉         | 323/3289 [00:04<01:23, 35.59it/s] "
     ]
    },
    {
     "name": "stdout",
     "output_type": "stream",
     "text": [
      "Skipping entity\n"
     ]
    },
    {
     "name": "stderr",
     "output_type": "stream",
     "text": [
      " 10%|█         | 340/3289 [00:05<01:29, 32.80it/s]"
     ]
    },
    {
     "name": "stdout",
     "output_type": "stream",
     "text": [
      "Skipping entity\n"
     ]
    },
    {
     "name": "stderr",
     "output_type": "stream",
     "text": [
      " 11%|█         | 355/3289 [00:05<01:51, 26.34it/s]"
     ]
    },
    {
     "name": "stdout",
     "output_type": "stream",
     "text": [
      "Skipping entity\n"
     ]
    },
    {
     "name": "stderr",
     "output_type": "stream",
     "text": [
      " 12%|█▏        | 383/3289 [00:06<01:38, 29.52it/s]"
     ]
    },
    {
     "name": "stdout",
     "output_type": "stream",
     "text": [
      "Skipping entity\n",
      "Skipping entity\n"
     ]
    },
    {
     "name": "stderr",
     "output_type": "stream",
     "text": [
      " 12%|█▏        | 396/3289 [00:07<01:58, 24.33it/s]"
     ]
    },
    {
     "name": "stdout",
     "output_type": "stream",
     "text": [
      "Skipping entity\n"
     ]
    },
    {
     "name": "stderr",
     "output_type": "stream",
     "text": [
      " 12%|█▏        | 403/3289 [00:07<01:50, 26.10it/s]"
     ]
    },
    {
     "name": "stdout",
     "output_type": "stream",
     "text": [
      "Skipping entity\n"
     ]
    },
    {
     "name": "stderr",
     "output_type": "stream",
     "text": [
      " 13%|█▎        | 413/3289 [00:07<01:49, 26.17it/s]"
     ]
    },
    {
     "name": "stdout",
     "output_type": "stream",
     "text": [
      "Skipping entity\n"
     ]
    },
    {
     "name": "stderr",
     "output_type": "stream",
     "text": [
      " 13%|█▎        | 424/3289 [00:08<02:43, 17.50it/s]"
     ]
    },
    {
     "name": "stdout",
     "output_type": "stream",
     "text": [
      "Skipping entity\n"
     ]
    },
    {
     "name": "stderr",
     "output_type": "stream",
     "text": [
      " 14%|█▍        | 476/3289 [00:10<01:24, 33.26it/s]"
     ]
    },
    {
     "name": "stdout",
     "output_type": "stream",
     "text": [
      "Skipping entity\n"
     ]
    },
    {
     "name": "stderr",
     "output_type": "stream",
     "text": [
      " 15%|█▍        | 488/3289 [00:10<01:27, 31.99it/s]"
     ]
    },
    {
     "name": "stdout",
     "output_type": "stream",
     "text": [
      "Skipping entity\n"
     ]
    },
    {
     "name": "stderr",
     "output_type": "stream",
     "text": [
      " 16%|█▌        | 516/3289 [00:11<01:27, 31.79it/s]"
     ]
    },
    {
     "name": "stdout",
     "output_type": "stream",
     "text": [
      "Skipping entity\n"
     ]
    },
    {
     "name": "stderr",
     "output_type": "stream",
     "text": [
      " 17%|█▋        | 574/3289 [00:13<01:42, 26.42it/s]"
     ]
    },
    {
     "name": "stdout",
     "output_type": "stream",
     "text": [
      "Skipping entity\n"
     ]
    },
    {
     "name": "stderr",
     "output_type": "stream",
     "text": [
      " 20%|█▉        | 656/3289 [00:17<02:19, 18.85it/s]"
     ]
    },
    {
     "name": "stdout",
     "output_type": "stream",
     "text": [
      "Skipping entity\n",
      "Skipping entity\n"
     ]
    },
    {
     "name": "stderr",
     "output_type": "stream",
     "text": [
      " 20%|██        | 664/3289 [00:17<02:00, 21.87it/s]"
     ]
    },
    {
     "name": "stdout",
     "output_type": "stream",
     "text": [
      "Skipping entity\n",
      "Skipping entity\n"
     ]
    },
    {
     "name": "stderr",
     "output_type": "stream",
     "text": [
      " 21%|██        | 695/3289 [00:19<02:03, 21.01it/s]"
     ]
    },
    {
     "name": "stdout",
     "output_type": "stream",
     "text": [
      "Skipping entity\n",
      "Skipping entity\n"
     ]
    },
    {
     "name": "stderr",
     "output_type": "stream",
     "text": [
      " 21%|██▏       | 707/3289 [00:19<01:56, 22.10it/s]"
     ]
    },
    {
     "name": "stdout",
     "output_type": "stream",
     "text": [
      "Skipping entity\n"
     ]
    },
    {
     "name": "stderr",
     "output_type": "stream",
     "text": [
      " 22%|██▏       | 722/3289 [00:20<01:51, 23.11it/s]"
     ]
    },
    {
     "name": "stdout",
     "output_type": "stream",
     "text": [
      "Skipping entity\n",
      "Skipping entity\n"
     ]
    },
    {
     "name": "stderr",
     "output_type": "stream",
     "text": [
      " 23%|██▎       | 746/3289 [00:21<01:53, 22.33it/s]"
     ]
    },
    {
     "name": "stdout",
     "output_type": "stream",
     "text": [
      "Skipping entity\n",
      "Skipping entity\n"
     ]
    },
    {
     "name": "stderr",
     "output_type": "stream",
     "text": [
      " 24%|██▎       | 773/3289 [00:22<01:54, 21.96it/s]"
     ]
    },
    {
     "name": "stdout",
     "output_type": "stream",
     "text": [
      "Skipping entity\n",
      "Skipping entity\n"
     ]
    },
    {
     "name": "stderr",
     "output_type": "stream",
     "text": [
      " 24%|██▍       | 788/3289 [00:23<01:53, 21.95it/s]"
     ]
    },
    {
     "name": "stdout",
     "output_type": "stream",
     "text": [
      "Skipping entity\n"
     ]
    },
    {
     "name": "stderr",
     "output_type": "stream",
     "text": [
      " 25%|██▍       | 806/3289 [00:24<01:57, 21.08it/s]"
     ]
    },
    {
     "name": "stdout",
     "output_type": "stream",
     "text": [
      "Skipping entity\n"
     ]
    },
    {
     "name": "stderr",
     "output_type": "stream",
     "text": [
      " 27%|██▋       | 887/3289 [00:29<03:12, 12.50it/s]"
     ]
    },
    {
     "name": "stdout",
     "output_type": "stream",
     "text": [
      "Skipping entity\n"
     ]
    },
    {
     "name": "stderr",
     "output_type": "stream",
     "text": [
      " 30%|██▉       | 973/3289 [00:34<02:13, 17.39it/s]"
     ]
    },
    {
     "name": "stdout",
     "output_type": "stream",
     "text": [
      "Skipping entity\n"
     ]
    },
    {
     "name": "stderr",
     "output_type": "stream",
     "text": [
      " 31%|███       | 1005/3289 [00:36<02:11, 17.39it/s]"
     ]
    },
    {
     "name": "stdout",
     "output_type": "stream",
     "text": [
      "Skipping entity\n",
      "Skipping entity\n"
     ]
    },
    {
     "name": "stderr",
     "output_type": "stream",
     "text": [
      " 32%|███▏      | 1037/3289 [00:38<02:13, 16.91it/s]"
     ]
    },
    {
     "name": "stdout",
     "output_type": "stream",
     "text": [
      "Skipping entity\n"
     ]
    },
    {
     "name": "stderr",
     "output_type": "stream",
     "text": [
      " 32%|███▏      | 1045/3289 [00:38<02:15, 16.56it/s]"
     ]
    },
    {
     "name": "stdout",
     "output_type": "stream",
     "text": [
      "Skipping entity\n"
     ]
    },
    {
     "name": "stderr",
     "output_type": "stream",
     "text": [
      " 33%|███▎      | 1099/3289 [00:42<02:31, 14.41it/s]"
     ]
    },
    {
     "name": "stdout",
     "output_type": "stream",
     "text": [
      "Skipping entity\n"
     ]
    },
    {
     "name": "stderr",
     "output_type": "stream",
     "text": [
      " 35%|███▍      | 1141/3289 [00:45<03:06, 11.50it/s]"
     ]
    },
    {
     "name": "stdout",
     "output_type": "stream",
     "text": [
      "Skipping entity\n"
     ]
    },
    {
     "name": "stderr",
     "output_type": "stream",
     "text": [
      "\r",
      " 35%|███▍      | 1143/3289 [00:45<04:09,  8.61it/s]"
     ]
    },
    {
     "name": "stdout",
     "output_type": "stream",
     "text": [
      "Skipping entity\n"
     ]
    },
    {
     "name": "stderr",
     "output_type": "stream",
     "text": [
      " 35%|███▍      | 1149/3289 [00:46<03:43,  9.57it/s]"
     ]
    },
    {
     "name": "stdout",
     "output_type": "stream",
     "text": [
      "Skipping entity\n"
     ]
    },
    {
     "name": "stderr",
     "output_type": "stream",
     "text": [
      " 35%|███▌      | 1161/3289 [00:47<02:52, 12.37it/s]"
     ]
    },
    {
     "name": "stdout",
     "output_type": "stream",
     "text": [
      "Skipping entity\n",
      "Skipping entity\n"
     ]
    },
    {
     "name": "stderr",
     "output_type": "stream",
     "text": [
      " 36%|███▌      | 1171/3289 [00:48<03:01, 11.66it/s]"
     ]
    },
    {
     "name": "stdout",
     "output_type": "stream",
     "text": [
      "Skipping entity\n",
      "Skipping entity\n"
     ]
    },
    {
     "name": "stderr",
     "output_type": "stream",
     "text": [
      " 36%|███▌      | 1192/3289 [00:50<03:26, 10.18it/s]"
     ]
    },
    {
     "name": "stdout",
     "output_type": "stream",
     "text": [
      "Skipping entity\n"
     ]
    },
    {
     "name": "stderr",
     "output_type": "stream",
     "text": [
      " 39%|███▊      | 1268/3289 [00:56<02:12, 15.26it/s]"
     ]
    },
    {
     "name": "stdout",
     "output_type": "stream",
     "text": [
      "Skipping entity\n"
     ]
    },
    {
     "name": "stderr",
     "output_type": "stream",
     "text": [
      " 39%|███▉      | 1284/3289 [00:57<02:18, 14.52it/s]"
     ]
    },
    {
     "name": "stdout",
     "output_type": "stream",
     "text": [
      "Skipping entity\n"
     ]
    },
    {
     "name": "stderr",
     "output_type": "stream",
     "text": [
      " 39%|███▉      | 1288/3289 [00:58<02:23, 13.92it/s]"
     ]
    },
    {
     "name": "stdout",
     "output_type": "stream",
     "text": [
      "Skipping entity\n",
      "Skipping entity\n"
     ]
    },
    {
     "name": "stderr",
     "output_type": "stream",
     "text": [
      " 40%|████      | 1320/3289 [01:00<02:21, 13.93it/s]"
     ]
    },
    {
     "name": "stdout",
     "output_type": "stream",
     "text": [
      "Skipping entity\n"
     ]
    },
    {
     "name": "stderr",
     "output_type": "stream",
     "text": [
      " 43%|████▎     | 1418/3289 [01:07<02:21, 13.18it/s]"
     ]
    },
    {
     "name": "stdout",
     "output_type": "stream",
     "text": [
      "Skipping entity\n"
     ]
    },
    {
     "name": "stderr",
     "output_type": "stream",
     "text": [
      " 44%|████▍     | 1454/3289 [01:10<02:27, 12.47it/s]"
     ]
    },
    {
     "name": "stdout",
     "output_type": "stream",
     "text": [
      "Skipping entity\n"
     ]
    },
    {
     "name": "stderr",
     "output_type": "stream",
     "text": [
      " 45%|████▌     | 1484/3289 [01:13<02:29, 12.10it/s]"
     ]
    },
    {
     "name": "stdout",
     "output_type": "stream",
     "text": [
      "Skipping entity\n"
     ]
    },
    {
     "name": "stderr",
     "output_type": "stream",
     "text": [
      " 45%|████▌     | 1496/3289 [01:14<02:31, 11.80it/s]"
     ]
    },
    {
     "name": "stdout",
     "output_type": "stream",
     "text": [
      "Skipping entity\n"
     ]
    },
    {
     "name": "stderr",
     "output_type": "stream",
     "text": [
      " 47%|████▋     | 1532/3289 [01:17<02:22, 12.31it/s]"
     ]
    },
    {
     "name": "stdout",
     "output_type": "stream",
     "text": [
      "Skipping entity\n"
     ]
    },
    {
     "name": "stderr",
     "output_type": "stream",
     "text": [
      " 47%|████▋     | 1554/3289 [01:19<02:23, 12.11it/s]"
     ]
    },
    {
     "name": "stdout",
     "output_type": "stream",
     "text": [
      "Skipping entity\n"
     ]
    },
    {
     "name": "stderr",
     "output_type": "stream",
     "text": [
      " 51%|█████     | 1684/3289 [01:30<02:17, 11.70it/s]"
     ]
    },
    {
     "name": "stdout",
     "output_type": "stream",
     "text": [
      "Skipping entity\n"
     ]
    },
    {
     "name": "stderr",
     "output_type": "stream",
     "text": [
      " 51%|█████▏    | 1690/3289 [01:30<02:18, 11.54it/s]"
     ]
    },
    {
     "name": "stdout",
     "output_type": "stream",
     "text": [
      "Skipping entity\n"
     ]
    },
    {
     "name": "stderr",
     "output_type": "stream",
     "text": [
      " 52%|█████▏    | 1716/3289 [01:33<02:16, 11.55it/s]"
     ]
    },
    {
     "name": "stdout",
     "output_type": "stream",
     "text": [
      "Skipping entity\n",
      "Skipping entity\n"
     ]
    },
    {
     "name": "stderr",
     "output_type": "stream",
     "text": [
      " 52%|█████▏    | 1720/3289 [01:33<02:19, 11.27it/s]"
     ]
    },
    {
     "name": "stdout",
     "output_type": "stream",
     "text": [
      "Skipping entity\n"
     ]
    },
    {
     "name": "stderr",
     "output_type": "stream",
     "text": [
      " 56%|█████▌    | 1827/3289 [01:43<02:38,  9.24it/s]"
     ]
    },
    {
     "name": "stdout",
     "output_type": "stream",
     "text": [
      "Skipping entity\n"
     ]
    },
    {
     "name": "stderr",
     "output_type": "stream",
     "text": [
      " 57%|█████▋    | 1876/3289 [01:48<02:29,  9.45it/s]"
     ]
    },
    {
     "name": "stdout",
     "output_type": "stream",
     "text": [
      "Skipping entity\n"
     ]
    },
    {
     "name": "stderr",
     "output_type": "stream",
     "text": [
      " 57%|█████▋    | 1879/3289 [01:49<02:42,  8.69it/s]"
     ]
    },
    {
     "name": "stdout",
     "output_type": "stream",
     "text": [
      "Skipping entity\n"
     ]
    },
    {
     "name": "stderr",
     "output_type": "stream",
     "text": [
      " 58%|█████▊    | 1922/3289 [01:53<02:28,  9.20it/s]"
     ]
    },
    {
     "name": "stdout",
     "output_type": "stream",
     "text": [
      "Skipping entity\n"
     ]
    },
    {
     "name": "stderr",
     "output_type": "stream",
     "text": [
      " 60%|█████▉    | 1964/3289 [01:58<02:27,  8.97it/s]"
     ]
    },
    {
     "name": "stdout",
     "output_type": "stream",
     "text": [
      "Skipping entity\n",
      "Skipping entity\n"
     ]
    },
    {
     "name": "stderr",
     "output_type": "stream",
     "text": [
      " 61%|██████    | 1997/3289 [02:02<02:26,  8.84it/s]"
     ]
    },
    {
     "name": "stdout",
     "output_type": "stream",
     "text": [
      "Skipping entity\n"
     ]
    },
    {
     "name": "stderr",
     "output_type": "stream",
     "text": [
      " 61%|██████    | 2002/3289 [02:02<02:28,  8.66it/s]"
     ]
    },
    {
     "name": "stdout",
     "output_type": "stream",
     "text": [
      "Skipping entity\n"
     ]
    },
    {
     "name": "stderr",
     "output_type": "stream",
     "text": [
      " 61%|██████    | 2004/3289 [02:03<02:33,  8.40it/s]"
     ]
    },
    {
     "name": "stdout",
     "output_type": "stream",
     "text": [
      "Skipping entity\n"
     ]
    },
    {
     "name": "stderr",
     "output_type": "stream",
     "text": [
      " 61%|██████    | 2006/3289 [02:03<02:36,  8.20it/s]"
     ]
    },
    {
     "name": "stdout",
     "output_type": "stream",
     "text": [
      "Skipping entity\n",
      "Skipping entity\n"
     ]
    },
    {
     "name": "stderr",
     "output_type": "stream",
     "text": [
      " 62%|██████▏   | 2040/3289 [02:07<02:23,  8.68it/s]"
     ]
    },
    {
     "name": "stdout",
     "output_type": "stream",
     "text": [
      "Skipping entity\n"
     ]
    },
    {
     "name": "stderr",
     "output_type": "stream",
     "text": [
      " 64%|██████▍   | 2098/3289 [02:14<02:23,  8.31it/s]"
     ]
    },
    {
     "name": "stdout",
     "output_type": "stream",
     "text": [
      "Skipping entity\n"
     ]
    },
    {
     "name": "stderr",
     "output_type": "stream",
     "text": [
      " 66%|██████▌   | 2155/3289 [02:20<02:16,  8.29it/s]"
     ]
    },
    {
     "name": "stdout",
     "output_type": "stream",
     "text": [
      "Skipping entity\n"
     ]
    },
    {
     "name": "stderr",
     "output_type": "stream",
     "text": [
      " 69%|██████▉   | 2272/3289 [02:35<02:05,  8.12it/s]"
     ]
    },
    {
     "name": "stdout",
     "output_type": "stream",
     "text": [
      "Skipping entity\n"
     ]
    },
    {
     "name": "stderr",
     "output_type": "stream",
     "text": [
      " 69%|██████▉   | 2276/3289 [02:35<02:07,  7.94it/s]"
     ]
    },
    {
     "name": "stdout",
     "output_type": "stream",
     "text": [
      "Skipping entity\n"
     ]
    },
    {
     "name": "stderr",
     "output_type": "stream",
     "text": [
      " 69%|██████▉   | 2278/3289 [02:36<02:09,  7.81it/s]"
     ]
    },
    {
     "name": "stdout",
     "output_type": "stream",
     "text": [
      "Skipping entity\n"
     ]
    },
    {
     "name": "stderr",
     "output_type": "stream",
     "text": [
      " 71%|███████   | 2337/3289 [02:43<02:00,  7.88it/s]"
     ]
    },
    {
     "name": "stdout",
     "output_type": "stream",
     "text": [
      "Skipping entity\n"
     ]
    },
    {
     "name": "stderr",
     "output_type": "stream",
     "text": [
      " 74%|███████▍  | 2439/3289 [02:56<01:50,  7.72it/s]"
     ]
    },
    {
     "name": "stdout",
     "output_type": "stream",
     "text": [
      "Skipping entity\n"
     ]
    },
    {
     "name": "stderr",
     "output_type": "stream",
     "text": [
      " 74%|███████▍  | 2442/3289 [02:57<01:56,  7.29it/s]"
     ]
    },
    {
     "name": "stdout",
     "output_type": "stream",
     "text": [
      "Skipping entity\n"
     ]
    },
    {
     "name": "stderr",
     "output_type": "stream",
     "text": [
      " 75%|███████▍  | 2462/3289 [03:00<01:48,  7.63it/s]"
     ]
    },
    {
     "name": "stdout",
     "output_type": "stream",
     "text": [
      "Skipping entity\n"
     ]
    },
    {
     "name": "stderr",
     "output_type": "stream",
     "text": [
      " 76%|███████▌  | 2490/3289 [03:03<01:45,  7.60it/s]"
     ]
    },
    {
     "name": "stdout",
     "output_type": "stream",
     "text": [
      "Skipping entity\n"
     ]
    },
    {
     "name": "stderr",
     "output_type": "stream",
     "text": [
      " 77%|███████▋  | 2548/3289 [03:11<01:39,  7.41it/s]"
     ]
    },
    {
     "name": "stdout",
     "output_type": "stream",
     "text": [
      "Skipping entity\n"
     ]
    },
    {
     "name": "stderr",
     "output_type": "stream",
     "text": [
      " 79%|███████▉  | 2606/3289 [03:19<01:37,  7.03it/s]"
     ]
    },
    {
     "name": "stdout",
     "output_type": "stream",
     "text": [
      "Skipping entity\n"
     ]
    },
    {
     "name": "stderr",
     "output_type": "stream",
     "text": [
      " 80%|███████▉  | 2620/3289 [03:21<01:33,  7.19it/s]"
     ]
    },
    {
     "name": "stdout",
     "output_type": "stream",
     "text": [
      "Skipping entity\n"
     ]
    },
    {
     "name": "stderr",
     "output_type": "stream",
     "text": [
      " 82%|████████▏ | 2706/3289 [03:34<01:28,  6.58it/s]"
     ]
    },
    {
     "name": "stdout",
     "output_type": "stream",
     "text": [
      "Skipping entity\n"
     ]
    },
    {
     "name": "stderr",
     "output_type": "stream",
     "text": [
      " 83%|████████▎ | 2719/3289 [03:36<01:28,  6.42it/s]"
     ]
    },
    {
     "name": "stdout",
     "output_type": "stream",
     "text": [
      "Skipping entity\n"
     ]
    },
    {
     "name": "stderr",
     "output_type": "stream",
     "text": [
      " 83%|████████▎ | 2742/3289 [03:40<01:25,  6.40it/s]"
     ]
    },
    {
     "name": "stdout",
     "output_type": "stream",
     "text": [
      "Skipping entity\n"
     ]
    },
    {
     "name": "stderr",
     "output_type": "stream",
     "text": [
      " 84%|████████▍ | 2773/3289 [03:45<01:21,  6.33it/s]"
     ]
    },
    {
     "name": "stdout",
     "output_type": "stream",
     "text": [
      "Skipping entity\n"
     ]
    },
    {
     "name": "stderr",
     "output_type": "stream",
     "text": [
      " 84%|████████▍ | 2779/3289 [03:46<01:20,  6.33it/s]"
     ]
    },
    {
     "name": "stdout",
     "output_type": "stream",
     "text": [
      "Skipping entity\n"
     ]
    },
    {
     "name": "stderr",
     "output_type": "stream",
     "text": [
      " 87%|████████▋ | 2857/3289 [03:58<01:15,  5.70it/s]"
     ]
    },
    {
     "name": "stdout",
     "output_type": "stream",
     "text": [
      "Skipping entity\n"
     ]
    },
    {
     "name": "stderr",
     "output_type": "stream",
     "text": [
      " 88%|████████▊ | 2893/3289 [04:04<01:04,  6.17it/s]"
     ]
    },
    {
     "name": "stdout",
     "output_type": "stream",
     "text": [
      "Skipping entity\n"
     ]
    },
    {
     "name": "stderr",
     "output_type": "stream",
     "text": [
      " 89%|████████▉ | 2940/3289 [04:12<00:57,  6.07it/s]"
     ]
    },
    {
     "name": "stdout",
     "output_type": "stream",
     "text": [
      "Skipping entity\n"
     ]
    },
    {
     "name": "stderr",
     "output_type": "stream",
     "text": [
      " 90%|█████████ | 2969/3289 [04:17<00:53,  5.95it/s]"
     ]
    },
    {
     "name": "stdout",
     "output_type": "stream",
     "text": [
      "Skipping entity\n"
     ]
    },
    {
     "name": "stderr",
     "output_type": "stream",
     "text": [
      " 91%|█████████ | 2992/3289 [04:21<00:50,  5.87it/s]"
     ]
    },
    {
     "name": "stdout",
     "output_type": "stream",
     "text": [
      "Skipping entity\n"
     ]
    },
    {
     "name": "stderr",
     "output_type": "stream",
     "text": [
      " 92%|█████████▏| 3026/3289 [04:27<00:44,  5.85it/s]"
     ]
    },
    {
     "name": "stdout",
     "output_type": "stream",
     "text": [
      "Skipping entity\n"
     ]
    },
    {
     "name": "stderr",
     "output_type": "stream",
     "text": [
      " 92%|█████████▏| 3034/3289 [04:28<00:42,  5.93it/s]"
     ]
    },
    {
     "name": "stdout",
     "output_type": "stream",
     "text": [
      "Skipping entity\n"
     ]
    },
    {
     "name": "stderr",
     "output_type": "stream",
     "text": [
      " 92%|█████████▏| 3038/3289 [04:29<00:44,  5.68it/s]"
     ]
    },
    {
     "name": "stdout",
     "output_type": "stream",
     "text": [
      "Skipping entity\n"
     ]
    },
    {
     "name": "stderr",
     "output_type": "stream",
     "text": [
      " 93%|█████████▎| 3062/3289 [04:33<00:40,  5.67it/s]"
     ]
    },
    {
     "name": "stdout",
     "output_type": "stream",
     "text": [
      "Skipping entity\n"
     ]
    },
    {
     "name": "stderr",
     "output_type": "stream",
     "text": [
      " 95%|█████████▌| 3136/3289 [04:47<00:14, 10.91it/s]\n"
     ]
    },
    {
     "ename": "KeyboardInterrupt",
     "evalue": "",
     "output_type": "error",
     "traceback": [
      "\u001b[0;31m---------------------------------------------------------------------------\u001b[0m",
      "\u001b[0;31mKeyboardInterrupt\u001b[0m                         Traceback (most recent call last)",
      "\u001b[0;32m<ipython-input-11-073e12bcf6aa>\u001b[0m in \u001b[0;36m<module>\u001b[0;34m\u001b[0m\n\u001b[0;32m----> 1\u001b[0;31m \u001b[0mtrainModel\u001b[0m\u001b[0;34m(\u001b[0m\u001b[0mtraining_data\u001b[0m\u001b[0;34m)\u001b[0m\u001b[0;34m\u001b[0m\u001b[0;34m\u001b[0m\u001b[0m\n\u001b[0m\u001b[1;32m      2\u001b[0m \u001b[0;31m#print(keywords)\u001b[0m\u001b[0;34m\u001b[0m\u001b[0;34m\u001b[0m\u001b[0;34m\u001b[0m\u001b[0m\n",
      "\u001b[0;32m<ipython-input-10-8188a42f9977>\u001b[0m in \u001b[0;36mtrainModel\u001b[0;34m(data)\u001b[0m\n\u001b[1;32m    238\u001b[0m                 \u001b[0mdb\u001b[0m\u001b[0;34m.\u001b[0m\u001b[0madd\u001b[0m\u001b[0;34m(\u001b[0m\u001b[0mdoc\u001b[0m\u001b[0;34m)\u001b[0m\u001b[0;34m\u001b[0m\u001b[0;34m\u001b[0m\u001b[0m\n\u001b[1;32m    239\u001b[0m \u001b[0;34m\u001b[0m\u001b[0m\n\u001b[0;32m--> 240\u001b[0;31m                 \u001b[0mdb\u001b[0m\u001b[0;34m.\u001b[0m\u001b[0mto_disk\u001b[0m\u001b[0;34m(\u001b[0m\u001b[0;34m\"./train.spacy\"\u001b[0m\u001b[0;34m)\u001b[0m \u001b[0;31m# save the docbin object\u001b[0m\u001b[0;34m\u001b[0m\u001b[0;34m\u001b[0m\u001b[0m\n\u001b[0m\u001b[1;32m    241\u001b[0m \u001b[0;34m\u001b[0m\u001b[0m\n\u001b[1;32m    242\u001b[0m             \u001b[0mstream\u001b[0m \u001b[0;34m=\u001b[0m \u001b[0mos\u001b[0m\u001b[0;34m.\u001b[0m\u001b[0mpopen\u001b[0m\u001b[0;34m(\u001b[0m\u001b[0;34m'python3 -m spacy train config.cfg --output ./output --paths.train ./train.spacy --paths.dev ./train.spacy'\u001b[0m\u001b[0;34m)\u001b[0m\u001b[0;34m\u001b[0m\u001b[0;34m\u001b[0m\u001b[0m\n",
      "\u001b[0;32m~/.local/lib/python3.8/site-packages/spacy/tokens/_serialize.py\u001b[0m in \u001b[0;36mto_disk\u001b[0;34m(self, path)\u001b[0m\n\u001b[1;32m    245\u001b[0m         \u001b[0mpath\u001b[0m \u001b[0;34m=\u001b[0m \u001b[0mensure_path\u001b[0m\u001b[0;34m(\u001b[0m\u001b[0mpath\u001b[0m\u001b[0;34m)\u001b[0m\u001b[0;34m\u001b[0m\u001b[0;34m\u001b[0m\u001b[0m\n\u001b[1;32m    246\u001b[0m         \u001b[0;32mwith\u001b[0m \u001b[0mpath\u001b[0m\u001b[0;34m.\u001b[0m\u001b[0mopen\u001b[0m\u001b[0;34m(\u001b[0m\u001b[0;34m\"wb\"\u001b[0m\u001b[0;34m)\u001b[0m \u001b[0;32mas\u001b[0m \u001b[0mfile_\u001b[0m\u001b[0;34m:\u001b[0m\u001b[0;34m\u001b[0m\u001b[0;34m\u001b[0m\u001b[0m\n\u001b[0;32m--> 247\u001b[0;31m             \u001b[0mfile_\u001b[0m\u001b[0;34m.\u001b[0m\u001b[0mwrite\u001b[0m\u001b[0;34m(\u001b[0m\u001b[0mself\u001b[0m\u001b[0;34m.\u001b[0m\u001b[0mto_bytes\u001b[0m\u001b[0;34m(\u001b[0m\u001b[0;34m)\u001b[0m\u001b[0;34m)\u001b[0m\u001b[0;34m\u001b[0m\u001b[0;34m\u001b[0m\u001b[0m\n\u001b[0m\u001b[1;32m    248\u001b[0m \u001b[0;34m\u001b[0m\u001b[0m\n\u001b[1;32m    249\u001b[0m     \u001b[0;32mdef\u001b[0m \u001b[0mfrom_disk\u001b[0m\u001b[0;34m(\u001b[0m\u001b[0mself\u001b[0m\u001b[0;34m,\u001b[0m \u001b[0mpath\u001b[0m\u001b[0;34m:\u001b[0m \u001b[0mUnion\u001b[0m\u001b[0;34m[\u001b[0m\u001b[0mstr\u001b[0m\u001b[0;34m,\u001b[0m \u001b[0mPath\u001b[0m\u001b[0;34m]\u001b[0m\u001b[0;34m)\u001b[0m \u001b[0;34m->\u001b[0m \u001b[0;34m\"DocBin\"\u001b[0m\u001b[0;34m:\u001b[0m\u001b[0;34m\u001b[0m\u001b[0;34m\u001b[0m\u001b[0m\n",
      "\u001b[0;32m~/.local/lib/python3.8/site-packages/spacy/tokens/_serialize.py\u001b[0m in \u001b[0;36mto_bytes\u001b[0;34m(self)\u001b[0m\n\u001b[1;32m    201\u001b[0m         \u001b[0;32mif\u001b[0m \u001b[0mself\u001b[0m\u001b[0;34m.\u001b[0m\u001b[0mstore_user_data\u001b[0m\u001b[0;34m:\u001b[0m\u001b[0;34m\u001b[0m\u001b[0;34m\u001b[0m\u001b[0m\n\u001b[1;32m    202\u001b[0m             \u001b[0mmsg\u001b[0m\u001b[0;34m[\u001b[0m\u001b[0;34m\"user_data\"\u001b[0m\u001b[0;34m]\u001b[0m \u001b[0;34m=\u001b[0m \u001b[0mself\u001b[0m\u001b[0;34m.\u001b[0m\u001b[0muser_data\u001b[0m\u001b[0;34m\u001b[0m\u001b[0;34m\u001b[0m\u001b[0m\n\u001b[0;32m--> 203\u001b[0;31m         \u001b[0;32mreturn\u001b[0m \u001b[0mzlib\u001b[0m\u001b[0;34m.\u001b[0m\u001b[0mcompress\u001b[0m\u001b[0;34m(\u001b[0m\u001b[0msrsly\u001b[0m\u001b[0;34m.\u001b[0m\u001b[0mmsgpack_dumps\u001b[0m\u001b[0;34m(\u001b[0m\u001b[0mmsg\u001b[0m\u001b[0;34m)\u001b[0m\u001b[0;34m)\u001b[0m\u001b[0;34m\u001b[0m\u001b[0;34m\u001b[0m\u001b[0m\n\u001b[0m\u001b[1;32m    204\u001b[0m \u001b[0;34m\u001b[0m\u001b[0m\n\u001b[1;32m    205\u001b[0m     \u001b[0;32mdef\u001b[0m \u001b[0mfrom_bytes\u001b[0m\u001b[0;34m(\u001b[0m\u001b[0mself\u001b[0m\u001b[0;34m,\u001b[0m \u001b[0mbytes_data\u001b[0m\u001b[0;34m:\u001b[0m \u001b[0mbytes\u001b[0m\u001b[0;34m)\u001b[0m \u001b[0;34m->\u001b[0m \u001b[0;34m\"DocBin\"\u001b[0m\u001b[0;34m:\u001b[0m\u001b[0;34m\u001b[0m\u001b[0;34m\u001b[0m\u001b[0m\n",
      "\u001b[0;31mKeyboardInterrupt\u001b[0m: "
     ]
    }
   ],
   "source": [
    "trainModel(training_data)\n",
    "#print(keywords)  \n"
   ]
  },
  {
   "cell_type": "code",
   "execution_count": 12,
   "metadata": {},
   "outputs": [
    {
     "data": {
      "text/html": [
       "<span class=\"tex2jax_ignore\"><div class=\"entities\" style=\"line-height: 2.5; direction: ltr\">My friend likes to drink milk and eat \n",
       "<mark class=\"entity\" style=\"background: #ddd; padding: 0.45em 0.6em; margin: 0 0.25em; line-height: 1; border-radius: 0.35em;\">\n",
       "    fish\n",
       "    <span style=\"font-size: 0.8em; font-weight: bold; line-height: 1; border-radius: 0.35em; vertical-align: middle; margin-left: 0.5rem\">FOOD</span>\n",
       "</mark>\n",
       " and \n",
       "<mark class=\"entity\" style=\"background: #ddd; padding: 0.45em 0.6em; margin: 0 0.25em; line-height: 1; border-radius: 0.35em;\">\n",
       "    chicken\n",
       "    <span style=\"font-size: 0.8em; font-weight: bold; line-height: 1; border-radius: 0.35em; vertical-align: middle; margin-left: 0.5rem\">FOOD</span>\n",
       "</mark>\n",
       "</div></span>"
      ],
      "text/plain": [
       "<IPython.core.display.HTML object>"
      ]
     },
     "metadata": {},
     "output_type": "display_data"
    },
    {
     "data": {
      "text/html": [
       "<span class=\"tex2jax_ignore\"><div class=\"entities\" style=\"line-height: 2.5; direction: ltr\">My friend is a \n",
       "<mark class=\"entity\" style=\"background: #ddd; padding: 0.45em 0.6em; margin: 0 0.25em; line-height: 1; border-radius: 0.35em;\">\n",
       "    chicken\n",
       "    <span style=\"font-size: 0.8em; font-weight: bold; line-height: 1; border-radius: 0.35em; vertical-align: middle; margin-left: 0.5rem\">FOOD</span>\n",
       "</mark>\n",
       "</div></span>"
      ],
      "text/plain": [
       "<IPython.core.display.HTML object>"
      ]
     },
     "metadata": {},
     "output_type": "display_data"
    },
    {
     "data": {
      "text/html": [
       "<span class=\"tex2jax_ignore\"><div class=\"entities\" style=\"line-height: 2.5; direction: ltr\">A \n",
       "<mark class=\"entity\" style=\"background: #ddd; padding: 0.45em 0.6em; margin: 0 0.25em; line-height: 1; border-radius: 0.35em;\">\n",
       "    chicken\n",
       "    <span style=\"font-size: 0.8em; font-weight: bold; line-height: 1; border-radius: 0.35em; vertical-align: middle; margin-left: 0.5rem\">FOOD</span>\n",
       "</mark>\n",
       " is a wild animal.</div></span>"
      ],
      "text/plain": [
       "<IPython.core.display.HTML object>"
      ]
     },
     "metadata": {},
     "output_type": "display_data"
    },
    {
     "data": {
      "text/html": [
       "<span class=\"tex2jax_ignore\"><div class=\"entities\" style=\"line-height: 2.5; direction: ltr\">The \n",
       "<mark class=\"entity\" style=\"background: #ddd; padding: 0.45em 0.6em; margin: 0 0.25em; line-height: 1; border-radius: 0.35em;\">\n",
       "    chicken\n",
       "    <span style=\"font-size: 0.8em; font-weight: bold; line-height: 1; border-radius: 0.35em; vertical-align: middle; margin-left: 0.5rem\">FOOD</span>\n",
       "</mark>\n",
       " is a wild animal.</div></span>"
      ],
      "text/plain": [
       "<IPython.core.display.HTML object>"
      ]
     },
     "metadata": {},
     "output_type": "display_data"
    }
   ],
   "source": [
    "nlp = spacy.load(MODEL_PATH)\n",
    "ent_recognize(\"My friend likes to drink milk and eat fish and chicken\")\n",
    "ent_recognize(\"My friend is a chicken\")\n",
    "ent_recognize(\"A chicken is a wild animal.\")\n",
    "ent_recognize(\"The chicken is a wild animal.\")\n",
    "\n",
    "#rankTweet(\"sugar\")\n",
    "#eval_model()\n"
   ]
  },
  {
   "cell_type": "code",
   "execution_count": 7,
   "metadata": {},
   "outputs": [],
   "source": [
    "#eval_model()\n",
    "# show_tp()\n",
    "# show_tn()\n",
    "# show_fp()\n",
    "#show_fn()\n"
   ]
  },
  {
   "cell_type": "code",
   "execution_count": 25,
   "metadata": {},
   "outputs": [
    {
     "data": {
      "text/plain": [
       "1"
      ]
     },
     "execution_count": 25,
     "metadata": {},
     "output_type": "execute_result"
    }
   ],
   "source": [
    "rankTweet(\"Hello chicken\")"
   ]
  },
  {
   "cell_type": "code",
   "execution_count": 31,
   "metadata": {},
   "outputs": [
    {
     "name": "stdout",
     "output_type": "stream",
     "text": [
      "['chicken', 'milk']\n"
     ]
    }
   ],
   "source": [
    "print(keywords)"
   ]
  },
  {
   "cell_type": "code",
   "execution_count": null,
   "metadata": {},
   "outputs": [],
   "source": []
  }
 ],
 "metadata": {
  "kernelspec": {
   "display_name": "Python 3",
   "language": "python",
   "name": "python3"
  },
  "language_info": {
   "codemirror_mode": {
    "name": "ipython",
    "version": 3
   },
   "file_extension": ".py",
   "mimetype": "text/x-python",
   "name": "python",
   "nbconvert_exporter": "python",
   "pygments_lexer": "ipython3",
   "version": "3.8.10"
  }
 },
 "nbformat": 4,
 "nbformat_minor": 4
}
