{
 "cells": [
  {
   "cell_type": "markdown",
   "metadata": {},
   "source": [
    "## Evaluation Notebook"
   ]
  },
  {
   "cell_type": "code",
   "execution_count": 6,
   "metadata": {},
   "outputs": [
    {
     "name": "stdout",
     "output_type": "stream",
     "text": [
      "Collecting xlrd\n",
      "  Downloading xlrd-2.0.1-py2.py3-none-any.whl (96 kB)\n",
      "\u001b[K     |████████████████████████████████| 96 kB 1.9 MB/s eta 0:00:011\n",
      "\u001b[?25hInstalling collected packages: xlrd\n",
      "Successfully installed xlrd-2.0.1\n"
     ]
    }
   ],
   "source": [
    "!pip install xlrd\n"
   ]
  },
  {
   "cell_type": "code",
   "execution_count": 63,
   "metadata": {
    "scrolled": true
   },
   "outputs": [
    {
     "name": "stdout",
     "output_type": "stream",
     "text": [
      "('I like chicken and salsa', {'entities': [(7, 14, 'FOOD')]})\n",
      "['tok2vec', 'ner']\n"
     ]
    }
   ],
   "source": [
    "import pandas as pd\n",
    "from tqdm import tqdm\n",
    "import spacy\n",
    "from spacy.tokens import DocBin\n",
    "import re\n",
    "import os\n",
    "from spacy import displacy\n",
    "from sklearn import metrics\n",
    "from sklearn.metrics import plot_confusion_matrix\n",
    "\n",
    "FOODKEEPER_PATH = \"data/FoodKeeper-Data.xls\"\n",
    "TRAINING_DATA_PATH = \"data/data.csv\"\n",
    "MODEL_PATH = \"output/model-last\"\n",
    "TEST_DATA_PATH = \"test/test_data.csv\"\n",
    "\n",
    "pd.options.mode.chained_assignment = None\n",
    "\n",
    "nlp = spacy.load(MODEL_PATH)\n",
    "food_data = pd.read_excel(FOODKEEPER_PATH, sheet_name = \"Product\")\n",
    "training_data = pd.read_csv(TRAINING_DATA_PATH,index_col = False, header = None)\n",
    "test_data = pd.read_csv(TEST_DATA_PATH)\n",
    "\n",
    "#write a method to find the top x keywords in the dataset\n",
    "#loop through and count the specific entities\n",
    "keywords = ['chicken', 'milk', 'butter', 'cheese']\n",
    "sampleData = []\n",
    "\n",
    "\n",
    "    \n",
    "#update rank tweet to take the counter as a parameter and condense both rankings\n",
    "def rankTweet(tweet):\n",
    "    tweetKeywords = []\n",
    "    doc = nlp(tweet)\n",
    "    return len(doc.ents)\n",
    "       \n",
    "        \n",
    "    print(tweetKeywords)\n",
    "    \n",
    "def findNewKeywords(tweet, keywords):\n",
    "    foodkeeperKeys = foodKeeperInfo()\n",
    "    x = tweet.split()\n",
    "    word = \"\"\n",
    "    i = 0\n",
    "    while i < len(x):\n",
    "    #for i in range(len(x)):\n",
    "        z = 1\n",
    "        if x[i] in foodkeeperKeys:\n",
    "            word = x[i]\n",
    "        try:\n",
    "            foundBiWord = x[i] + \" \" + x[i+1]\n",
    "            if foundBiWord in keywords:\n",
    "                word = foundBiWord\n",
    "                z = 2\n",
    "        except:\n",
    "            pass\n",
    "        \n",
    "        try:\n",
    "            foundTriWord = x[i] + \" \" + x[i+1] + \" \" + x[i+2]\n",
    "            if foundTriWord in keywords:\n",
    "                word = foundTriWord\n",
    "                z = 3\n",
    "        except:\n",
    "            pass\n",
    "        i += z\n",
    "        \n",
    "        if word not in keywords and word != \"\":\n",
    "            keywords.append(word)\n",
    "    #print(keywords)\n",
    "    \n",
    "    \n",
    "def convertToTrainingFormat(tweet, keywords):\n",
    "    x = tweet.split()\n",
    "    myEnts = {'entities':[]}\n",
    "    found = False\n",
    "    i = 0\n",
    "    while i < len(x):\n",
    "        z = 1\n",
    "        if x[i] in keywords:\n",
    "            pos = tweet.find(x[i])\n",
    "            y = (pos, pos + len(x[i]), 'FOOD')\n",
    "            found = True\n",
    "            \n",
    "        try:\n",
    "            foundBiWord = x[i] + \" \" + x[i+1]\n",
    "            if foundBiWord in keywords:\n",
    "                pos = tweet.find(x[i])\n",
    "                y = (pos, pos + len(x[i])+len(x[i+1]) + 1, 'FOOD')\n",
    "                found = True\n",
    "                z = 2\n",
    "        except:\n",
    "            pass\n",
    "        try:\n",
    "            foundTriWord = x[i] + \" \" + x[i+1] + \" \" + x[i+2]\n",
    "            if foundTriWord in keywords:\n",
    "                pos = tweet.find(x[i])\n",
    "                y = (pos, pos + len(x[i])+len(x[i+1])+len(x[i+2]) + 2, 'FOOD')\n",
    "                found = True\n",
    "                z = 3\n",
    "        except:\n",
    "            pass\n",
    "        \n",
    "        try:\n",
    "            if y not in myEnts['entities']:\n",
    "                myEnts['entities'].append(y)  \n",
    "        except:\n",
    "            pass\n",
    "        #print(z)\n",
    "        i += z\n",
    "        #print(i)\n",
    "        \n",
    "        \n",
    "    formatted = (tweet, myEnts)\n",
    "    #print(formatted)\n",
    "    if found:\n",
    "        return formatted\n",
    "    else: return ()\n",
    "   \n",
    "    \n",
    "\n",
    "print(convertToTrainingFormat('I like chicken and salsa', keywords))\n",
    "\n",
    "#print(food_data['Keywords'])\n",
    "\n",
    "def foodKeeperInfo():              \n",
    "    keywords = []\n",
    "    for word in food_data['Name']:\n",
    "        word = word.lstrip()\n",
    "        word = word.rstrip()\n",
    "\n",
    "        if word.lower() not in keywords: \n",
    "            keywords.append(word.lower())\n",
    "\n",
    "    #print(\"Total foodkeeper food names: \" + str(len(keywords)))        \n",
    "    #for element in sorted(keywords):\n",
    "        #print(element)\n",
    "        \n",
    "    return keywords\n",
    "\n",
    "\n",
    "\n",
    "def preProcess(tweet):\n",
    "    #Converts a tweet to lowercase, replaces anyusername w/ <USERNAME> and URLS with <URL>\n",
    "    tweet = tweet.lower()\n",
    "    #fix punctuation\n",
    "    tweet = re.sub('@[a-zA-z0-9]*', '<USERNAME>', tweet)\n",
    "    tweet = re.sub('https[a-zA-z0-9./:]*', '<URL>', tweet)\n",
    "    \n",
    "    return tweet\n",
    "\n",
    "\n",
    "noEntity= []\n",
    "               \n",
    "           \n",
    "def trainModel(data):\n",
    "    counter = 0\n",
    "    while counter < 4:\n",
    "        print(\"~~~~~~~~~~~~~~~~~\"+str(counter)+\"~~~~~~~~~~~~~~~~~\")\n",
    "        nlp = spacy.blank(\"en\") # load a new spacy model\n",
    "        db = DocBin() # create a DocBin object\n",
    "\n",
    "        myTweets = []\n",
    "        #Loop through all the tweets\n",
    "        for i in range(len(data[0])):\n",
    "            \n",
    "            if counter == 0:\n",
    "                x = convertToTrainingFormat(preProcess(data[0][i]), keywords)\n",
    "                if x!= ():\n",
    "                    if len(x[1]['entities']) > 1:\n",
    "                        #print(\"Found tweet\", x[0])\n",
    "                        myTweets.append(x)  \n",
    "        \n",
    "            else:\n",
    "                #convert each tweet into spacy training format\n",
    "                x = convertToTrainingFormat(preProcess(data[0][i]), keywords)\n",
    "                if x != ():\n",
    "                    #print(len(x[1]['entities'])\n",
    "                    #check the ranking of the tweet\n",
    "                    if rankTweet(x[0]) > 2:\n",
    "                        #print(\"Checking rank...\")\n",
    "                        myTweets.append(x)\n",
    "\n",
    "\n",
    "\n",
    "\n",
    "        for text, annot in tqdm(myTweets): # data in previous format\n",
    "            doc = nlp.make_doc(text) # create doc object from text\n",
    "            ents = []\n",
    "            for start, end, label in annot[\"entities\"]: # add character indexes\n",
    "                span = doc.char_span(start, end, label=label, alignment_mode=\"contract\")\n",
    "                if span is None:\n",
    "                    print(\"Skipping entity\")\n",
    "                else:\n",
    "                    ents.append(span)\n",
    "            doc.ents = ents # label the text with the ents\n",
    "            db.add(doc)\n",
    "\n",
    "            db.to_disk(\"./train.spacy\") # save the docbin object\n",
    "\n",
    "        stream = os.popen('python3 -m spacy train config.cfg --output ./output --paths.train ./train.spacy --paths.dev ./train.spacy')\n",
    "        print(stream.read())\n",
    "        #print(\"Training model now...\")\n",
    "        eval_model()\n",
    "        print(keywords)\n",
    "\n",
    "        for element in myTweets:\n",
    "            findNewKeywords(element[0], keywords)\n",
    "\n",
    "        print(keywords)\n",
    "        counter += 1\n",
    "        \n",
    "        \n",
    "        \n",
    "\n",
    "def information(data):\n",
    "    myData = {}\n",
    "    totalEnt=0\n",
    "    \n",
    "    for i in range(len(data[0])):\n",
    "        doc = nlp(preProcess(data[0][i]))\n",
    "        if len(doc.ents) == 0:\n",
    "            noEntity.append(preProcess(data[0][i]))\n",
    "            \n",
    "        #print(len(doc.ents))\n",
    "        if(len(doc.ents) == 4):\n",
    "            print(doc)\n",
    "            \n",
    "        for entity in doc.ents: \n",
    "        #print(entity.label_)\n",
    "            totalEnt+=1\n",
    "            if(entity.label_ == 'FOOD'):\n",
    "                if entity.text in myData:\n",
    "                    myData[entity.text] += 1\n",
    "                else:\n",
    "                    myData[entity.text] = 1\n",
    "                    \n",
    "    print(\"Number of entities found: \" + str(len(myData)))\n",
    "    print(totalEnt)\n",
    "    for i in sorted(myData, key = myData.get, reverse=True):\n",
    "        print(\"Entity: \" + i, \"Count: \" + str(myData[i]), \"Density: \" + str(format(myData[i]/totalEnt, '.2f')), end = \"\\n\")\n",
    "    \n",
    "    \n",
    "    return myData\n",
    "\n",
    "\n",
    "\n",
    "\n",
    "for i in range(len(test_data['tweet'])):\n",
    "    test_data['tweet'][i] = preProcess(test_data['tweet'][i])\n",
    "\n",
    "\n",
    "\n",
    "y = test_data['food'].tolist()\n",
    "print(nlp.pipe_names)\n",
    "    \n",
    "def ent_recognize(text):\n",
    "    doc = nlp(text)\n",
    "    displacy.render(doc,style = \"ent\")\n",
    "    \n",
    "def predict(tweet):\n",
    "    doc = nlp(str(tweet))\n",
    "    if doc.ents:\n",
    "        displacy.render(doc,style = \"ent\")\n",
    "\n",
    "def returnPrediction(tweet):\n",
    "    nlp = spacy.load(MODEL_PATH)\n",
    "    doc = nlp(str(tweet))\n",
    "    if doc.ents:\n",
    "        return 1\n",
    "    else:\n",
    "        return 0\n",
    "    \n",
    "def get_predictions():\n",
    "    predictions = []\n",
    "    for tweet in test_data['tweet'].tolist():\n",
    "        predictions.append(returnPrediction(tweet))\n",
    "    return predictions\n",
    "    \n",
    "def eval_model():\n",
    "    #nlp = spacy.load(MODEL_PATH)\n",
    "    predictions = get_predictions()\n",
    "    print(metrics.confusion_matrix(y,predictions, labels = [1,0]))\n",
    "    print(metrics.classification_report(y,predictions, labels = [1,0]))\n",
    "    \n",
    "def show_tp():\n",
    "    counter = 0\n",
    "    tweets = test_data['tweet'].tolist()\n",
    "    predictions = get_predictions()\n",
    "    for i in range(len(y)):\n",
    "        if predictions[i] == 1 and y[i] == 1:\n",
    "            print(\"True positives:\", tweets[i], \"\\n\")\n",
    "            counter += 1\n",
    "    print(counter)\n",
    "    \n",
    "def show_tn():\n",
    "    counter = 0\n",
    "    predictions = get_predictions()\n",
    "    tweets = test_data['tweet'].tolist()\n",
    "    for i in range(len(y)):\n",
    "        if predictions[i] == 0 and y[i] == 0:\n",
    "            print(\"True Negative:\", tweets[i], \"\\n\")\n",
    "            counter += 1\n",
    "    print(counter)\n",
    "    \n",
    "def show_fn():\n",
    "    predictions = get_predictions()\n",
    "    tweets = test_data['tweet']\n",
    "    counter = 0\n",
    "    for i in range(len(y)):\n",
    "        if predictions[i] == 0 and y[i] == 1:\n",
    "            print(\"False Negative:\", tweets[i], \"\\n\")\n",
    "            counter += 1\n",
    "    print(counter)\n",
    "    \n",
    "def show_fp():\n",
    "    predictions = get_predictions()\n",
    "    tweets = test_data['tweet'].tolist()\n",
    "    for i in range(len(y)):\n",
    "        if predictions[i] == 1 and y[i] == 0:\n",
    "            print(\"False Positive:\")\n",
    "            doc = nlp(str(tweets[i]))\n",
    "            if doc.ents:\n",
    "                displacy.render(doc,style = \"ent\")"
   ]
  },
  {
   "cell_type": "markdown",
   "metadata": {},
   "source": [
    "## Use the function below to check individual sentences"
   ]
  },
  {
   "cell_type": "code",
   "execution_count": 34,
   "metadata": {},
   "outputs": [
    {
     "name": "stderr",
     "output_type": "stream",
     "text": [
      "/home/brandon/.local/lib/python3.8/site-packages/spacy/displacy/__init__.py:189: UserWarning: [W006] No entities to visualize found in Doc object. If this is surprising to you, make sure the Doc was processed using a model that supports named entity recognition, and check the `doc.ents` property manually if necessary.\n",
      "  warnings.warn(Warnings.W006)\n"
     ]
    },
    {
     "data": {
      "text/html": [
       "<span class=\"tex2jax_ignore\"><div class=\"entities\" style=\"line-height: 2.5; direction: ltr\">My chicken is tasty</div></span>"
      ],
      "text/plain": [
       "<IPython.core.display.HTML object>"
      ]
     },
     "metadata": {},
     "output_type": "display_data"
    }
   ],
   "source": [
    "ent_recognize(\"My chicken is tasty\")"
   ]
  },
  {
   "cell_type": "markdown",
   "metadata": {},
   "source": [
    "## Use the function below to check model performance on the entire test set"
   ]
  },
  {
   "cell_type": "code",
   "execution_count": 25,
   "metadata": {
    "scrolled": true
   },
   "outputs": [
    {
     "name": "stdout",
     "output_type": "stream",
     "text": [
      "[[ 0 44]\n",
      " [ 0 39]]\n",
      "              precision    recall  f1-score   support\n",
      "\n",
      "           1       0.00      0.00      0.00        44\n",
      "           0       0.47      1.00      0.64        39\n",
      "\n",
      "    accuracy                           0.47        83\n",
      "   macro avg       0.23      0.50      0.32        83\n",
      "weighted avg       0.22      0.47      0.30        83\n",
      "\n"
     ]
    },
    {
     "name": "stderr",
     "output_type": "stream",
     "text": [
      "/home/brandon/.local/lib/python3.8/site-packages/sklearn/metrics/_classification.py:1248: UndefinedMetricWarning: Precision and F-score are ill-defined and being set to 0.0 in labels with no predicted samples. Use `zero_division` parameter to control this behavior.\n",
      "  _warn_prf(average, modifier, msg_start, len(result))\n",
      "/home/brandon/.local/lib/python3.8/site-packages/sklearn/metrics/_classification.py:1248: UndefinedMetricWarning: Precision and F-score are ill-defined and being set to 0.0 in labels with no predicted samples. Use `zero_division` parameter to control this behavior.\n",
      "  _warn_prf(average, modifier, msg_start, len(result))\n",
      "/home/brandon/.local/lib/python3.8/site-packages/sklearn/metrics/_classification.py:1248: UndefinedMetricWarning: Precision and F-score are ill-defined and being set to 0.0 in labels with no predicted samples. Use `zero_division` parameter to control this behavior.\n",
      "  _warn_prf(average, modifier, msg_start, len(result))\n"
     ]
    }
   ],
   "source": [
    "eval_model()"
   ]
  },
  {
   "cell_type": "markdown",
   "metadata": {},
   "source": [
    "## Use the functions below to see TP, TN, FP, FN respectively"
   ]
  },
  {
   "cell_type": "code",
   "execution_count": 2,
   "metadata": {},
   "outputs": [],
   "source": [
    "# show_tp()\n",
    "# show_tn()\n",
    "# show_fp()\n",
    "#show_fn()"
   ]
  },
  {
   "cell_type": "code",
   "execution_count": 3,
   "metadata": {},
   "outputs": [],
   "source": [
    "#training_data.info()"
   ]
  },
  {
   "cell_type": "code",
   "execution_count": 4,
   "metadata": {
    "scrolled": true
   },
   "outputs": [
    {
     "ename": "KeyboardInterrupt",
     "evalue": "",
     "output_type": "error",
     "traceback": [
      "\u001b[0;31m---------------------------------------------------------------------------\u001b[0m",
      "\u001b[0;31mKeyboardInterrupt\u001b[0m                         Traceback (most recent call last)",
      "\u001b[0;32m<ipython-input-4-2716a7f28add>\u001b[0m in \u001b[0;36m<module>\u001b[0;34m\u001b[0m\n\u001b[0;32m----> 1\u001b[0;31m \u001b[0mmyTrainingdata\u001b[0m \u001b[0;34m=\u001b[0m \u001b[0minformation\u001b[0m\u001b[0;34m(\u001b[0m\u001b[0mtraining_data\u001b[0m\u001b[0;34m)\u001b[0m\u001b[0;34m\u001b[0m\u001b[0;34m\u001b[0m\u001b[0m\n\u001b[0m",
      "\u001b[0;32m<ipython-input-3-0ce7d2b2f97b>\u001b[0m in \u001b[0;36minformation\u001b[0;34m(data)\u001b[0m\n\u001b[1;32m    197\u001b[0m \u001b[0;34m\u001b[0m\u001b[0m\n\u001b[1;32m    198\u001b[0m     \u001b[0;32mfor\u001b[0m \u001b[0mi\u001b[0m \u001b[0;32min\u001b[0m \u001b[0mrange\u001b[0m\u001b[0;34m(\u001b[0m\u001b[0mlen\u001b[0m\u001b[0;34m(\u001b[0m\u001b[0mdata\u001b[0m\u001b[0;34m[\u001b[0m\u001b[0;36m0\u001b[0m\u001b[0;34m]\u001b[0m\u001b[0;34m)\u001b[0m\u001b[0;34m)\u001b[0m\u001b[0;34m:\u001b[0m\u001b[0;34m\u001b[0m\u001b[0;34m\u001b[0m\u001b[0m\n\u001b[0;32m--> 199\u001b[0;31m         \u001b[0mdoc\u001b[0m \u001b[0;34m=\u001b[0m \u001b[0mnlp\u001b[0m\u001b[0;34m(\u001b[0m\u001b[0mpreProcess\u001b[0m\u001b[0;34m(\u001b[0m\u001b[0mdata\u001b[0m\u001b[0;34m[\u001b[0m\u001b[0;36m0\u001b[0m\u001b[0;34m]\u001b[0m\u001b[0;34m[\u001b[0m\u001b[0mi\u001b[0m\u001b[0;34m]\u001b[0m\u001b[0;34m)\u001b[0m\u001b[0;34m)\u001b[0m\u001b[0;34m\u001b[0m\u001b[0;34m\u001b[0m\u001b[0m\n\u001b[0m\u001b[1;32m    200\u001b[0m         \u001b[0;32mif\u001b[0m \u001b[0mlen\u001b[0m\u001b[0;34m(\u001b[0m\u001b[0mdoc\u001b[0m\u001b[0;34m.\u001b[0m\u001b[0ments\u001b[0m\u001b[0;34m)\u001b[0m \u001b[0;34m==\u001b[0m \u001b[0;36m0\u001b[0m\u001b[0;34m:\u001b[0m\u001b[0;34m\u001b[0m\u001b[0;34m\u001b[0m\u001b[0m\n\u001b[1;32m    201\u001b[0m             \u001b[0mnoEntity\u001b[0m\u001b[0;34m.\u001b[0m\u001b[0mappend\u001b[0m\u001b[0;34m(\u001b[0m\u001b[0mpreProcess\u001b[0m\u001b[0;34m(\u001b[0m\u001b[0mdata\u001b[0m\u001b[0;34m[\u001b[0m\u001b[0;36m0\u001b[0m\u001b[0;34m]\u001b[0m\u001b[0;34m[\u001b[0m\u001b[0mi\u001b[0m\u001b[0;34m]\u001b[0m\u001b[0;34m)\u001b[0m\u001b[0;34m)\u001b[0m\u001b[0;34m\u001b[0m\u001b[0;34m\u001b[0m\u001b[0m\n",
      "\u001b[0;32m~/.local/lib/python3.8/site-packages/spacy/language.py\u001b[0m in \u001b[0;36m__call__\u001b[0;34m(self, text, disable, component_cfg)\u001b[0m\n\u001b[1;32m    981\u001b[0m         \u001b[0mDOCS\u001b[0m\u001b[0;34m:\u001b[0m \u001b[0mhttps\u001b[0m\u001b[0;34m:\u001b[0m\u001b[0;34m//\u001b[0m\u001b[0mspacy\u001b[0m\u001b[0;34m.\u001b[0m\u001b[0mio\u001b[0m\u001b[0;34m/\u001b[0m\u001b[0mapi\u001b[0m\u001b[0;34m/\u001b[0m\u001b[0mlanguage\u001b[0m\u001b[0;31m#call\u001b[0m\u001b[0;34m\u001b[0m\u001b[0;34m\u001b[0m\u001b[0m\n\u001b[1;32m    982\u001b[0m         \"\"\"\n\u001b[0;32m--> 983\u001b[0;31m         \u001b[0mdoc\u001b[0m \u001b[0;34m=\u001b[0m \u001b[0mself\u001b[0m\u001b[0;34m.\u001b[0m\u001b[0mmake_doc\u001b[0m\u001b[0;34m(\u001b[0m\u001b[0mtext\u001b[0m\u001b[0;34m)\u001b[0m\u001b[0;34m\u001b[0m\u001b[0;34m\u001b[0m\u001b[0m\n\u001b[0m\u001b[1;32m    984\u001b[0m         \u001b[0;32mif\u001b[0m \u001b[0mcomponent_cfg\u001b[0m \u001b[0;32mis\u001b[0m \u001b[0;32mNone\u001b[0m\u001b[0;34m:\u001b[0m\u001b[0;34m\u001b[0m\u001b[0;34m\u001b[0m\u001b[0m\n\u001b[1;32m    985\u001b[0m             \u001b[0mcomponent_cfg\u001b[0m \u001b[0;34m=\u001b[0m \u001b[0;34m{\u001b[0m\u001b[0;34m}\u001b[0m\u001b[0;34m\u001b[0m\u001b[0;34m\u001b[0m\u001b[0m\n",
      "\u001b[0;32m~/.local/lib/python3.8/site-packages/spacy/language.py\u001b[0m in \u001b[0;36mmake_doc\u001b[0;34m(self, text)\u001b[0m\n\u001b[1;32m   1063\u001b[0m                 \u001b[0mErrors\u001b[0m\u001b[0;34m.\u001b[0m\u001b[0mE088\u001b[0m\u001b[0;34m.\u001b[0m\u001b[0mformat\u001b[0m\u001b[0;34m(\u001b[0m\u001b[0mlength\u001b[0m\u001b[0;34m=\u001b[0m\u001b[0mlen\u001b[0m\u001b[0;34m(\u001b[0m\u001b[0mtext\u001b[0m\u001b[0;34m)\u001b[0m\u001b[0;34m,\u001b[0m \u001b[0mmax_length\u001b[0m\u001b[0;34m=\u001b[0m\u001b[0mself\u001b[0m\u001b[0;34m.\u001b[0m\u001b[0mmax_length\u001b[0m\u001b[0;34m)\u001b[0m\u001b[0;34m\u001b[0m\u001b[0;34m\u001b[0m\u001b[0m\n\u001b[1;32m   1064\u001b[0m             )\n\u001b[0;32m-> 1065\u001b[0;31m         \u001b[0;32mreturn\u001b[0m \u001b[0mself\u001b[0m\u001b[0;34m.\u001b[0m\u001b[0mtokenizer\u001b[0m\u001b[0;34m(\u001b[0m\u001b[0mtext\u001b[0m\u001b[0;34m)\u001b[0m\u001b[0;34m\u001b[0m\u001b[0;34m\u001b[0m\u001b[0m\n\u001b[0m\u001b[1;32m   1066\u001b[0m \u001b[0;34m\u001b[0m\u001b[0m\n\u001b[1;32m   1067\u001b[0m     def update(\n",
      "\u001b[0;32m~/.local/lib/python3.8/site-packages/spacy/tokenizer.pyx\u001b[0m in \u001b[0;36mspacy.tokenizer.Tokenizer.__call__\u001b[0;34m()\u001b[0m\n",
      "\u001b[0;32m~/.local/lib/python3.8/site-packages/spacy/tokenizer.pyx\u001b[0m in \u001b[0;36mspacy.tokenizer.Tokenizer._tokenize_affixes\u001b[0;34m()\u001b[0m\n",
      "\u001b[0;32m~/.local/lib/python3.8/site-packages/spacy/tokenizer.pyx\u001b[0m in \u001b[0;36mspacy.tokenizer.Tokenizer._tokenize\u001b[0;34m()\u001b[0m\n",
      "\u001b[0;32m~/.local/lib/python3.8/site-packages/spacy/tokenizer.pyx\u001b[0m in \u001b[0;36mspacy.tokenizer.Tokenizer._attach_tokens\u001b[0;34m()\u001b[0m\n",
      "\u001b[0;32m~/.local/lib/python3.8/site-packages/spacy/vocab.pyx\u001b[0m in \u001b[0;36mspacy.vocab.Vocab.get\u001b[0;34m()\u001b[0m\n",
      "\u001b[0;32m~/.local/lib/python3.8/site-packages/spacy/vocab.pyx\u001b[0m in \u001b[0;36mspacy.vocab.Vocab._new_lexeme\u001b[0;34m()\u001b[0m\n",
      "\u001b[0;32m~/.local/lib/python3.8/site-packages/spacy/lang/lex_attrs.py\u001b[0m in \u001b[0;36mlower\u001b[0;34m(string)\u001b[0m\n\u001b[1;32m    140\u001b[0m \u001b[0;34m\u001b[0m\u001b[0m\n\u001b[1;32m    141\u001b[0m \u001b[0;34m\u001b[0m\u001b[0m\n\u001b[0;32m--> 142\u001b[0;31m \u001b[0;32mdef\u001b[0m \u001b[0mlower\u001b[0m\u001b[0;34m(\u001b[0m\u001b[0mstring\u001b[0m\u001b[0;34m:\u001b[0m \u001b[0mstr\u001b[0m\u001b[0;34m)\u001b[0m \u001b[0;34m->\u001b[0m \u001b[0mstr\u001b[0m\u001b[0;34m:\u001b[0m\u001b[0;34m\u001b[0m\u001b[0;34m\u001b[0m\u001b[0m\n\u001b[0m\u001b[1;32m    143\u001b[0m     \u001b[0;32mreturn\u001b[0m \u001b[0mstring\u001b[0m\u001b[0;34m.\u001b[0m\u001b[0mlower\u001b[0m\u001b[0;34m(\u001b[0m\u001b[0;34m)\u001b[0m\u001b[0;34m\u001b[0m\u001b[0;34m\u001b[0m\u001b[0m\n\u001b[1;32m    144\u001b[0m \u001b[0;34m\u001b[0m\u001b[0m\n",
      "\u001b[0;31mKeyboardInterrupt\u001b[0m: "
     ]
    }
   ],
   "source": [
    "myTrainingdata = information(training_data)"
   ]
  },
  {
   "cell_type": "code",
   "execution_count": 246,
   "metadata": {
    "scrolled": true
   },
   "outputs": [
    {
     "name": "stdout",
     "output_type": "stream",
     "text": [
      "Number of Tweets where no entities were found:  12716 \n",
      "\n",
      "<USERNAME> billie is butter?\n",
      "\"the anasa life coco smooth body butter is soooo amazing. i got the yuce scent, which is light and citrusy. the texture is so soft, and not too heavy or oily. it's absolutely perfect. if you love natural, quality body products, get this...\" - arielle b.\n",
      "dairy. all dairy products, like milk, butter, yogurt, and cheese, must come from a kosher animal.\n",
      "<USERNAME> bread , butter and sugar !!!\n",
      "i use body butter. but, yes after every bath/shower! it’s so important to moisturize! <URL>\n",
      "<USERNAME> billie is butter?\n",
      "as the brand &amp; content lead of <USERNAME>, buzzfeed's black culture vertical, <USERNAME> aims to \"push the culture forward.\"  \"life is so short, so while i'm here, i'm going to disrupt some things, shake the table, and make my presence known.\" <URL>\n",
      "<USERNAME> like. butter bread\n",
      "<USERNAME> <USERNAME> <USERNAME> love that video!!!!! so does peanut butter!!!!!!\n",
      "<USERNAME> <USERNAME> <USERNAME> a bit coin can buy over 3x as much milk, butter, gas, etc. as it could just a few years ago.  not so for the usd.  so the dollar is more stable.\n"
     ]
    }
   ],
   "source": [
    "#Tweets where no entities were found\n",
    "print(\"Number of Tweets where no entities were found: \", len(noEntity), '\\n')\n",
    "\n",
    "for i in range(10):\n",
    "    print(noEntity[i])\n",
    "    "
   ]
  },
  {
   "cell_type": "code",
   "execution_count": 250,
   "metadata": {
    "scrolled": true
   },
   "outputs": [
    {
     "name": "stdout",
     "output_type": "stream",
     "text": [
      "Total foodkeeper food names: 466\n",
      "\"genuine\" maple syrup\n",
      "aioli\n",
      "almond butter\n",
      "almond extract\n",
      "almond milk\n",
      "almond oil\n",
      "almonds\n",
      "amaranth\n",
      "anchovies\n",
      "apple cider\n",
      "apple cider vinegar\n",
      "apple juice\n",
      "apples\n",
      "applesauce\n",
      "apricots\n",
      "artichokes, whole\n",
      "arugula\n",
      "asparagus\n",
      "avocado oil\n",
      "avocados\n",
      "baby carrots\n",
      "bacon\n",
      "bacon bits\n",
      "bacon grease\n",
      "bagel\n",
      "bagged greens\n",
      "baking powder\n",
      "baking soda\n",
      "balsamic vinegar\n",
      "bamboo shoots\n",
      "bananas\n",
      "barbecue sauce\n",
      "barley\n",
      "base\n",
      "basil\n",
      "bean sprouts\n",
      "beans\n",
      "beans and peas\n",
      "beef\n",
      "beef broth/stock/consommé\n",
      "beets\n",
      "berries\n",
      "biscuit or pancake mix\n",
      "biscuits\n",
      "bison\n",
      "black bean sauce\n",
      "black pepper\n",
      "blueberries\n",
      "bok choy\n",
      "bratwurst\n",
      "bread\n",
      "breadcrumbs\n",
      "broccoli and broccoli raab (rapini)\n",
      "broth\n",
      "brussels sprouts\n",
      "buckwheat\n",
      "bulgur\n",
      "butter\n",
      "butter flavor\n",
      "buttermilk\n",
      "cabbage\n",
      "cajun seasoning blend\n",
      "cake, brownie, bread mixes\n",
      "canadian bacon\n",
      "canned chicken\n",
      "canned goods\n",
      "canola oil\n",
      "cantaloupe\n",
      "capers\n",
      "capon\n",
      "carrot juice\n",
      "carrots, parsnips\n",
      "cashew butter\n",
      "cashews\n",
      "casseroles\n",
      "cauliflower\n",
      "caviar\n",
      "celery\n",
      "celery root\n",
      "cereal\n",
      "cereal or granola bars\n",
      "cereal, dry mixes\n",
      "cheese\n",
      "cheese curds\n",
      "cheesecake\n",
      "cherimoya\n",
      "cherries\n",
      "cherry tomatoes\n",
      "chia seeds\n",
      "chicken\n",
      "chicken broth/stock/consommé\n",
      "chicken nuggets, patties\n",
      "chicken parts\n",
      "chicken salad\n",
      "chiffon pies\n",
      "chili powder\n",
      "chives\n",
      "chocolate\n",
      "chocolate hazlenut spread\n",
      "chocolate syrup\n",
      "chorizo\n",
      "chutney\n",
      "cilantro\n",
      "cinnamon\n",
      "cinnamon extract\n",
      "cinnamon rolls\n",
      "citrus fruit\n",
      "cocoa and cocoa mixes\n",
      "coconut\n",
      "coconut cream\n",
      "coconut flavor\n",
      "coconut flour\n",
      "coconut milk\n",
      "coconut oil\n",
      "coconut water\n",
      "coconuts\n",
      "coffee\n",
      "coffee creamer\n",
      "coleslaw\n",
      "commercial brand vacuum-packed dinners\n",
      "commercial bread products\n",
      "commercial cakes and muffins\n",
      "cooked fish\n",
      "cooked pasta\n",
      "cooked poultry dishes\n",
      "cooked rice\n",
      "cooked shellfish\n",
      "cookie dough\n",
      "cookies\n",
      "cooking wine\n",
      "corn on the cob\n",
      "corn syrup\n",
      "corned beef\n",
      "cornish hens\n",
      "cornmeal\n",
      "cornstarch\n",
      "cottage cheese\n",
      "crab legs\n",
      "crab meat\n",
      "crackers\n",
      "cranberries\n",
      "cranberry sauce\n",
      "cream\n",
      "cream cheese\n",
      "cream liquors\n",
      "cream pies\n",
      "cream sauces, milk solids\n",
      "croutons\n",
      "cucumbers\n",
      "cumin\n",
      "dairy filled eclairs\n",
      "dates\n",
      "diet powder mixes and drink mixes\n",
      "dinners\n",
      "dips\n",
      "dough\n",
      "doughnuts\n",
      "dry egg noodles\n",
      "dry gravy mixes\n",
      "dry stuffing mix\n",
      "duck fat\n",
      "duckling\n",
      "edamame\n",
      "egg dishes\n",
      "egg salad\n",
      "egg substitutes\n",
      "eggnog\n",
      "eggplant\n",
      "eggs\n",
      "farro\n",
      "fatty fish\n",
      "fish\n",
      "flavored or herb mixes\n",
      "flaxseed\n",
      "flour\n",
      "formula\n",
      "fresh clams, mussels, oysters\n",
      "fresh lobster tails\n",
      "fresh pasta\n",
      "fresh whole lobster\n",
      "fried chicken\n",
      "frosting or icing\n",
      "frozen entrees\n",
      "frozen potato products\n",
      "frozen pretzels\n",
      "fruit\n",
      "fruit cake\n",
      "fruit cocktail\n",
      "fruit juice in cartons, fruit drinks, punch\n",
      "fruit pies\n",
      "fruit, cut\n",
      "fruits\n",
      "fruits, dried\n",
      "frying oil\n",
      "garam masala\n",
      "garlic\n",
      "garlic powder\n",
      "gelatin\n",
      "ghee\n",
      "giblets\n",
      "ginger root\n",
      "goat\n",
      "goose\n",
      "graham cracker/animal cracker\n",
      "granola\n",
      "grapes\n",
      "grapeseed oil\n",
      "gravy\n",
      "greens\n",
      "grits\n",
      "ground turkey or chicken\n",
      "guacamole\n",
      "guava\n",
      "gummy (fruit) snacks\n",
      "ham\n",
      "ham salad\n",
      "hard liquors\n",
      "herbs\n",
      "herring\n",
      "hoisin sauce\n",
      "honey\n",
      "honeydew\n",
      "horseradish\n",
      "hot dogs\n",
      "hot peppers\n",
      "hot sauce\n",
      "hummus\n",
      "ice cream\n",
      "ice pops\n",
      "instant breakfast drinks\n",
      "jams, jellies, and preserves\n",
      "jars or pouches\n",
      "jerky\n",
      "jicama\n",
      "juice concentrates\n",
      "juice, boxes\n",
      "kale\n",
      "kefir\n",
      "ketchup, cocktail, or chili sauce\n",
      "kimchi\n",
      "kiwi fruit\n",
      "kohlrabi\n",
      "kugel\n",
      "kumquats\n",
      "lamb\n",
      "lean fish\n",
      "leeks\n",
      "leftovers\n",
      "lemon extract\n",
      "lemon juice\n",
      "lemongrass\n",
      "lentils\n",
      "lettuce\n",
      "lime juice\n",
      "liquid concentrate or ready-to-feed formula\n",
      "live clams, mussels, crab, and oysters\n",
      "lobster tails\n",
      "luncheon meat or poultry\n",
      "macadamias\n",
      "macaroons\n",
      "main dishes or meals\n",
      "margarine\n",
      "marinades\n",
      "marinated vegetables\n",
      "marshmallow crème\n",
      "marshmallows\n",
      "mayonnaise\n",
      "meat products\n",
      "meats\n",
      "melons\n",
      "milk\n",
      "millet\n",
      "mint\n",
      "miso\n",
      "molasses\n",
      "muffin\n",
      "mung bean\n",
      "mushrooms\n",
      "mustard\n",
      "nacho cheese\n",
      "nectar\n",
      "nut oils\n",
      "nutmeg\n",
      "nutrition supplement drinks\n",
      "nuts\n",
      "oats\n",
      "oils\n",
      "okra\n",
      "olives\n",
      "onion powder\n",
      "onions\n",
      "orange juice\n",
      "oregano\n",
      "oyster sauce\n",
      "pancakes, waffles\n",
      "papaya, mango, feijoa, passionfruit, casaha melon\n",
      "parsley\n",
      "pasta\n",
      "pasta salad\n",
      "pastrami\n",
      "pastries, danish\n",
      "pate\n",
      "peaches, nectarines, plums, pears, sapote\n",
      "peanut butter\n",
      "peanuts\n",
      "peas\n",
      "pecans\n",
      "pectin\n",
      "peppers\n",
      "pesto\n",
      "pheasant\n",
      "pickles\n",
      "pie crust\n",
      "pies\n",
      "pimento cheese\n",
      "pine nuts\n",
      "pineapple\n",
      "pistachios\n",
      "pitaya/dragon fruit\n",
      "pizza\n",
      "plantains\n",
      "polenta\n",
      "pomegranate\n",
      "popcorn\n",
      "pork\n",
      "pork rinds\n",
      "pork roll\n",
      "potato chips\n",
      "potato salad\n",
      "potatoes\n",
      "poultry pieces\n",
      "powdered milk\n",
      "pretzels\n",
      "prickly pear\n",
      "prosciutto\n",
      "pudding\n",
      "pudding mixes\n",
      "puff pastry\n",
      "pumpkin seeds\n",
      "pumpkins\n",
      "pure vanilla extract\n",
      "quail\n",
      "quark\n",
      "quiche\n",
      "quinoa\n",
      "rabbit\n",
      "radicchio\n",
      "radishes\n",
      "raspberries\n",
      "raw kabobs with vegetables\n",
      "re-hydrated textured soy protein\n",
      "ready-to-bake pie crust\n",
      "red wine\n",
      "refried beans\n",
      "relish\n",
      "retort pouches or boxes\n",
      "rhubarb\n",
      "rice\n",
      "rice milk\n",
      "ricotta\n",
      "roasted nuts (peanuts, cashews, almonds)\n",
      "roasted red peppers\n",
      "rosemary\n",
      "rotisserie chicken\n",
      "rutabagas\n",
      "rye\n",
      "salad dressing\n",
      "salad dressings\n",
      "salami\n",
      "salsa\n",
      "salt\n",
      "sauce mixes\n",
      "sausage\n",
      "sausages\n",
      "scallops\n",
      "seafood\n",
      "seafood salads\n",
      "seasoning blends\n",
      "sesame oil\n",
      "sesame seeds\n",
      "sherbet, sorbet\n",
      "shortening\n",
      "shrimp, crayfish\n",
      "shrimp, shellfish\n",
      "shucked clams, mussels, and oysters\n",
      "soda\n",
      "sorghum\n",
      "soup mixes\n",
      "soup, stews\n",
      "sour cream\n",
      "soy crumbles and hot dogs\n",
      "soy flour\n",
      "soy meat substitutes\n",
      "soy milk\n",
      "soy or rice beverage\n",
      "soy sauce or teriyaki sauce\n",
      "spaghetti sauce\n",
      "spaghetti squash\n",
      "spelt\n",
      "spice/spices\n",
      "squash\n",
      "squid\n",
      "star fruit\n",
      "strawberries\n",
      "string cheese\n",
      "stuffed, raw chicken breasts\n",
      "stuffed, raw pork chops\n",
      "sugar\n",
      "sugar substitutes\n",
      "sun dried tomatoes\n",
      "sunflower oil\n",
      "sunflower seeds\n",
      "surimi seafood\n",
      "swiss chard\n",
      "syrup\n",
      "tahini\n",
      "tamarind\n",
      "tamarind paste\n",
      "tapenade\n",
      "tapiocas\n",
      "taro\n",
      "tea\n",
      "teff\n",
      "tempeh\n",
      "textured soy protein\n",
      "thai red curry paste\n",
      "thyme\n",
      "toaster pastries\n",
      "tofu\n",
      "tomato paste\n",
      "tomato sauce\n",
      "tomatoes\n",
      "tortillas\n",
      "tube cans\n",
      "tuna\n",
      "turducken\n",
      "turkey\n",
      "turkey bacon\n",
      "turkey parts\n",
      "turnips\n",
      "variety meats\n",
      "veal\n",
      "vegan cheddar cheese\n",
      "vegetable juice\n",
      "vegetable oil sprays\n",
      "vegetable soup\n",
      "vegetable stock/broth\n",
      "vegetables\n",
      "venison\n",
      "vinegar\n",
      "walnuts\n",
      "water\n",
      "watermelon\n",
      "whipped cream\n",
      "whipped topping\n",
      "white wine\n",
      "whole wheat bread\n",
      "whole wheat flour\n",
      "worcestershire sauce\n",
      "yams/sweet potatoes\n",
      "yeast\n",
      "yogurt\n",
      "yuca/cassava\n",
      "yuzu\n",
      "yuzu juice\n",
      "zucchini\n"
     ]
    }
   ],
   "source": [
    "foodkeeper = foodKeeperInfo()"
   ]
  },
  {
   "cell_type": "code",
   "execution_count": 254,
   "metadata": {
    "scrolled": true
   },
   "outputs": [
    {
     "name": "stdout",
     "output_type": "stream",
     "text": [
      "Training data entities:  409\n",
      "Foodkeeper entities:  466\n",
      "Union between foodkeeper and training data: 223\n",
      "Unique training data entities:  186\n",
      "Unique foodkeeper data entities:  243 \n",
      "\n",
      "~~~~~~~~~~~~Only Training~~~~~~~~~~~~\n",
      "0.15\n",
      "2.they\n",
      "4.99\n",
      "699,615,065,551\n",
      "abstract\n",
      "acai\n",
      "acerola\n",
      "activation\n",
      "adored\n",
      "agitating\n",
      "ahora\n",
      "alejandro\n",
      "algae\n",
      "alvarrez\n",
      "approached\n",
      "aslan\n",
      "athletes\n",
      "attracted\n",
      "azul\n",
      "bffs\n",
      "blues\n",
      "bootcamps\n",
      "braves\n",
      "brazils\n",
      "bulborb\n",
      "cafe\n",
      "calamagrostis\n",
      "cameron\n",
      "capricorn\n",
      "capsaicin\n",
      "carafe\n",
      "carbseedling\n",
      "cested\n",
      "chickenbreast\n",
      "chunibyo\n",
      "citeh\n",
      "clashes\n",
      "coconutsㅋㅋㅋ\n",
      "collapse\n",
      "commodified\n",
      "corn‼️\n",
      "coupled\n",
      "creamery\n",
      "cuddling\n",
      "curbside\n",
      "d175\n",
      "dalmunach\n",
      "dani\n",
      "decadent!⁣\n",
      "delusional\n",
      "derwin\n",
      "dinnerly\n",
      "doggos\n",
      "drains\n",
      "dram\n",
      "dranks\n",
      "driveable\n",
      "enrolled\n",
      "erika\n",
      "european\n",
      "exporters\n",
      "extent\n",
      "firewild\n",
      "frickin\n",
      "fuckn\n",
      "gals\n",
      "gasc\n",
      "glenbrook\n",
      "goddddddd\n",
      "goldening\n",
      "grained\n",
      "grann\n",
      "griswald\n",
      "gulf\n",
      "hachinohe\n",
      "hamin\n",
      "hank\n",
      "hauck\n",
      "helga\n",
      "hibby\n",
      "hocking\n",
      "howd\n",
      "iffco\n",
      "indians\n",
      "insects\n",
      "karedok\n",
      "kiddush\n",
      "kiita\n",
      "kirkby\n",
      "knabe\n",
      "krogan\n",
      "latino\n",
      "libya\n",
      "lindsay\n",
      "lure\n",
      "mach\n",
      "malnourished\n",
      "marathi\n",
      "matos\n",
      "mcfarlane\n",
      "melville\n",
      "mercadona\n",
      "miyuki\n",
      "montgomery\n",
      "monuments\n",
      "morphological\n",
      "mothballs\n",
      "murderous\n",
      "murgor\n",
      "nairobi\n",
      "nazis\n",
      "nebraska\n",
      "nicca\n",
      "nintendo\n",
      "odor\n",
      "orridge\n",
      "outsource\n",
      "overlook\n",
      "overtake\n",
      "parlour\n",
      "patreon\n",
      "patron\n",
      "patterns\n",
      "petite\n",
      "pharmacist\n",
      "plateful\n",
      "plead\n",
      "pleeeease\n",
      "polishes\n",
      "pretended\n",
      "psychopaths\n",
      "quests\n",
      "radiance\n",
      "ramsey\n",
      "ras\n",
      "reconstituted\n",
      "relleno\n",
      "remastered\n",
      "resume\n",
      "risottos\n",
      "rockpalast\n",
      "ronni\n",
      "roobee\n",
      "saag\n",
      "sally\n",
      "screening\n",
      "sculpt\n",
      "shadiyon\n",
      "sheikh\n",
      "shelters\n",
      "showcases\n",
      "skinning\n",
      "skippy\n",
      "slammed\n",
      "snort\n",
      "snub\n",
      "solitude\n",
      "stanton\n",
      "striker\n",
      "stutzle\n",
      "subdued\n",
      "svelte\n",
      "syahleka\n",
      "throwback\n",
      "toledo\n",
      "tonnes\n",
      "torah\n",
      "tournament\n",
      "trimmings\n",
      "trop\n",
      "twewy\n",
      "ummmmmm\n",
      "undead\n",
      "unexpected\n",
      "urged\n",
      "vardy\n",
      "vibrate\n",
      "victoria\n",
      "wales\n",
      "welby\n",
      "whitewater\n",
      "wholly\n",
      "woolfardisworthy\n",
      "فوغا\n",
      "↪\n",
      "ㅋㅋㅋㅋmother\n",
      "~~~~~~~~~~~~Only Foodkeeper~~~~~~~~~~~~\n",
      "\"genuine\" maple syrup\n",
      "almond butter\n",
      "almond extract\n",
      "almond milk\n",
      "almond oil\n",
      "almonds\n",
      "apple cider\n",
      "apple cider vinegar\n",
      "apple juice\n",
      "artichokes, whole\n",
      "avocado oil\n",
      "baby carrots\n",
      "bacon bits\n",
      "bacon grease\n",
      "bagged greens\n",
      "baking powder\n",
      "baking soda\n",
      "balsamic vinegar\n",
      "bamboo shoots\n",
      "barbecue sauce\n",
      "bean sprouts\n",
      "beans and peas\n",
      "beef broth/stock/consommé\n",
      "biscuit or pancake mix\n",
      "black bean sauce\n",
      "black pepper\n",
      "bok choy\n",
      "broccoli and broccoli raab (rapini)\n",
      "brussels sprouts\n",
      "butter flavor\n",
      "cajun seasoning blend\n",
      "cake, brownie, bread mixes\n",
      "canadian bacon\n",
      "canned chicken\n",
      "canned goods\n",
      "canola oil\n",
      "carrot juice\n",
      "carrots, parsnips\n",
      "cashew butter\n",
      "celery root\n",
      "cereal or granola bars\n",
      "cereal, dry mixes\n",
      "cheese curds\n",
      "cherry tomatoes\n",
      "chia seeds\n",
      "chicken broth/stock/consommé\n",
      "chicken nuggets, patties\n",
      "chicken parts\n",
      "chicken salad\n",
      "chiffon pies\n",
      "chili powder\n",
      "chocolate hazlenut spread\n",
      "chocolate syrup\n",
      "cinnamon extract\n",
      "cinnamon rolls\n",
      "citrus fruit\n",
      "cocoa and cocoa mixes\n",
      "coconut cream\n",
      "coconut flavor\n",
      "coconut flour\n",
      "coconut milk\n",
      "coconut oil\n",
      "coconut water\n",
      "coffee creamer\n",
      "commercial brand vacuum-packed dinners\n",
      "commercial bread products\n",
      "commercial cakes and muffins\n",
      "cooked fish\n",
      "cooked pasta\n",
      "cooked poultry dishes\n",
      "cooked rice\n",
      "cooked shellfish\n",
      "cookie dough\n",
      "cooking wine\n",
      "corn on the cob\n",
      "corn syrup\n",
      "corned beef\n",
      "cornish hens\n",
      "cottage cheese\n",
      "crab legs\n",
      "crab meat\n",
      "cranberry sauce\n",
      "cream cheese\n",
      "cream liquors\n",
      "cream pies\n",
      "cream sauces, milk solids\n",
      "dairy filled eclairs\n",
      "diet powder mixes and drink mixes\n",
      "dry egg noodles\n",
      "dry gravy mixes\n",
      "dry stuffing mix\n",
      "duck fat\n",
      "egg dishes\n",
      "egg salad\n",
      "egg substitutes\n",
      "fatty fish\n",
      "flavored or herb mixes\n",
      "fresh clams, mussels, oysters\n",
      "fresh lobster tails\n",
      "fresh pasta\n",
      "fresh whole lobster\n",
      "fried chicken\n",
      "frosting or icing\n",
      "frozen entrees\n",
      "frozen potato products\n",
      "frozen pretzels\n",
      "fruit cake\n",
      "fruit cocktail\n",
      "fruit juice in cartons, fruit drinks, punch\n",
      "fruit pies\n",
      "fruit, cut\n",
      "fruits, dried\n",
      "frying oil\n",
      "garam masala\n",
      "garlic powder\n",
      "ginger root\n",
      "graham cracker/animal cracker\n",
      "grapeseed oil\n",
      "ground turkey or chicken\n",
      "gummy (fruit) snacks\n",
      "ham salad\n",
      "hard liquors\n",
      "hoisin sauce\n",
      "hot dogs\n",
      "hot peppers\n",
      "hot sauce\n",
      "ice cream\n",
      "ice pops\n",
      "instant breakfast drinks\n",
      "jams, jellies, and preserves\n",
      "jars or pouches\n",
      "juice concentrates\n",
      "juice, boxes\n",
      "ketchup, cocktail, or chili sauce\n",
      "kiwi fruit\n",
      "lean fish\n",
      "lemon extract\n",
      "lemon juice\n",
      "lime juice\n",
      "liquid concentrate or ready-to-feed formula\n",
      "live clams, mussels, crab, and oysters\n",
      "lobster tails\n",
      "luncheon meat or poultry\n",
      "main dishes or meals\n",
      "marinated vegetables\n",
      "marshmallow crème\n",
      "meat products\n",
      "mung bean\n",
      "nacho cheese\n",
      "nut oils\n",
      "nutrition supplement drinks\n",
      "onion powder\n",
      "orange juice\n",
      "oyster sauce\n",
      "pancakes, waffles\n",
      "papaya, mango, feijoa, passionfruit, casaha melon\n",
      "pasta salad\n",
      "pastries, danish\n",
      "peaches, nectarines, plums, pears, sapote\n",
      "peanut butter\n",
      "pie crust\n",
      "pimento cheese\n",
      "pine nuts\n",
      "pitaya/dragon fruit\n",
      "pork rinds\n",
      "pork roll\n",
      "potato chips\n",
      "potato salad\n",
      "poultry pieces\n",
      "powdered milk\n",
      "prickly pear\n",
      "pudding mixes\n",
      "puff pastry\n",
      "pumpkin seeds\n",
      "pure vanilla extract\n",
      "raw kabobs with vegetables\n",
      "re-hydrated textured soy protein\n",
      "ready-to-bake pie crust\n",
      "red wine\n",
      "refried beans\n",
      "retort pouches or boxes\n",
      "rice milk\n",
      "roasted nuts (peanuts, cashews, almonds)\n",
      "roasted red peppers\n",
      "rotisserie chicken\n",
      "salad dressing\n",
      "salad dressings\n",
      "salami\n",
      "sauce mixes\n",
      "seafood salads\n",
      "seasoning blends\n",
      "sesame oil\n",
      "sesame seeds\n",
      "sherbet, sorbet\n",
      "shrimp, crayfish\n",
      "shrimp, shellfish\n",
      "shucked clams, mussels, and oysters\n",
      "soup mixes\n",
      "soup, stews\n",
      "sour cream\n",
      "soy crumbles and hot dogs\n",
      "soy flour\n",
      "soy meat substitutes\n",
      "soy milk\n",
      "soy or rice beverage\n",
      "soy sauce or teriyaki sauce\n",
      "spaghetti sauce\n",
      "spaghetti squash\n",
      "spice/spices\n",
      "star fruit\n",
      "string cheese\n",
      "stuffed, raw chicken breasts\n",
      "stuffed, raw pork chops\n",
      "sugar substitutes\n",
      "sun dried tomatoes\n",
      "sunflower oil\n",
      "sunflower seeds\n",
      "surimi seafood\n",
      "swiss chard\n",
      "tamarind paste\n",
      "textured soy protein\n",
      "thai red curry paste\n",
      "toaster pastries\n",
      "tomato paste\n",
      "tomato sauce\n",
      "tube cans\n",
      "turkey bacon\n",
      "turkey parts\n",
      "variety meats\n",
      "vegan cheddar cheese\n",
      "vegetable juice\n",
      "vegetable oil sprays\n",
      "vegetable soup\n",
      "vegetable stock/broth\n",
      "whipped cream\n",
      "whipped topping\n",
      "white wine\n",
      "whole wheat bread\n",
      "whole wheat flour\n",
      "worcestershire sauce\n",
      "yams/sweet potatoes\n",
      "yuca/cassava\n",
      "yuzu juice\n"
     ]
    }
   ],
   "source": [
    "##     Information about the different datasets\n",
    "x = list(myTrainingdata)\n",
    "\n",
    "print(\"Training data entities: \",len(x))\n",
    "print(\"Foodkeeper entities: \", len(foodkeeper))\n",
    "\n",
    "\n",
    "diff = list(set(x) & set(foodkeeper))\n",
    "print(\"Union between foodkeeper and training data: \" + str(len(diff)))\n",
    "#for elem in sorted(diff):\n",
    "    #print(elem)\n",
    "\n",
    "onlyTraining = list(set(x) - set(foodkeeper))\n",
    "onlyFoodkeeper = list(set(foodkeeper) - set(x))\n",
    "\n",
    "        \n",
    "print(\"Unique training data entities: \", len(onlyTraining))\n",
    "print(\"Unique foodkeeper data entities: \",len(onlyFoodkeeper), '\\n')\n",
    "\n",
    "print(\"~~~~~~~~~~~~Only Training~~~~~~~~~~~~\")\n",
    "for element in sorted(onlyTraining):\n",
    "    print(element)\n",
    "\n",
    "print(\"~~~~~~~~~~~~Only Foodkeeper~~~~~~~~~~~~\")\n",
    "for element in sorted(onlyFoodkeeper):\n",
    "    print(element)"
   ]
  },
  {
   "cell_type": "code",
   "execution_count": 64,
   "metadata": {
    "scrolled": true
   },
   "outputs": [
    {
     "name": "stdout",
     "output_type": "stream",
     "text": [
      "~~~~~~~~~~~~~~~~~0~~~~~~~~~~~~~~~~~\n"
     ]
    },
    {
     "name": "stderr",
     "output_type": "stream",
     "text": [
      " 35%|███▍      | 80/231 [00:00<00:00, 239.92it/s]"
     ]
    },
    {
     "name": "stdout",
     "output_type": "stream",
     "text": [
      "Skipping entity\n",
      "Skipping entity\n",
      "Skipping entity\n"
     ]
    },
    {
     "name": "stderr",
     "output_type": "stream",
     "text": [
      " 77%|███████▋  | 178/231 [00:01<00:00, 136.46it/s]"
     ]
    },
    {
     "name": "stdout",
     "output_type": "stream",
     "text": [
      "Skipping entity\n"
     ]
    },
    {
     "name": "stderr",
     "output_type": "stream",
     "text": [
      "100%|██████████| 231/231 [00:01<00:00, 135.63it/s]\n"
     ]
    },
    {
     "name": "stdout",
     "output_type": "stream",
     "text": [
      "\u001b[38;5;4mℹ Using CPU\u001b[0m\n",
      "\u001b[1m\n",
      "=========================== Initializing pipeline ===========================\u001b[0m\n",
      "\u001b[38;5;2m✔ Initialized pipeline\u001b[0m\n",
      "\u001b[1m\n",
      "============================= Training pipeline =============================\u001b[0m\n",
      "\u001b[38;5;4mℹ Pipeline: ['tok2vec', 'ner']\u001b[0m\n",
      "\u001b[38;5;4mℹ Initial learn rate: 0.001\u001b[0m\n",
      "E    #       LOSS TOK2VEC  LOSS NER  ENTS_F  ENTS_P  ENTS_R  SCORE \n",
      "---  ------  ------------  --------  ------  ------  ------  ------\n",
      "  0       0          0.00     33.33    0.00    0.00    0.00    0.00\n",
      "  1     200         38.71    890.51   96.49   95.97   97.00    0.96\n",
      "  3     400         77.59    134.50   98.31   97.08   99.57    0.98\n",
      "  6     600         68.38     60.92   99.68   99.36  100.00    1.00\n",
      " 10     800         56.65     28.43  100.00  100.00  100.00    1.00\n",
      " 14    1000         47.80     13.36  100.00  100.00  100.00    1.00\n",
      " 19    1200         71.21     23.37   99.89   99.79  100.00    1.00\n",
      " 26    1400         46.58     15.39  100.00  100.00  100.00    1.00\n",
      " 34    1600         38.69      8.45  100.00  100.00  100.00    1.00\n",
      " 45    1800         48.45      8.87  100.00  100.00  100.00    1.00\n",
      " 57    2000         52.84      8.86  100.00  100.00  100.00    1.00\n",
      " 72    2200         59.69     12.68  100.00  100.00  100.00    1.00\n",
      " 90    2400          0.00      0.00  100.00  100.00  100.00    1.00\n",
      "\u001b[38;5;2m✔ Saved pipeline to output directory\u001b[0m\n",
      "output/model-last\n",
      "\n",
      "[[ 9 35]\n",
      " [ 1 38]]\n",
      "              precision    recall  f1-score   support\n",
      "\n",
      "           1       0.90      0.20      0.33        44\n",
      "           0       0.52      0.97      0.68        39\n",
      "\n",
      "    accuracy                           0.57        83\n",
      "   macro avg       0.71      0.59      0.51        83\n",
      "weighted avg       0.72      0.57      0.50        83\n",
      "\n",
      "['chicken', 'milk', 'butter', 'cheese']\n",
      "['chicken', 'milk', 'butter', 'cheese', 'ham', 'sugar', 'buttermilk', 'soda', 'bread', 'garlic', 'cream', 'granola', 'bagel', 'yogurt', 'rice', 'celery', 'fruit', 'pineapple', 'peas', 'beef', 'rye', 'potatoes', 'turkey', 'pork', 'honey', 'fish', 'cauliflower', 'strawberries', 'blueberries', 'raspberries', 'tuna', 'rosemary', 'crackers', 'meats', 'pasta', 'eggs', 'vegetables', 'nuts', 'coconut', 'miso', 'peppers', 'vinegar', 'flour', 'salt', 'gravy', 'chocolate', 'cheesecake', 'goat', 'oats', 'water', 'plantains', 'mushrooms', 'broth', 'basil', 'dough', 'chutney', 'mustard', 'pickles', 'pesto', 'lamb', 'beans', 'bacon', 'syrup', 'marshmallows', 'tomatoes', 'cilantro', 'onions', 'sausage', 'fruits', 'coffee', 'pizza', 'cereal', 'tea', 'pudding', 'lettuce', 'pecans', 'muffin', 'popcorn', 'peanuts', 'yeast', 'nutmeg', 'almonds', 'apples', 'dates', 'parsley', 'berries', 'coleslaw', 'tapenade', 'lemongrass', 'cherries', 'cinnamon', 'mint', 'quinoa', 'jerky', 'squash', 'biscuits', 'capers', 'chorizo', 'cabbage', 'bulgur', 'kale', 'ghee', 'polenta', 'eggplant', 'prosciutto', 'arugula']\n",
      "~~~~~~~~~~~~~~~~~1~~~~~~~~~~~~~~~~~\n"
     ]
    },
    {
     "name": "stderr",
     "output_type": "stream",
     "text": [
      "  1%|▏         | 41/2759 [00:00<00:06, 402.45it/s]"
     ]
    },
    {
     "name": "stdout",
     "output_type": "stream",
     "text": [
      "Skipping entity\n",
      "Skipping entity\n",
      "Skipping entity\n",
      "Skipping entity\n",
      "Skipping entity\n"
     ]
    },
    {
     "name": "stderr",
     "output_type": "stream",
     "text": [
      "  5%|▍         | 134/2759 [00:00<00:15, 173.04it/s]"
     ]
    },
    {
     "name": "stdout",
     "output_type": "stream",
     "text": [
      "Skipping entity\n",
      "Skipping entity\n",
      "Skipping entity\n"
     ]
    },
    {
     "name": "stderr",
     "output_type": "stream",
     "text": [
      "  9%|▊         | 241/2759 [00:01<00:28, 89.27it/s] "
     ]
    },
    {
     "name": "stdout",
     "output_type": "stream",
     "text": [
      "Skipping entity\n"
     ]
    },
    {
     "name": "stderr",
     "output_type": "stream",
     "text": [
      " 10%|▉         | 266/2759 [00:02<00:35, 70.67it/s]"
     ]
    },
    {
     "name": "stdout",
     "output_type": "stream",
     "text": [
      "Skipping entity\n"
     ]
    },
    {
     "name": "stderr",
     "output_type": "stream",
     "text": [
      " 12%|█▏        | 326/2759 [00:03<00:45, 53.12it/s]"
     ]
    },
    {
     "name": "stdout",
     "output_type": "stream",
     "text": [
      "Skipping entity\n"
     ]
    },
    {
     "name": "stderr",
     "output_type": "stream",
     "text": [
      " 13%|█▎        | 359/2759 [00:04<00:52, 46.10it/s]"
     ]
    },
    {
     "name": "stdout",
     "output_type": "stream",
     "text": [
      "Skipping entity\n"
     ]
    },
    {
     "name": "stderr",
     "output_type": "stream",
     "text": [
      " 14%|█▎        | 379/2759 [00:04<00:55, 42.61it/s]"
     ]
    },
    {
     "name": "stdout",
     "output_type": "stream",
     "text": [
      "Skipping entity\n"
     ]
    },
    {
     "name": "stderr",
     "output_type": "stream",
     "text": [
      " 14%|█▍        | 399/2759 [00:05<00:59, 39.94it/s]"
     ]
    },
    {
     "name": "stdout",
     "output_type": "stream",
     "text": [
      "Skipping entity\n"
     ]
    },
    {
     "name": "stderr",
     "output_type": "stream",
     "text": [
      " 15%|█▍        | 412/2759 [00:05<01:03, 36.71it/s]"
     ]
    },
    {
     "name": "stdout",
     "output_type": "stream",
     "text": [
      "Skipping entity\n"
     ]
    },
    {
     "name": "stderr",
     "output_type": "stream",
     "text": [
      " 15%|█▌        | 421/2759 [00:05<01:00, 38.41it/s]"
     ]
    },
    {
     "name": "stdout",
     "output_type": "stream",
     "text": [
      "Skipping entity\n"
     ]
    },
    {
     "name": "stderr",
     "output_type": "stream",
     "text": [
      " 18%|█▊        | 502/2759 [00:08<01:08, 33.04it/s]"
     ]
    },
    {
     "name": "stdout",
     "output_type": "stream",
     "text": [
      "Skipping entity\n",
      "Skipping entity\n"
     ]
    },
    {
     "name": "stderr",
     "output_type": "stream",
     "text": [
      " 20%|█▉        | 550/2759 [00:09<01:09, 31.69it/s]"
     ]
    },
    {
     "name": "stdout",
     "output_type": "stream",
     "text": [
      "Skipping entity\n"
     ]
    },
    {
     "name": "stderr",
     "output_type": "stream",
     "text": [
      " 22%|██▏       | 614/2759 [00:11<01:19, 26.99it/s]"
     ]
    },
    {
     "name": "stdout",
     "output_type": "stream",
     "text": [
      "Skipping entity\n"
     ]
    },
    {
     "name": "stderr",
     "output_type": "stream",
     "text": [
      " 23%|██▎       | 638/2759 [00:12<01:22, 25.61it/s]"
     ]
    },
    {
     "name": "stdout",
     "output_type": "stream",
     "text": [
      "Skipping entity\n",
      "Skipping entity\n"
     ]
    },
    {
     "name": "stderr",
     "output_type": "stream",
     "text": [
      " 23%|██▎       | 647/2759 [00:13<01:21, 25.89it/s]"
     ]
    },
    {
     "name": "stdout",
     "output_type": "stream",
     "text": [
      "Skipping entity\n"
     ]
    },
    {
     "name": "stderr",
     "output_type": "stream",
     "text": [
      " 24%|██▎       | 653/2759 [00:13<01:21, 25.89it/s]"
     ]
    },
    {
     "name": "stdout",
     "output_type": "stream",
     "text": [
      "Skipping entity\n"
     ]
    },
    {
     "name": "stderr",
     "output_type": "stream",
     "text": [
      " 24%|██▍       | 674/2759 [00:14<01:24, 24.61it/s]"
     ]
    },
    {
     "name": "stdout",
     "output_type": "stream",
     "text": [
      "Skipping entity\n",
      "Skipping entity\n"
     ]
    },
    {
     "name": "stderr",
     "output_type": "stream",
     "text": [
      " 25%|██▌       | 698/2759 [00:15<01:25, 24.17it/s]"
     ]
    },
    {
     "name": "stdout",
     "output_type": "stream",
     "text": [
      "Skipping entity\n",
      "Skipping entity\n"
     ]
    },
    {
     "name": "stderr",
     "output_type": "stream",
     "text": [
      " 27%|██▋       | 749/2759 [00:17<01:26, 23.26it/s]"
     ]
    },
    {
     "name": "stdout",
     "output_type": "stream",
     "text": [
      "Skipping entity\n"
     ]
    },
    {
     "name": "stderr",
     "output_type": "stream",
     "text": [
      " 30%|██▉       | 827/2759 [00:20<01:25, 22.47it/s]"
     ]
    },
    {
     "name": "stdout",
     "output_type": "stream",
     "text": [
      "Skipping entity\n"
     ]
    },
    {
     "name": "stderr",
     "output_type": "stream",
     "text": [
      " 32%|███▏      | 893/2759 [00:23<01:28, 20.99it/s]"
     ]
    },
    {
     "name": "stdout",
     "output_type": "stream",
     "text": [
      "Skipping entity\n"
     ]
    },
    {
     "name": "stderr",
     "output_type": "stream",
     "text": [
      " 36%|███▌      | 983/2759 [00:28<01:42, 17.32it/s]"
     ]
    },
    {
     "name": "stdout",
     "output_type": "stream",
     "text": [
      "Skipping entity\n"
     ]
    },
    {
     "name": "stderr",
     "output_type": "stream",
     "text": [
      " 37%|███▋      | 1031/2759 [00:31<01:42, 16.90it/s]"
     ]
    },
    {
     "name": "stdout",
     "output_type": "stream",
     "text": [
      "Skipping entity\n"
     ]
    },
    {
     "name": "stderr",
     "output_type": "stream",
     "text": [
      " 42%|████▏     | 1153/2759 [00:39<01:43, 15.50it/s]"
     ]
    },
    {
     "name": "stdout",
     "output_type": "stream",
     "text": [
      "Skipping entity\n"
     ]
    },
    {
     "name": "stderr",
     "output_type": "stream",
     "text": [
      " 42%|████▏     | 1157/2759 [00:39<01:46, 15.09it/s]"
     ]
    },
    {
     "name": "stdout",
     "output_type": "stream",
     "text": [
      "Skipping entity\n",
      "Skipping entity\n"
     ]
    },
    {
     "name": "stderr",
     "output_type": "stream",
     "text": [
      " 43%|████▎     | 1185/2759 [00:41<01:42, 15.38it/s]"
     ]
    },
    {
     "name": "stdout",
     "output_type": "stream",
     "text": [
      "Skipping entity\n"
     ]
    },
    {
     "name": "stderr",
     "output_type": "stream",
     "text": [
      " 46%|████▌     | 1273/2759 [00:47<01:41, 14.69it/s]"
     ]
    },
    {
     "name": "stdout",
     "output_type": "stream",
     "text": [
      "Skipping entity\n"
     ]
    },
    {
     "name": "stderr",
     "output_type": "stream",
     "text": [
      " 47%|████▋     | 1307/2759 [00:49<01:41, 14.34it/s]"
     ]
    },
    {
     "name": "stdout",
     "output_type": "stream",
     "text": [
      "Skipping entity\n"
     ]
    },
    {
     "name": "stderr",
     "output_type": "stream",
     "text": [
      " 48%|████▊     | 1329/2759 [00:51<01:39, 14.44it/s]"
     ]
    },
    {
     "name": "stdout",
     "output_type": "stream",
     "text": [
      "Skipping entity\n"
     ]
    },
    {
     "name": "stderr",
     "output_type": "stream",
     "text": [
      " 49%|████▊     | 1341/2759 [00:52<01:45, 13.49it/s]"
     ]
    },
    {
     "name": "stdout",
     "output_type": "stream",
     "text": [
      "Skipping entity\n"
     ]
    },
    {
     "name": "stderr",
     "output_type": "stream",
     "text": [
      " 50%|█████     | 1393/2759 [00:56<01:40, 13.61it/s]"
     ]
    },
    {
     "name": "stdout",
     "output_type": "stream",
     "text": [
      "Skipping entity\n"
     ]
    },
    {
     "name": "stderr",
     "output_type": "stream",
     "text": [
      " 57%|█████▋    | 1559/2759 [01:08<01:35, 12.60it/s]"
     ]
    },
    {
     "name": "stdout",
     "output_type": "stream",
     "text": [
      "Skipping entity\n"
     ]
    },
    {
     "name": "stderr",
     "output_type": "stream",
     "text": [
      " 57%|█████▋    | 1563/2759 [01:09<01:33, 12.75it/s]"
     ]
    },
    {
     "name": "stdout",
     "output_type": "stream",
     "text": [
      "Skipping entity\n"
     ]
    },
    {
     "name": "stderr",
     "output_type": "stream",
     "text": [
      " 57%|█████▋    | 1569/2759 [01:09<01:33, 12.77it/s]"
     ]
    },
    {
     "name": "stdout",
     "output_type": "stream",
     "text": [
      "Skipping entity\n"
     ]
    },
    {
     "name": "stderr",
     "output_type": "stream",
     "text": [
      " 61%|██████▏   | 1693/2759 [01:20<01:33, 11.36it/s]"
     ]
    },
    {
     "name": "stdout",
     "output_type": "stream",
     "text": [
      "Skipping entity\n"
     ]
    },
    {
     "name": "stderr",
     "output_type": "stream",
     "text": [
      " 63%|██████▎   | 1739/2759 [01:24<02:14,  7.58it/s]"
     ]
    },
    {
     "name": "stdout",
     "output_type": "stream",
     "text": [
      "Skipping entity\n"
     ]
    },
    {
     "name": "stderr",
     "output_type": "stream",
     "text": [
      " 65%|██████▌   | 1796/2759 [01:30<01:25, 11.23it/s]"
     ]
    },
    {
     "name": "stdout",
     "output_type": "stream",
     "text": [
      "Skipping entity\n"
     ]
    },
    {
     "name": "stderr",
     "output_type": "stream",
     "text": [
      " 65%|██████▌   | 1800/2759 [01:31<01:25, 11.20it/s]"
     ]
    },
    {
     "name": "stdout",
     "output_type": "stream",
     "text": [
      "Skipping entity\n"
     ]
    },
    {
     "name": "stderr",
     "output_type": "stream",
     "text": [
      " 65%|██████▌   | 1804/2759 [01:31<01:29, 10.70it/s]"
     ]
    },
    {
     "name": "stdout",
     "output_type": "stream",
     "text": [
      "Skipping entity\n",
      "Skipping entity\n"
     ]
    },
    {
     "name": "stderr",
     "output_type": "stream",
     "text": [
      " 68%|██████▊   | 1870/2759 [01:37<01:23, 10.66it/s]"
     ]
    },
    {
     "name": "stdout",
     "output_type": "stream",
     "text": [
      "Skipping entity\n"
     ]
    },
    {
     "name": "stderr",
     "output_type": "stream",
     "text": [
      " 70%|██████▉   | 1918/2759 [01:41<01:18, 10.70it/s]"
     ]
    },
    {
     "name": "stdout",
     "output_type": "stream",
     "text": [
      "Skipping entity\n"
     ]
    },
    {
     "name": "stderr",
     "output_type": "stream",
     "text": [
      " 72%|███████▏  | 2000/2759 [01:50<01:21,  9.29it/s]"
     ]
    },
    {
     "name": "stdout",
     "output_type": "stream",
     "text": [
      "Skipping entity\n"
     ]
    },
    {
     "name": "stderr",
     "output_type": "stream",
     "text": [
      " 73%|███████▎  | 2003/2759 [01:50<01:21,  9.32it/s]"
     ]
    },
    {
     "name": "stdout",
     "output_type": "stream",
     "text": [
      "Skipping entity\n",
      "Skipping entity\n"
     ]
    },
    {
     "name": "stderr",
     "output_type": "stream",
     "text": [
      " 73%|███████▎  | 2006/2759 [01:51<01:21,  9.28it/s]"
     ]
    },
    {
     "name": "stdout",
     "output_type": "stream",
     "text": [
      "Skipping entity\n",
      "Skipping entity\n"
     ]
    },
    {
     "name": "stderr",
     "output_type": "stream",
     "text": [
      " 73%|███████▎  | 2008/2759 [01:51<01:21,  9.17it/s]"
     ]
    },
    {
     "name": "stdout",
     "output_type": "stream",
     "text": [
      "Skipping entity\n"
     ]
    },
    {
     "name": "stderr",
     "output_type": "stream",
     "text": [
      " 73%|███████▎  | 2010/2759 [01:51<01:20,  9.25it/s]"
     ]
    },
    {
     "name": "stdout",
     "output_type": "stream",
     "text": [
      "Skipping entity\n",
      "Skipping entity\n"
     ]
    },
    {
     "name": "stderr",
     "output_type": "stream",
     "text": [
      " 76%|███████▋  | 2110/2759 [02:02<01:12,  8.94it/s]"
     ]
    },
    {
     "name": "stdout",
     "output_type": "stream",
     "text": [
      "Skipping entity\n"
     ]
    },
    {
     "name": "stderr",
     "output_type": "stream",
     "text": [
      " 77%|███████▋  | 2114/2759 [02:03<01:17,  8.33it/s]"
     ]
    },
    {
     "name": "stdout",
     "output_type": "stream",
     "text": [
      "Skipping entity\n"
     ]
    },
    {
     "name": "stderr",
     "output_type": "stream",
     "text": [
      " 80%|████████  | 2208/2759 [02:14<01:11,  7.69it/s]"
     ]
    },
    {
     "name": "stdout",
     "output_type": "stream",
     "text": [
      "Skipping entity\n"
     ]
    },
    {
     "name": "stderr",
     "output_type": "stream",
     "text": [
      " 80%|████████  | 2210/2759 [02:14<01:08,  7.96it/s]"
     ]
    },
    {
     "name": "stdout",
     "output_type": "stream",
     "text": [
      "Skipping entity\n"
     ]
    },
    {
     "name": "stderr",
     "output_type": "stream",
     "text": [
      " 85%|████████▌ | 2352/2759 [02:31<00:50,  8.11it/s]"
     ]
    },
    {
     "name": "stdout",
     "output_type": "stream",
     "text": [
      "Skipping entity\n"
     ]
    },
    {
     "name": "stderr",
     "output_type": "stream",
     "text": [
      " 85%|████████▌ | 2354/2759 [02:32<00:49,  8.13it/s]"
     ]
    },
    {
     "name": "stdout",
     "output_type": "stream",
     "text": [
      "Skipping entity\n"
     ]
    },
    {
     "name": "stderr",
     "output_type": "stream",
     "text": [
      " 87%|████████▋ | 2391/2759 [02:36<00:45,  8.01it/s]"
     ]
    },
    {
     "name": "stdout",
     "output_type": "stream",
     "text": [
      "Skipping entity\n"
     ]
    },
    {
     "name": "stderr",
     "output_type": "stream",
     "text": [
      " 87%|████████▋ | 2399/2759 [02:37<00:46,  7.80it/s]"
     ]
    },
    {
     "name": "stdout",
     "output_type": "stream",
     "text": [
      "Skipping entity\n"
     ]
    },
    {
     "name": "stderr",
     "output_type": "stream",
     "text": [
      " 88%|████████▊ | 2441/2759 [02:43<00:40,  7.86it/s]"
     ]
    },
    {
     "name": "stdout",
     "output_type": "stream",
     "text": [
      "Skipping entity\n"
     ]
    },
    {
     "name": "stderr",
     "output_type": "stream",
     "text": [
      " 89%|████████▉ | 2465/2759 [02:46<00:38,  7.69it/s]"
     ]
    },
    {
     "name": "stdout",
     "output_type": "stream",
     "text": [
      "Skipping entity\n"
     ]
    },
    {
     "name": "stderr",
     "output_type": "stream",
     "text": [
      " 92%|█████████▏| 2526/2759 [02:54<00:30,  7.63it/s]"
     ]
    },
    {
     "name": "stdout",
     "output_type": "stream",
     "text": [
      "Skipping entity\n"
     ]
    },
    {
     "name": "stderr",
     "output_type": "stream",
     "text": [
      " 92%|█████████▏| 2550/2759 [02:57<00:27,  7.59it/s]"
     ]
    },
    {
     "name": "stdout",
     "output_type": "stream",
     "text": [
      "Skipping entity\n"
     ]
    },
    {
     "name": "stderr",
     "output_type": "stream",
     "text": [
      " 92%|█████████▏| 2552/2759 [02:57<00:27,  7.50it/s]"
     ]
    },
    {
     "name": "stdout",
     "output_type": "stream",
     "text": [
      "Skipping entity\n"
     ]
    },
    {
     "name": "stderr",
     "output_type": "stream",
     "text": [
      " 94%|█████████▎| 2585/2759 [03:02<00:23,  7.54it/s]"
     ]
    },
    {
     "name": "stdout",
     "output_type": "stream",
     "text": [
      "Skipping entity\n"
     ]
    },
    {
     "name": "stderr",
     "output_type": "stream",
     "text": [
      " 98%|█████████▊| 2715/2759 [03:21<00:06,  7.23it/s]"
     ]
    },
    {
     "name": "stdout",
     "output_type": "stream",
     "text": [
      "Skipping entity\n"
     ]
    },
    {
     "name": "stderr",
     "output_type": "stream",
     "text": [
      " 99%|█████████▉| 2727/2759 [03:22<00:04,  7.21it/s]"
     ]
    },
    {
     "name": "stdout",
     "output_type": "stream",
     "text": [
      "Skipping entity\n"
     ]
    },
    {
     "name": "stderr",
     "output_type": "stream",
     "text": [
      " 99%|█████████▉| 2736/2759 [03:23<00:03,  7.21it/s]"
     ]
    },
    {
     "name": "stdout",
     "output_type": "stream",
     "text": [
      "Skipping entity\n"
     ]
    },
    {
     "name": "stderr",
     "output_type": "stream",
     "text": [
      " 99%|█████████▉| 2743/2759 [03:24<00:02,  7.00it/s]"
     ]
    },
    {
     "name": "stdout",
     "output_type": "stream",
     "text": [
      "Skipping entity\n"
     ]
    },
    {
     "name": "stderr",
     "output_type": "stream",
     "text": [
      "100%|█████████▉| 2753/2759 [03:26<00:00,  7.06it/s]"
     ]
    },
    {
     "name": "stdout",
     "output_type": "stream",
     "text": [
      "Skipping entity\n"
     ]
    },
    {
     "name": "stderr",
     "output_type": "stream",
     "text": [
      "100%|██████████| 2759/2759 [03:27<00:00, 13.31it/s]\n"
     ]
    },
    {
     "name": "stdout",
     "output_type": "stream",
     "text": [
      "\u001b[38;5;4mℹ Using CPU\u001b[0m\n",
      "\u001b[1m\n",
      "=========================== Initializing pipeline ===========================\u001b[0m\n",
      "\u001b[38;5;2m✔ Initialized pipeline\u001b[0m\n",
      "\u001b[1m\n",
      "============================= Training pipeline =============================\u001b[0m\n",
      "\u001b[38;5;4mℹ Pipeline: ['tok2vec', 'ner']\u001b[0m\n",
      "\u001b[38;5;4mℹ Initial learn rate: 0.001\u001b[0m\n",
      "E    #       LOSS TOK2VEC  LOSS NER  ENTS_F  ENTS_P  ENTS_R  SCORE \n",
      "---  ------  ------------  --------  ------  ------  ------  ------\n",
      "  0       0          0.00     37.33    0.00    0.00    0.00    0.00\n",
      "  0     200         47.68   1570.91   80.43   83.25   77.79    0.80\n",
      "  0     400         30.37    736.16   87.49   82.37   93.29    0.87\n",
      "  0     600         24.76    854.41   87.95   82.14   94.64    0.88\n",
      "  0     800         25.49   1021.17   89.64   84.22   95.80    0.90\n",
      "  1    1000         25.85   1093.40   90.42   86.35   94.89    0.90\n",
      "  1    1200         31.82   1275.31   91.40   86.59   96.78    0.91\n",
      "  2    1400         42.33   1318.89   93.00   91.99   94.02    0.93\n",
      "  2    1600         54.99   1395.48   94.61   92.44   96.89    0.95\n",
      "  3    1800         88.16   1329.21   96.28   94.88   97.71    0.96\n",
      "  4    2000        112.08   1269.01   97.56   96.75   98.38    0.98\n",
      "  6    2200        148.37   1230.21   98.20   97.31   99.10    0.98\n",
      "  7    2400        190.52   1101.09   98.58   98.15   99.02    0.99\n",
      "  9    2600        220.94    839.15   99.35   99.39   99.32    0.99\n",
      " 10    2800        216.46    713.24   99.44   99.16   99.73    0.99\n",
      " 12    3000        249.68    566.51   99.56   99.56   99.55    1.00\n",
      " 14    3200        246.91    460.26   99.56   99.64   99.49    1.00\n",
      " 15    3400        304.87    430.46   99.74   99.71   99.76    1.00\n",
      " 17    3600        277.40    397.99   99.55   99.43   99.66    1.00\n",
      " 18    3800        313.19    358.24   99.76   99.83   99.69    1.00\n",
      " 20    4000        369.59    300.28   99.60   99.79   99.42    1.00\n",
      " 22    4200        419.66    334.54   99.68   99.43   99.94    1.00\n",
      " 23    4400        404.10    277.81   99.78   99.68   99.88    1.00\n",
      " 25    4600        495.05    295.57   99.82   99.80   99.84    1.00\n",
      " 26    4800        522.72    272.17   99.83   99.75   99.90    1.00\n",
      " 28    5000        462.46    263.83   99.80   99.79   99.81    1.00\n",
      " 30    5200        539.19    256.41   99.86   99.76   99.96    1.00\n",
      " 31    5400        541.60    227.35   99.81   99.80   99.81    1.00\n",
      " 33    5600        555.14    234.50   99.88   99.85   99.91    1.00\n",
      " 34    5800        526.68    222.56   99.88   99.76   99.99    1.00\n",
      " 36    6000        524.04    202.86   99.81   99.75   99.86    1.00\n",
      " 38    6200        502.43    180.17   99.86   99.88   99.85    1.00\n",
      " 39    6400        634.90    207.68   99.88   99.81   99.94    1.00\n",
      " 41    6600        729.63    184.71   99.78   99.67   99.90    1.00\n",
      " 43    6800        608.30    181.70   99.86   99.74   99.98    1.00\n",
      " 44    7000        668.71    190.04   99.86   99.83   99.89    1.00\n",
      " 46    7200        733.35    177.34   99.86   99.85   99.86    1.00\n",
      "\u001b[38;5;2m✔ Saved pipeline to output directory\u001b[0m\n",
      "output/model-last\n",
      "\n",
      "[[21 23]\n",
      " [ 3 36]]\n",
      "              precision    recall  f1-score   support\n",
      "\n",
      "           1       0.88      0.48      0.62        44\n",
      "           0       0.61      0.92      0.73        39\n",
      "\n",
      "    accuracy                           0.69        83\n",
      "   macro avg       0.74      0.70      0.68        83\n",
      "weighted avg       0.75      0.69      0.67        83\n",
      "\n",
      "['chicken', 'milk', 'butter', 'cheese', 'ham', 'sugar', 'buttermilk', 'soda', 'bread', 'garlic', 'cream', 'granola', 'bagel', 'yogurt', 'rice', 'celery', 'fruit', 'pineapple', 'peas', 'beef', 'rye', 'potatoes', 'turkey', 'pork', 'honey', 'fish', 'cauliflower', 'strawberries', 'blueberries', 'raspberries', 'tuna', 'rosemary', 'crackers', 'meats', 'pasta', 'eggs', 'vegetables', 'nuts', 'coconut', 'miso', 'peppers', 'vinegar', 'flour', 'salt', 'gravy', 'chocolate', 'cheesecake', 'goat', 'oats', 'water', 'plantains', 'mushrooms', 'broth', 'basil', 'dough', 'chutney', 'mustard', 'pickles', 'pesto', 'lamb', 'beans', 'bacon', 'syrup', 'marshmallows', 'tomatoes', 'cilantro', 'onions', 'sausage', 'fruits', 'coffee', 'pizza', 'cereal', 'tea', 'pudding', 'lettuce', 'pecans', 'muffin', 'popcorn', 'peanuts', 'yeast', 'nutmeg', 'almonds', 'apples', 'dates', 'parsley', 'berries', 'coleslaw', 'tapenade', 'lemongrass', 'cherries', 'cinnamon', 'mint', 'quinoa', 'jerky', 'squash', 'biscuits', 'capers', 'chorizo', 'cabbage', 'bulgur', 'kale', 'ghee', 'polenta', 'eggplant', 'prosciutto', 'arugula']\n",
      "['chicken', 'milk', 'butter', 'cheese', 'ham', 'sugar', 'buttermilk', 'soda', 'bread', 'garlic', 'cream', 'granola', 'bagel', 'yogurt', 'rice', 'celery', 'fruit', 'pineapple', 'peas', 'beef', 'rye', 'potatoes', 'turkey', 'pork', 'honey', 'fish', 'cauliflower', 'strawberries', 'blueberries', 'raspberries', 'tuna', 'rosemary', 'crackers', 'meats', 'pasta', 'eggs', 'vegetables', 'nuts', 'coconut', 'miso', 'peppers', 'vinegar', 'flour', 'salt', 'gravy', 'chocolate', 'cheesecake', 'goat', 'oats', 'water', 'plantains', 'mushrooms', 'broth', 'basil', 'dough', 'chutney', 'mustard', 'pickles', 'pesto', 'lamb', 'beans', 'bacon', 'syrup', 'marshmallows', 'tomatoes', 'cilantro', 'onions', 'sausage', 'fruits', 'coffee', 'pizza', 'cereal', 'tea', 'pudding', 'lettuce', 'pecans', 'muffin', 'popcorn', 'peanuts', 'yeast', 'nutmeg', 'almonds', 'apples', 'dates', 'parsley', 'berries', 'coleslaw', 'tapenade', 'lemongrass', 'cherries', 'cinnamon', 'mint', 'quinoa', 'jerky', 'squash', 'biscuits', 'capers', 'chorizo', 'cabbage', 'bulgur', 'kale', 'ghee', 'polenta', 'eggplant', 'prosciutto', 'arugula', 'mayonnaise', 'ricotta', 'base', 'herbs', 'salsa', 'tofu', 'kefir', 'margarine', 'oils', 'walnuts', 'quiche', 'pies', 'gelatin', 'bananas', 'beets', 'veal', 'venison', 'sausages', 'olives', 'rabbit', 'grits', 'cookies', 'pastrami', 'watermelon', 'quail', 'capon', 'edamame', 'greens', 'avocados', 'thyme', 'kimchi', 'scallops', 'yuzu', 'seafood', 'zucchini', 'molasses', 'spelt', 'barley', 'asparagus', 'pistachios', 'oregano', 'horseradish', 'pretzels', 'dinners', 'lentils', 'cumin', 'guacamole', 'tortillas', 'hummus', 'pate', 'leftovers', 'casseroles', 'guava', 'pomegranate', 'doughnuts', 'buckwheat', 'cornmeal', 'cornstarch', 'tamarind', 'nectar', 'leeks', 'apricots', 'grapes', 'cucumbers', 'cherimoya', 'coconuts', 'cranberries', 'cashews', 'rhubarb', 'melons', 'relish', 'okra', 'radishes', 'taro', 'turnips', 'tempeh', 'flaxseed', 'goose', 'marinades', 'formula', 'croutons', 'aioli', 'squid', 'kumquats', 'tahini', 'macadamias', 'cantaloupe', 'jicama', 'kohlrabi', 'honeydew', 'applesauce', 'farro', 'chives', 'salami', 'bison', 'macaroons', 'caviar', 'millet', 'sorghum', 'teff', 'breadcrumbs', 'bratwurst', 'anchovies', 'radicchio']\n",
      "~~~~~~~~~~~~~~~~~2~~~~~~~~~~~~~~~~~\n"
     ]
    },
    {
     "name": "stderr",
     "output_type": "stream",
     "text": [
      "  1%|▏         | 37/2787 [00:00<00:07, 367.00it/s]"
     ]
    },
    {
     "name": "stdout",
     "output_type": "stream",
     "text": [
      "Skipping entity\n",
      "Skipping entity\n",
      "Skipping entity\n",
      "Skipping entity\n",
      "Skipping entity\n"
     ]
    },
    {
     "name": "stderr",
     "output_type": "stream",
     "text": [
      "  5%|▌         | 150/2787 [00:00<00:16, 155.99it/s]"
     ]
    },
    {
     "name": "stdout",
     "output_type": "stream",
     "text": [
      "Skipping entity\n",
      "Skipping entity\n",
      "Skipping entity\n"
     ]
    },
    {
     "name": "stderr",
     "output_type": "stream",
     "text": [
      "  9%|▊         | 240/2787 [00:01<00:28, 88.42it/s] "
     ]
    },
    {
     "name": "stdout",
     "output_type": "stream",
     "text": [
      "Skipping entity\n"
     ]
    },
    {
     "name": "stderr",
     "output_type": "stream",
     "text": [
      " 10%|▉         | 265/2787 [00:02<00:33, 75.58it/s]"
     ]
    },
    {
     "name": "stdout",
     "output_type": "stream",
     "text": [
      "Skipping entity\n"
     ]
    },
    {
     "name": "stderr",
     "output_type": "stream",
     "text": [
      " 12%|█▏        | 325/2787 [00:03<00:44, 55.24it/s]"
     ]
    },
    {
     "name": "stdout",
     "output_type": "stream",
     "text": [
      "Skipping entity\n"
     ]
    },
    {
     "name": "stderr",
     "output_type": "stream",
     "text": [
      " 13%|█▎        | 361/2787 [00:03<00:49, 49.47it/s]"
     ]
    },
    {
     "name": "stdout",
     "output_type": "stream",
     "text": [
      "Skipping entity\n"
     ]
    },
    {
     "name": "stderr",
     "output_type": "stream",
     "text": [
      " 14%|█▎        | 381/2787 [00:04<00:53, 45.09it/s]"
     ]
    },
    {
     "name": "stdout",
     "output_type": "stream",
     "text": [
      "Skipping entity\n"
     ]
    },
    {
     "name": "stderr",
     "output_type": "stream",
     "text": [
      " 14%|█▍        | 401/2787 [00:04<00:56, 42.34it/s]"
     ]
    },
    {
     "name": "stdout",
     "output_type": "stream",
     "text": [
      "Skipping entity\n"
     ]
    },
    {
     "name": "stderr",
     "output_type": "stream",
     "text": [
      " 15%|█▍        | 416/2787 [00:05<00:58, 40.87it/s]"
     ]
    },
    {
     "name": "stdout",
     "output_type": "stream",
     "text": [
      "Skipping entity\n"
     ]
    },
    {
     "name": "stderr",
     "output_type": "stream",
     "text": [
      " 15%|█▌        | 425/2787 [00:05<01:01, 38.66it/s]"
     ]
    },
    {
     "name": "stdout",
     "output_type": "stream",
     "text": [
      "Skipping entity\n"
     ]
    },
    {
     "name": "stderr",
     "output_type": "stream",
     "text": [
      " 18%|█▊        | 513/2787 [00:07<01:05, 34.50it/s]"
     ]
    },
    {
     "name": "stdout",
     "output_type": "stream",
     "text": [
      "Skipping entity\n",
      "Skipping entity\n"
     ]
    },
    {
     "name": "stderr",
     "output_type": "stream",
     "text": [
      " 20%|██        | 561/2787 [00:09<01:09, 31.84it/s]"
     ]
    },
    {
     "name": "stdout",
     "output_type": "stream",
     "text": [
      "Skipping entity\n"
     ]
    },
    {
     "name": "stderr",
     "output_type": "stream",
     "text": [
      " 22%|██▏       | 624/2787 [00:11<01:23, 25.99it/s]"
     ]
    },
    {
     "name": "stdout",
     "output_type": "stream",
     "text": [
      "Skipping entity\n"
     ]
    },
    {
     "name": "stderr",
     "output_type": "stream",
     "text": [
      " 23%|██▎       | 648/2787 [00:12<01:19, 26.89it/s]"
     ]
    },
    {
     "name": "stdout",
     "output_type": "stream",
     "text": [
      "Skipping entity\n",
      "Skipping entity\n"
     ]
    },
    {
     "name": "stderr",
     "output_type": "stream",
     "text": [
      " 24%|██▎       | 657/2787 [00:12<01:21, 26.29it/s]"
     ]
    },
    {
     "name": "stdout",
     "output_type": "stream",
     "text": [
      "Skipping entity\n"
     ]
    },
    {
     "name": "stderr",
     "output_type": "stream",
     "text": [
      " 24%|██▍       | 663/2787 [00:13<01:22, 25.82it/s]"
     ]
    },
    {
     "name": "stdout",
     "output_type": "stream",
     "text": [
      "Skipping entity\n"
     ]
    },
    {
     "name": "stderr",
     "output_type": "stream",
     "text": [
      " 25%|██▍       | 687/2787 [00:14<01:26, 24.40it/s]"
     ]
    },
    {
     "name": "stdout",
     "output_type": "stream",
     "text": [
      "Skipping entity\n",
      "Skipping entity\n"
     ]
    },
    {
     "name": "stderr",
     "output_type": "stream",
     "text": [
      " 26%|██▌       | 711/2787 [00:15<01:21, 25.42it/s]"
     ]
    },
    {
     "name": "stdout",
     "output_type": "stream",
     "text": [
      "Skipping entity\n",
      "Skipping entity\n"
     ]
    },
    {
     "name": "stderr",
     "output_type": "stream",
     "text": [
      " 27%|██▋       | 765/2787 [00:17<01:23, 24.26it/s]"
     ]
    },
    {
     "name": "stdout",
     "output_type": "stream",
     "text": [
      "Skipping entity\n"
     ]
    },
    {
     "name": "stderr",
     "output_type": "stream",
     "text": [
      " 30%|███       | 840/2787 [00:20<01:26, 22.50it/s]"
     ]
    },
    {
     "name": "stdout",
     "output_type": "stream",
     "text": [
      "Skipping entity\n"
     ]
    },
    {
     "name": "stderr",
     "output_type": "stream",
     "text": [
      " 33%|███▎      | 909/2787 [00:23<01:27, 21.35it/s]"
     ]
    },
    {
     "name": "stdout",
     "output_type": "stream",
     "text": [
      "Skipping entity\n"
     ]
    },
    {
     "name": "stderr",
     "output_type": "stream",
     "text": [
      " 36%|███▌      | 1000/2787 [00:28<01:37, 18.30it/s]"
     ]
    },
    {
     "name": "stdout",
     "output_type": "stream",
     "text": [
      "Skipping entity\n"
     ]
    },
    {
     "name": "stderr",
     "output_type": "stream",
     "text": [
      " 38%|███▊      | 1048/2787 [00:31<01:38, 17.74it/s]"
     ]
    },
    {
     "name": "stdout",
     "output_type": "stream",
     "text": [
      "Skipping entity\n"
     ]
    },
    {
     "name": "stderr",
     "output_type": "stream",
     "text": [
      " 42%|████▏     | 1172/2787 [00:38<01:41, 15.98it/s]"
     ]
    },
    {
     "name": "stdout",
     "output_type": "stream",
     "text": [
      "Skipping entity\n"
     ]
    },
    {
     "name": "stderr",
     "output_type": "stream",
     "text": [
      " 42%|████▏     | 1176/2787 [00:39<01:45, 15.21it/s]"
     ]
    },
    {
     "name": "stdout",
     "output_type": "stream",
     "text": [
      "Skipping entity\n",
      "Skipping entity\n"
     ]
    },
    {
     "name": "stderr",
     "output_type": "stream",
     "text": [
      " 43%|████▎     | 1204/2787 [00:40<01:41, 15.56it/s]"
     ]
    },
    {
     "name": "stdout",
     "output_type": "stream",
     "text": [
      "Skipping entity\n"
     ]
    },
    {
     "name": "stderr",
     "output_type": "stream",
     "text": [
      " 46%|████▋     | 1292/2787 [00:46<01:41, 14.75it/s]"
     ]
    },
    {
     "name": "stdout",
     "output_type": "stream",
     "text": [
      "Skipping entity\n"
     ]
    },
    {
     "name": "stderr",
     "output_type": "stream",
     "text": [
      " 48%|████▊     | 1326/2787 [00:49<01:38, 14.80it/s]"
     ]
    },
    {
     "name": "stdout",
     "output_type": "stream",
     "text": [
      "Skipping entity\n"
     ]
    },
    {
     "name": "stderr",
     "output_type": "stream",
     "text": [
      " 48%|████▊     | 1348/2787 [00:50<01:39, 14.45it/s]"
     ]
    },
    {
     "name": "stdout",
     "output_type": "stream",
     "text": [
      "Skipping entity\n"
     ]
    },
    {
     "name": "stderr",
     "output_type": "stream",
     "text": [
      " 49%|████▉     | 1362/2787 [00:51<01:38, 14.47it/s]"
     ]
    },
    {
     "name": "stdout",
     "output_type": "stream",
     "text": [
      "Skipping entity\n"
     ]
    },
    {
     "name": "stderr",
     "output_type": "stream",
     "text": [
      " 51%|█████     | 1412/2787 [00:55<01:38, 14.02it/s]"
     ]
    },
    {
     "name": "stdout",
     "output_type": "stream",
     "text": [
      "Skipping entity\n"
     ]
    },
    {
     "name": "stderr",
     "output_type": "stream",
     "text": [
      " 57%|█████▋    | 1580/2787 [01:07<01:35, 12.59it/s]"
     ]
    },
    {
     "name": "stdout",
     "output_type": "stream",
     "text": [
      "Skipping entity\n"
     ]
    },
    {
     "name": "stderr",
     "output_type": "stream",
     "text": [
      " 57%|█████▋    | 1586/2787 [01:08<01:34, 12.74it/s]"
     ]
    },
    {
     "name": "stdout",
     "output_type": "stream",
     "text": [
      "Skipping entity\n"
     ]
    },
    {
     "name": "stderr",
     "output_type": "stream",
     "text": [
      " 57%|█████▋    | 1592/2787 [01:08<01:33, 12.72it/s]"
     ]
    },
    {
     "name": "stdout",
     "output_type": "stream",
     "text": [
      "Skipping entity\n"
     ]
    },
    {
     "name": "stderr",
     "output_type": "stream",
     "text": [
      " 62%|██████▏   | 1716/2787 [01:18<01:28, 12.14it/s]"
     ]
    },
    {
     "name": "stdout",
     "output_type": "stream",
     "text": [
      "Skipping entity\n"
     ]
    },
    {
     "name": "stderr",
     "output_type": "stream",
     "text": [
      " 63%|██████▎   | 1762/2787 [01:22<01:25, 12.00it/s]"
     ]
    },
    {
     "name": "stdout",
     "output_type": "stream",
     "text": [
      "Skipping entity\n"
     ]
    },
    {
     "name": "stderr",
     "output_type": "stream",
     "text": [
      " 65%|██████▌   | 1818/2787 [01:27<01:25, 11.38it/s]"
     ]
    },
    {
     "name": "stdout",
     "output_type": "stream",
     "text": [
      "Skipping entity\n",
      "Skipping entity\n"
     ]
    },
    {
     "name": "stderr",
     "output_type": "stream",
     "text": [
      " 65%|██████▌   | 1824/2787 [01:27<01:27, 10.97it/s]"
     ]
    },
    {
     "name": "stdout",
     "output_type": "stream",
     "text": [
      "Skipping entity\n"
     ]
    },
    {
     "name": "stderr",
     "output_type": "stream",
     "text": [
      "\r",
      " 66%|██████▌   | 1826/2787 [01:28<01:29, 10.74it/s]"
     ]
    },
    {
     "name": "stdout",
     "output_type": "stream",
     "text": [
      "Skipping entity\n",
      "Skipping entity\n"
     ]
    },
    {
     "name": "stderr",
     "output_type": "stream",
     "text": [
      " 68%|██████▊   | 1894/2787 [01:34<01:19, 11.27it/s]"
     ]
    },
    {
     "name": "stdout",
     "output_type": "stream",
     "text": [
      "Skipping entity\n"
     ]
    },
    {
     "name": "stderr",
     "output_type": "stream",
     "text": [
      " 70%|██████▉   | 1942/2787 [01:38<01:18, 10.82it/s]"
     ]
    },
    {
     "name": "stdout",
     "output_type": "stream",
     "text": [
      "Skipping entity\n"
     ]
    },
    {
     "name": "stderr",
     "output_type": "stream",
     "text": [
      " 73%|███████▎  | 2024/2787 [01:46<01:13, 10.45it/s]"
     ]
    },
    {
     "name": "stdout",
     "output_type": "stream",
     "text": [
      "Skipping entity\n"
     ]
    },
    {
     "name": "stderr",
     "output_type": "stream",
     "text": [
      " 73%|███████▎  | 2028/2787 [01:46<01:12, 10.45it/s]"
     ]
    },
    {
     "name": "stdout",
     "output_type": "stream",
     "text": [
      "Skipping entity\n",
      "Skipping entity\n"
     ]
    },
    {
     "name": "stderr",
     "output_type": "stream",
     "text": [
      "\r",
      " 73%|███████▎  | 2030/2787 [01:46<01:15, 10.06it/s]"
     ]
    },
    {
     "name": "stdout",
     "output_type": "stream",
     "text": [
      "Skipping entity\n",
      "Skipping entity\n",
      "Skipping entity\n"
     ]
    },
    {
     "name": "stderr",
     "output_type": "stream",
     "text": [
      " 73%|███████▎  | 2034/2787 [01:47<01:14, 10.14it/s]"
     ]
    },
    {
     "name": "stdout",
     "output_type": "stream",
     "text": [
      "Skipping entity\n",
      "Skipping entity\n"
     ]
    },
    {
     "name": "stderr",
     "output_type": "stream",
     "text": [
      " 77%|███████▋  | 2134/2787 [01:58<01:11,  9.10it/s]"
     ]
    },
    {
     "name": "stdout",
     "output_type": "stream",
     "text": [
      "Skipping entity\n"
     ]
    },
    {
     "name": "stderr",
     "output_type": "stream",
     "text": [
      " 77%|███████▋  | 2138/2787 [01:58<01:24,  7.71it/s]"
     ]
    },
    {
     "name": "stdout",
     "output_type": "stream",
     "text": [
      "Skipping entity\n"
     ]
    },
    {
     "name": "stderr",
     "output_type": "stream",
     "text": [
      " 80%|████████  | 2232/2787 [02:09<01:09,  7.98it/s]"
     ]
    },
    {
     "name": "stdout",
     "output_type": "stream",
     "text": [
      "Skipping entity\n"
     ]
    },
    {
     "name": "stderr",
     "output_type": "stream",
     "text": [
      " 80%|████████  | 2234/2787 [02:09<01:13,  7.49it/s]"
     ]
    },
    {
     "name": "stdout",
     "output_type": "stream",
     "text": [
      "Skipping entity\n"
     ]
    },
    {
     "name": "stderr",
     "output_type": "stream",
     "text": [
      " 85%|████████▌ | 2377/2787 [02:28<00:54,  7.55it/s]"
     ]
    },
    {
     "name": "stdout",
     "output_type": "stream",
     "text": [
      "Skipping entity\n"
     ]
    },
    {
     "name": "stderr",
     "output_type": "stream",
     "text": [
      " 85%|████████▌ | 2379/2787 [02:28<00:55,  7.33it/s]"
     ]
    },
    {
     "name": "stdout",
     "output_type": "stream",
     "text": [
      "Skipping entity\n"
     ]
    },
    {
     "name": "stderr",
     "output_type": "stream",
     "text": [
      " 87%|████████▋ | 2417/2787 [02:33<00:48,  7.56it/s]"
     ]
    },
    {
     "name": "stdout",
     "output_type": "stream",
     "text": [
      "Skipping entity\n"
     ]
    },
    {
     "name": "stderr",
     "output_type": "stream",
     "text": [
      " 87%|████████▋ | 2425/2787 [02:34<00:48,  7.47it/s]"
     ]
    },
    {
     "name": "stdout",
     "output_type": "stream",
     "text": [
      "Skipping entity\n"
     ]
    },
    {
     "name": "stderr",
     "output_type": "stream",
     "text": [
      " 89%|████████▊ | 2467/2787 [02:40<00:44,  7.22it/s]"
     ]
    },
    {
     "name": "stdout",
     "output_type": "stream",
     "text": [
      "Skipping entity\n"
     ]
    },
    {
     "name": "stderr",
     "output_type": "stream",
     "text": [
      " 89%|████████▉ | 2491/2787 [02:43<00:40,  7.35it/s]"
     ]
    },
    {
     "name": "stdout",
     "output_type": "stream",
     "text": [
      "Skipping entity\n"
     ]
    },
    {
     "name": "stderr",
     "output_type": "stream",
     "text": [
      " 92%|█████████▏| 2552/2787 [02:52<00:33,  7.01it/s]"
     ]
    },
    {
     "name": "stdout",
     "output_type": "stream",
     "text": [
      "Skipping entity\n"
     ]
    },
    {
     "name": "stderr",
     "output_type": "stream",
     "text": [
      " 92%|█████████▏| 2577/2787 [02:55<00:29,  7.11it/s]"
     ]
    },
    {
     "name": "stdout",
     "output_type": "stream",
     "text": [
      "Skipping entity\n"
     ]
    },
    {
     "name": "stderr",
     "output_type": "stream",
     "text": [
      " 93%|█████████▎| 2579/2787 [02:56<00:29,  7.00it/s]"
     ]
    },
    {
     "name": "stdout",
     "output_type": "stream",
     "text": [
      "Skipping entity\n"
     ]
    },
    {
     "name": "stderr",
     "output_type": "stream",
     "text": [
      " 94%|█████████▎| 2612/2787 [03:01<00:25,  6.77it/s]"
     ]
    },
    {
     "name": "stdout",
     "output_type": "stream",
     "text": [
      "Skipping entity\n"
     ]
    },
    {
     "name": "stderr",
     "output_type": "stream",
     "text": [
      " 98%|█████████▊| 2742/2787 [03:20<00:06,  6.51it/s]"
     ]
    },
    {
     "name": "stdout",
     "output_type": "stream",
     "text": [
      "Skipping entity\n"
     ]
    },
    {
     "name": "stderr",
     "output_type": "stream",
     "text": [
      " 99%|█████████▉| 2755/2787 [03:22<00:04,  6.91it/s]"
     ]
    },
    {
     "name": "stdout",
     "output_type": "stream",
     "text": [
      "Skipping entity\n"
     ]
    },
    {
     "name": "stderr",
     "output_type": "stream",
     "text": [
      " 99%|█████████▉| 2764/2787 [03:23<00:03,  7.12it/s]"
     ]
    },
    {
     "name": "stdout",
     "output_type": "stream",
     "text": [
      "Skipping entity\n"
     ]
    },
    {
     "name": "stderr",
     "output_type": "stream",
     "text": [
      " 99%|█████████▉| 2771/2787 [03:24<00:02,  7.03it/s]"
     ]
    },
    {
     "name": "stdout",
     "output_type": "stream",
     "text": [
      "Skipping entity\n"
     ]
    },
    {
     "name": "stderr",
     "output_type": "stream",
     "text": [
      "100%|█████████▉| 2781/2787 [03:25<00:00,  6.96it/s]"
     ]
    },
    {
     "name": "stdout",
     "output_type": "stream",
     "text": [
      "Skipping entity\n"
     ]
    },
    {
     "name": "stderr",
     "output_type": "stream",
     "text": [
      "100%|██████████| 2787/2787 [03:26<00:00, 13.48it/s]\n"
     ]
    },
    {
     "name": "stdout",
     "output_type": "stream",
     "text": [
      "\u001b[38;5;4mℹ Using CPU\u001b[0m\n",
      "\u001b[1m\n",
      "=========================== Initializing pipeline ===========================\u001b[0m\n",
      "\u001b[38;5;2m✔ Initialized pipeline\u001b[0m\n",
      "\u001b[1m\n",
      "============================= Training pipeline =============================\u001b[0m\n",
      "\u001b[38;5;4mℹ Pipeline: ['tok2vec', 'ner']\u001b[0m\n",
      "\u001b[38;5;4mℹ Initial learn rate: 0.001\u001b[0m\n",
      "E    #       LOSS TOK2VEC  LOSS NER  ENTS_F  ENTS_P  ENTS_R  SCORE \n",
      "---  ------  ------------  --------  ------  ------  ------  ------\n",
      "  0       0          0.00     20.67    0.08    0.07    0.09    0.00\n",
      "  0     200         59.29   1709.11   83.40   77.75   89.92    0.83\n",
      "  0     400         41.47    945.60   79.36   85.09   74.35    0.79\n",
      "  0     600         28.63    985.01   88.09   82.96   93.90    0.88\n",
      "  0     800         27.02   1109.96   89.33   84.97   94.17    0.89\n",
      "  1    1000         36.54   1259.77   90.80   86.95   95.01    0.91\n",
      "  1    1200         45.23   1342.01   91.59   86.79   96.96    0.92\n",
      "  2    1400         67.94   1524.37   93.34   90.71   96.13    0.93\n",
      "  2    1600         80.05   1529.95   93.98   91.98   96.07    0.94\n",
      "  3    1800        100.18   1561.32   96.20   95.02   97.40    0.96\n",
      "  4    2000        140.01   1490.12   97.16   96.71   97.62    0.97\n",
      "  6    2200        188.19   1449.01   98.11   97.81   98.42    0.98\n",
      "  7    2400        248.89   1249.76   98.80   98.29   99.31    0.99\n",
      "  9    2600        285.91   1039.06   99.18   99.19   99.16    0.99\n",
      " 10    2800        313.24    860.24   99.31   98.82   99.79    0.99\n",
      " 12    3000        319.43    696.77   99.50   99.49   99.51    0.99\n",
      " 13    3200        302.70    622.45   99.62   99.54   99.71    1.00\n",
      " 15    3400        358.02    526.69   99.54   99.80   99.28    1.00\n",
      " 17    3600        291.13    486.19   99.72   99.74   99.71    1.00\n",
      " 18    3800        326.12    454.24   99.76   99.65   99.87    1.00\n",
      " 20    4000        318.41    401.20   99.75   99.78   99.73    1.00\n",
      " 21    4200        338.80    402.54   99.68   99.83   99.53    1.00\n",
      " 23    4400        464.89    355.82   99.50   99.66   99.35    1.00\n",
      " 25    4600        375.17    332.92   99.78   99.84   99.73    1.00\n",
      " 26    4800        473.56    345.47   99.74   99.74   99.74    1.00\n",
      " 28    5000        503.96    362.90   99.72   99.71   99.74    1.00\n",
      " 29    5200        473.16    305.33   99.78   99.71   99.85    1.00\n",
      " 31    5400        556.38    316.71   99.81   99.79   99.83    1.00\n",
      " 33    5600        569.23    265.99   99.82   99.74   99.90    1.00\n",
      " 34    5800        659.92    264.33   99.77   99.65   99.88    1.00\n",
      " 36    6000        630.61    232.23   99.83   99.80   99.86    1.00\n",
      " 37    6200        809.63    272.15   99.85   99.81   99.88    1.00\n",
      " 39    6400        750.79    287.11   99.77   99.90   99.64    1.00\n",
      " 40    6600        676.19    266.35   99.79   99.75   99.84    1.00\n",
      " 42    6800        614.35    288.48   99.79   99.72   99.87    1.00\n",
      " 44    7000        680.18    199.77   99.75   99.72   99.78    1.00\n",
      " 45    7200        717.09    225.23   99.83   99.76   99.89    1.00\n",
      " 47    7400        646.97    185.91   99.90   99.81   99.98    1.00\n",
      " 48    7600        751.47    199.37   99.86   99.77   99.95    1.00\n",
      " 50    7800        835.18    175.06   99.84   99.79   99.89    1.00\n",
      " 52    8000        832.66    242.24   99.85   99.88   99.81    1.00\n",
      " 53    8200        741.52    169.61   99.81   99.84   99.79    1.00\n",
      " 55    8400        959.36    212.79   99.85   99.90   99.79    1.00\n",
      " 56    8600        735.19    201.37   99.89   99.87   99.91    1.00\n",
      " 58    8800        794.80    175.02   99.86   99.76   99.97    1.00\n",
      " 59    9000        746.82    164.55   99.88   99.85   99.91    1.00\n",
      "\u001b[38;5;2m✔ Saved pipeline to output directory\u001b[0m\n",
      "output/model-last\n",
      "\n",
      "[[25 19]\n",
      " [ 5 34]]\n",
      "              precision    recall  f1-score   support\n",
      "\n",
      "           1       0.83      0.57      0.68        44\n",
      "           0       0.64      0.87      0.74        39\n",
      "\n",
      "    accuracy                           0.71        83\n",
      "   macro avg       0.74      0.72      0.71        83\n",
      "weighted avg       0.74      0.71      0.71        83\n",
      "\n",
      "['chicken', 'milk', 'butter', 'cheese', 'ham', 'sugar', 'buttermilk', 'soda', 'bread', 'garlic', 'cream', 'granola', 'bagel', 'yogurt', 'rice', 'celery', 'fruit', 'pineapple', 'peas', 'beef', 'rye', 'potatoes', 'turkey', 'pork', 'honey', 'fish', 'cauliflower', 'strawberries', 'blueberries', 'raspberries', 'tuna', 'rosemary', 'crackers', 'meats', 'pasta', 'eggs', 'vegetables', 'nuts', 'coconut', 'miso', 'peppers', 'vinegar', 'flour', 'salt', 'gravy', 'chocolate', 'cheesecake', 'goat', 'oats', 'water', 'plantains', 'mushrooms', 'broth', 'basil', 'dough', 'chutney', 'mustard', 'pickles', 'pesto', 'lamb', 'beans', 'bacon', 'syrup', 'marshmallows', 'tomatoes', 'cilantro', 'onions', 'sausage', 'fruits', 'coffee', 'pizza', 'cereal', 'tea', 'pudding', 'lettuce', 'pecans', 'muffin', 'popcorn', 'peanuts', 'yeast', 'nutmeg', 'almonds', 'apples', 'dates', 'parsley', 'berries', 'coleslaw', 'tapenade', 'lemongrass', 'cherries', 'cinnamon', 'mint', 'quinoa', 'jerky', 'squash', 'biscuits', 'capers', 'chorizo', 'cabbage', 'bulgur', 'kale', 'ghee', 'polenta', 'eggplant', 'prosciutto', 'arugula', 'mayonnaise', 'ricotta', 'base', 'herbs', 'salsa', 'tofu', 'kefir', 'margarine', 'oils', 'walnuts', 'quiche', 'pies', 'gelatin', 'bananas', 'beets', 'veal', 'venison', 'sausages', 'olives', 'rabbit', 'grits', 'cookies', 'pastrami', 'watermelon', 'quail', 'capon', 'edamame', 'greens', 'avocados', 'thyme', 'kimchi', 'scallops', 'yuzu', 'seafood', 'zucchini', 'molasses', 'spelt', 'barley', 'asparagus', 'pistachios', 'oregano', 'horseradish', 'pretzels', 'dinners', 'lentils', 'cumin', 'guacamole', 'tortillas', 'hummus', 'pate', 'leftovers', 'casseroles', 'guava', 'pomegranate', 'doughnuts', 'buckwheat', 'cornmeal', 'cornstarch', 'tamarind', 'nectar', 'leeks', 'apricots', 'grapes', 'cucumbers', 'cherimoya', 'coconuts', 'cranberries', 'cashews', 'rhubarb', 'melons', 'relish', 'okra', 'radishes', 'taro', 'turnips', 'tempeh', 'flaxseed', 'goose', 'marinades', 'formula', 'croutons', 'aioli', 'squid', 'kumquats', 'tahini', 'macadamias', 'cantaloupe', 'jicama', 'kohlrabi', 'honeydew', 'applesauce', 'farro', 'chives', 'salami', 'bison', 'macaroons', 'caviar', 'millet', 'sorghum', 'teff', 'breadcrumbs', 'bratwurst', 'anchovies', 'radicchio']\n",
      "['chicken', 'milk', 'butter', 'cheese', 'ham', 'sugar', 'buttermilk', 'soda', 'bread', 'garlic', 'cream', 'granola', 'bagel', 'yogurt', 'rice', 'celery', 'fruit', 'pineapple', 'peas', 'beef', 'rye', 'potatoes', 'turkey', 'pork', 'honey', 'fish', 'cauliflower', 'strawberries', 'blueberries', 'raspberries', 'tuna', 'rosemary', 'crackers', 'meats', 'pasta', 'eggs', 'vegetables', 'nuts', 'coconut', 'miso', 'peppers', 'vinegar', 'flour', 'salt', 'gravy', 'chocolate', 'cheesecake', 'goat', 'oats', 'water', 'plantains', 'mushrooms', 'broth', 'basil', 'dough', 'chutney', 'mustard', 'pickles', 'pesto', 'lamb', 'beans', 'bacon', 'syrup', 'marshmallows', 'tomatoes', 'cilantro', 'onions', 'sausage', 'fruits', 'coffee', 'pizza', 'cereal', 'tea', 'pudding', 'lettuce', 'pecans', 'muffin', 'popcorn', 'peanuts', 'yeast', 'nutmeg', 'almonds', 'apples', 'dates', 'parsley', 'berries', 'coleslaw', 'tapenade', 'lemongrass', 'cherries', 'cinnamon', 'mint', 'quinoa', 'jerky', 'squash', 'biscuits', 'capers', 'chorizo', 'cabbage', 'bulgur', 'kale', 'ghee', 'polenta', 'eggplant', 'prosciutto', 'arugula', 'mayonnaise', 'ricotta', 'base', 'herbs', 'salsa', 'tofu', 'kefir', 'margarine', 'oils', 'walnuts', 'quiche', 'pies', 'gelatin', 'bananas', 'beets', 'veal', 'venison', 'sausages', 'olives', 'rabbit', 'grits', 'cookies', 'pastrami', 'watermelon', 'quail', 'capon', 'edamame', 'greens', 'avocados', 'thyme', 'kimchi', 'scallops', 'yuzu', 'seafood', 'zucchini', 'molasses', 'spelt', 'barley', 'asparagus', 'pistachios', 'oregano', 'horseradish', 'pretzels', 'dinners', 'lentils', 'cumin', 'guacamole', 'tortillas', 'hummus', 'pate', 'leftovers', 'casseroles', 'guava', 'pomegranate', 'doughnuts', 'buckwheat', 'cornmeal', 'cornstarch', 'tamarind', 'nectar', 'leeks', 'apricots', 'grapes', 'cucumbers', 'cherimoya', 'coconuts', 'cranberries', 'cashews', 'rhubarb', 'melons', 'relish', 'okra', 'radishes', 'taro', 'turnips', 'tempeh', 'flaxseed', 'goose', 'marinades', 'formula', 'croutons', 'aioli', 'squid', 'kumquats', 'tahini', 'macadamias', 'cantaloupe', 'jicama', 'kohlrabi', 'honeydew', 'applesauce', 'farro', 'chives', 'salami', 'bison', 'macaroons', 'caviar', 'millet', 'sorghum', 'teff', 'breadcrumbs', 'bratwurst', 'anchovies', 'radicchio']\n",
      "~~~~~~~~~~~~~~~~~3~~~~~~~~~~~~~~~~~\n"
     ]
    },
    {
     "name": "stderr",
     "output_type": "stream",
     "text": [
      "  2%|▏         | 42/2787 [00:00<00:06, 409.85it/s]"
     ]
    },
    {
     "name": "stdout",
     "output_type": "stream",
     "text": [
      "Skipping entity\n",
      "Skipping entity\n",
      "Skipping entity\n",
      "Skipping entity\n",
      "Skipping entity\n"
     ]
    },
    {
     "name": "stderr",
     "output_type": "stream",
     "text": [
      "  5%|▍         | 138/2787 [00:00<00:13, 191.92it/s]"
     ]
    },
    {
     "name": "stdout",
     "output_type": "stream",
     "text": [
      "Skipping entity\n",
      "Skipping entity\n",
      "Skipping entity\n"
     ]
    },
    {
     "name": "stderr",
     "output_type": "stream",
     "text": [
      "  9%|▊         | 241/2787 [00:01<00:27, 94.08it/s] "
     ]
    },
    {
     "name": "stdout",
     "output_type": "stream",
     "text": [
      "Skipping entity\n"
     ]
    },
    {
     "name": "stderr",
     "output_type": "stream",
     "text": [
      " 10%|▉         | 268/2787 [00:02<00:33, 75.13it/s]"
     ]
    },
    {
     "name": "stdout",
     "output_type": "stream",
     "text": [
      "Skipping entity\n"
     ]
    },
    {
     "name": "stderr",
     "output_type": "stream",
     "text": [
      " 12%|█▏        | 326/2787 [00:03<00:50, 48.88it/s]"
     ]
    },
    {
     "name": "stdout",
     "output_type": "stream",
     "text": [
      "Skipping entity\n"
     ]
    },
    {
     "name": "stderr",
     "output_type": "stream",
     "text": [
      " 13%|█▎        | 361/2787 [00:04<00:55, 43.95it/s]"
     ]
    },
    {
     "name": "stdout",
     "output_type": "stream",
     "text": [
      "Skipping entity\n"
     ]
    },
    {
     "name": "stderr",
     "output_type": "stream",
     "text": [
      " 14%|█▎        | 381/2787 [00:04<00:58, 41.37it/s]"
     ]
    },
    {
     "name": "stdout",
     "output_type": "stream",
     "text": [
      "Skipping entity\n"
     ]
    },
    {
     "name": "stderr",
     "output_type": "stream",
     "text": [
      " 14%|█▍        | 401/2787 [00:05<01:00, 39.14it/s]"
     ]
    },
    {
     "name": "stdout",
     "output_type": "stream",
     "text": [
      "Skipping entity\n"
     ]
    },
    {
     "name": "stderr",
     "output_type": "stream",
     "text": [
      " 15%|█▍        | 418/2787 [00:05<01:03, 37.43it/s]"
     ]
    },
    {
     "name": "stdout",
     "output_type": "stream",
     "text": [
      "Skipping entity\n"
     ]
    },
    {
     "name": "stderr",
     "output_type": "stream",
     "text": [
      " 15%|█▌        | 427/2787 [00:05<01:03, 37.25it/s]"
     ]
    },
    {
     "name": "stdout",
     "output_type": "stream",
     "text": [
      "Skipping entity\n"
     ]
    },
    {
     "name": "stderr",
     "output_type": "stream",
     "text": [
      " 18%|█▊        | 512/2787 [00:08<01:09, 32.68it/s]"
     ]
    },
    {
     "name": "stdout",
     "output_type": "stream",
     "text": [
      "Skipping entity\n",
      "Skipping entity\n"
     ]
    },
    {
     "name": "stderr",
     "output_type": "stream",
     "text": [
      " 20%|██        | 560/2787 [00:09<01:13, 30.40it/s]"
     ]
    },
    {
     "name": "stdout",
     "output_type": "stream",
     "text": [
      "Skipping entity\n"
     ]
    },
    {
     "name": "stderr",
     "output_type": "stream",
     "text": [
      " 22%|██▏       | 624/2787 [00:12<01:18, 27.38it/s]"
     ]
    },
    {
     "name": "stdout",
     "output_type": "stream",
     "text": [
      "Skipping entity\n"
     ]
    },
    {
     "name": "stderr",
     "output_type": "stream",
     "text": [
      " 23%|██▎       | 648/2787 [00:13<01:24, 25.28it/s]"
     ]
    },
    {
     "name": "stdout",
     "output_type": "stream",
     "text": [
      "Skipping entity\n",
      "Skipping entity\n"
     ]
    },
    {
     "name": "stderr",
     "output_type": "stream",
     "text": [
      " 24%|██▎       | 657/2787 [00:13<01:25, 25.06it/s]"
     ]
    },
    {
     "name": "stdout",
     "output_type": "stream",
     "text": [
      "Skipping entity\n"
     ]
    },
    {
     "name": "stderr",
     "output_type": "stream",
     "text": [
      " 24%|██▍       | 663/2787 [00:13<01:28, 24.05it/s]"
     ]
    },
    {
     "name": "stdout",
     "output_type": "stream",
     "text": [
      "Skipping entity\n"
     ]
    },
    {
     "name": "stderr",
     "output_type": "stream",
     "text": [
      " 25%|██▍       | 687/2787 [00:14<01:25, 24.66it/s]"
     ]
    },
    {
     "name": "stdout",
     "output_type": "stream",
     "text": [
      "Skipping entity\n",
      "Skipping entity\n"
     ]
    },
    {
     "name": "stderr",
     "output_type": "stream",
     "text": [
      " 25%|██▌       | 708/2787 [00:15<01:28, 23.62it/s]"
     ]
    },
    {
     "name": "stdout",
     "output_type": "stream",
     "text": [
      "Skipping entity\n",
      "Skipping entity\n"
     ]
    },
    {
     "name": "stderr",
     "output_type": "stream",
     "text": [
      " 27%|██▋       | 765/2787 [00:18<01:26, 23.38it/s]"
     ]
    },
    {
     "name": "stdout",
     "output_type": "stream",
     "text": [
      "Skipping entity\n"
     ]
    },
    {
     "name": "stderr",
     "output_type": "stream",
     "text": [
      " 30%|███       | 840/2787 [00:21<01:32, 20.97it/s]"
     ]
    },
    {
     "name": "stdout",
     "output_type": "stream",
     "text": [
      "Skipping entity\n"
     ]
    },
    {
     "name": "stderr",
     "output_type": "stream",
     "text": [
      " 33%|███▎      | 909/2787 [00:24<01:30, 20.67it/s]"
     ]
    },
    {
     "name": "stdout",
     "output_type": "stream",
     "text": [
      "Skipping entity\n"
     ]
    },
    {
     "name": "stderr",
     "output_type": "stream",
     "text": [
      " 36%|███▌      | 1001/2787 [00:29<01:38, 18.15it/s]"
     ]
    },
    {
     "name": "stdout",
     "output_type": "stream",
     "text": [
      "Skipping entity\n"
     ]
    },
    {
     "name": "stderr",
     "output_type": "stream",
     "text": [
      " 38%|███▊      | 1049/2787 [00:32<01:41, 17.16it/s]"
     ]
    },
    {
     "name": "stdout",
     "output_type": "stream",
     "text": [
      "Skipping entity\n"
     ]
    },
    {
     "name": "stderr",
     "output_type": "stream",
     "text": [
      " 42%|████▏     | 1173/2787 [00:40<01:45, 15.34it/s]"
     ]
    },
    {
     "name": "stdout",
     "output_type": "stream",
     "text": [
      "Skipping entity\n"
     ]
    },
    {
     "name": "stderr",
     "output_type": "stream",
     "text": [
      " 42%|████▏     | 1177/2787 [00:40<01:44, 15.35it/s]"
     ]
    },
    {
     "name": "stdout",
     "output_type": "stream",
     "text": [
      "Skipping entity\n",
      "Skipping entity\n"
     ]
    },
    {
     "name": "stderr",
     "output_type": "stream",
     "text": [
      " 43%|████▎     | 1205/2787 [00:42<01:41, 15.63it/s]"
     ]
    },
    {
     "name": "stdout",
     "output_type": "stream",
     "text": [
      "Skipping entity\n"
     ]
    },
    {
     "name": "stderr",
     "output_type": "stream",
     "text": [
      " 46%|████▋     | 1291/2787 [00:48<01:51, 13.42it/s]"
     ]
    },
    {
     "name": "stdout",
     "output_type": "stream",
     "text": [
      "Skipping entity\n"
     ]
    },
    {
     "name": "stderr",
     "output_type": "stream",
     "text": [
      " 48%|████▊     | 1325/2787 [00:51<02:19, 10.51it/s]"
     ]
    },
    {
     "name": "stdout",
     "output_type": "stream",
     "text": [
      "Skipping entity\n"
     ]
    },
    {
     "name": "stderr",
     "output_type": "stream",
     "text": [
      " 48%|████▊     | 1347/2787 [00:52<01:50, 13.07it/s]"
     ]
    },
    {
     "name": "stdout",
     "output_type": "stream",
     "text": [
      "Skipping entity\n"
     ]
    },
    {
     "name": "stderr",
     "output_type": "stream",
     "text": [
      " 49%|████▉     | 1361/2787 [00:53<01:43, 13.78it/s]"
     ]
    },
    {
     "name": "stdout",
     "output_type": "stream",
     "text": [
      "Skipping entity\n"
     ]
    },
    {
     "name": "stderr",
     "output_type": "stream",
     "text": [
      " 51%|█████     | 1413/2787 [00:57<01:42, 13.35it/s]"
     ]
    },
    {
     "name": "stdout",
     "output_type": "stream",
     "text": [
      "Skipping entity\n"
     ]
    },
    {
     "name": "stderr",
     "output_type": "stream",
     "text": [
      " 57%|█████▋    | 1581/2787 [01:10<01:34, 12.74it/s]"
     ]
    },
    {
     "name": "stdout",
     "output_type": "stream",
     "text": [
      "Skipping entity\n"
     ]
    },
    {
     "name": "stderr",
     "output_type": "stream",
     "text": [
      " 57%|█████▋    | 1587/2787 [01:10<01:35, 12.53it/s]"
     ]
    },
    {
     "name": "stdout",
     "output_type": "stream",
     "text": [
      "Skipping entity\n"
     ]
    },
    {
     "name": "stderr",
     "output_type": "stream",
     "text": [
      " 57%|█████▋    | 1591/2787 [01:11<01:36, 12.34it/s]"
     ]
    },
    {
     "name": "stdout",
     "output_type": "stream",
     "text": [
      "Skipping entity\n"
     ]
    },
    {
     "name": "stderr",
     "output_type": "stream",
     "text": [
      " 62%|██████▏   | 1717/2787 [01:21<01:30, 11.80it/s]"
     ]
    },
    {
     "name": "stdout",
     "output_type": "stream",
     "text": [
      "Skipping entity\n"
     ]
    },
    {
     "name": "stderr",
     "output_type": "stream",
     "text": [
      " 63%|██████▎   | 1763/2787 [01:25<01:28, 11.55it/s]"
     ]
    },
    {
     "name": "stdout",
     "output_type": "stream",
     "text": [
      "Skipping entity\n"
     ]
    },
    {
     "name": "stderr",
     "output_type": "stream",
     "text": [
      " 65%|██████▌   | 1817/2787 [01:30<01:26, 11.26it/s]"
     ]
    },
    {
     "name": "stdout",
     "output_type": "stream",
     "text": [
      "Skipping entity\n",
      "Skipping entity\n"
     ]
    },
    {
     "name": "stderr",
     "output_type": "stream",
     "text": [
      " 65%|██████▌   | 1823/2787 [01:31<01:28, 10.87it/s]"
     ]
    },
    {
     "name": "stdout",
     "output_type": "stream",
     "text": [
      "Skipping entity\n"
     ]
    },
    {
     "name": "stderr",
     "output_type": "stream",
     "text": [
      " 66%|██████▌   | 1827/2787 [01:31<01:28, 10.87it/s]"
     ]
    },
    {
     "name": "stdout",
     "output_type": "stream",
     "text": [
      "Skipping entity\n",
      "Skipping entity\n"
     ]
    },
    {
     "name": "stderr",
     "output_type": "stream",
     "text": [
      " 68%|██████▊   | 1893/2787 [01:38<01:23, 10.77it/s]"
     ]
    },
    {
     "name": "stdout",
     "output_type": "stream",
     "text": [
      "Skipping entity\n"
     ]
    },
    {
     "name": "stderr",
     "output_type": "stream",
     "text": [
      " 70%|██████▉   | 1941/2787 [01:42<01:32,  9.19it/s]"
     ]
    },
    {
     "name": "stdout",
     "output_type": "stream",
     "text": [
      "Skipping entity\n"
     ]
    },
    {
     "name": "stderr",
     "output_type": "stream",
     "text": [
      " 73%|███████▎  | 2024/2787 [01:52<01:24,  9.04it/s]"
     ]
    },
    {
     "name": "stdout",
     "output_type": "stream",
     "text": [
      "Skipping entity\n"
     ]
    },
    {
     "name": "stderr",
     "output_type": "stream",
     "text": [
      " 73%|███████▎  | 2027/2787 [01:52<01:24,  8.99it/s]"
     ]
    },
    {
     "name": "stdout",
     "output_type": "stream",
     "text": [
      "Skipping entity\n",
      "Skipping entity\n"
     ]
    },
    {
     "name": "stderr",
     "output_type": "stream",
     "text": [
      " 73%|███████▎  | 2030/2787 [01:52<01:25,  8.81it/s]"
     ]
    },
    {
     "name": "stdout",
     "output_type": "stream",
     "text": [
      "Skipping entity\n",
      "Skipping entity\n"
     ]
    },
    {
     "name": "stderr",
     "output_type": "stream",
     "text": [
      " 73%|███████▎  | 2032/2787 [01:53<01:27,  8.64it/s]"
     ]
    },
    {
     "name": "stdout",
     "output_type": "stream",
     "text": [
      "Skipping entity\n"
     ]
    },
    {
     "name": "stderr",
     "output_type": "stream",
     "text": [
      " 73%|███████▎  | 2034/2787 [01:53<01:27,  8.59it/s]"
     ]
    },
    {
     "name": "stdout",
     "output_type": "stream",
     "text": [
      "Skipping entity\n",
      "Skipping entity\n"
     ]
    },
    {
     "name": "stderr",
     "output_type": "stream",
     "text": [
      " 77%|███████▋  | 2134/2787 [02:04<01:13,  8.94it/s]"
     ]
    },
    {
     "name": "stdout",
     "output_type": "stream",
     "text": [
      "Skipping entity\n"
     ]
    },
    {
     "name": "stderr",
     "output_type": "stream",
     "text": [
      " 77%|███████▋  | 2138/2787 [02:05<01:14,  8.71it/s]"
     ]
    },
    {
     "name": "stdout",
     "output_type": "stream",
     "text": [
      "Skipping entity\n"
     ]
    },
    {
     "name": "stderr",
     "output_type": "stream",
     "text": [
      " 80%|████████  | 2232/2787 [02:16<01:05,  8.47it/s]"
     ]
    },
    {
     "name": "stdout",
     "output_type": "stream",
     "text": [
      "Skipping entity\n"
     ]
    },
    {
     "name": "stderr",
     "output_type": "stream",
     "text": [
      " 80%|████████  | 2234/2787 [02:17<01:05,  8.40it/s]"
     ]
    },
    {
     "name": "stdout",
     "output_type": "stream",
     "text": [
      "Skipping entity\n"
     ]
    },
    {
     "name": "stderr",
     "output_type": "stream",
     "text": [
      " 85%|████████▌ | 2377/2787 [02:36<00:54,  7.55it/s]"
     ]
    },
    {
     "name": "stdout",
     "output_type": "stream",
     "text": [
      "Skipping entity\n"
     ]
    },
    {
     "name": "stderr",
     "output_type": "stream",
     "text": [
      " 85%|████████▌ | 2379/2787 [02:36<00:55,  7.37it/s]"
     ]
    },
    {
     "name": "stdout",
     "output_type": "stream",
     "text": [
      "Skipping entity\n"
     ]
    },
    {
     "name": "stderr",
     "output_type": "stream",
     "text": [
      " 87%|████████▋ | 2417/2787 [02:41<00:50,  7.37it/s]"
     ]
    },
    {
     "name": "stdout",
     "output_type": "stream",
     "text": [
      "Skipping entity\n"
     ]
    },
    {
     "name": "stderr",
     "output_type": "stream",
     "text": [
      " 87%|████████▋ | 2425/2787 [02:42<00:49,  7.37it/s]"
     ]
    },
    {
     "name": "stdout",
     "output_type": "stream",
     "text": [
      "Skipping entity\n"
     ]
    },
    {
     "name": "stderr",
     "output_type": "stream",
     "text": [
      " 89%|████████▊ | 2467/2787 [02:48<00:45,  7.09it/s]"
     ]
    },
    {
     "name": "stdout",
     "output_type": "stream",
     "text": [
      "Skipping entity\n"
     ]
    },
    {
     "name": "stderr",
     "output_type": "stream",
     "text": [
      " 89%|████████▉ | 2491/2787 [02:52<00:42,  7.04it/s]"
     ]
    },
    {
     "name": "stdout",
     "output_type": "stream",
     "text": [
      "Skipping entity\n"
     ]
    },
    {
     "name": "stderr",
     "output_type": "stream",
     "text": [
      " 92%|█████████▏| 2552/2787 [03:00<00:32,  7.18it/s]"
     ]
    },
    {
     "name": "stdout",
     "output_type": "stream",
     "text": [
      "Skipping entity\n"
     ]
    },
    {
     "name": "stderr",
     "output_type": "stream",
     "text": [
      " 92%|█████████▏| 2577/2787 [03:04<00:30,  6.96it/s]"
     ]
    },
    {
     "name": "stdout",
     "output_type": "stream",
     "text": [
      "Skipping entity\n"
     ]
    },
    {
     "name": "stderr",
     "output_type": "stream",
     "text": [
      " 93%|█████████▎| 2579/2787 [03:04<00:30,  6.88it/s]"
     ]
    },
    {
     "name": "stdout",
     "output_type": "stream",
     "text": [
      "Skipping entity\n"
     ]
    },
    {
     "name": "stderr",
     "output_type": "stream",
     "text": [
      " 94%|█████████▎| 2612/2787 [03:09<00:25,  6.84it/s]"
     ]
    },
    {
     "name": "stdout",
     "output_type": "stream",
     "text": [
      "Skipping entity\n"
     ]
    },
    {
     "name": "stderr",
     "output_type": "stream",
     "text": [
      " 98%|█████████▊| 2742/2787 [03:29<00:06,  6.44it/s]"
     ]
    },
    {
     "name": "stdout",
     "output_type": "stream",
     "text": [
      "Skipping entity\n"
     ]
    },
    {
     "name": "stderr",
     "output_type": "stream",
     "text": [
      " 99%|█████████▉| 2755/2787 [03:31<00:04,  6.60it/s]"
     ]
    },
    {
     "name": "stdout",
     "output_type": "stream",
     "text": [
      "Skipping entity\n"
     ]
    },
    {
     "name": "stderr",
     "output_type": "stream",
     "text": [
      " 99%|█████████▉| 2764/2787 [03:32<00:03,  6.56it/s]"
     ]
    },
    {
     "name": "stdout",
     "output_type": "stream",
     "text": [
      "Skipping entity\n"
     ]
    },
    {
     "name": "stderr",
     "output_type": "stream",
     "text": [
      " 99%|█████████▉| 2771/2787 [03:33<00:02,  6.67it/s]"
     ]
    },
    {
     "name": "stdout",
     "output_type": "stream",
     "text": [
      "Skipping entity\n"
     ]
    },
    {
     "name": "stderr",
     "output_type": "stream",
     "text": [
      "100%|█████████▉| 2781/2787 [03:35<00:01,  5.20it/s]"
     ]
    },
    {
     "name": "stdout",
     "output_type": "stream",
     "text": [
      "Skipping entity\n"
     ]
    },
    {
     "name": "stderr",
     "output_type": "stream",
     "text": [
      "100%|██████████| 2787/2787 [03:36<00:00, 12.87it/s]\n"
     ]
    },
    {
     "name": "stdout",
     "output_type": "stream",
     "text": [
      "\u001b[38;5;4mℹ Using CPU\u001b[0m\n",
      "\u001b[1m\n",
      "=========================== Initializing pipeline ===========================\u001b[0m\n",
      "\u001b[38;5;2m✔ Initialized pipeline\u001b[0m\n",
      "\u001b[1m\n",
      "============================= Training pipeline =============================\u001b[0m\n",
      "\u001b[38;5;4mℹ Pipeline: ['tok2vec', 'ner']\u001b[0m\n",
      "\u001b[38;5;4mℹ Initial learn rate: 0.001\u001b[0m\n",
      "E    #       LOSS TOK2VEC  LOSS NER  ENTS_F  ENTS_P  ENTS_R  SCORE \n",
      "---  ------  ------------  --------  ------  ------  ------  ------\n",
      "  0       0          0.00     20.67    0.08    0.07    0.09    0.00\n",
      "  0     200         59.29   1709.11   83.40   77.75   89.92    0.83\n",
      "  0     400         41.47    945.60   79.36   85.09   74.35    0.79\n",
      "  0     600         28.63    985.01   88.09   82.96   93.90    0.88\n",
      "  0     800         27.02   1109.96   89.33   84.97   94.17    0.89\n",
      "  1    1000         36.54   1259.77   90.80   86.95   95.01    0.91\n",
      "  1    1200         45.23   1342.01   91.59   86.79   96.96    0.92\n",
      "  2    1400         67.94   1524.37   93.34   90.71   96.13    0.93\n",
      "  2    1600         80.05   1529.95   93.98   91.98   96.07    0.94\n",
      "  3    1800        100.18   1561.32   96.20   95.02   97.40    0.96\n",
      "  4    2000        140.01   1490.12   97.16   96.71   97.62    0.97\n",
      "  6    2200        188.19   1449.01   98.11   97.81   98.42    0.98\n",
      "  7    2400        248.89   1249.76   98.80   98.29   99.31    0.99\n",
      "  9    2600        285.91   1039.06   99.18   99.19   99.16    0.99\n",
      " 10    2800        313.24    860.24   99.31   98.82   99.79    0.99\n",
      " 12    3000        319.43    696.77   99.50   99.49   99.51    0.99\n",
      " 13    3200        302.70    622.45   99.62   99.54   99.71    1.00\n",
      " 15    3400        358.02    526.69   99.54   99.80   99.28    1.00\n",
      " 17    3600        291.13    486.19   99.72   99.74   99.71    1.00\n",
      " 18    3800        326.12    454.24   99.76   99.65   99.87    1.00\n",
      " 20    4000        318.41    401.20   99.75   99.78   99.73    1.00\n",
      " 21    4200        338.80    402.54   99.68   99.83   99.53    1.00\n",
      " 23    4400        464.89    355.82   99.50   99.66   99.35    1.00\n",
      " 25    4600        375.17    332.92   99.78   99.84   99.73    1.00\n",
      " 26    4800        473.56    345.47   99.74   99.74   99.74    1.00\n",
      " 28    5000        503.96    362.90   99.72   99.71   99.74    1.00\n",
      " 29    5200        473.16    305.33   99.78   99.71   99.85    1.00\n",
      " 31    5400        556.38    316.71   99.81   99.79   99.83    1.00\n",
      " 33    5600        569.23    265.99   99.82   99.74   99.90    1.00\n",
      " 34    5800        659.92    264.33   99.77   99.65   99.88    1.00\n",
      " 36    6000        630.61    232.23   99.83   99.80   99.86    1.00\n",
      " 37    6200        809.63    272.15   99.85   99.81   99.88    1.00\n",
      " 39    6400        750.79    287.11   99.77   99.90   99.64    1.00\n",
      " 40    6600        676.19    266.35   99.79   99.75   99.84    1.00\n",
      " 42    6800        614.35    288.48   99.79   99.72   99.87    1.00\n",
      " 44    7000        680.18    199.77   99.75   99.72   99.78    1.00\n",
      " 45    7200        717.09    225.23   99.83   99.76   99.89    1.00\n",
      " 47    7400        646.97    185.91   99.90   99.81   99.98    1.00\n",
      " 48    7600        751.47    199.37   99.86   99.77   99.95    1.00\n",
      " 50    7800        835.18    175.06   99.84   99.79   99.89    1.00\n",
      " 52    8000        832.66    242.24   99.85   99.88   99.81    1.00\n",
      " 53    8200        741.52    169.61   99.81   99.84   99.79    1.00\n",
      " 55    8400        959.36    212.79   99.85   99.90   99.79    1.00\n",
      " 56    8600        735.19    201.37   99.89   99.87   99.91    1.00\n",
      " 58    8800        794.80    175.02   99.86   99.76   99.97    1.00\n",
      " 59    9000        746.82    164.55   99.88   99.85   99.91    1.00\n",
      "\u001b[38;5;2m✔ Saved pipeline to output directory\u001b[0m\n",
      "output/model-last\n",
      "\n",
      "[[25 19]\n",
      " [ 5 34]]\n",
      "              precision    recall  f1-score   support\n",
      "\n",
      "           1       0.83      0.57      0.68        44\n",
      "           0       0.64      0.87      0.74        39\n",
      "\n",
      "    accuracy                           0.71        83\n",
      "   macro avg       0.74      0.72      0.71        83\n",
      "weighted avg       0.74      0.71      0.71        83\n",
      "\n",
      "['chicken', 'milk', 'butter', 'cheese', 'ham', 'sugar', 'buttermilk', 'soda', 'bread', 'garlic', 'cream', 'granola', 'bagel', 'yogurt', 'rice', 'celery', 'fruit', 'pineapple', 'peas', 'beef', 'rye', 'potatoes', 'turkey', 'pork', 'honey', 'fish', 'cauliflower', 'strawberries', 'blueberries', 'raspberries', 'tuna', 'rosemary', 'crackers', 'meats', 'pasta', 'eggs', 'vegetables', 'nuts', 'coconut', 'miso', 'peppers', 'vinegar', 'flour', 'salt', 'gravy', 'chocolate', 'cheesecake', 'goat', 'oats', 'water', 'plantains', 'mushrooms', 'broth', 'basil', 'dough', 'chutney', 'mustard', 'pickles', 'pesto', 'lamb', 'beans', 'bacon', 'syrup', 'marshmallows', 'tomatoes', 'cilantro', 'onions', 'sausage', 'fruits', 'coffee', 'pizza', 'cereal', 'tea', 'pudding', 'lettuce', 'pecans', 'muffin', 'popcorn', 'peanuts', 'yeast', 'nutmeg', 'almonds', 'apples', 'dates', 'parsley', 'berries', 'coleslaw', 'tapenade', 'lemongrass', 'cherries', 'cinnamon', 'mint', 'quinoa', 'jerky', 'squash', 'biscuits', 'capers', 'chorizo', 'cabbage', 'bulgur', 'kale', 'ghee', 'polenta', 'eggplant', 'prosciutto', 'arugula', 'mayonnaise', 'ricotta', 'base', 'herbs', 'salsa', 'tofu', 'kefir', 'margarine', 'oils', 'walnuts', 'quiche', 'pies', 'gelatin', 'bananas', 'beets', 'veal', 'venison', 'sausages', 'olives', 'rabbit', 'grits', 'cookies', 'pastrami', 'watermelon', 'quail', 'capon', 'edamame', 'greens', 'avocados', 'thyme', 'kimchi', 'scallops', 'yuzu', 'seafood', 'zucchini', 'molasses', 'spelt', 'barley', 'asparagus', 'pistachios', 'oregano', 'horseradish', 'pretzels', 'dinners', 'lentils', 'cumin', 'guacamole', 'tortillas', 'hummus', 'pate', 'leftovers', 'casseroles', 'guava', 'pomegranate', 'doughnuts', 'buckwheat', 'cornmeal', 'cornstarch', 'tamarind', 'nectar', 'leeks', 'apricots', 'grapes', 'cucumbers', 'cherimoya', 'coconuts', 'cranberries', 'cashews', 'rhubarb', 'melons', 'relish', 'okra', 'radishes', 'taro', 'turnips', 'tempeh', 'flaxseed', 'goose', 'marinades', 'formula', 'croutons', 'aioli', 'squid', 'kumquats', 'tahini', 'macadamias', 'cantaloupe', 'jicama', 'kohlrabi', 'honeydew', 'applesauce', 'farro', 'chives', 'salami', 'bison', 'macaroons', 'caviar', 'millet', 'sorghum', 'teff', 'breadcrumbs', 'bratwurst', 'anchovies', 'radicchio']\n",
      "['chicken', 'milk', 'butter', 'cheese', 'ham', 'sugar', 'buttermilk', 'soda', 'bread', 'garlic', 'cream', 'granola', 'bagel', 'yogurt', 'rice', 'celery', 'fruit', 'pineapple', 'peas', 'beef', 'rye', 'potatoes', 'turkey', 'pork', 'honey', 'fish', 'cauliflower', 'strawberries', 'blueberries', 'raspberries', 'tuna', 'rosemary', 'crackers', 'meats', 'pasta', 'eggs', 'vegetables', 'nuts', 'coconut', 'miso', 'peppers', 'vinegar', 'flour', 'salt', 'gravy', 'chocolate', 'cheesecake', 'goat', 'oats', 'water', 'plantains', 'mushrooms', 'broth', 'basil', 'dough', 'chutney', 'mustard', 'pickles', 'pesto', 'lamb', 'beans', 'bacon', 'syrup', 'marshmallows', 'tomatoes', 'cilantro', 'onions', 'sausage', 'fruits', 'coffee', 'pizza', 'cereal', 'tea', 'pudding', 'lettuce', 'pecans', 'muffin', 'popcorn', 'peanuts', 'yeast', 'nutmeg', 'almonds', 'apples', 'dates', 'parsley', 'berries', 'coleslaw', 'tapenade', 'lemongrass', 'cherries', 'cinnamon', 'mint', 'quinoa', 'jerky', 'squash', 'biscuits', 'capers', 'chorizo', 'cabbage', 'bulgur', 'kale', 'ghee', 'polenta', 'eggplant', 'prosciutto', 'arugula', 'mayonnaise', 'ricotta', 'base', 'herbs', 'salsa', 'tofu', 'kefir', 'margarine', 'oils', 'walnuts', 'quiche', 'pies', 'gelatin', 'bananas', 'beets', 'veal', 'venison', 'sausages', 'olives', 'rabbit', 'grits', 'cookies', 'pastrami', 'watermelon', 'quail', 'capon', 'edamame', 'greens', 'avocados', 'thyme', 'kimchi', 'scallops', 'yuzu', 'seafood', 'zucchini', 'molasses', 'spelt', 'barley', 'asparagus', 'pistachios', 'oregano', 'horseradish', 'pretzels', 'dinners', 'lentils', 'cumin', 'guacamole', 'tortillas', 'hummus', 'pate', 'leftovers', 'casseroles', 'guava', 'pomegranate', 'doughnuts', 'buckwheat', 'cornmeal', 'cornstarch', 'tamarind', 'nectar', 'leeks', 'apricots', 'grapes', 'cucumbers', 'cherimoya', 'coconuts', 'cranberries', 'cashews', 'rhubarb', 'melons', 'relish', 'okra', 'radishes', 'taro', 'turnips', 'tempeh', 'flaxseed', 'goose', 'marinades', 'formula', 'croutons', 'aioli', 'squid', 'kumquats', 'tahini', 'macadamias', 'cantaloupe', 'jicama', 'kohlrabi', 'honeydew', 'applesauce', 'farro', 'chives', 'salami', 'bison', 'macaroons', 'caviar', 'millet', 'sorghum', 'teff', 'breadcrumbs', 'bratwurst', 'anchovies', 'radicchio']\n"
     ]
    }
   ],
   "source": [
    "trainModel(training_data)\n",
    "    "
   ]
  },
  {
   "cell_type": "code",
   "execution_count": 67,
   "metadata": {},
   "outputs": [
    {
     "data": {
      "text/html": [
       "<span class=\"tex2jax_ignore\"><div class=\"entities\" style=\"line-height: 2.5; direction: ltr\">My friend likes to drink milk and eat \n",
       "<mark class=\"entity\" style=\"background: #ddd; padding: 0.45em 0.6em; margin: 0 0.25em; line-height: 1; border-radius: 0.35em;\">\n",
       "    fish\n",
       "    <span style=\"font-size: 0.8em; font-weight: bold; line-height: 1; border-radius: 0.35em; vertical-align: middle; margin-left: 0.5rem\">FOOD</span>\n",
       "</mark>\n",
       " and \n",
       "<mark class=\"entity\" style=\"background: #ddd; padding: 0.45em 0.6em; margin: 0 0.25em; line-height: 1; border-radius: 0.35em;\">\n",
       "    chicken\n",
       "    <span style=\"font-size: 0.8em; font-weight: bold; line-height: 1; border-radius: 0.35em; vertical-align: middle; margin-left: 0.5rem\">FOOD</span>\n",
       "</mark>\n",
       "</div></span>"
      ],
      "text/plain": [
       "<IPython.core.display.HTML object>"
      ]
     },
     "metadata": {},
     "output_type": "display_data"
    },
    {
     "data": {
      "text/html": [
       "<span class=\"tex2jax_ignore\"><div class=\"entities\" style=\"line-height: 2.5; direction: ltr\">My friend is a chicken</div></span>"
      ],
      "text/plain": [
       "<IPython.core.display.HTML object>"
      ]
     },
     "metadata": {},
     "output_type": "display_data"
    },
    {
     "data": {
      "text/html": [
       "<span class=\"tex2jax_ignore\"><div class=\"entities\" style=\"line-height: 2.5; direction: ltr\">A chicken is a wild animal.</div></span>"
      ],
      "text/plain": [
       "<IPython.core.display.HTML object>"
      ]
     },
     "metadata": {},
     "output_type": "display_data"
    },
    {
     "data": {
      "text/html": [
       "<span class=\"tex2jax_ignore\"><div class=\"entities\" style=\"line-height: 2.5; direction: ltr\">The \n",
       "<mark class=\"entity\" style=\"background: #ddd; padding: 0.45em 0.6em; margin: 0 0.25em; line-height: 1; border-radius: 0.35em;\">\n",
       "    chicken\n",
       "    <span style=\"font-size: 0.8em; font-weight: bold; line-height: 1; border-radius: 0.35em; vertical-align: middle; margin-left: 0.5rem\">FOOD</span>\n",
       "</mark>\n",
       " is a wild animal.</div></span>"
      ],
      "text/plain": [
       "<IPython.core.display.HTML object>"
      ]
     },
     "metadata": {},
     "output_type": "display_data"
    }
   ],
   "source": [
    "nlp = spacy.load(MODEL_PATH)\n",
    "ent_recognize(\"My friend likes to drink milk and eat fish and chicken\")\n",
    "ent_recognize(\"My friend is a chicken\")\n",
    "ent_recognize(\"A chicken is a wild animal.\")\n",
    "ent_recognize(\"The chicken is a wild animal.\")\n",
    "\n",
    "#rankTweet(\"sugar\")\n",
    "#eval_model()\n"
   ]
  },
  {
   "cell_type": "code",
   "execution_count": 7,
   "metadata": {},
   "outputs": [],
   "source": [
    "#eval_model()\n",
    "# show_tp()\n",
    "# show_tn()\n",
    "# show_fp()\n",
    "#show_fn()\n"
   ]
  },
  {
   "cell_type": "code",
   "execution_count": 25,
   "metadata": {},
   "outputs": [
    {
     "data": {
      "text/plain": [
       "1"
      ]
     },
     "execution_count": 25,
     "metadata": {},
     "output_type": "execute_result"
    }
   ],
   "source": [
    "rankTweet(\"Hello chicken\")"
   ]
  },
  {
   "cell_type": "code",
   "execution_count": 31,
   "metadata": {},
   "outputs": [
    {
     "name": "stdout",
     "output_type": "stream",
     "text": [
      "['chicken', 'milk']\n"
     ]
    }
   ],
   "source": [
    "print(keywords)"
   ]
  },
  {
   "cell_type": "code",
   "execution_count": null,
   "metadata": {},
   "outputs": [],
   "source": []
  }
 ],
 "metadata": {
  "kernelspec": {
   "display_name": "Python 3",
   "language": "python",
   "name": "python3"
  },
  "language_info": {
   "codemirror_mode": {
    "name": "ipython",
    "version": 3
   },
   "file_extension": ".py",
   "mimetype": "text/x-python",
   "name": "python",
   "nbconvert_exporter": "python",
   "pygments_lexer": "ipython3",
   "version": "3.8.5"
  }
 },
 "nbformat": 4,
 "nbformat_minor": 4
}
