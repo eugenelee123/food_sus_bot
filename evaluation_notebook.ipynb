{
 "cells": [
  {
   "cell_type": "markdown",
   "metadata": {},
   "source": [
    "## Evaluation Notebook"
   ]
  },
  {
   "cell_type": "code",
   "execution_count": 5,
   "metadata": {},
   "outputs": [
    {
     "name": "stdout",
     "output_type": "stream",
     "text": [
      "Requirement already satisfied: xlrd in /home/brandon/.local/lib/python3.8/site-packages (2.0.1)\r\n"
     ]
    }
   ],
   "source": [
    "!pip install xlrd\n"
   ]
  },
  {
   "cell_type": "code",
   "execution_count": 17,
   "metadata": {
    "scrolled": true
   },
   "outputs": [
    {
     "name": "stdout",
     "output_type": "stream",
     "text": [
      "['tok2vec', 'ner']\n"
     ]
    }
   ],
   "source": [
    "import pandas as pd\n",
    "from tqdm import tqdm\n",
    "import spacy\n",
    "from spacy.tokens import DocBin\n",
    "import re\n",
    "import os\n",
    "from spacy import displacy\n",
    "from sklearn import metrics\n",
    "from sklearn.metrics import plot_confusion_matrix\n",
    "\n",
    "\n",
    "\n",
    "FOODKEEPER_PATH = \"datasets/FoodKeeper-Data.xls\"\n",
    "TRAINING_DATA_PATH = \"datasets/data.csv\"\n",
    "MODEL_PATH = \"output/model-last\"\n",
    "TEST_DATA_PATH = \"datasets/test_data.csv\"\n",
    "\n",
    "#STARTING_KEYWORD_COUNT = 10\n",
    "#TRAINING_LOOP_ITERATIONS = 3\n",
    "#REQUIRED_KEYWORDS = 3\n",
    "\n",
    "pd.options.mode.chained_assignment = None\n",
    "\n",
    "#nlp = spacy.load(MODEL_PATH)\n",
    "food_data = pd.read_excel(FOODKEEPER_PATH, sheet_name = \"Product\")\n",
    "training_data = pd.read_csv(TRAINING_DATA_PATH,index_col = False, header = None)\n",
    "test_data = pd.read_csv(TEST_DATA_PATH)\n",
    "\n",
    "#write a method to find the top x keywords in the dataset\n",
    "#loop through and count the specific entities\n",
    "keywords = [] #'chicken', 'milk', 'butter', 'cheese'\n",
    "sampleData = []\n",
    "\n",
    "\n",
    "    \n",
    "#update rank tweet to take the counter as a parameter and condense both rankings\n",
    "def rankTweet(tweet):\n",
    "    tweetKeywords = []\n",
    "    doc = nlp(tweet)\n",
    "    return len(doc.ents)\n",
    "       \n",
    "        \n",
    "    print(tweetKeywords)\n",
    "    \n",
    "def findNewKeywords(tweet, keywords):\n",
    "    foodkeeperKeys = foodKeeperInfo()\n",
    "    x = tweet.split()\n",
    "    word = \"\"\n",
    "    i = 0\n",
    "    while i < len(x):\n",
    "    #for i in range(len(x)):\n",
    "        z = 1\n",
    "        if x[i] in foodkeeperKeys:\n",
    "            word = x[i]\n",
    "        try:\n",
    "            foundBiWord = x[i] + \" \" + x[i+1]\n",
    "            if foundBiWord in keywords:\n",
    "                word = foundBiWord\n",
    "                z = 2\n",
    "        except:\n",
    "            pass\n",
    "        \n",
    "        try:\n",
    "            foundTriWord = x[i] + \" \" + x[i+1] + \" \" + x[i+2]\n",
    "            if foundTriWord in keywords:\n",
    "                word = foundTriWord\n",
    "                z = 3\n",
    "        except:\n",
    "            pass\n",
    "        i += z\n",
    "        \n",
    "        if word not in keywords and word != \"\":\n",
    "            keywords.append(word)\n",
    "    #print(keywords)\n",
    "    \n",
    "#def findInitialKeywords(data):\n",
    "\n",
    "\n",
    "    \n",
    "    \n",
    "    \n",
    "keywordRanker = {}   \n",
    "\n",
    "def convertToTrainingFormat(tweet, keywords):\n",
    "    \n",
    "    \n",
    "    x = tweet.split()\n",
    "    myEnts = {'entities':[]}\n",
    "    found = False\n",
    "    i = 0\n",
    "    while i < len(x):\n",
    "        z = 1\n",
    "        newWord = \"\"\n",
    "        if x[i] in keywords:\n",
    "            pos = tweet.find(x[i])\n",
    "            y = (pos, pos + len(x[i]), 'FOOD')\n",
    "            found = True\n",
    "        if x[i] in foodKeeperKeywordsTest:\n",
    "            newWord = x[i]\n",
    "            \n",
    "        try:\n",
    "            foundBiWord = x[i] + \" \" + x[i+1]\n",
    "            if foundBiWord in keywords:\n",
    "                pos = tweet.find(x[i])\n",
    "                y = (pos, pos + len(x[i])+len(x[i+1]) + 1, 'FOOD')\n",
    "                found = True\n",
    "                z = 2\n",
    "            if foundBiWord in foodKeeperKeywordsTest:\n",
    "                newWord = foundBiWord\n",
    "        except:\n",
    "            pass\n",
    "        try:\n",
    "            foundTriWord = x[i] + \" \" + x[i+1] + \" \" + x[i+2]\n",
    "            if foundTriWord in keywords:\n",
    "                pos = tweet.find(x[i])\n",
    "                y = (pos, pos + len(x[i])+len(x[i+1])+len(x[i+2]) + 2, 'FOOD')\n",
    "                found = True\n",
    "                z = 3\n",
    "            if foundTriWord in foodKeeperKeywordsTest:\n",
    "                newWord = foundTriWord\n",
    "        except:\n",
    "            pass\n",
    "        try:\n",
    "            if y not in myEnts['entities']:\n",
    "                myEnts['entities'].append(y) \n",
    "        except:\n",
    "            pass\n",
    "        \n",
    "        \n",
    "        if newWord != \"\" and newWord not in keywordRanker:\n",
    "            keywordRanker[newWord] = 1\n",
    "        elif newWord != \"\" and newWord in keywordRanker:\n",
    "            keywordRanker[newWord] += 1\n",
    "        #print(z)\n",
    "        i += z\n",
    "        #print(i)\n",
    "        \n",
    "        \n",
    "    formatted = (tweet, myEnts)\n",
    "    #print(formatted)\n",
    "    if found:\n",
    "        return formatted\n",
    "    else: return ()\n",
    "   \n",
    "    \n",
    "\n",
    "#print(convertToTrainingFormat('I like chicken and salsa', keywords))\n",
    "\n",
    "#print(food_data['Keywords'])\n",
    "\n",
    "def foodKeeperInfo():              \n",
    "    keywords = []\n",
    "    for word in food_data['Name']:\n",
    "        word = word.lstrip()\n",
    "        word = word.rstrip()\n",
    "\n",
    "        if word.lower() not in keywords: \n",
    "            keywords.append(word.lower())\n",
    "\n",
    "    #print(\"Total foodkeeper food names: \" + str(len(keywords)))        \n",
    "    #for element in sorted(keywords):\n",
    "        #print(element)\n",
    "        \n",
    "    return keywords\n",
    "\n",
    "foodKeeperKeywordsTest = foodKeeperInfo()\n",
    "\n",
    "\n",
    "def preProcess(tweet):\n",
    "    #Converts a tweet to lowercase, replaces anyusername w/ <USERNAME> and URLS with <URL>\n",
    "    tweet = tweet.lower()\n",
    "    tweet = re.sub('@[a-zA-z0-9]*', '<USERNAME>', tweet)\n",
    "    tweet = re.sub('https[a-zA-z0-9./:]*', '<URL>', tweet)\n",
    "    tweet = re.sub('[.,-]*', '', tweet)\n",
    "    \n",
    "    return tweet\n",
    "\n",
    "\n",
    "noEntity= []\n",
    "               \n",
    "           \n",
    "def trainModel(data):\n",
    "    \n",
    "    oldKeywords = []\n",
    "    newKeywords = []\n",
    "    \n",
    "    #controls how many entities are required to accept add a Tweet to be trained\n",
    "    entityCheckCount = 3\n",
    "    \n",
    "    counter = 0\n",
    "    while counter < 5:\n",
    "        print(\"~~~~~~~~~~~~~~~~~\"+str(counter)+\"~~~~~~~~~~~~~~~~~\")\n",
    "        nlp = spacy.blank(\"en\") # load a new spacy model\n",
    "        db = DocBin() # create a DocBin object\n",
    "\n",
    "        myTweets = []\n",
    "        #Loop through all the tweets\n",
    "        #print(keywordRanker)\n",
    "        for i in range(len(data[0])):\n",
    "            \n",
    "            if counter == 1:\n",
    "                x = convertToTrainingFormat(preProcess(data[0][i]), keywords)\n",
    "                if x!= ():\n",
    "                    if len(x[1]['entities']) > entityCheckCount:\n",
    "                        #print(\"Found tweet\", x[0])\n",
    "                        \n",
    "                        myTweets.append(x)  \n",
    "        \n",
    "            else:\n",
    "                #convert each tweet into spacy training format\n",
    "                x = convertToTrainingFormat(preProcess(data[0][i]), keywords)\n",
    "                if x != ():\n",
    "                    #print(len(x[1]['entities'])\n",
    "                    #check the ranking of the tweet\n",
    "                    if rankTweet(x[0]) > entityCheckCount:\n",
    "                        #print(\"Checking rank...\")\n",
    "                        myTweets.append(x)\n",
    "\n",
    "                        \n",
    "        #Initialize the keywords\n",
    "        #print(\"\\n\\n\\nKeyword Ranker\\n\")\n",
    "        sortedKeywords =  sorted(keywordRanker, key=keywordRanker.get, reverse=True)\n",
    "        \n",
    "        #Chooses first 10 keywords to be used as basis for Snowball\n",
    "        if counter == 0: \n",
    "            for i in range(15):\n",
    "                keywords.append(sortedKeywords[i])\n",
    "            #print(sortedKeywords[i], keywordRanker[sortedKeywords[i]])\n",
    "                \n",
    "        if counter > 0:\n",
    "            for text, annot in tqdm(myTweets): # data in previous format\n",
    "                doc = nlp.make_doc(text) # create doc object from text\n",
    "                ents = []\n",
    "                for start, end, label in annot[\"entities\"]: # add character indexes\n",
    "                    span = doc.char_span(start, end, label=label, alignment_mode=\"contract\")\n",
    "                    if span is None:\n",
    "                        print(\"Skipping entity\")\n",
    "                    else:\n",
    "                        ents.append(span)\n",
    "                doc.ents = ents # label the text with the ents\n",
    "                db.add(doc)\n",
    "\n",
    "                db.to_disk(\"./train.spacy\") # save the docbin object\n",
    "\n",
    "            stream = os.popen('python3 -m spacy train config.cfg --output ./output --paths.train ./train.spacy --paths.dev ./train.spacy')\n",
    "            print(stream.read())\n",
    "            print(\"Total keywords: \", str(len(keywords)))\n",
    "            print(\"List of Keywords:\\n\\n\",keywords,\"\\n\\n\")\n",
    "            oldKeywords = len(keywords)\n",
    "            for element in myTweets:\n",
    "                findNewKeywords(element[0], keywords)\n",
    "            if (oldKeywords == len(keywords)) and counter > 1 and entityCheckCount != 1:\n",
    "                print(\"Decreasing entityCheckCount variable by 1\")\n",
    "                entityCheckCount -= 1\n",
    "            eval_model()\n",
    "            \n",
    "        \n",
    "\n",
    "        #for element in myTweets:\n",
    "            #findNewKeywords(element[0], keywords)\n",
    "\n",
    "        print(\"Total keywords: \", str(len(keywords)))\n",
    "        print(\"Total Tweets: \", str(len(myTweets)))\n",
    "        print(\"List of Keywords:\\n\\n\",keywords,\"\\n\\n\")\n",
    "        counter += 1\n",
    "        \n",
    "        \n",
    "        \n",
    "        \n",
    "        \n",
    "\n",
    "def information(data):\n",
    "    myData = {}\n",
    "    totalEnt=0\n",
    "    \n",
    "    for i in range(len(data[0])):\n",
    "        doc = nlp(preProcess(data[0][i]))\n",
    "        if len(doc.ents) == 0:\n",
    "            noEntity.append(preProcess(data[0][i]))\n",
    "            \n",
    "        #print(len(doc.ents))\n",
    "        if(len(doc.ents) == 4):\n",
    "            print(doc)\n",
    "            \n",
    "        for entity in doc.ents: \n",
    "        #print(entity.label_)\n",
    "            totalEnt+=1\n",
    "            if(entity.label_ == 'FOOD'):\n",
    "                if entity.text in myData:\n",
    "                    myData[entity.text] += 1\n",
    "                else:\n",
    "                    myData[entity.text] = 1\n",
    "                    \n",
    "    print(\"Number of entities found: \" + str(len(myData)))\n",
    "    print(totalEnt)\n",
    "    for i in sorted(myData, key = myData.get):\n",
    "        print(\"Entity: \" + i, \"Count: \" + str(myData[i]), \"Density: \" + str(format(myData[i]/totalEnt, '.2f')), end = \"\\n\")\n",
    "    \n",
    "    \n",
    "    return myData\n",
    "\n",
    "\n",
    "\n",
    "\n",
    "for i in range(len(test_data['tweet'])):\n",
    "    test_data['tweet'][i] = preProcess(test_data['tweet'][i])\n",
    "\n",
    "\n",
    "\n",
    "y = test_data['food'].tolist()\n",
    "print(nlp.pipe_names)\n",
    "    \n",
    "def ent_recognize(text):\n",
    "    doc = nlp(text)\n",
    "    displacy.render(doc,style = \"ent\")\n",
    "    \n",
    "def predict(tweet):\n",
    "    doc = nlp(str(tweet))\n",
    "    if doc.ents:\n",
    "        displacy.render(doc,style = \"ent\")\n",
    "\n",
    "def returnPrediction(tweet):\n",
    "    nlp = spacy.load(MODEL_PATH)\n",
    "    doc = nlp(str(tweet))\n",
    "    if doc.ents:\n",
    "        return 1\n",
    "    else:\n",
    "        return 0\n",
    "    \n",
    "def get_predictions():\n",
    "    predictions = []\n",
    "    for tweet in test_data['tweet'].tolist():\n",
    "        predictions.append(returnPrediction(tweet))\n",
    "    return predictions\n",
    "    \n",
    "def eval_model():\n",
    "    nlp = spacy.load(MODEL_PATH)\n",
    "    predictions = get_predictions()\n",
    "    print(metrics.confusion_matrix(y,predictions, labels = [1,0]))\n",
    "    print(metrics.classification_report(y,predictions, labels = [1,0]))\n",
    "    \n",
    "def show_tp():\n",
    "    counter = 0\n",
    "    tweets = test_data['tweet'].tolist()\n",
    "    predictions = get_predictions()\n",
    "    for i in range(len(y)):\n",
    "        if predictions[i] == 1 and y[i] == 1:\n",
    "            print(\"True positives:\", tweets[i], \"\\n\")\n",
    "            counter += 1\n",
    "    print(counter)\n",
    "    \n",
    "def show_tn():\n",
    "    counter = 0\n",
    "    predictions = get_predictions()\n",
    "    tweets = test_data['tweet'].tolist()\n",
    "    for i in range(len(y)):\n",
    "        if predictions[i] == 0 and y[i] == 0:\n",
    "            print(\"True Negative:\", tweets[i], \"\\n\")\n",
    "            counter += 1\n",
    "    print(counter)\n",
    "    \n",
    "def show_fn():\n",
    "    predictions = get_predictions()\n",
    "    tweets = test_data['tweet']\n",
    "    counter = 0\n",
    "    for i in range(len(y)):\n",
    "        if predictions[i] == 0 and y[i] == 1:\n",
    "            print(\"False Negative:\", tweets[i], \"\\n\")\n",
    "            counter += 1\n",
    "    print(counter)\n",
    "    \n",
    "def show_fp():\n",
    "    predictions = get_predictions()\n",
    "    tweets = test_data['tweet'].tolist()\n",
    "    for i in range(len(y)):\n",
    "        if predictions[i] == 1 and y[i] == 0:\n",
    "            print(\"False Positive:\")\n",
    "            doc = nlp(str(tweets[i]))\n",
    "            if doc.ents:\n",
    "                displacy.render(doc,style = \"ent\")"
   ]
  },
  {
   "cell_type": "markdown",
   "metadata": {},
   "source": [
    "## Use the function below to check individual sentences"
   ]
  },
  {
   "cell_type": "code",
   "execution_count": 3,
   "metadata": {},
   "outputs": [
    {
     "data": {
      "text/html": [
       "<span class=\"tex2jax_ignore\"><div class=\"entities\" style=\"line-height: 2.5; direction: ltr\">My \n",
       "<mark class=\"entity\" style=\"background: #ddd; padding: 0.45em 0.6em; margin: 0 0.25em; line-height: 1; border-radius: 0.35em;\">\n",
       "    chicken\n",
       "    <span style=\"font-size: 0.8em; font-weight: bold; line-height: 1; border-radius: 0.35em; vertical-align: middle; margin-left: 0.5rem\">FOOD</span>\n",
       "</mark>\n",
       " is tasty</div></span>"
      ],
      "text/plain": [
       "<IPython.core.display.HTML object>"
      ]
     },
     "metadata": {},
     "output_type": "display_data"
    }
   ],
   "source": [
    "ent_recognize(\"My chicken is tasty\")"
   ]
  },
  {
   "cell_type": "markdown",
   "metadata": {},
   "source": [
    "## Use the function below to check model performance on the entire test set"
   ]
  },
  {
   "cell_type": "code",
   "execution_count": 25,
   "metadata": {
    "scrolled": true
   },
   "outputs": [
    {
     "name": "stdout",
     "output_type": "stream",
     "text": [
      "[[ 0 44]\n",
      " [ 0 39]]\n",
      "              precision    recall  f1-score   support\n",
      "\n",
      "           1       0.00      0.00      0.00        44\n",
      "           0       0.47      1.00      0.64        39\n",
      "\n",
      "    accuracy                           0.47        83\n",
      "   macro avg       0.23      0.50      0.32        83\n",
      "weighted avg       0.22      0.47      0.30        83\n",
      "\n"
     ]
    },
    {
     "name": "stderr",
     "output_type": "stream",
     "text": [
      "/home/brandon/.local/lib/python3.8/site-packages/sklearn/metrics/_classification.py:1248: UndefinedMetricWarning: Precision and F-score are ill-defined and being set to 0.0 in labels with no predicted samples. Use `zero_division` parameter to control this behavior.\n",
      "  _warn_prf(average, modifier, msg_start, len(result))\n",
      "/home/brandon/.local/lib/python3.8/site-packages/sklearn/metrics/_classification.py:1248: UndefinedMetricWarning: Precision and F-score are ill-defined and being set to 0.0 in labels with no predicted samples. Use `zero_division` parameter to control this behavior.\n",
      "  _warn_prf(average, modifier, msg_start, len(result))\n",
      "/home/brandon/.local/lib/python3.8/site-packages/sklearn/metrics/_classification.py:1248: UndefinedMetricWarning: Precision and F-score are ill-defined and being set to 0.0 in labels with no predicted samples. Use `zero_division` parameter to control this behavior.\n",
      "  _warn_prf(average, modifier, msg_start, len(result))\n"
     ]
    }
   ],
   "source": [
    "eval_model()"
   ]
  },
  {
   "cell_type": "markdown",
   "metadata": {},
   "source": [
    "## Use the functions below to see TP, TN, FP, FN respectively"
   ]
  },
  {
   "cell_type": "code",
   "execution_count": 2,
   "metadata": {},
   "outputs": [],
   "source": [
    "# show_tp()\n",
    "# show_tn()\n",
    "# show_fp()\n",
    "#show_fn()"
   ]
  },
  {
   "cell_type": "code",
   "execution_count": 3,
   "metadata": {},
   "outputs": [],
   "source": [
    "#training_data.info()"
   ]
  },
  {
   "cell_type": "code",
   "execution_count": 4,
   "metadata": {
    "scrolled": true
   },
   "outputs": [
    {
     "ename": "KeyboardInterrupt",
     "evalue": "",
     "output_type": "error",
     "traceback": [
      "\u001b[0;31m---------------------------------------------------------------------------\u001b[0m",
      "\u001b[0;31mKeyboardInterrupt\u001b[0m                         Traceback (most recent call last)",
      "\u001b[0;32m<ipython-input-4-2716a7f28add>\u001b[0m in \u001b[0;36m<module>\u001b[0;34m\u001b[0m\n\u001b[0;32m----> 1\u001b[0;31m \u001b[0mmyTrainingdata\u001b[0m \u001b[0;34m=\u001b[0m \u001b[0minformation\u001b[0m\u001b[0;34m(\u001b[0m\u001b[0mtraining_data\u001b[0m\u001b[0;34m)\u001b[0m\u001b[0;34m\u001b[0m\u001b[0;34m\u001b[0m\u001b[0m\n\u001b[0m",
      "\u001b[0;32m<ipython-input-3-0ce7d2b2f97b>\u001b[0m in \u001b[0;36minformation\u001b[0;34m(data)\u001b[0m\n\u001b[1;32m    197\u001b[0m \u001b[0;34m\u001b[0m\u001b[0m\n\u001b[1;32m    198\u001b[0m     \u001b[0;32mfor\u001b[0m \u001b[0mi\u001b[0m \u001b[0;32min\u001b[0m \u001b[0mrange\u001b[0m\u001b[0;34m(\u001b[0m\u001b[0mlen\u001b[0m\u001b[0;34m(\u001b[0m\u001b[0mdata\u001b[0m\u001b[0;34m[\u001b[0m\u001b[0;36m0\u001b[0m\u001b[0;34m]\u001b[0m\u001b[0;34m)\u001b[0m\u001b[0;34m)\u001b[0m\u001b[0;34m:\u001b[0m\u001b[0;34m\u001b[0m\u001b[0;34m\u001b[0m\u001b[0m\n\u001b[0;32m--> 199\u001b[0;31m         \u001b[0mdoc\u001b[0m \u001b[0;34m=\u001b[0m \u001b[0mnlp\u001b[0m\u001b[0;34m(\u001b[0m\u001b[0mpreProcess\u001b[0m\u001b[0;34m(\u001b[0m\u001b[0mdata\u001b[0m\u001b[0;34m[\u001b[0m\u001b[0;36m0\u001b[0m\u001b[0;34m]\u001b[0m\u001b[0;34m[\u001b[0m\u001b[0mi\u001b[0m\u001b[0;34m]\u001b[0m\u001b[0;34m)\u001b[0m\u001b[0;34m)\u001b[0m\u001b[0;34m\u001b[0m\u001b[0;34m\u001b[0m\u001b[0m\n\u001b[0m\u001b[1;32m    200\u001b[0m         \u001b[0;32mif\u001b[0m \u001b[0mlen\u001b[0m\u001b[0;34m(\u001b[0m\u001b[0mdoc\u001b[0m\u001b[0;34m.\u001b[0m\u001b[0ments\u001b[0m\u001b[0;34m)\u001b[0m \u001b[0;34m==\u001b[0m \u001b[0;36m0\u001b[0m\u001b[0;34m:\u001b[0m\u001b[0;34m\u001b[0m\u001b[0;34m\u001b[0m\u001b[0m\n\u001b[1;32m    201\u001b[0m             \u001b[0mnoEntity\u001b[0m\u001b[0;34m.\u001b[0m\u001b[0mappend\u001b[0m\u001b[0;34m(\u001b[0m\u001b[0mpreProcess\u001b[0m\u001b[0;34m(\u001b[0m\u001b[0mdata\u001b[0m\u001b[0;34m[\u001b[0m\u001b[0;36m0\u001b[0m\u001b[0;34m]\u001b[0m\u001b[0;34m[\u001b[0m\u001b[0mi\u001b[0m\u001b[0;34m]\u001b[0m\u001b[0;34m)\u001b[0m\u001b[0;34m)\u001b[0m\u001b[0;34m\u001b[0m\u001b[0;34m\u001b[0m\u001b[0m\n",
      "\u001b[0;32m~/.local/lib/python3.8/site-packages/spacy/language.py\u001b[0m in \u001b[0;36m__call__\u001b[0;34m(self, text, disable, component_cfg)\u001b[0m\n\u001b[1;32m    981\u001b[0m         \u001b[0mDOCS\u001b[0m\u001b[0;34m:\u001b[0m \u001b[0mhttps\u001b[0m\u001b[0;34m:\u001b[0m\u001b[0;34m//\u001b[0m\u001b[0mspacy\u001b[0m\u001b[0;34m.\u001b[0m\u001b[0mio\u001b[0m\u001b[0;34m/\u001b[0m\u001b[0mapi\u001b[0m\u001b[0;34m/\u001b[0m\u001b[0mlanguage\u001b[0m\u001b[0;31m#call\u001b[0m\u001b[0;34m\u001b[0m\u001b[0;34m\u001b[0m\u001b[0m\n\u001b[1;32m    982\u001b[0m         \"\"\"\n\u001b[0;32m--> 983\u001b[0;31m         \u001b[0mdoc\u001b[0m \u001b[0;34m=\u001b[0m \u001b[0mself\u001b[0m\u001b[0;34m.\u001b[0m\u001b[0mmake_doc\u001b[0m\u001b[0;34m(\u001b[0m\u001b[0mtext\u001b[0m\u001b[0;34m)\u001b[0m\u001b[0;34m\u001b[0m\u001b[0;34m\u001b[0m\u001b[0m\n\u001b[0m\u001b[1;32m    984\u001b[0m         \u001b[0;32mif\u001b[0m \u001b[0mcomponent_cfg\u001b[0m \u001b[0;32mis\u001b[0m \u001b[0;32mNone\u001b[0m\u001b[0;34m:\u001b[0m\u001b[0;34m\u001b[0m\u001b[0;34m\u001b[0m\u001b[0m\n\u001b[1;32m    985\u001b[0m             \u001b[0mcomponent_cfg\u001b[0m \u001b[0;34m=\u001b[0m \u001b[0;34m{\u001b[0m\u001b[0;34m}\u001b[0m\u001b[0;34m\u001b[0m\u001b[0;34m\u001b[0m\u001b[0m\n",
      "\u001b[0;32m~/.local/lib/python3.8/site-packages/spacy/language.py\u001b[0m in \u001b[0;36mmake_doc\u001b[0;34m(self, text)\u001b[0m\n\u001b[1;32m   1063\u001b[0m                 \u001b[0mErrors\u001b[0m\u001b[0;34m.\u001b[0m\u001b[0mE088\u001b[0m\u001b[0;34m.\u001b[0m\u001b[0mformat\u001b[0m\u001b[0;34m(\u001b[0m\u001b[0mlength\u001b[0m\u001b[0;34m=\u001b[0m\u001b[0mlen\u001b[0m\u001b[0;34m(\u001b[0m\u001b[0mtext\u001b[0m\u001b[0;34m)\u001b[0m\u001b[0;34m,\u001b[0m \u001b[0mmax_length\u001b[0m\u001b[0;34m=\u001b[0m\u001b[0mself\u001b[0m\u001b[0;34m.\u001b[0m\u001b[0mmax_length\u001b[0m\u001b[0;34m)\u001b[0m\u001b[0;34m\u001b[0m\u001b[0;34m\u001b[0m\u001b[0m\n\u001b[1;32m   1064\u001b[0m             )\n\u001b[0;32m-> 1065\u001b[0;31m         \u001b[0;32mreturn\u001b[0m \u001b[0mself\u001b[0m\u001b[0;34m.\u001b[0m\u001b[0mtokenizer\u001b[0m\u001b[0;34m(\u001b[0m\u001b[0mtext\u001b[0m\u001b[0;34m)\u001b[0m\u001b[0;34m\u001b[0m\u001b[0;34m\u001b[0m\u001b[0m\n\u001b[0m\u001b[1;32m   1066\u001b[0m \u001b[0;34m\u001b[0m\u001b[0m\n\u001b[1;32m   1067\u001b[0m     def update(\n",
      "\u001b[0;32m~/.local/lib/python3.8/site-packages/spacy/tokenizer.pyx\u001b[0m in \u001b[0;36mspacy.tokenizer.Tokenizer.__call__\u001b[0;34m()\u001b[0m\n",
      "\u001b[0;32m~/.local/lib/python3.8/site-packages/spacy/tokenizer.pyx\u001b[0m in \u001b[0;36mspacy.tokenizer.Tokenizer._tokenize_affixes\u001b[0;34m()\u001b[0m\n",
      "\u001b[0;32m~/.local/lib/python3.8/site-packages/spacy/tokenizer.pyx\u001b[0m in \u001b[0;36mspacy.tokenizer.Tokenizer._tokenize\u001b[0;34m()\u001b[0m\n",
      "\u001b[0;32m~/.local/lib/python3.8/site-packages/spacy/tokenizer.pyx\u001b[0m in \u001b[0;36mspacy.tokenizer.Tokenizer._attach_tokens\u001b[0;34m()\u001b[0m\n",
      "\u001b[0;32m~/.local/lib/python3.8/site-packages/spacy/vocab.pyx\u001b[0m in \u001b[0;36mspacy.vocab.Vocab.get\u001b[0;34m()\u001b[0m\n",
      "\u001b[0;32m~/.local/lib/python3.8/site-packages/spacy/vocab.pyx\u001b[0m in \u001b[0;36mspacy.vocab.Vocab._new_lexeme\u001b[0;34m()\u001b[0m\n",
      "\u001b[0;32m~/.local/lib/python3.8/site-packages/spacy/lang/lex_attrs.py\u001b[0m in \u001b[0;36mlower\u001b[0;34m(string)\u001b[0m\n\u001b[1;32m    140\u001b[0m \u001b[0;34m\u001b[0m\u001b[0m\n\u001b[1;32m    141\u001b[0m \u001b[0;34m\u001b[0m\u001b[0m\n\u001b[0;32m--> 142\u001b[0;31m \u001b[0;32mdef\u001b[0m \u001b[0mlower\u001b[0m\u001b[0;34m(\u001b[0m\u001b[0mstring\u001b[0m\u001b[0;34m:\u001b[0m \u001b[0mstr\u001b[0m\u001b[0;34m)\u001b[0m \u001b[0;34m->\u001b[0m \u001b[0mstr\u001b[0m\u001b[0;34m:\u001b[0m\u001b[0;34m\u001b[0m\u001b[0;34m\u001b[0m\u001b[0m\n\u001b[0m\u001b[1;32m    143\u001b[0m     \u001b[0;32mreturn\u001b[0m \u001b[0mstring\u001b[0m\u001b[0;34m.\u001b[0m\u001b[0mlower\u001b[0m\u001b[0;34m(\u001b[0m\u001b[0;34m)\u001b[0m\u001b[0;34m\u001b[0m\u001b[0;34m\u001b[0m\u001b[0m\n\u001b[1;32m    144\u001b[0m \u001b[0;34m\u001b[0m\u001b[0m\n",
      "\u001b[0;31mKeyboardInterrupt\u001b[0m: "
     ]
    }
   ],
   "source": [
    "myTrainingdata = information(training_data)"
   ]
  },
  {
   "cell_type": "code",
   "execution_count": 246,
   "metadata": {
    "scrolled": true
   },
   "outputs": [
    {
     "name": "stdout",
     "output_type": "stream",
     "text": [
      "Number of Tweets where no entities were found:  12716 \n",
      "\n",
      "<USERNAME> billie is butter?\n",
      "\"the anasa life coco smooth body butter is soooo amazing. i got the yuce scent, which is light and citrusy. the texture is so soft, and not too heavy or oily. it's absolutely perfect. if you love natural, quality body products, get this...\" - arielle b.\n",
      "dairy. all dairy products, like milk, butter, yogurt, and cheese, must come from a kosher animal.\n",
      "<USERNAME> bread , butter and sugar !!!\n",
      "i use body butter. but, yes after every bath/shower! it’s so important to moisturize! <URL>\n",
      "<USERNAME> billie is butter?\n",
      "as the brand &amp; content lead of <USERNAME>, buzzfeed's black culture vertical, <USERNAME> aims to \"push the culture forward.\"  \"life is so short, so while i'm here, i'm going to disrupt some things, shake the table, and make my presence known.\" <URL>\n",
      "<USERNAME> like. butter bread\n",
      "<USERNAME> <USERNAME> <USERNAME> love that video!!!!! so does peanut butter!!!!!!\n",
      "<USERNAME> <USERNAME> <USERNAME> a bit coin can buy over 3x as much milk, butter, gas, etc. as it could just a few years ago.  not so for the usd.  so the dollar is more stable.\n"
     ]
    }
   ],
   "source": [
    "#Tweets where no entities were found\n",
    "print(\"Number of Tweets where no entities were found: \", len(noEntity), '\\n')\n",
    "\n",
    "for i in range(10):\n",
    "    print(noEntity[i])\n",
    "    "
   ]
  },
  {
   "cell_type": "code",
   "execution_count": 250,
   "metadata": {
    "scrolled": true
   },
   "outputs": [
    {
     "name": "stdout",
     "output_type": "stream",
     "text": [
      "Total foodkeeper food names: 466\n",
      "\"genuine\" maple syrup\n",
      "aioli\n",
      "almond butter\n",
      "almond extract\n",
      "almond milk\n",
      "almond oil\n",
      "almonds\n",
      "amaranth\n",
      "anchovies\n",
      "apple cider\n",
      "apple cider vinegar\n",
      "apple juice\n",
      "apples\n",
      "applesauce\n",
      "apricots\n",
      "artichokes, whole\n",
      "arugula\n",
      "asparagus\n",
      "avocado oil\n",
      "avocados\n",
      "baby carrots\n",
      "bacon\n",
      "bacon bits\n",
      "bacon grease\n",
      "bagel\n",
      "bagged greens\n",
      "baking powder\n",
      "baking soda\n",
      "balsamic vinegar\n",
      "bamboo shoots\n",
      "bananas\n",
      "barbecue sauce\n",
      "barley\n",
      "base\n",
      "basil\n",
      "bean sprouts\n",
      "beans\n",
      "beans and peas\n",
      "beef\n",
      "beef broth/stock/consommé\n",
      "beets\n",
      "berries\n",
      "biscuit or pancake mix\n",
      "biscuits\n",
      "bison\n",
      "black bean sauce\n",
      "black pepper\n",
      "blueberries\n",
      "bok choy\n",
      "bratwurst\n",
      "bread\n",
      "breadcrumbs\n",
      "broccoli and broccoli raab (rapini)\n",
      "broth\n",
      "brussels sprouts\n",
      "buckwheat\n",
      "bulgur\n",
      "butter\n",
      "butter flavor\n",
      "buttermilk\n",
      "cabbage\n",
      "cajun seasoning blend\n",
      "cake, brownie, bread mixes\n",
      "canadian bacon\n",
      "canned chicken\n",
      "canned goods\n",
      "canola oil\n",
      "cantaloupe\n",
      "capers\n",
      "capon\n",
      "carrot juice\n",
      "carrots, parsnips\n",
      "cashew butter\n",
      "cashews\n",
      "casseroles\n",
      "cauliflower\n",
      "caviar\n",
      "celery\n",
      "celery root\n",
      "cereal\n",
      "cereal or granola bars\n",
      "cereal, dry mixes\n",
      "cheese\n",
      "cheese curds\n",
      "cheesecake\n",
      "cherimoya\n",
      "cherries\n",
      "cherry tomatoes\n",
      "chia seeds\n",
      "chicken\n",
      "chicken broth/stock/consommé\n",
      "chicken nuggets, patties\n",
      "chicken parts\n",
      "chicken salad\n",
      "chiffon pies\n",
      "chili powder\n",
      "chives\n",
      "chocolate\n",
      "chocolate hazlenut spread\n",
      "chocolate syrup\n",
      "chorizo\n",
      "chutney\n",
      "cilantro\n",
      "cinnamon\n",
      "cinnamon extract\n",
      "cinnamon rolls\n",
      "citrus fruit\n",
      "cocoa and cocoa mixes\n",
      "coconut\n",
      "coconut cream\n",
      "coconut flavor\n",
      "coconut flour\n",
      "coconut milk\n",
      "coconut oil\n",
      "coconut water\n",
      "coconuts\n",
      "coffee\n",
      "coffee creamer\n",
      "coleslaw\n",
      "commercial brand vacuum-packed dinners\n",
      "commercial bread products\n",
      "commercial cakes and muffins\n",
      "cooked fish\n",
      "cooked pasta\n",
      "cooked poultry dishes\n",
      "cooked rice\n",
      "cooked shellfish\n",
      "cookie dough\n",
      "cookies\n",
      "cooking wine\n",
      "corn on the cob\n",
      "corn syrup\n",
      "corned beef\n",
      "cornish hens\n",
      "cornmeal\n",
      "cornstarch\n",
      "cottage cheese\n",
      "crab legs\n",
      "crab meat\n",
      "crackers\n",
      "cranberries\n",
      "cranberry sauce\n",
      "cream\n",
      "cream cheese\n",
      "cream liquors\n",
      "cream pies\n",
      "cream sauces, milk solids\n",
      "croutons\n",
      "cucumbers\n",
      "cumin\n",
      "dairy filled eclairs\n",
      "dates\n",
      "diet powder mixes and drink mixes\n",
      "dinners\n",
      "dips\n",
      "dough\n",
      "doughnuts\n",
      "dry egg noodles\n",
      "dry gravy mixes\n",
      "dry stuffing mix\n",
      "duck fat\n",
      "duckling\n",
      "edamame\n",
      "egg dishes\n",
      "egg salad\n",
      "egg substitutes\n",
      "eggnog\n",
      "eggplant\n",
      "eggs\n",
      "farro\n",
      "fatty fish\n",
      "fish\n",
      "flavored or herb mixes\n",
      "flaxseed\n",
      "flour\n",
      "formula\n",
      "fresh clams, mussels, oysters\n",
      "fresh lobster tails\n",
      "fresh pasta\n",
      "fresh whole lobster\n",
      "fried chicken\n",
      "frosting or icing\n",
      "frozen entrees\n",
      "frozen potato products\n",
      "frozen pretzels\n",
      "fruit\n",
      "fruit cake\n",
      "fruit cocktail\n",
      "fruit juice in cartons, fruit drinks, punch\n",
      "fruit pies\n",
      "fruit, cut\n",
      "fruits\n",
      "fruits, dried\n",
      "frying oil\n",
      "garam masala\n",
      "garlic\n",
      "garlic powder\n",
      "gelatin\n",
      "ghee\n",
      "giblets\n",
      "ginger root\n",
      "goat\n",
      "goose\n",
      "graham cracker/animal cracker\n",
      "granola\n",
      "grapes\n",
      "grapeseed oil\n",
      "gravy\n",
      "greens\n",
      "grits\n",
      "ground turkey or chicken\n",
      "guacamole\n",
      "guava\n",
      "gummy (fruit) snacks\n",
      "ham\n",
      "ham salad\n",
      "hard liquors\n",
      "herbs\n",
      "herring\n",
      "hoisin sauce\n",
      "honey\n",
      "honeydew\n",
      "horseradish\n",
      "hot dogs\n",
      "hot peppers\n",
      "hot sauce\n",
      "hummus\n",
      "ice cream\n",
      "ice pops\n",
      "instant breakfast drinks\n",
      "jams, jellies, and preserves\n",
      "jars or pouches\n",
      "jerky\n",
      "jicama\n",
      "juice concentrates\n",
      "juice, boxes\n",
      "kale\n",
      "kefir\n",
      "ketchup, cocktail, or chili sauce\n",
      "kimchi\n",
      "kiwi fruit\n",
      "kohlrabi\n",
      "kugel\n",
      "kumquats\n",
      "lamb\n",
      "lean fish\n",
      "leeks\n",
      "leftovers\n",
      "lemon extract\n",
      "lemon juice\n",
      "lemongrass\n",
      "lentils\n",
      "lettuce\n",
      "lime juice\n",
      "liquid concentrate or ready-to-feed formula\n",
      "live clams, mussels, crab, and oysters\n",
      "lobster tails\n",
      "luncheon meat or poultry\n",
      "macadamias\n",
      "macaroons\n",
      "main dishes or meals\n",
      "margarine\n",
      "marinades\n",
      "marinated vegetables\n",
      "marshmallow crème\n",
      "marshmallows\n",
      "mayonnaise\n",
      "meat products\n",
      "meats\n",
      "melons\n",
      "milk\n",
      "millet\n",
      "mint\n",
      "miso\n",
      "molasses\n",
      "muffin\n",
      "mung bean\n",
      "mushrooms\n",
      "mustard\n",
      "nacho cheese\n",
      "nectar\n",
      "nut oils\n",
      "nutmeg\n",
      "nutrition supplement drinks\n",
      "nuts\n",
      "oats\n",
      "oils\n",
      "okra\n",
      "olives\n",
      "onion powder\n",
      "onions\n",
      "orange juice\n",
      "oregano\n",
      "oyster sauce\n",
      "pancakes, waffles\n",
      "papaya, mango, feijoa, passionfruit, casaha melon\n",
      "parsley\n",
      "pasta\n",
      "pasta salad\n",
      "pastrami\n",
      "pastries, danish\n",
      "pate\n",
      "peaches, nectarines, plums, pears, sapote\n",
      "peanut butter\n",
      "peanuts\n",
      "peas\n",
      "pecans\n",
      "pectin\n",
      "peppers\n",
      "pesto\n",
      "pheasant\n",
      "pickles\n",
      "pie crust\n",
      "pies\n",
      "pimento cheese\n",
      "pine nuts\n",
      "pineapple\n",
      "pistachios\n",
      "pitaya/dragon fruit\n",
      "pizza\n",
      "plantains\n",
      "polenta\n",
      "pomegranate\n",
      "popcorn\n",
      "pork\n",
      "pork rinds\n",
      "pork roll\n",
      "potato chips\n",
      "potato salad\n",
      "potatoes\n",
      "poultry pieces\n",
      "powdered milk\n",
      "pretzels\n",
      "prickly pear\n",
      "prosciutto\n",
      "pudding\n",
      "pudding mixes\n",
      "puff pastry\n",
      "pumpkin seeds\n",
      "pumpkins\n",
      "pure vanilla extract\n",
      "quail\n",
      "quark\n",
      "quiche\n",
      "quinoa\n",
      "rabbit\n",
      "radicchio\n",
      "radishes\n",
      "raspberries\n",
      "raw kabobs with vegetables\n",
      "re-hydrated textured soy protein\n",
      "ready-to-bake pie crust\n",
      "red wine\n",
      "refried beans\n",
      "relish\n",
      "retort pouches or boxes\n",
      "rhubarb\n",
      "rice\n",
      "rice milk\n",
      "ricotta\n",
      "roasted nuts (peanuts, cashews, almonds)\n",
      "roasted red peppers\n",
      "rosemary\n",
      "rotisserie chicken\n",
      "rutabagas\n",
      "rye\n",
      "salad dressing\n",
      "salad dressings\n",
      "salami\n",
      "salsa\n",
      "salt\n",
      "sauce mixes\n",
      "sausage\n",
      "sausages\n",
      "scallops\n",
      "seafood\n",
      "seafood salads\n",
      "seasoning blends\n",
      "sesame oil\n",
      "sesame seeds\n",
      "sherbet, sorbet\n",
      "shortening\n",
      "shrimp, crayfish\n",
      "shrimp, shellfish\n",
      "shucked clams, mussels, and oysters\n",
      "soda\n",
      "sorghum\n",
      "soup mixes\n",
      "soup, stews\n",
      "sour cream\n",
      "soy crumbles and hot dogs\n",
      "soy flour\n",
      "soy meat substitutes\n",
      "soy milk\n",
      "soy or rice beverage\n",
      "soy sauce or teriyaki sauce\n",
      "spaghetti sauce\n",
      "spaghetti squash\n",
      "spelt\n",
      "spice/spices\n",
      "squash\n",
      "squid\n",
      "star fruit\n",
      "strawberries\n",
      "string cheese\n",
      "stuffed, raw chicken breasts\n",
      "stuffed, raw pork chops\n",
      "sugar\n",
      "sugar substitutes\n",
      "sun dried tomatoes\n",
      "sunflower oil\n",
      "sunflower seeds\n",
      "surimi seafood\n",
      "swiss chard\n",
      "syrup\n",
      "tahini\n",
      "tamarind\n",
      "tamarind paste\n",
      "tapenade\n",
      "tapiocas\n",
      "taro\n",
      "tea\n",
      "teff\n",
      "tempeh\n",
      "textured soy protein\n",
      "thai red curry paste\n",
      "thyme\n",
      "toaster pastries\n",
      "tofu\n",
      "tomato paste\n",
      "tomato sauce\n",
      "tomatoes\n",
      "tortillas\n",
      "tube cans\n",
      "tuna\n",
      "turducken\n",
      "turkey\n",
      "turkey bacon\n",
      "turkey parts\n",
      "turnips\n",
      "variety meats\n",
      "veal\n",
      "vegan cheddar cheese\n",
      "vegetable juice\n",
      "vegetable oil sprays\n",
      "vegetable soup\n",
      "vegetable stock/broth\n",
      "vegetables\n",
      "venison\n",
      "vinegar\n",
      "walnuts\n",
      "water\n",
      "watermelon\n",
      "whipped cream\n",
      "whipped topping\n",
      "white wine\n",
      "whole wheat bread\n",
      "whole wheat flour\n",
      "worcestershire sauce\n",
      "yams/sweet potatoes\n",
      "yeast\n",
      "yogurt\n",
      "yuca/cassava\n",
      "yuzu\n",
      "yuzu juice\n",
      "zucchini\n"
     ]
    }
   ],
   "source": [
    "foodkeeper = foodKeeperInfo()"
   ]
  },
  {
   "cell_type": "code",
   "execution_count": 254,
   "metadata": {
    "scrolled": true
   },
   "outputs": [
    {
     "name": "stdout",
     "output_type": "stream",
     "text": [
      "Training data entities:  409\n",
      "Foodkeeper entities:  466\n",
      "Union between foodkeeper and training data: 223\n",
      "Unique training data entities:  186\n",
      "Unique foodkeeper data entities:  243 \n",
      "\n",
      "~~~~~~~~~~~~Only Training~~~~~~~~~~~~\n",
      "0.15\n",
      "2.they\n",
      "4.99\n",
      "699,615,065,551\n",
      "abstract\n",
      "acai\n",
      "acerola\n",
      "activation\n",
      "adored\n",
      "agitating\n",
      "ahora\n",
      "alejandro\n",
      "algae\n",
      "alvarrez\n",
      "approached\n",
      "aslan\n",
      "athletes\n",
      "attracted\n",
      "azul\n",
      "bffs\n",
      "blues\n",
      "bootcamps\n",
      "braves\n",
      "brazils\n",
      "bulborb\n",
      "cafe\n",
      "calamagrostis\n",
      "cameron\n",
      "capricorn\n",
      "capsaicin\n",
      "carafe\n",
      "carbseedling\n",
      "cested\n",
      "chickenbreast\n",
      "chunibyo\n",
      "citeh\n",
      "clashes\n",
      "coconutsㅋㅋㅋ\n",
      "collapse\n",
      "commodified\n",
      "corn‼️\n",
      "coupled\n",
      "creamery\n",
      "cuddling\n",
      "curbside\n",
      "d175\n",
      "dalmunach\n",
      "dani\n",
      "decadent!⁣\n",
      "delusional\n",
      "derwin\n",
      "dinnerly\n",
      "doggos\n",
      "drains\n",
      "dram\n",
      "dranks\n",
      "driveable\n",
      "enrolled\n",
      "erika\n",
      "european\n",
      "exporters\n",
      "extent\n",
      "firewild\n",
      "frickin\n",
      "fuckn\n",
      "gals\n",
      "gasc\n",
      "glenbrook\n",
      "goddddddd\n",
      "goldening\n",
      "grained\n",
      "grann\n",
      "griswald\n",
      "gulf\n",
      "hachinohe\n",
      "hamin\n",
      "hank\n",
      "hauck\n",
      "helga\n",
      "hibby\n",
      "hocking\n",
      "howd\n",
      "iffco\n",
      "indians\n",
      "insects\n",
      "karedok\n",
      "kiddush\n",
      "kiita\n",
      "kirkby\n",
      "knabe\n",
      "krogan\n",
      "latino\n",
      "libya\n",
      "lindsay\n",
      "lure\n",
      "mach\n",
      "malnourished\n",
      "marathi\n",
      "matos\n",
      "mcfarlane\n",
      "melville\n",
      "mercadona\n",
      "miyuki\n",
      "montgomery\n",
      "monuments\n",
      "morphological\n",
      "mothballs\n",
      "murderous\n",
      "murgor\n",
      "nairobi\n",
      "nazis\n",
      "nebraska\n",
      "nicca\n",
      "nintendo\n",
      "odor\n",
      "orridge\n",
      "outsource\n",
      "overlook\n",
      "overtake\n",
      "parlour\n",
      "patreon\n",
      "patron\n",
      "patterns\n",
      "petite\n",
      "pharmacist\n",
      "plateful\n",
      "plead\n",
      "pleeeease\n",
      "polishes\n",
      "pretended\n",
      "psychopaths\n",
      "quests\n",
      "radiance\n",
      "ramsey\n",
      "ras\n",
      "reconstituted\n",
      "relleno\n",
      "remastered\n",
      "resume\n",
      "risottos\n",
      "rockpalast\n",
      "ronni\n",
      "roobee\n",
      "saag\n",
      "sally\n",
      "screening\n",
      "sculpt\n",
      "shadiyon\n",
      "sheikh\n",
      "shelters\n",
      "showcases\n",
      "skinning\n",
      "skippy\n",
      "slammed\n",
      "snort\n",
      "snub\n",
      "solitude\n",
      "stanton\n",
      "striker\n",
      "stutzle\n",
      "subdued\n",
      "svelte\n",
      "syahleka\n",
      "throwback\n",
      "toledo\n",
      "tonnes\n",
      "torah\n",
      "tournament\n",
      "trimmings\n",
      "trop\n",
      "twewy\n",
      "ummmmmm\n",
      "undead\n",
      "unexpected\n",
      "urged\n",
      "vardy\n",
      "vibrate\n",
      "victoria\n",
      "wales\n",
      "welby\n",
      "whitewater\n",
      "wholly\n",
      "woolfardisworthy\n",
      "فوغا\n",
      "↪\n",
      "ㅋㅋㅋㅋmother\n",
      "~~~~~~~~~~~~Only Foodkeeper~~~~~~~~~~~~\n",
      "\"genuine\" maple syrup\n",
      "almond butter\n",
      "almond extract\n",
      "almond milk\n",
      "almond oil\n",
      "almonds\n",
      "apple cider\n",
      "apple cider vinegar\n",
      "apple juice\n",
      "artichokes, whole\n",
      "avocado oil\n",
      "baby carrots\n",
      "bacon bits\n",
      "bacon grease\n",
      "bagged greens\n",
      "baking powder\n",
      "baking soda\n",
      "balsamic vinegar\n",
      "bamboo shoots\n",
      "barbecue sauce\n",
      "bean sprouts\n",
      "beans and peas\n",
      "beef broth/stock/consommé\n",
      "biscuit or pancake mix\n",
      "black bean sauce\n",
      "black pepper\n",
      "bok choy\n",
      "broccoli and broccoli raab (rapini)\n",
      "brussels sprouts\n",
      "butter flavor\n",
      "cajun seasoning blend\n",
      "cake, brownie, bread mixes\n",
      "canadian bacon\n",
      "canned chicken\n",
      "canned goods\n",
      "canola oil\n",
      "carrot juice\n",
      "carrots, parsnips\n",
      "cashew butter\n",
      "celery root\n",
      "cereal or granola bars\n",
      "cereal, dry mixes\n",
      "cheese curds\n",
      "cherry tomatoes\n",
      "chia seeds\n",
      "chicken broth/stock/consommé\n",
      "chicken nuggets, patties\n",
      "chicken parts\n",
      "chicken salad\n",
      "chiffon pies\n",
      "chili powder\n",
      "chocolate hazlenut spread\n",
      "chocolate syrup\n",
      "cinnamon extract\n",
      "cinnamon rolls\n",
      "citrus fruit\n",
      "cocoa and cocoa mixes\n",
      "coconut cream\n",
      "coconut flavor\n",
      "coconut flour\n",
      "coconut milk\n",
      "coconut oil\n",
      "coconut water\n",
      "coffee creamer\n",
      "commercial brand vacuum-packed dinners\n",
      "commercial bread products\n",
      "commercial cakes and muffins\n",
      "cooked fish\n",
      "cooked pasta\n",
      "cooked poultry dishes\n",
      "cooked rice\n",
      "cooked shellfish\n",
      "cookie dough\n",
      "cooking wine\n",
      "corn on the cob\n",
      "corn syrup\n",
      "corned beef\n",
      "cornish hens\n",
      "cottage cheese\n",
      "crab legs\n",
      "crab meat\n",
      "cranberry sauce\n",
      "cream cheese\n",
      "cream liquors\n",
      "cream pies\n",
      "cream sauces, milk solids\n",
      "dairy filled eclairs\n",
      "diet powder mixes and drink mixes\n",
      "dry egg noodles\n",
      "dry gravy mixes\n",
      "dry stuffing mix\n",
      "duck fat\n",
      "egg dishes\n",
      "egg salad\n",
      "egg substitutes\n",
      "fatty fish\n",
      "flavored or herb mixes\n",
      "fresh clams, mussels, oysters\n",
      "fresh lobster tails\n",
      "fresh pasta\n",
      "fresh whole lobster\n",
      "fried chicken\n",
      "frosting or icing\n",
      "frozen entrees\n",
      "frozen potato products\n",
      "frozen pretzels\n",
      "fruit cake\n",
      "fruit cocktail\n",
      "fruit juice in cartons, fruit drinks, punch\n",
      "fruit pies\n",
      "fruit, cut\n",
      "fruits, dried\n",
      "frying oil\n",
      "garam masala\n",
      "garlic powder\n",
      "ginger root\n",
      "graham cracker/animal cracker\n",
      "grapeseed oil\n",
      "ground turkey or chicken\n",
      "gummy (fruit) snacks\n",
      "ham salad\n",
      "hard liquors\n",
      "hoisin sauce\n",
      "hot dogs\n",
      "hot peppers\n",
      "hot sauce\n",
      "ice cream\n",
      "ice pops\n",
      "instant breakfast drinks\n",
      "jams, jellies, and preserves\n",
      "jars or pouches\n",
      "juice concentrates\n",
      "juice, boxes\n",
      "ketchup, cocktail, or chili sauce\n",
      "kiwi fruit\n",
      "lean fish\n",
      "lemon extract\n",
      "lemon juice\n",
      "lime juice\n",
      "liquid concentrate or ready-to-feed formula\n",
      "live clams, mussels, crab, and oysters\n",
      "lobster tails\n",
      "luncheon meat or poultry\n",
      "main dishes or meals\n",
      "marinated vegetables\n",
      "marshmallow crème\n",
      "meat products\n",
      "mung bean\n",
      "nacho cheese\n",
      "nut oils\n",
      "nutrition supplement drinks\n",
      "onion powder\n",
      "orange juice\n",
      "oyster sauce\n",
      "pancakes, waffles\n",
      "papaya, mango, feijoa, passionfruit, casaha melon\n",
      "pasta salad\n",
      "pastries, danish\n",
      "peaches, nectarines, plums, pears, sapote\n",
      "peanut butter\n",
      "pie crust\n",
      "pimento cheese\n",
      "pine nuts\n",
      "pitaya/dragon fruit\n",
      "pork rinds\n",
      "pork roll\n",
      "potato chips\n",
      "potato salad\n",
      "poultry pieces\n",
      "powdered milk\n",
      "prickly pear\n",
      "pudding mixes\n",
      "puff pastry\n",
      "pumpkin seeds\n",
      "pure vanilla extract\n",
      "raw kabobs with vegetables\n",
      "re-hydrated textured soy protein\n",
      "ready-to-bake pie crust\n",
      "red wine\n",
      "refried beans\n",
      "retort pouches or boxes\n",
      "rice milk\n",
      "roasted nuts (peanuts, cashews, almonds)\n",
      "roasted red peppers\n",
      "rotisserie chicken\n",
      "salad dressing\n",
      "salad dressings\n",
      "salami\n",
      "sauce mixes\n",
      "seafood salads\n",
      "seasoning blends\n",
      "sesame oil\n",
      "sesame seeds\n",
      "sherbet, sorbet\n",
      "shrimp, crayfish\n",
      "shrimp, shellfish\n",
      "shucked clams, mussels, and oysters\n",
      "soup mixes\n",
      "soup, stews\n",
      "sour cream\n",
      "soy crumbles and hot dogs\n",
      "soy flour\n",
      "soy meat substitutes\n",
      "soy milk\n",
      "soy or rice beverage\n",
      "soy sauce or teriyaki sauce\n",
      "spaghetti sauce\n",
      "spaghetti squash\n",
      "spice/spices\n",
      "star fruit\n",
      "string cheese\n",
      "stuffed, raw chicken breasts\n",
      "stuffed, raw pork chops\n",
      "sugar substitutes\n",
      "sun dried tomatoes\n",
      "sunflower oil\n",
      "sunflower seeds\n",
      "surimi seafood\n",
      "swiss chard\n",
      "tamarind paste\n",
      "textured soy protein\n",
      "thai red curry paste\n",
      "toaster pastries\n",
      "tomato paste\n",
      "tomato sauce\n",
      "tube cans\n",
      "turkey bacon\n",
      "turkey parts\n",
      "variety meats\n",
      "vegan cheddar cheese\n",
      "vegetable juice\n",
      "vegetable oil sprays\n",
      "vegetable soup\n",
      "vegetable stock/broth\n",
      "whipped cream\n",
      "whipped topping\n",
      "white wine\n",
      "whole wheat bread\n",
      "whole wheat flour\n",
      "worcestershire sauce\n",
      "yams/sweet potatoes\n",
      "yuca/cassava\n",
      "yuzu juice\n"
     ]
    }
   ],
   "source": [
    "##     Information about the different datasets\n",
    "x = list(myTrainingdata)\n",
    "\n",
    "print(\"Training data entities: \",len(x))\n",
    "print(\"Foodkeeper entities: \", len(foodkeeper))\n",
    "\n",
    "\n",
    "diff = list(set(x) & set(foodkeeper))\n",
    "print(\"Union between foodkeeper and training data: \" + str(len(diff)))\n",
    "#for elem in sorted(diff):\n",
    "    #print(elem)\n",
    "\n",
    "onlyTraining = list(set(x) - set(foodkeeper))\n",
    "onlyFoodkeeper = list(set(foodkeeper) - set(x))\n",
    "\n",
    "        \n",
    "print(\"Unique training data entities: \", len(onlyTraining))\n",
    "print(\"Unique foodkeeper data entities: \",len(onlyFoodkeeper), '\\n')\n",
    "\n",
    "print(\"~~~~~~~~~~~~Only Training~~~~~~~~~~~~\")\n",
    "for element in sorted(onlyTraining):\n",
    "    print(element)\n",
    "\n",
    "print(\"~~~~~~~~~~~~Only Foodkeeper~~~~~~~~~~~~\")\n",
    "for element in sorted(onlyFoodkeeper):\n",
    "    print(element)"
   ]
  },
  {
   "cell_type": "code",
   "execution_count": null,
   "metadata": {
    "scrolled": true
   },
   "outputs": [
    {
     "name": "stdout",
     "output_type": "stream",
     "text": [
      "~~~~~~~~~~~~~~~~~0~~~~~~~~~~~~~~~~~\n",
      "Total keywords:  15\n",
      "Total Tweets:  0\n",
      "List of Keywords:\n",
      "\n",
      " ['cheese', 'chicken', 'milk', 'butter', 'cream', 'fruit', 'rice', 'water', 'garlic', 'bread', 'sugar', 'salt', 'chocolate', 'fish', 'beef'] \n",
      "\n",
      "\n",
      "~~~~~~~~~~~~~~~~~1~~~~~~~~~~~~~~~~~\n"
     ]
    },
    {
     "name": "stderr",
     "output_type": "stream",
     "text": [
      " 36%|███▌      | 70/194 [00:00<00:00, 270.71it/s]"
     ]
    },
    {
     "name": "stdout",
     "output_type": "stream",
     "text": [
      "Skipping entity\n",
      "Skipping entity\n"
     ]
    },
    {
     "name": "stderr",
     "output_type": "stream",
     "text": [
      " 89%|████████▉ | 173/194 [00:01<00:00, 130.64it/s]"
     ]
    },
    {
     "name": "stdout",
     "output_type": "stream",
     "text": [
      "Skipping entity\n"
     ]
    },
    {
     "name": "stderr",
     "output_type": "stream",
     "text": [
      "100%|██████████| 194/194 [00:01<00:00, 145.48it/s]\n"
     ]
    },
    {
     "name": "stdout",
     "output_type": "stream",
     "text": [
      "\u001b[38;5;4mℹ Using CPU\u001b[0m\n",
      "\u001b[1m\n",
      "=========================== Initializing pipeline ===========================\u001b[0m\n",
      "\u001b[38;5;2m✔ Initialized pipeline\u001b[0m\n",
      "\u001b[1m\n",
      "============================= Training pipeline =============================\u001b[0m\n",
      "\u001b[38;5;4mℹ Pipeline: ['tok2vec', 'ner']\u001b[0m\n",
      "\u001b[38;5;4mℹ Initial learn rate: 0.001\u001b[0m\n",
      "E    #       LOSS TOK2VEC  LOSS NER  ENTS_F  ENTS_P  ENTS_R  SCORE \n",
      "---  ------  ------------  --------  ------  ------  ------  ------\n",
      "  0       0          0.00     19.33    0.00    0.00    0.00    0.00\n",
      "  1     200         83.37   1100.07   98.00   96.30   99.75    0.98\n",
      "  4     400        176.57    167.81   98.96   97.94  100.00    0.99\n",
      "  7     600        147.17     95.72   99.69   99.75   99.63    1.00\n",
      " 11     800        100.94     39.50   99.94   99.88  100.00    1.00\n",
      " 16    1000         72.74     18.93   99.88  100.00   99.75    1.00\n",
      " 22    1200        151.79     29.61  100.00  100.00  100.00    1.00\n",
      " 30    1400         43.80      9.50  100.00  100.00  100.00    1.00\n",
      " 39    1600         95.59     16.86   99.94   99.88  100.00    1.00\n",
      " 51    1800         59.30     12.03  100.00  100.00  100.00    1.00\n",
      " 65    2000         60.26     10.13  100.00  100.00  100.00    1.00\n",
      " 82    2200        185.73     29.96  100.00  100.00  100.00    1.00\n",
      "104    2400        186.87     25.89  100.00  100.00  100.00    1.00\n",
      "126    2600         89.57      9.44  100.00  100.00  100.00    1.00\n",
      "148    2800          0.00      0.00  100.00  100.00  100.00    1.00\n",
      "\u001b[38;5;2m✔ Saved pipeline to output directory\u001b[0m\n",
      "output/model-last\n",
      "\n",
      "Total keywords:  15\n",
      "List of Keywords:\n",
      "\n",
      " ['cheese', 'chicken', 'milk', 'butter', 'cream', 'fruit', 'rice', 'water', 'garlic', 'bread', 'sugar', 'salt', 'chocolate', 'fish', 'beef'] \n",
      "\n",
      "\n",
      "[[16 28]\n",
      " [ 3 36]]\n",
      "              precision    recall  f1-score   support\n",
      "\n",
      "           1       0.84      0.36      0.51        44\n",
      "           0       0.56      0.92      0.70        39\n",
      "\n",
      "    accuracy                           0.63        83\n",
      "   macro avg       0.70      0.64      0.60        83\n",
      "weighted avg       0.71      0.63      0.60        83\n",
      "\n",
      "Total keywords:  124\n",
      "Total Tweets:  194\n",
      "List of Keywords:\n",
      "\n",
      " ['cheese', 'chicken', 'milk', 'butter', 'cream', 'fruit', 'rice', 'water', 'garlic', 'bread', 'sugar', 'salt', 'chocolate', 'fish', 'beef', 'yogurt', 'greens', 'granola', 'nuts', 'onions', 'apples', 'squash', 'soda', 'flour', 'buttermilk', 'potatoes', 'turkey', 'beans', 'bagel', 'pretzels', 'celery', 'margarine', 'pineapple', 'plantains', 'veal', 'mustard', 'rye', 'gravy', 'tuna', 'vegetables', 'eggs', 'crackers', 'dips', 'meats', 'bacon', 'pasta', 'pizza', 'avocados', 'pork', 'lentils', 'cauliflower', 'asparagus', 'almonds', 'honey', 'kimchi', 'herbs', 'dates', 'scallops', 'yuzu', 'syrup', 'molasses', 'yeast', 'cornmeal', 'vinegar', 'parsley', 'mushrooms', 'broth', 'peppers', 'oats', 'guava', 'coconut', 'cheesecake', 'cinnamon', 'muffin', 'pies', 'pickles', 'goat', 'lamb', 'seafood', 'olives', 'raspberries', 'cornstarch', 'grits', 'chives', 'tamarind', 'tomatoes', 'cumin', 'nutmeg', 'peas', 'bananas', 'okra', 'cabbage', 'basil', 'fruits', 'horseradish', 'lettuce', 'pesto', 'peanuts', 'ham', 'chutney', 'sausage', 'coffee', 'cereal', 'grapes', 'cashews', 'tea', 'pudding', 'walnuts', 'dough', 'thyme', 'mayonnaise', 'oregano', 'leftovers', 'strawberries', 'berries', 'coleslaw', 'cilantro', 'guacamole', 'ghee', 'spelt', 'salsa', 'biscuits', 'caviar', 'quail'] \n",
      "\n",
      "\n",
      "~~~~~~~~~~~~~~~~~2~~~~~~~~~~~~~~~~~\n"
     ]
    },
    {
     "name": "stderr",
     "output_type": "stream",
     "text": [
      "  1%|▏         | 39/2854 [00:00<00:07, 388.29it/s]"
     ]
    },
    {
     "name": "stdout",
     "output_type": "stream",
     "text": [
      "Skipping entity\n",
      "Skipping entity\n"
     ]
    },
    {
     "name": "stderr",
     "output_type": "stream",
     "text": [
      "  4%|▎         | 107/2854 [00:00<00:12, 219.60it/s]"
     ]
    },
    {
     "name": "stdout",
     "output_type": "stream",
     "text": [
      "Skipping entity\n"
     ]
    },
    {
     "name": "stderr",
     "output_type": "stream",
     "text": [
      "\r",
      "  5%|▍         | 131/2854 [00:00<00:15, 176.12it/s]"
     ]
    },
    {
     "name": "stdout",
     "output_type": "stream",
     "text": [
      "Skipping entity\n"
     ]
    },
    {
     "name": "stderr",
     "output_type": "stream",
     "text": [
      " 11%|█▏        | 322/2854 [00:03<00:48, 52.29it/s] "
     ]
    },
    {
     "name": "stdout",
     "output_type": "stream",
     "text": [
      "Skipping entity\n",
      "Skipping entity\n"
     ]
    },
    {
     "name": "stderr",
     "output_type": "stream",
     "text": [
      " 12%|█▏        | 339/2854 [00:03<00:51, 48.65it/s]"
     ]
    },
    {
     "name": "stdout",
     "output_type": "stream",
     "text": [
      "Skipping entity\n",
      "Skipping entity\n"
     ]
    },
    {
     "name": "stderr",
     "output_type": "stream",
     "text": [
      " 12%|█▏        | 354/2854 [00:04<00:54, 46.09it/s]"
     ]
    },
    {
     "name": "stdout",
     "output_type": "stream",
     "text": [
      "Skipping entity\n",
      "Skipping entity\n"
     ]
    },
    {
     "name": "stderr",
     "output_type": "stream",
     "text": [
      " 14%|█▍        | 399/2854 [00:05<00:59, 41.55it/s]"
     ]
    },
    {
     "name": "stdout",
     "output_type": "stream",
     "text": [
      "Skipping entity\n"
     ]
    },
    {
     "name": "stderr",
     "output_type": "stream",
     "text": [
      " 14%|█▍        | 409/2854 [00:05<00:59, 41.07it/s]"
     ]
    },
    {
     "name": "stdout",
     "output_type": "stream",
     "text": [
      "Skipping entity\n"
     ]
    },
    {
     "name": "stderr",
     "output_type": "stream",
     "text": [
      " 15%|█▌        | 430/2854 [00:05<01:07, 35.98it/s]"
     ]
    },
    {
     "name": "stdout",
     "output_type": "stream",
     "text": [
      "Skipping entity\n"
     ]
    },
    {
     "name": "stderr",
     "output_type": "stream",
     "text": [
      " 17%|█▋        | 478/2854 [00:07<01:11, 33.17it/s]"
     ]
    },
    {
     "name": "stdout",
     "output_type": "stream",
     "text": [
      "Skipping entity\n"
     ]
    },
    {
     "name": "stderr",
     "output_type": "stream",
     "text": [
      " 19%|█▉        | 551/2854 [00:09<01:22, 28.07it/s]"
     ]
    },
    {
     "name": "stdout",
     "output_type": "stream",
     "text": [
      "Skipping entity\n",
      "Skipping entity\n"
     ]
    },
    {
     "name": "stderr",
     "output_type": "stream",
     "text": [
      " 20%|█▉        | 557/2854 [00:10<01:25, 26.76it/s]"
     ]
    },
    {
     "name": "stdout",
     "output_type": "stream",
     "text": [
      "Skipping entity\n",
      "Skipping entity\n"
     ]
    },
    {
     "name": "stderr",
     "output_type": "stream",
     "text": [
      " 20%|██        | 584/2854 [00:11<01:25, 26.51it/s]"
     ]
    },
    {
     "name": "stdout",
     "output_type": "stream",
     "text": [
      "Skipping entity\n",
      "Skipping entity\n"
     ]
    },
    {
     "name": "stderr",
     "output_type": "stream",
     "text": [
      " 21%|██        | 593/2854 [00:11<01:25, 26.47it/s]"
     ]
    },
    {
     "name": "stdout",
     "output_type": "stream",
     "text": [
      "Skipping entity\n"
     ]
    },
    {
     "name": "stderr",
     "output_type": "stream",
     "text": [
      " 21%|██        | 605/2854 [00:11<01:25, 26.36it/s]"
     ]
    },
    {
     "name": "stdout",
     "output_type": "stream",
     "text": [
      "Skipping entity\n",
      "Skipping entity\n"
     ]
    },
    {
     "name": "stderr",
     "output_type": "stream",
     "text": [
      " 22%|██▏       | 632/2854 [00:12<01:27, 25.49it/s]"
     ]
    },
    {
     "name": "stdout",
     "output_type": "stream",
     "text": [
      "Skipping entity\n"
     ]
    },
    {
     "name": "stderr",
     "output_type": "stream",
     "text": [
      " 23%|██▎       | 659/2854 [00:14<01:29, 24.63it/s]"
     ]
    },
    {
     "name": "stdout",
     "output_type": "stream",
     "text": [
      "Skipping entity\n",
      "Skipping entity\n"
     ]
    },
    {
     "name": "stderr",
     "output_type": "stream",
     "text": [
      " 24%|██▍       | 692/2854 [00:15<01:30, 23.87it/s]"
     ]
    },
    {
     "name": "stdout",
     "output_type": "stream",
     "text": [
      "Skipping entity\n"
     ]
    },
    {
     "name": "stderr",
     "output_type": "stream",
     "text": [
      " 27%|██▋       | 767/2854 [00:18<01:33, 22.34it/s]"
     ]
    },
    {
     "name": "stdout",
     "output_type": "stream",
     "text": [
      "Skipping entity\n"
     ]
    },
    {
     "name": "stderr",
     "output_type": "stream",
     "text": [
      " 30%|██▉       | 842/2854 [00:22<01:38, 20.46it/s]"
     ]
    },
    {
     "name": "stdout",
     "output_type": "stream",
     "text": [
      "Skipping entity\n"
     ]
    },
    {
     "name": "stderr",
     "output_type": "stream",
     "text": [
      " 31%|███       | 872/2854 [00:23<01:49, 18.18it/s]"
     ]
    },
    {
     "name": "stdout",
     "output_type": "stream",
     "text": [
      "Skipping entity\n",
      "Skipping entity\n"
     ]
    },
    {
     "name": "stderr",
     "output_type": "stream",
     "text": [
      " 33%|███▎      | 954/2854 [00:28<01:51, 17.10it/s]"
     ]
    },
    {
     "name": "stdout",
     "output_type": "stream",
     "text": [
      "Skipping entity\n"
     ]
    },
    {
     "name": "stderr",
     "output_type": "stream",
     "text": [
      " 35%|███▍      | 992/2854 [00:30<01:49, 16.95it/s]"
     ]
    },
    {
     "name": "stdout",
     "output_type": "stream",
     "text": [
      "Skipping entity\n"
     ]
    },
    {
     "name": "stderr",
     "output_type": "stream",
     "text": [
      " 35%|███▌      | 1000/2854 [00:31<01:49, 16.87it/s]"
     ]
    },
    {
     "name": "stdout",
     "output_type": "stream",
     "text": [
      "Skipping entity\n"
     ]
    },
    {
     "name": "stderr",
     "output_type": "stream",
     "text": [
      " 35%|███▌      | 1012/2854 [00:31<01:49, 16.89it/s]"
     ]
    },
    {
     "name": "stdout",
     "output_type": "stream",
     "text": [
      "Skipping entity\n",
      "Skipping entity\n"
     ]
    },
    {
     "name": "stderr",
     "output_type": "stream",
     "text": [
      " 36%|███▌      | 1020/2854 [00:32<01:49, 16.78it/s]"
     ]
    },
    {
     "name": "stdout",
     "output_type": "stream",
     "text": [
      "Skipping entity\n",
      "Skipping entity\n"
     ]
    },
    {
     "name": "stderr",
     "output_type": "stream",
     "text": [
      " 37%|███▋      | 1042/2854 [00:33<01:49, 16.53it/s]"
     ]
    },
    {
     "name": "stdout",
     "output_type": "stream",
     "text": [
      "Skipping entity\n"
     ]
    },
    {
     "name": "stderr",
     "output_type": "stream",
     "text": [
      " 39%|███▉      | 1116/2854 [00:38<01:52, 15.48it/s]"
     ]
    },
    {
     "name": "stdout",
     "output_type": "stream",
     "text": [
      "Skipping entity\n"
     ]
    },
    {
     "name": "stderr",
     "output_type": "stream",
     "text": [
      " 40%|███▉      | 1138/2854 [00:39<01:57, 14.57it/s]"
     ]
    },
    {
     "name": "stdout",
     "output_type": "stream",
     "text": [
      "Skipping entity\n"
     ]
    },
    {
     "name": "stderr",
     "output_type": "stream",
     "text": [
      " 40%|████      | 1142/2854 [00:40<01:57, 14.57it/s]"
     ]
    },
    {
     "name": "stdout",
     "output_type": "stream",
     "text": [
      "Skipping entity\n"
     ]
    },
    {
     "name": "stderr",
     "output_type": "stream",
     "text": [
      " 40%|████      | 1148/2854 [00:40<01:54, 14.91it/s]"
     ]
    },
    {
     "name": "stdout",
     "output_type": "stream",
     "text": [
      "Skipping entity\n"
     ]
    },
    {
     "name": "stderr",
     "output_type": "stream",
     "text": [
      " 43%|████▎     | 1236/2854 [00:46<01:45, 15.32it/s]"
     ]
    },
    {
     "name": "stdout",
     "output_type": "stream",
     "text": [
      "Skipping entity\n"
     ]
    },
    {
     "name": "stderr",
     "output_type": "stream",
     "text": [
      " 47%|████▋     | 1354/2854 [00:54<01:45, 14.22it/s]"
     ]
    },
    {
     "name": "stdout",
     "output_type": "stream",
     "text": [
      "Skipping entity\n"
     ]
    },
    {
     "name": "stderr",
     "output_type": "stream",
     "text": [
      " 50%|█████     | 1432/2854 [01:00<01:44, 13.64it/s]"
     ]
    },
    {
     "name": "stdout",
     "output_type": "stream",
     "text": [
      "Skipping entity\n"
     ]
    },
    {
     "name": "stderr",
     "output_type": "stream",
     "text": [
      " 50%|█████     | 1436/2854 [01:00<01:44, 13.53it/s]"
     ]
    },
    {
     "name": "stdout",
     "output_type": "stream",
     "text": [
      "Skipping entity\n"
     ]
    },
    {
     "name": "stderr",
     "output_type": "stream",
     "text": [
      " 52%|█████▏    | 1472/2854 [01:03<01:44, 13.24it/s]"
     ]
    },
    {
     "name": "stdout",
     "output_type": "stream",
     "text": [
      "Skipping entity\n"
     ]
    },
    {
     "name": "stderr",
     "output_type": "stream",
     "text": [
      "\r",
      " 52%|█████▏    | 1474/2854 [01:03<01:49, 12.64it/s]"
     ]
    },
    {
     "name": "stdout",
     "output_type": "stream",
     "text": [
      "Skipping entity\n"
     ]
    },
    {
     "name": "stderr",
     "output_type": "stream",
     "text": [
      " 52%|█████▏    | 1482/2854 [01:03<01:45, 13.01it/s]"
     ]
    },
    {
     "name": "stdout",
     "output_type": "stream",
     "text": [
      "Skipping entity\n"
     ]
    },
    {
     "name": "stderr",
     "output_type": "stream",
     "text": [
      " 52%|█████▏    | 1488/2854 [01:04<01:49, 12.47it/s]"
     ]
    },
    {
     "name": "stdout",
     "output_type": "stream",
     "text": [
      "Skipping entity\n"
     ]
    },
    {
     "name": "stderr",
     "output_type": "stream",
     "text": [
      " 52%|█████▏    | 1496/2854 [01:05<01:45, 12.84it/s]"
     ]
    },
    {
     "name": "stdout",
     "output_type": "stream",
     "text": [
      "Skipping entity\n",
      "Skipping entity\n"
     ]
    },
    {
     "name": "stderr",
     "output_type": "stream",
     "text": [
      " 53%|█████▎    | 1500/2854 [01:05<01:43, 13.09it/s]"
     ]
    },
    {
     "name": "stdout",
     "output_type": "stream",
     "text": [
      "Skipping entity\n"
     ]
    },
    {
     "name": "stderr",
     "output_type": "stream",
     "text": [
      " 56%|█████▌    | 1600/2854 [01:13<01:39, 12.56it/s]"
     ]
    },
    {
     "name": "stdout",
     "output_type": "stream",
     "text": [
      "Skipping entity\n"
     ]
    },
    {
     "name": "stderr",
     "output_type": "stream",
     "text": [
      " 60%|██████    | 1716/2854 [01:22<01:35, 11.86it/s]"
     ]
    },
    {
     "name": "stdout",
     "output_type": "stream",
     "text": [
      "Skipping entity\n",
      "Skipping entity\n"
     ]
    },
    {
     "name": "stderr",
     "output_type": "stream",
     "text": [
      " 61%|██████    | 1744/2854 [01:25<01:44, 10.59it/s]"
     ]
    },
    {
     "name": "stdout",
     "output_type": "stream",
     "text": [
      "Skipping entity\n"
     ]
    },
    {
     "name": "stderr",
     "output_type": "stream",
     "text": [
      " 61%|██████    | 1748/2854 [01:25<01:44, 10.60it/s]"
     ]
    },
    {
     "name": "stdout",
     "output_type": "stream",
     "text": [
      "Skipping entity\n",
      "Skipping entity\n",
      "Skipping entity\n"
     ]
    },
    {
     "name": "stderr",
     "output_type": "stream",
     "text": [
      " 64%|██████▍   | 1828/2854 [01:33<01:35, 10.77it/s]"
     ]
    },
    {
     "name": "stdout",
     "output_type": "stream",
     "text": [
      "Skipping entity\n"
     ]
    },
    {
     "name": "stderr",
     "output_type": "stream",
     "text": [
      " 69%|██████▉   | 1976/2854 [01:47<01:23, 10.51it/s]"
     ]
    },
    {
     "name": "stdout",
     "output_type": "stream",
     "text": [
      "Skipping entity\n"
     ]
    },
    {
     "name": "stderr",
     "output_type": "stream",
     "text": [
      " 69%|██████▉   | 1979/2854 [01:47<01:29,  9.75it/s]"
     ]
    },
    {
     "name": "stdout",
     "output_type": "stream",
     "text": [
      "Skipping entity\n",
      "Skipping entity\n"
     ]
    },
    {
     "name": "stderr",
     "output_type": "stream",
     "text": [
      " 69%|██████▉   | 1982/2854 [01:48<01:32,  9.46it/s]"
     ]
    },
    {
     "name": "stdout",
     "output_type": "stream",
     "text": [
      "Skipping entity\n",
      "Skipping entity\n"
     ]
    },
    {
     "name": "stderr",
     "output_type": "stream",
     "text": [
      " 70%|██████▉   | 1984/2854 [01:48<01:34,  9.16it/s]"
     ]
    },
    {
     "name": "stdout",
     "output_type": "stream",
     "text": [
      "Skipping entity\n"
     ]
    },
    {
     "name": "stderr",
     "output_type": "stream",
     "text": [
      " 70%|██████▉   | 1986/2854 [01:48<01:37,  8.88it/s]"
     ]
    },
    {
     "name": "stdout",
     "output_type": "stream",
     "text": [
      "Skipping entity\n",
      "Skipping entity\n"
     ]
    },
    {
     "name": "stderr",
     "output_type": "stream",
     "text": [
      " 75%|███████▍  | 2128/2854 [02:04<01:23,  8.70it/s]"
     ]
    },
    {
     "name": "stdout",
     "output_type": "stream",
     "text": [
      "Skipping entity\n"
     ]
    },
    {
     "name": "stderr",
     "output_type": "stream",
     "text": [
      " 75%|███████▌  | 2144/2854 [02:06<01:21,  8.76it/s]"
     ]
    },
    {
     "name": "stdout",
     "output_type": "stream",
     "text": [
      "Skipping entity\n"
     ]
    },
    {
     "name": "stderr",
     "output_type": "stream",
     "text": [
      " 76%|███████▌  | 2165/2854 [02:08<01:19,  8.68it/s]"
     ]
    },
    {
     "name": "stdout",
     "output_type": "stream",
     "text": [
      "Skipping entity\n"
     ]
    },
    {
     "name": "stderr",
     "output_type": "stream",
     "text": [
      " 80%|███████▉  | 2275/2854 [02:22<01:14,  7.74it/s]"
     ]
    },
    {
     "name": "stdout",
     "output_type": "stream",
     "text": [
      "Skipping entity\n"
     ]
    },
    {
     "name": "stderr",
     "output_type": "stream",
     "text": [
      " 83%|████████▎ | 2367/2854 [02:33<00:59,  8.13it/s]"
     ]
    },
    {
     "name": "stdout",
     "output_type": "stream",
     "text": [
      "Skipping entity\n"
     ]
    },
    {
     "name": "stderr",
     "output_type": "stream",
     "text": [
      " 84%|████████▎ | 2387/2854 [02:36<00:59,  7.85it/s]"
     ]
    },
    {
     "name": "stdout",
     "output_type": "stream",
     "text": [
      "Skipping entity\n"
     ]
    },
    {
     "name": "stderr",
     "output_type": "stream",
     "text": [
      " 85%|████████▍ | 2420/2854 [02:40<00:54,  7.98it/s]"
     ]
    },
    {
     "name": "stdout",
     "output_type": "stream",
     "text": [
      "Skipping entity\n"
     ]
    },
    {
     "name": "stderr",
     "output_type": "stream",
     "text": [
      " 87%|████████▋ | 2488/2854 [02:48<00:47,  7.70it/s]"
     ]
    },
    {
     "name": "stdout",
     "output_type": "stream",
     "text": [
      "Skipping entity\n"
     ]
    },
    {
     "name": "stderr",
     "output_type": "stream",
     "text": [
      " 90%|█████████ | 2572/2854 [03:00<00:37,  7.44it/s]"
     ]
    },
    {
     "name": "stdout",
     "output_type": "stream",
     "text": [
      "Skipping entity\n"
     ]
    },
    {
     "name": "stderr",
     "output_type": "stream",
     "text": [
      " 91%|█████████ | 2588/2854 [03:02<00:35,  7.47it/s]"
     ]
    },
    {
     "name": "stdout",
     "output_type": "stream",
     "text": [
      "Skipping entity\n"
     ]
    },
    {
     "name": "stderr",
     "output_type": "stream",
     "text": [
      " 92%|█████████▏| 2613/2854 [03:05<00:33,  7.11it/s]"
     ]
    },
    {
     "name": "stdout",
     "output_type": "stream",
     "text": [
      "Skipping entity\n"
     ]
    },
    {
     "name": "stderr",
     "output_type": "stream",
     "text": [
      " 92%|█████████▏| 2622/2854 [03:06<00:31,  7.35it/s]"
     ]
    },
    {
     "name": "stdout",
     "output_type": "stream",
     "text": [
      "Skipping entity\n"
     ]
    },
    {
     "name": "stderr",
     "output_type": "stream",
     "text": [
      " 93%|█████████▎| 2648/2854 [03:10<00:30,  6.74it/s]"
     ]
    },
    {
     "name": "stdout",
     "output_type": "stream",
     "text": [
      "Skipping entity\n"
     ]
    },
    {
     "name": "stderr",
     "output_type": "stream",
     "text": [
      " 97%|█████████▋| 2758/2854 [03:26<00:13,  7.11it/s]"
     ]
    },
    {
     "name": "stdout",
     "output_type": "stream",
     "text": [
      "Skipping entity\n"
     ]
    },
    {
     "name": "stderr",
     "output_type": "stream",
     "text": [
      " 98%|█████████▊| 2788/2854 [03:30<00:09,  6.74it/s]"
     ]
    },
    {
     "name": "stdout",
     "output_type": "stream",
     "text": [
      "Skipping entity\n"
     ]
    },
    {
     "name": "stderr",
     "output_type": "stream",
     "text": [
      " 98%|█████████▊| 2806/2854 [03:33<00:07,  6.66it/s]"
     ]
    },
    {
     "name": "stdout",
     "output_type": "stream",
     "text": [
      "Skipping entity\n"
     ]
    },
    {
     "name": "stderr",
     "output_type": "stream",
     "text": [
      " 98%|█████████▊| 2811/2854 [03:33<00:06,  6.86it/s]"
     ]
    },
    {
     "name": "stdout",
     "output_type": "stream",
     "text": [
      "Skipping entity\n"
     ]
    },
    {
     "name": "stderr",
     "output_type": "stream",
     "text": [
      " 99%|█████████▉| 2824/2854 [03:35<00:04,  6.49it/s]"
     ]
    },
    {
     "name": "stdout",
     "output_type": "stream",
     "text": [
      "Skipping entity\n"
     ]
    },
    {
     "name": "stderr",
     "output_type": "stream",
     "text": [
      " 99%|█████████▉| 2832/2854 [03:37<00:03,  6.66it/s]"
     ]
    },
    {
     "name": "stdout",
     "output_type": "stream",
     "text": [
      "Skipping entity\n"
     ]
    },
    {
     "name": "stderr",
     "output_type": "stream",
     "text": [
      " 99%|█████████▉| 2837/2854 [03:37<00:02,  6.75it/s]"
     ]
    },
    {
     "name": "stdout",
     "output_type": "stream",
     "text": [
      "Skipping entity\n"
     ]
    },
    {
     "name": "stderr",
     "output_type": "stream",
     "text": [
      "100%|█████████▉| 2847/2854 [03:39<00:01,  6.88it/s]"
     ]
    },
    {
     "name": "stdout",
     "output_type": "stream",
     "text": [
      "Skipping entity\n"
     ]
    },
    {
     "name": "stderr",
     "output_type": "stream",
     "text": [
      "100%|██████████| 2854/2854 [03:40<00:00, 12.95it/s]\n"
     ]
    },
    {
     "name": "stdout",
     "output_type": "stream",
     "text": [
      "\u001b[38;5;4mℹ Using CPU\u001b[0m\n",
      "\u001b[1m\n",
      "=========================== Initializing pipeline ===========================\u001b[0m\n",
      "\u001b[38;5;2m✔ Initialized pipeline\u001b[0m\n",
      "\u001b[1m\n",
      "============================= Training pipeline =============================\u001b[0m\n",
      "\u001b[38;5;4mℹ Pipeline: ['tok2vec', 'ner']\u001b[0m\n",
      "\u001b[38;5;4mℹ Initial learn rate: 0.001\u001b[0m\n",
      "E    #       LOSS TOK2VEC  LOSS NER  ENTS_F  ENTS_P  ENTS_R  SCORE \n",
      "---  ------  ------------  --------  ------  ------  ------  ------\n",
      "  0       0          0.00     37.67    0.00    0.00    0.00    0.00\n",
      "  0     200         52.00   1719.07   91.13   85.50   97.56    0.91\n",
      "  0     400         28.12    741.15   92.84   86.99   99.53    0.93\n",
      "  0     600         31.00    774.44   93.69   89.14   98.73    0.94\n",
      "  0     800         29.00    935.55   93.74   90.20   97.57    0.94\n",
      "  1    1000         37.66   1042.71   94.94   91.50   98.64    0.95\n",
      "  1    1200         36.97   1107.21   95.72   92.35   99.36    0.96\n",
      "  2    1400         45.60   1148.83   96.44   95.76   97.12    0.96\n",
      "  2    1600         55.25   1181.91   97.04   94.59   99.63    0.97\n",
      "  3    1800         80.12   1066.18   98.14   96.93   99.39    0.98\n",
      "  4    2000        127.97   1042.65   98.91   98.39   99.45    0.99\n",
      "  6    2200        172.17    883.00   99.07   98.81   99.33    0.99\n",
      "  7    2400        247.01    823.34   99.52   99.45   99.58    1.00\n",
      "  9    2600        255.79    605.97   99.67   99.77   99.57    1.00\n",
      " 11    2800        240.50    559.56   99.74   99.65   99.84    1.00\n",
      " 12    3000        389.29    444.29   99.72   99.54   99.91    1.00\n",
      " 14    3200        307.50    397.05   99.82   99.81   99.82    1.00\n",
      " 16    3400        312.52    354.07   99.86   99.85   99.86    1.00\n",
      " 17    3600        444.35    316.93   99.80   99.78   99.83    1.00\n",
      " 19    3800        443.31    314.04   99.88   99.93   99.82    1.00\n",
      " 20    4000        435.69    284.30   99.89   99.85   99.94    1.00\n",
      " 22    4200        545.14    253.38   99.84   99.80   99.89    1.00\n",
      " 24    4400        552.11    240.79   99.87   99.94   99.80    1.00\n",
      " 25    4600        735.95    253.81   99.90   99.85   99.95    1.00\n",
      " 27    4800        565.13    209.60   99.91   99.90   99.93    1.00\n",
      " 29    5000        690.92    221.44   99.87   99.80   99.94    1.00\n",
      " 30    5200        730.44    236.22   99.90   99.86   99.94    1.00\n",
      " 32    5400        620.55    187.61   99.92   99.89   99.94    1.00\n",
      " 33    5600        818.99    229.54   99.92   99.88   99.95    1.00\n",
      " 35    5800        729.75    188.69   99.89   99.82   99.96    1.00\n",
      " 37    6000        593.43    187.63   99.90   99.92   99.87    1.00\n",
      " 38    6200        799.76    172.89   99.92   99.90   99.94    1.00\n",
      " 40    6400        659.05    135.80   99.90   99.91   99.90    1.00\n",
      " 42    6600        789.44    167.33   99.92   99.97   99.88    1.00\n",
      " 43    6800        793.33    152.64   99.90   99.84   99.97    1.00\n",
      " 45    7000        737.78    163.06   99.92   99.88   99.95    1.00\n",
      " 46    7200        636.78    161.98   99.90   99.95   99.84    1.00\n",
      " 48    7400        648.09    156.28   99.94   99.90   99.98    1.00\n",
      " 50    7600        801.31    149.53   99.94   99.94   99.94    1.00\n",
      " 51    7800        569.81    120.37   99.94   99.93   99.94    1.00\n",
      " 53    8000        705.45    111.91   99.93   99.90   99.97    1.00\n",
      " 55    8200        910.63    183.16   99.93   99.89   99.98    1.00\n",
      " 56    8400        637.67    124.18   99.90   99.82   99.98    1.00\n",
      " 58    8600       1024.00    159.74   99.93   99.90   99.97    1.00\n",
      " 59    8800        919.76    150.83   99.92   99.97   99.86    1.00\n",
      " 61    9000        714.94    107.69   99.92   99.95   99.88    1.00\n",
      " 63    9200        740.46    129.66   99.93   99.91   99.95    1.00\n",
      "\u001b[38;5;2m✔ Saved pipeline to output directory\u001b[0m\n",
      "output/model-last\n",
      "\n",
      "Total keywords:  124\n",
      "List of Keywords:\n",
      "\n",
      " ['cheese', 'chicken', 'milk', 'butter', 'cream', 'fruit', 'rice', 'water', 'garlic', 'bread', 'sugar', 'salt', 'chocolate', 'fish', 'beef', 'yogurt', 'greens', 'granola', 'nuts', 'onions', 'apples', 'squash', 'soda', 'flour', 'buttermilk', 'potatoes', 'turkey', 'beans', 'bagel', 'pretzels', 'celery', 'margarine', 'pineapple', 'plantains', 'veal', 'mustard', 'rye', 'gravy', 'tuna', 'vegetables', 'eggs', 'crackers', 'dips', 'meats', 'bacon', 'pasta', 'pizza', 'avocados', 'pork', 'lentils', 'cauliflower', 'asparagus', 'almonds', 'honey', 'kimchi', 'herbs', 'dates', 'scallops', 'yuzu', 'syrup', 'molasses', 'yeast', 'cornmeal', 'vinegar', 'parsley', 'mushrooms', 'broth', 'peppers', 'oats', 'guava', 'coconut', 'cheesecake', 'cinnamon', 'muffin', 'pies', 'pickles', 'goat', 'lamb', 'seafood', 'olives', 'raspberries', 'cornstarch', 'grits', 'chives', 'tamarind', 'tomatoes', 'cumin', 'nutmeg', 'peas', 'bananas', 'okra', 'cabbage', 'basil', 'fruits', 'horseradish', 'lettuce', 'pesto', 'peanuts', 'ham', 'chutney', 'sausage', 'coffee', 'cereal', 'grapes', 'cashews', 'tea', 'pudding', 'walnuts', 'dough', 'thyme', 'mayonnaise', 'oregano', 'leftovers', 'strawberries', 'berries', 'coleslaw', 'cilantro', 'guacamole', 'ghee', 'spelt', 'salsa', 'biscuits', 'caviar', 'quail'] \n",
      "\n",
      "\n",
      "[[32 12]\n",
      " [ 3 36]]\n",
      "              precision    recall  f1-score   support\n",
      "\n",
      "           1       0.91      0.73      0.81        44\n",
      "           0       0.75      0.92      0.83        39\n",
      "\n",
      "    accuracy                           0.82        83\n",
      "   macro avg       0.83      0.83      0.82        83\n",
      "weighted avg       0.84      0.82      0.82        83\n",
      "\n",
      "Total keywords:  215\n",
      "Total Tweets:  2854\n",
      "List of Keywords:\n",
      "\n",
      " ['cheese', 'chicken', 'milk', 'butter', 'cream', 'fruit', 'rice', 'water', 'garlic', 'bread', 'sugar', 'salt', 'chocolate', 'fish', 'beef', 'yogurt', 'greens', 'granola', 'nuts', 'onions', 'apples', 'squash', 'soda', 'flour', 'buttermilk', 'potatoes', 'turkey', 'beans', 'bagel', 'pretzels', 'celery', 'margarine', 'pineapple', 'plantains', 'veal', 'mustard', 'rye', 'gravy', 'tuna', 'vegetables', 'eggs', 'crackers', 'dips', 'meats', 'bacon', 'pasta', 'pizza', 'avocados', 'pork', 'lentils', 'cauliflower', 'asparagus', 'almonds', 'honey', 'kimchi', 'herbs', 'dates', 'scallops', 'yuzu', 'syrup', 'molasses', 'yeast', 'cornmeal', 'vinegar', 'parsley', 'mushrooms', 'broth', 'peppers', 'oats', 'guava', 'coconut', 'cheesecake', 'cinnamon', 'muffin', 'pies', 'pickles', 'goat', 'lamb', 'seafood', 'olives', 'raspberries', 'cornstarch', 'grits', 'chives', 'tamarind', 'tomatoes', 'cumin', 'nutmeg', 'peas', 'bananas', 'okra', 'cabbage', 'basil', 'fruits', 'horseradish', 'lettuce', 'pesto', 'peanuts', 'ham', 'chutney', 'sausage', 'coffee', 'cereal', 'grapes', 'cashews', 'tea', 'pudding', 'walnuts', 'dough', 'thyme', 'mayonnaise', 'oregano', 'leftovers', 'strawberries', 'berries', 'coleslaw', 'cilantro', 'guacamole', 'ghee', 'spelt', 'salsa', 'biscuits', 'caviar', 'quail', 'tortillas', 'oils', 'flaxseed', 'herring', 'quiche', 'aioli', 'chorizo', 'capers', 'base', 'blueberries', 'kale', 'cookies', 'tofu', 'quinoa', 'kefir', 'ricotta', 'gelatin', 'marshmallows', 'cherries', 'mint', 'arugula', 'pistachios', 'beets', 'bratwurst', 'sausages', 'venison', 'leeks', 'pheasant', 'marinades', 'rabbit', 'pastrami', 'jerky', 'dinners', 'goose', 'applesauce', 'watermelon', 'capon', 'rosemary', 'cucumbers', 'salami', 'eggplant', 'croutons', 'zucchini', 'squid', 'miso', 'barley', 'popcorn', 'farro', 'anchovies', 'melons', 'edamame', 'hummus', 'pecans', 'pate', 'casseroles', 'polenta', 'buckwheat', 'nectar', 'apricots', 'pomegranate', 'pumpkins', 'cranberries', 'cherimoya', 'cantaloupe', 'coconuts', 'tapenade', 'radishes', 'rhubarb', 'jicama', 'turnips', 'kohlrabi', 'tahini', 'prosciutto', 'rutabagas', 'taro', 'tempeh', 'breadcrumbs', 'formula', 'pectin', 'lemongrass', 'amaranth', 'macadamias', 'kumquats', 'millet', 'relish', 'honeydew', 'bison', 'radicchio', 'macaroons', 'bulgur', 'teff'] \n",
      "\n",
      "\n",
      "~~~~~~~~~~~~~~~~~3~~~~~~~~~~~~~~~~~\n"
     ]
    },
    {
     "name": "stderr",
     "output_type": "stream",
     "text": [
      "  2%|▏         | 62/2862 [00:00<00:10, 273.05it/s]"
     ]
    },
    {
     "name": "stdout",
     "output_type": "stream",
     "text": [
      "Skipping entity\n",
      "Skipping entity\n"
     ]
    },
    {
     "name": "stderr",
     "output_type": "stream",
     "text": [
      "\r",
      "  3%|▎         | 90/2862 [00:00<00:13, 203.38it/s]"
     ]
    },
    {
     "name": "stdout",
     "output_type": "stream",
     "text": [
      "Skipping entity\n"
     ]
    },
    {
     "name": "stderr",
     "output_type": "stream",
     "text": [
      "  5%|▍         | 131/2862 [00:00<00:18, 146.10it/s]"
     ]
    },
    {
     "name": "stdout",
     "output_type": "stream",
     "text": [
      "Skipping entity\n"
     ]
    },
    {
     "name": "stderr",
     "output_type": "stream",
     "text": [
      " 11%|█▏        | 326/2862 [00:03<00:49, 50.82it/s] "
     ]
    },
    {
     "name": "stdout",
     "output_type": "stream",
     "text": [
      "Skipping entity\n",
      "Skipping entity\n"
     ]
    },
    {
     "name": "stderr",
     "output_type": "stream",
     "text": [
      " 12%|█▏        | 337/2862 [00:03<00:55, 45.62it/s]"
     ]
    },
    {
     "name": "stdout",
     "output_type": "stream",
     "text": [
      "Skipping entity\n",
      "Skipping entity\n"
     ]
    },
    {
     "name": "stderr",
     "output_type": "stream",
     "text": [
      " 12%|█▏        | 352/2862 [00:04<00:58, 42.65it/s]"
     ]
    },
    {
     "name": "stdout",
     "output_type": "stream",
     "text": [
      "Skipping entity\n",
      "Skipping entity\n"
     ]
    },
    {
     "name": "stderr",
     "output_type": "stream",
     "text": [
      " 14%|█▍        | 402/2862 [00:05<01:00, 40.41it/s]"
     ]
    },
    {
     "name": "stdout",
     "output_type": "stream",
     "text": [
      "Skipping entity\n"
     ]
    },
    {
     "name": "stderr",
     "output_type": "stream",
     "text": [
      " 14%|█▍        | 411/2862 [00:05<01:06, 36.83it/s]"
     ]
    },
    {
     "name": "stdout",
     "output_type": "stream",
     "text": [
      "Skipping entity\n"
     ]
    },
    {
     "name": "stderr",
     "output_type": "stream",
     "text": [
      " 15%|█▌        | 435/2862 [00:06<01:08, 35.48it/s]"
     ]
    },
    {
     "name": "stdout",
     "output_type": "stream",
     "text": [
      "Skipping entity\n"
     ]
    },
    {
     "name": "stderr",
     "output_type": "stream",
     "text": [
      " 17%|█▋        | 479/2862 [00:07<01:12, 32.93it/s]"
     ]
    },
    {
     "name": "stdout",
     "output_type": "stream",
     "text": [
      "Skipping entity\n"
     ]
    },
    {
     "name": "stderr",
     "output_type": "stream",
     "text": [
      " 19%|█▉        | 555/2862 [00:10<01:17, 29.76it/s]"
     ]
    },
    {
     "name": "stdout",
     "output_type": "stream",
     "text": [
      "Skipping entity\n",
      "Skipping entity\n"
     ]
    },
    {
     "name": "stderr",
     "output_type": "stream",
     "text": [
      " 20%|█▉        | 561/2862 [00:10<01:26, 26.64it/s]"
     ]
    },
    {
     "name": "stdout",
     "output_type": "stream",
     "text": [
      "Skipping entity\n",
      "Skipping entity\n"
     ]
    },
    {
     "name": "stderr",
     "output_type": "stream",
     "text": [
      " 20%|██        | 585/2862 [00:11<01:27, 25.89it/s]"
     ]
    },
    {
     "name": "stdout",
     "output_type": "stream",
     "text": [
      "Skipping entity\n",
      "Skipping entity\n"
     ]
    },
    {
     "name": "stderr",
     "output_type": "stream",
     "text": [
      " 21%|██        | 597/2862 [00:12<01:29, 25.22it/s]"
     ]
    },
    {
     "name": "stdout",
     "output_type": "stream",
     "text": [
      "Skipping entity\n"
     ]
    },
    {
     "name": "stderr",
     "output_type": "stream",
     "text": [
      " 21%|██▏       | 609/2862 [00:12<01:31, 24.55it/s]"
     ]
    },
    {
     "name": "stdout",
     "output_type": "stream",
     "text": [
      "Skipping entity\n",
      "Skipping entity\n"
     ]
    },
    {
     "name": "stderr",
     "output_type": "stream",
     "text": [
      " 22%|██▏       | 633/2862 [00:13<02:03, 18.06it/s]"
     ]
    },
    {
     "name": "stdout",
     "output_type": "stream",
     "text": [
      "Skipping entity\n"
     ]
    },
    {
     "name": "stderr",
     "output_type": "stream",
     "text": [
      " 23%|██▎       | 661/2862 [00:15<01:31, 23.98it/s]"
     ]
    },
    {
     "name": "stdout",
     "output_type": "stream",
     "text": [
      "Skipping entity\n",
      "Skipping entity\n"
     ]
    },
    {
     "name": "stderr",
     "output_type": "stream",
     "text": [
      " 24%|██▍       | 693/2862 [00:16<02:29, 14.52it/s]"
     ]
    },
    {
     "name": "stdout",
     "output_type": "stream",
     "text": [
      "Skipping entity\n"
     ]
    },
    {
     "name": "stderr",
     "output_type": "stream",
     "text": [
      " 27%|██▋       | 770/2862 [00:20<01:40, 20.84it/s]"
     ]
    },
    {
     "name": "stdout",
     "output_type": "stream",
     "text": [
      "Skipping entity\n"
     ]
    },
    {
     "name": "stderr",
     "output_type": "stream",
     "text": [
      " 30%|██▉       | 845/2862 [00:24<01:40, 20.14it/s]"
     ]
    },
    {
     "name": "stdout",
     "output_type": "stream",
     "text": [
      "Skipping entity\n"
     ]
    },
    {
     "name": "stderr",
     "output_type": "stream",
     "text": [
      " 31%|███       | 877/2862 [00:26<01:44, 19.01it/s]"
     ]
    },
    {
     "name": "stdout",
     "output_type": "stream",
     "text": [
      "Skipping entity\n",
      "Skipping entity\n"
     ]
    },
    {
     "name": "stderr",
     "output_type": "stream",
     "text": [
      " 33%|███▎      | 957/2862 [00:33<01:53, 16.80it/s]"
     ]
    },
    {
     "name": "stdout",
     "output_type": "stream",
     "text": [
      "Skipping entity\n"
     ]
    },
    {
     "name": "stderr",
     "output_type": "stream",
     "text": [
      " 35%|███▍      | 997/2862 [00:36<01:46, 17.43it/s]"
     ]
    },
    {
     "name": "stdout",
     "output_type": "stream",
     "text": [
      "Skipping entity\n"
     ]
    },
    {
     "name": "stderr",
     "output_type": "stream",
     "text": [
      " 35%|███▌      | 1005/2862 [00:36<01:51, 16.60it/s]"
     ]
    },
    {
     "name": "stdout",
     "output_type": "stream",
     "text": [
      "Skipping entity\n"
     ]
    },
    {
     "name": "stderr",
     "output_type": "stream",
     "text": [
      " 35%|███▌      | 1015/2862 [00:37<01:48, 16.98it/s]"
     ]
    },
    {
     "name": "stdout",
     "output_type": "stream",
     "text": [
      "Skipping entity\n",
      "Skipping entity\n"
     ]
    },
    {
     "name": "stderr",
     "output_type": "stream",
     "text": [
      " 36%|███▌      | 1023/2862 [00:37<01:48, 16.89it/s]"
     ]
    },
    {
     "name": "stdout",
     "output_type": "stream",
     "text": [
      "Skipping entity\n",
      "Skipping entity\n"
     ]
    },
    {
     "name": "stderr",
     "output_type": "stream",
     "text": [
      " 37%|███▋      | 1045/2862 [00:39<01:52, 16.13it/s]"
     ]
    },
    {
     "name": "stdout",
     "output_type": "stream",
     "text": [
      "Skipping entity\n"
     ]
    },
    {
     "name": "stderr",
     "output_type": "stream",
     "text": [
      " 39%|███▉      | 1121/2862 [00:43<01:50, 15.70it/s]"
     ]
    },
    {
     "name": "stdout",
     "output_type": "stream",
     "text": [
      "Skipping entity\n"
     ]
    },
    {
     "name": "stderr",
     "output_type": "stream",
     "text": [
      " 40%|███▉      | 1143/2862 [00:45<01:53, 15.15it/s]"
     ]
    },
    {
     "name": "stdout",
     "output_type": "stream",
     "text": [
      "Skipping entity\n"
     ]
    },
    {
     "name": "stderr",
     "output_type": "stream",
     "text": [
      " 40%|████      | 1147/2862 [00:45<01:53, 15.12it/s]"
     ]
    },
    {
     "name": "stdout",
     "output_type": "stream",
     "text": [
      "Skipping entity\n"
     ]
    },
    {
     "name": "stderr",
     "output_type": "stream",
     "text": [
      " 40%|████      | 1153/2862 [00:45<01:52, 15.21it/s]"
     ]
    },
    {
     "name": "stdout",
     "output_type": "stream",
     "text": [
      "Skipping entity\n"
     ]
    },
    {
     "name": "stderr",
     "output_type": "stream",
     "text": [
      " 43%|████▎     | 1243/2862 [00:52<01:50, 14.65it/s]"
     ]
    },
    {
     "name": "stdout",
     "output_type": "stream",
     "text": [
      "Skipping entity\n"
     ]
    },
    {
     "name": "stderr",
     "output_type": "stream",
     "text": [
      " 47%|████▋     | 1359/2862 [01:00<01:55, 13.06it/s]"
     ]
    },
    {
     "name": "stdout",
     "output_type": "stream",
     "text": [
      "Skipping entity\n"
     ]
    },
    {
     "name": "stderr",
     "output_type": "stream",
     "text": [
      " 50%|█████     | 1437/2862 [01:06<02:25,  9.82it/s]"
     ]
    },
    {
     "name": "stdout",
     "output_type": "stream",
     "text": [
      "Skipping entity\n"
     ]
    },
    {
     "name": "stderr",
     "output_type": "stream",
     "text": [
      " 50%|█████     | 1442/2862 [01:07<03:16,  7.24it/s]"
     ]
    },
    {
     "name": "stdout",
     "output_type": "stream",
     "text": [
      "Skipping entity\n"
     ]
    },
    {
     "name": "stderr",
     "output_type": "stream",
     "text": [
      " 52%|█████▏    | 1477/2862 [01:12<03:00,  7.65it/s]"
     ]
    },
    {
     "name": "stdout",
     "output_type": "stream",
     "text": [
      "Skipping entity\n"
     ]
    },
    {
     "name": "stderr",
     "output_type": "stream",
     "text": [
      " 52%|█████▏    | 1480/2862 [01:12<03:25,  6.73it/s]"
     ]
    },
    {
     "name": "stdout",
     "output_type": "stream",
     "text": [
      "Skipping entity\n"
     ]
    },
    {
     "name": "stderr",
     "output_type": "stream",
     "text": [
      " 52%|█████▏    | 1488/2862 [01:13<02:40,  8.58it/s]"
     ]
    },
    {
     "name": "stdout",
     "output_type": "stream",
     "text": [
      "Skipping entity\n"
     ]
    },
    {
     "name": "stderr",
     "output_type": "stream",
     "text": [
      " 52%|█████▏    | 1494/2862 [01:14<02:02, 11.16it/s]"
     ]
    },
    {
     "name": "stdout",
     "output_type": "stream",
     "text": [
      "Skipping entity\n"
     ]
    },
    {
     "name": "stderr",
     "output_type": "stream",
     "text": [
      " 52%|█████▏    | 1502/2862 [01:14<01:55, 11.76it/s]"
     ]
    },
    {
     "name": "stdout",
     "output_type": "stream",
     "text": [
      "Skipping entity\n",
      "Skipping entity\n"
     ]
    },
    {
     "name": "stderr",
     "output_type": "stream",
     "text": [
      " 53%|█████▎    | 1506/2862 [01:15<02:14, 10.08it/s]"
     ]
    },
    {
     "name": "stdout",
     "output_type": "stream",
     "text": [
      "Skipping entity\n"
     ]
    },
    {
     "name": "stderr",
     "output_type": "stream",
     "text": [
      " 56%|█████▌    | 1606/2862 [01:26<03:18,  6.32it/s]"
     ]
    },
    {
     "name": "stdout",
     "output_type": "stream",
     "text": [
      "Skipping entity\n"
     ]
    },
    {
     "name": "stderr",
     "output_type": "stream",
     "text": [
      " 60%|██████    | 1722/2862 [01:40<02:14,  8.46it/s]"
     ]
    },
    {
     "name": "stdout",
     "output_type": "stream",
     "text": [
      "Skipping entity\n",
      "Skipping entity\n"
     ]
    },
    {
     "name": "stderr",
     "output_type": "stream",
     "text": [
      " 61%|██████    | 1750/2862 [01:43<02:14,  8.28it/s]"
     ]
    },
    {
     "name": "stdout",
     "output_type": "stream",
     "text": [
      "Skipping entity\n"
     ]
    },
    {
     "name": "stderr",
     "output_type": "stream",
     "text": [
      " 61%|██████▏   | 1753/2862 [01:44<02:35,  7.12it/s]"
     ]
    },
    {
     "name": "stdout",
     "output_type": "stream",
     "text": [
      "Skipping entity\n",
      "Skipping entity\n"
     ]
    },
    {
     "name": "stderr",
     "output_type": "stream",
     "text": [
      " 61%|██████▏   | 1755/2862 [01:44<02:44,  6.72it/s]"
     ]
    },
    {
     "name": "stdout",
     "output_type": "stream",
     "text": [
      "Skipping entity\n"
     ]
    },
    {
     "name": "stderr",
     "output_type": "stream",
     "text": [
      " 64%|██████▍   | 1834/2862 [01:55<02:07,  8.05it/s]"
     ]
    },
    {
     "name": "stdout",
     "output_type": "stream",
     "text": [
      "Skipping entity\n"
     ]
    },
    {
     "name": "stderr",
     "output_type": "stream",
     "text": [
      " 69%|██████▉   | 1981/2862 [02:16<02:40,  5.48it/s]"
     ]
    },
    {
     "name": "stdout",
     "output_type": "stream",
     "text": [
      "Skipping entity\n"
     ]
    },
    {
     "name": "stderr",
     "output_type": "stream",
     "text": [
      " 69%|██████▉   | 1985/2862 [02:17<02:48,  5.19it/s]"
     ]
    },
    {
     "name": "stdout",
     "output_type": "stream",
     "text": [
      "Skipping entity\n",
      "Skipping entity\n"
     ]
    },
    {
     "name": "stderr",
     "output_type": "stream",
     "text": [
      " 69%|██████▉   | 1988/2862 [02:18<03:12,  4.54it/s]"
     ]
    },
    {
     "name": "stdout",
     "output_type": "stream",
     "text": [
      "Skipping entity\n",
      "Skipping entity\n"
     ]
    },
    {
     "name": "stderr",
     "output_type": "stream",
     "text": [
      " 70%|██████▉   | 1990/2862 [02:18<03:11,  4.55it/s]"
     ]
    },
    {
     "name": "stdout",
     "output_type": "stream",
     "text": [
      "Skipping entity\n"
     ]
    },
    {
     "name": "stderr",
     "output_type": "stream",
     "text": [
      "\r",
      " 70%|██████▉   | 1991/2862 [02:19<03:30,  4.14it/s]"
     ]
    },
    {
     "name": "stdout",
     "output_type": "stream",
     "text": [
      "Skipping entity\n"
     ]
    },
    {
     "name": "stderr",
     "output_type": "stream",
     "text": [
      " 70%|██████▉   | 1993/2862 [02:19<03:08,  4.61it/s]"
     ]
    },
    {
     "name": "stdout",
     "output_type": "stream",
     "text": [
      "Skipping entity\n"
     ]
    },
    {
     "name": "stderr",
     "output_type": "stream",
     "text": [
      " 72%|███████▏  | 2061/2862 [02:28<02:01,  6.60it/s]"
     ]
    },
    {
     "name": "stdout",
     "output_type": "stream",
     "text": [
      "Skipping entity\n"
     ]
    },
    {
     "name": "stderr",
     "output_type": "stream",
     "text": [
      " 75%|███████▍  | 2134/2862 [02:40<01:25,  8.55it/s]"
     ]
    },
    {
     "name": "stdout",
     "output_type": "stream",
     "text": [
      "Skipping entity\n"
     ]
    },
    {
     "name": "stderr",
     "output_type": "stream",
     "text": [
      " 75%|███████▌  | 2150/2862 [02:42<01:26,  8.26it/s]"
     ]
    },
    {
     "name": "stdout",
     "output_type": "stream",
     "text": [
      "Skipping entity\n"
     ]
    },
    {
     "name": "stderr",
     "output_type": "stream",
     "text": [
      " 76%|███████▌  | 2171/2862 [02:45<01:27,  7.94it/s]"
     ]
    },
    {
     "name": "stdout",
     "output_type": "stream",
     "text": [
      "Skipping entity\n"
     ]
    },
    {
     "name": "stderr",
     "output_type": "stream",
     "text": [
      " 78%|███████▊  | 2222/2862 [02:53<02:10,  4.92it/s]"
     ]
    },
    {
     "name": "stdout",
     "output_type": "stream",
     "text": [
      "Skipping entity\n"
     ]
    },
    {
     "name": "stderr",
     "output_type": "stream",
     "text": [
      " 80%|███████▉  | 2281/2862 [03:02<01:12,  7.97it/s]"
     ]
    },
    {
     "name": "stdout",
     "output_type": "stream",
     "text": [
      "Skipping entity\n"
     ]
    },
    {
     "name": "stderr",
     "output_type": "stream",
     "text": [
      " 81%|████████  | 2317/2862 [03:06<01:11,  7.66it/s]"
     ]
    },
    {
     "name": "stdout",
     "output_type": "stream",
     "text": [
      "Skipping entity\n"
     ]
    },
    {
     "name": "stderr",
     "output_type": "stream",
     "text": [
      " 83%|████████▎ | 2375/2862 [03:14<01:04,  7.53it/s]"
     ]
    },
    {
     "name": "stdout",
     "output_type": "stream",
     "text": [
      "Skipping entity\n"
     ]
    },
    {
     "name": "stderr",
     "output_type": "stream",
     "text": [
      " 84%|████████▎ | 2395/2862 [03:17<01:00,  7.66it/s]"
     ]
    },
    {
     "name": "stdout",
     "output_type": "stream",
     "text": [
      "Skipping entity\n"
     ]
    },
    {
     "name": "stderr",
     "output_type": "stream",
     "text": [
      " 85%|████████▍ | 2428/2862 [03:21<00:56,  7.64it/s]"
     ]
    },
    {
     "name": "stdout",
     "output_type": "stream",
     "text": [
      "Skipping entity\n"
     ]
    },
    {
     "name": "stderr",
     "output_type": "stream",
     "text": [
      " 87%|████████▋ | 2496/2862 [03:31<01:11,  5.13it/s]"
     ]
    },
    {
     "name": "stdout",
     "output_type": "stream",
     "text": [
      "Skipping entity\n"
     ]
    },
    {
     "name": "stderr",
     "output_type": "stream",
     "text": [
      " 90%|█████████ | 2580/2862 [03:44<00:44,  6.32it/s]"
     ]
    },
    {
     "name": "stdout",
     "output_type": "stream",
     "text": [
      "Skipping entity\n"
     ]
    },
    {
     "name": "stderr",
     "output_type": "stream",
     "text": [
      " 91%|█████████ | 2596/2862 [03:46<00:37,  7.11it/s]"
     ]
    },
    {
     "name": "stdout",
     "output_type": "stream",
     "text": [
      "Skipping entity\n"
     ]
    },
    {
     "name": "stderr",
     "output_type": "stream",
     "text": [
      " 92%|█████████▏| 2621/2862 [03:50<00:33,  7.16it/s]"
     ]
    },
    {
     "name": "stdout",
     "output_type": "stream",
     "text": [
      "Skipping entity\n"
     ]
    },
    {
     "name": "stderr",
     "output_type": "stream",
     "text": [
      " 92%|█████████▏| 2630/2862 [03:51<00:34,  6.79it/s]"
     ]
    },
    {
     "name": "stdout",
     "output_type": "stream",
     "text": [
      "Skipping entity\n"
     ]
    },
    {
     "name": "stderr",
     "output_type": "stream",
     "text": [
      " 92%|█████████▏| 2634/2862 [03:52<00:33,  6.74it/s]"
     ]
    },
    {
     "name": "stdout",
     "output_type": "stream",
     "text": [
      "Skipping entity\n"
     ]
    },
    {
     "name": "stderr",
     "output_type": "stream",
     "text": [
      " 93%|█████████▎| 2656/2862 [03:55<00:29,  6.98it/s]"
     ]
    },
    {
     "name": "stdout",
     "output_type": "stream",
     "text": [
      "Skipping entity\n"
     ]
    },
    {
     "name": "stderr",
     "output_type": "stream",
     "text": [
      " 97%|█████████▋| 2766/2862 [04:11<00:14,  6.82it/s]"
     ]
    },
    {
     "name": "stdout",
     "output_type": "stream",
     "text": [
      "Skipping entity\n"
     ]
    },
    {
     "name": "stderr",
     "output_type": "stream",
     "text": [
      " 98%|█████████▊| 2794/2862 [04:15<00:10,  6.27it/s]"
     ]
    }
   ],
   "source": [
    "trainModel(training_data)\n",
    "#print(keywords)  \n"
   ]
  },
  {
   "cell_type": "code",
   "execution_count": 12,
   "metadata": {},
   "outputs": [
    {
     "data": {
      "text/html": [
       "<span class=\"tex2jax_ignore\"><div class=\"entities\" style=\"line-height: 2.5; direction: ltr\">My friend likes to drink milk and eat \n",
       "<mark class=\"entity\" style=\"background: #ddd; padding: 0.45em 0.6em; margin: 0 0.25em; line-height: 1; border-radius: 0.35em;\">\n",
       "    fish\n",
       "    <span style=\"font-size: 0.8em; font-weight: bold; line-height: 1; border-radius: 0.35em; vertical-align: middle; margin-left: 0.5rem\">FOOD</span>\n",
       "</mark>\n",
       " and \n",
       "<mark class=\"entity\" style=\"background: #ddd; padding: 0.45em 0.6em; margin: 0 0.25em; line-height: 1; border-radius: 0.35em;\">\n",
       "    chicken\n",
       "    <span style=\"font-size: 0.8em; font-weight: bold; line-height: 1; border-radius: 0.35em; vertical-align: middle; margin-left: 0.5rem\">FOOD</span>\n",
       "</mark>\n",
       "</div></span>"
      ],
      "text/plain": [
       "<IPython.core.display.HTML object>"
      ]
     },
     "metadata": {},
     "output_type": "display_data"
    },
    {
     "data": {
      "text/html": [
       "<span class=\"tex2jax_ignore\"><div class=\"entities\" style=\"line-height: 2.5; direction: ltr\">My friend is a \n",
       "<mark class=\"entity\" style=\"background: #ddd; padding: 0.45em 0.6em; margin: 0 0.25em; line-height: 1; border-radius: 0.35em;\">\n",
       "    chicken\n",
       "    <span style=\"font-size: 0.8em; font-weight: bold; line-height: 1; border-radius: 0.35em; vertical-align: middle; margin-left: 0.5rem\">FOOD</span>\n",
       "</mark>\n",
       "</div></span>"
      ],
      "text/plain": [
       "<IPython.core.display.HTML object>"
      ]
     },
     "metadata": {},
     "output_type": "display_data"
    },
    {
     "data": {
      "text/html": [
       "<span class=\"tex2jax_ignore\"><div class=\"entities\" style=\"line-height: 2.5; direction: ltr\">A \n",
       "<mark class=\"entity\" style=\"background: #ddd; padding: 0.45em 0.6em; margin: 0 0.25em; line-height: 1; border-radius: 0.35em;\">\n",
       "    chicken\n",
       "    <span style=\"font-size: 0.8em; font-weight: bold; line-height: 1; border-radius: 0.35em; vertical-align: middle; margin-left: 0.5rem\">FOOD</span>\n",
       "</mark>\n",
       " is a wild animal.</div></span>"
      ],
      "text/plain": [
       "<IPython.core.display.HTML object>"
      ]
     },
     "metadata": {},
     "output_type": "display_data"
    },
    {
     "data": {
      "text/html": [
       "<span class=\"tex2jax_ignore\"><div class=\"entities\" style=\"line-height: 2.5; direction: ltr\">The \n",
       "<mark class=\"entity\" style=\"background: #ddd; padding: 0.45em 0.6em; margin: 0 0.25em; line-height: 1; border-radius: 0.35em;\">\n",
       "    chicken\n",
       "    <span style=\"font-size: 0.8em; font-weight: bold; line-height: 1; border-radius: 0.35em; vertical-align: middle; margin-left: 0.5rem\">FOOD</span>\n",
       "</mark>\n",
       " is a wild animal.</div></span>"
      ],
      "text/plain": [
       "<IPython.core.display.HTML object>"
      ]
     },
     "metadata": {},
     "output_type": "display_data"
    }
   ],
   "source": [
    "nlp = spacy.load(MODEL_PATH)\n",
    "ent_recognize(\"My friend likes to drink milk and eat fish and chicken\")\n",
    "ent_recognize(\"My friend is a chicken\")\n",
    "ent_recognize(\"A chicken is a wild animal.\")\n",
    "ent_recognize(\"The chicken is a wild animal.\")\n",
    "\n",
    "#rankTweet(\"sugar\")\n",
    "#eval_model()\n"
   ]
  },
  {
   "cell_type": "code",
   "execution_count": 7,
   "metadata": {},
   "outputs": [],
   "source": [
    "#eval_model()\n",
    "# show_tp()\n",
    "# show_tn()\n",
    "# show_fp()\n",
    "#show_fn()\n"
   ]
  },
  {
   "cell_type": "code",
   "execution_count": 25,
   "metadata": {},
   "outputs": [
    {
     "data": {
      "text/plain": [
       "1"
      ]
     },
     "execution_count": 25,
     "metadata": {},
     "output_type": "execute_result"
    }
   ],
   "source": [
    "rankTweet(\"Hello chicken\")"
   ]
  },
  {
   "cell_type": "code",
   "execution_count": 31,
   "metadata": {},
   "outputs": [
    {
     "name": "stdout",
     "output_type": "stream",
     "text": [
      "['chicken', 'milk']\n"
     ]
    }
   ],
   "source": [
    "print(keywords)"
   ]
  },
  {
   "cell_type": "code",
   "execution_count": null,
   "metadata": {},
   "outputs": [],
   "source": []
  }
 ],
 "metadata": {
  "kernelspec": {
   "display_name": "Python 3",
   "language": "python",
   "name": "python3"
  },
  "language_info": {
   "codemirror_mode": {
    "name": "ipython",
    "version": 3
   },
   "file_extension": ".py",
   "mimetype": "text/x-python",
   "name": "python",
   "nbconvert_exporter": "python",
   "pygments_lexer": "ipython3",
   "version": "3.8.10"
  }
 },
 "nbformat": 4,
 "nbformat_minor": 4
}
